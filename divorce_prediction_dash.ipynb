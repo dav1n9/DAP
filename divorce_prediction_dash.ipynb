{
  "nbformat": 4,
  "nbformat_minor": 0,
  "metadata": {
    "colab": {
      "name": "divorce_prediction_dash.ipynb",
      "provenance": [],
      "collapsed_sections": [],
      "authorship_tag": "ABX9TyM5MdqUYIwPHWhNSz1+rdzX",
      "include_colab_link": true
    },
    "kernelspec": {
      "name": "python3",
      "display_name": "Python 3"
    },
    "language_info": {
      "name": "python"
    }
  },
  "cells": [
    {
      "cell_type": "markdown",
      "metadata": {
        "id": "view-in-github",
        "colab_type": "text"
      },
      "source": [
        "<a href=\"https://colab.research.google.com/github/dav1n9/DAP/blob/main/divorce_prediction_dash.ipynb\" target=\"_parent\"><img src=\"https://colab.research.google.com/assets/colab-badge.svg\" alt=\"Open In Colab\"/></a>"
      ]
    },
    {
      "cell_type": "markdown",
      "source": [
        "# Dashboard\n",
        "\n",
        "[참고1](https://plotly.com/python/pie-charts/)\n",
        "[참고2](https://plotly.com/python/tick-formatting/)\n",
        "[참고3](https://dash.plotly.com/layout)"
      ],
      "metadata": {
        "id": "pSjoNDn-lmDT"
      }
    },
    {
      "cell_type": "markdown",
      "source": [
        "divorce_prediction을 진행하면서 시각화했던 그래프들로 간단한 대시보드를 만들었습니다.\n",
        "\n",
        "1. 그래프 정보\n",
        "\n",
        "  3개의 탭으로 구분하였고, 각 탭에서 아래의 정보를 담은 그래프를 볼 수 있습니다.\n",
        "\n",
        "        (1) 54개의 대답에 대한 두 그룹의 대답 분포 -> 바그래프\n",
        "        (2) 가장 많이 사용된 주요 단어 (0개~20까지) -> 라인그래프\n",
        "        (3) 대답 유형별 비율 -> 파이차트\n",
        "\n",
        "2. input values\n",
        "\n",
        "  첫번째 바 그래프 : Dropdown으로 질문선택과 checkbox로 그룹 선택이 가능합니다.\n",
        "\n",
        "  두번째 라인 그래프 : 사용빈도를 확인할 단어 수를 입력할 수 있습니다.(0부터 20까지의 숫자를 입력)\n",
        "\n",
        "  세번째 파이차트 : Dropdown으로 원하는 질문 타입을 선택할 수 있고, 복수 선택이 가능합니다.\n"
      ],
      "metadata": {
        "id": "PayR9wm6mQYB"
      }
    },
    {
      "cell_type": "code",
      "execution_count": null,
      "metadata": {
        "id": "qv9pAUdPM6DA"
      },
      "outputs": [],
      "source": [
        "!pip install dash\n",
        "!pip install jupyter_dash"
      ]
    },
    {
      "cell_type": "code",
      "source": [
        "import numpy as np\n",
        "import pandas as pd\n",
        "\n",
        "import matplotlib.pyplot as plt\n",
        "import seaborn as sns\n",
        "import plotly.express as px\n",
        "\n",
        "path_divorce = 'https://raw.githubusercontent.com/dav1n9/DAP/main/divorce_data/divorce_sum.csv'\n",
        "df_sum = pd.read_csv(path_divorce,delimiter = ',')\n",
        "\n",
        "path_reference = 'https://raw.githubusercontent.com/dav1n9/DAP/main/divorce_data/reference.tsv'\n",
        "df_reference = pd.read_csv(path_reference, sep = \"|\", engine='python')\n",
        "\n",
        "\n",
        "path_df_type = 'https://raw.githubusercontent.com/dav1n9/DAP/main/divorce_data/df_type.csv'\n",
        "df_type = pd.read_csv(path_df_type, sep = \",\", engine='python')\n",
        "\n",
        "path_df_words_count = 'https://raw.githubusercontent.com/dav1n9/DAP/main/divorce_data/df_words_count.csv'\n",
        "df_words_count = pd.read_csv(path_df_words_count, sep = \",\", engine='python')\n",
        "\n",
        "df_sum.set_index('answer', inplace = True)    #answer 열을 인덱스로 바꿔줌\n",
        "df_sum['divorce'] = df_sum['divorce'].astype(str)     # str타입으로 바꿔준이유는 전에도 써있지만, 색을 0과1 2개로만 구분하기 위함.\n",
        "\n",
        "data_divorced = df_sum.groupby('divorce').get_group('0')\n",
        "data_married = df_sum.groupby('divorce').get_group('1')"
      ],
      "metadata": {
        "id": "_pb_s4O7M-XU"
      },
      "execution_count": 52,
      "outputs": []
    },
    {
      "cell_type": "code",
      "source": [
        "df_type['labels'] = ['discussion', 'to know each other', 'to spend time', 'common features', 'etc.']"
      ],
      "metadata": {
        "id": "CLC37qIXflXd"
      },
      "execution_count": 53,
      "outputs": []
    },
    {
      "cell_type": "code",
      "source": [
        "import dash\n",
        "from dash import html\n",
        "import plotly.graph_objects as go\n",
        "from dash import dcc\n",
        "import plotly.express as px\n",
        "from dash.dependencies import Input, Output\n",
        "\n",
        "from jupyter_dash import JupyterDash\n",
        "\n",
        "\n",
        "# Load Dash App\n",
        "app = JupyterDash()\n",
        "\n",
        "\n",
        "app.layout = html.Div([html.H1(\"Divorce Prediction\", style={'text-align' : 'center'}),\n",
        "    dcc.Tabs([\n",
        "              dcc.Tab(label='The frequency of answers', children=[\n",
        "                                                                  dcc.Dropdown(id=\"dropdown\",\n",
        "                                                                               options = [{'label': i, 'value': i} for i in df_sum.columns],\n",
        "                                                                               multi=False,\n",
        "                                                                               value=\"Q1\",\n",
        "                                                                               style={'width': \"40%\"}\n",
        "                                                                               ),\n",
        "                                                                  dcc.Checklist(id=\"checkboxes\",\n",
        "                                                                                options=[{'label': 'Divorced', 'value': 'divorced'},\n",
        "                                                                                         {'label': 'Married', 'value': 'married'}], \n",
        "                                                                                value=['divorced', 'married']),\n",
        "                                                                  dcc.Graph(id='bar', figure={})\n",
        "                                                                  ]),\n",
        "              # 두번째 탭\n",
        "              dcc.Tab(label='Word frequency', children=[\n",
        "                                                        html.Label('The number of words (0 ~ 20 words): '),\n",
        "                                                        dcc.Input(id=\"num_words\", value=5, type='number'),\n",
        "                                                        dcc.Graph(id=\"fre_words\")\n",
        "                                                        ],style={'width': '49%', 'display': 'inline-block'}),\n",
        "              # 세번째 탭\n",
        "              dcc.Tab(label='Question type', children=[\n",
        "                                                       dcc.Dropdown(id=\"dropdown_multi\",\n",
        "                                                                               options = [{'label': i, 'value': i} for i in df_type['labels']],\n",
        "                                                                               multi=True,\n",
        "                                                                               value=['discussion', 'to know each other', 'to spend time', 'common features', 'etc.']\n",
        "                                                                               ),\n",
        "                                                       dcc.Graph(id=\"pie-chart\")\n",
        "                                                       ]),\n",
        "              ])\n",
        "    ])\n",
        "\n",
        "# Define callback decorator and it's function    \n",
        "@app.callback(Output(component_id='bar', component_property= 'figure'),\n",
        "              [Input(component_id='dropdown', component_property= 'value'),\n",
        "               Input(component_id='checkboxes', component_property= 'value')])\n",
        "def graph_update(dropdown_value, checkboxes_value):\n",
        "  print(dropdown_value, checkboxes_value)\n",
        "  if (checkboxes_value == ['divorced', 'married'] or checkboxes_value == ['married', 'divorced']):\n",
        "    fig = px.bar(df_sum, x=df_sum.index, y=df_sum[dropdown_value], color='divorce', barmode='group', width=1200, height=500)\n",
        "  elif (checkboxes_value == ['married']):\n",
        "    fig = px.bar(data_married, x=data_married.index, y=data_married[dropdown_value], width=1200, height=500)\n",
        "  elif (checkboxes_value == ['divorced']):\n",
        "    fig = px.bar(data_divorced, x=data_divorced.index, y=data_divorced[dropdown_value], width=1200, height=500)\n",
        "  #else:\n",
        "  #  fig = px.bar()\n",
        "\n",
        "  fig.update_xaxes(type='category')\n",
        "  return fig\n",
        "\n",
        "@app.callback(Output(\"fre_words\", \"figure\"), \n",
        "              [Input(\"num_words\", \"value\")])\n",
        "def generate_chart(num):\n",
        "  print(num)\n",
        "  wordsFre = df_words_count.loc[:num]\n",
        "  fig2 = go.Figure(go.Scatter(x = wordsFre['word'],y = wordsFre['frequency']))\n",
        "  return fig2 \n",
        "\n",
        "@app.callback(Output(component_id='pie-chart', component_property= 'figure'), \n",
        "              [Input(component_id=\"dropdown_multi\", component_property=\"value\")])\n",
        "def generate_chart(d_multi_values):\n",
        "  print(d_multi_values)\n",
        "  #df_type['labels'] = ['discussion', 'to know each other', 'to spend time', 'common features', 'etc.']\n",
        "  df_type_fre = df_type[df_type['labels'].isin(d_multi_values)]\n",
        "  fig3 = go.Figure(data=[go.Pie(labels=df_type_fre['labels'], values=df_type_fre['frequency'])])\n",
        "  return fig3 \n",
        "\n",
        "#---------------\n",
        "if __name__ == '__main__':\n",
        "  app.run_server()"
      ],
      "metadata": {
        "colab": {
          "base_uri": "https://localhost:8080/",
          "height": 53
        },
        "id": "7ORLzShZ2YTC",
        "outputId": "4a18c160-8b02-4202-97b9-991786e73f5f"
      },
      "execution_count": 56,
      "outputs": [
        {
          "output_type": "stream",
          "name": "stdout",
          "text": [
            "Dash app running on:\n"
          ]
        },
        {
          "output_type": "display_data",
          "data": {
            "application/javascript": [
              "(async (port, path, text, element) => {\n",
              "    if (!google.colab.kernel.accessAllowed) {\n",
              "      return;\n",
              "    }\n",
              "    element.appendChild(document.createTextNode(''));\n",
              "    const url = await google.colab.kernel.proxyPort(port);\n",
              "    const anchor = document.createElement('a');\n",
              "    anchor.href = new URL(path, url).toString();\n",
              "    anchor.target = '_blank';\n",
              "    anchor.setAttribute('data-href', url + path);\n",
              "    anchor.textContent = text;\n",
              "    element.appendChild(anchor);\n",
              "  })(8050, \"/\", \"http://127.0.0.1:8050/\", window.element)"
            ],
            "text/plain": [
              "<IPython.core.display.Javascript object>"
            ]
          },
          "metadata": {}
        }
      ]
    },
    {
      "cell_type": "code",
      "source": [
        "# dash app 수동종료\n",
        "#app._terminate_server_for_port(\"127.0.0.1\", 8050)"
      ],
      "metadata": {
        "id": "rqts2pDmN_e1"
      },
      "execution_count": 57,
      "outputs": []
    }
  ]
}