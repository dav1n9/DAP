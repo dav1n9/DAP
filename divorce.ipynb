{
  "nbformat": 4,
  "nbformat_minor": 0,
  "metadata": {
    "colab": {
      "name": "divorce.ipynb",
      "provenance": [],
      "collapsed_sections": [
        "xwmmcrFHcOV9",
        "vw-g_f9Ajhe7",
        "sw3num4djdiN",
        "W2yPJlhIpRAl",
        "QS3NokpPWzOf",
        "ulD9CmdVr718",
        "T_oCtmcMXQwI"
      ],
      "include_colab_link": true
    },
    "kernelspec": {
      "name": "python3",
      "display_name": "Python 3"
    },
    "language_info": {
      "name": "python"
    }
  },
  "cells": [
    {
      "cell_type": "markdown",
      "metadata": {
        "id": "view-in-github",
        "colab_type": "text"
      },
      "source": [
        "<a href=\"https://colab.research.google.com/github/dav1n9/DAP/blob/main/divorce.ipynb\" target=\"_parent\"><img src=\"https://colab.research.google.com/assets/colab-badge.svg\" alt=\"Open In Colab\"/></a>"
      ]
    },
    {
      "cell_type": "code",
      "metadata": {
        "id": "nPkrHVhmmIHK"
      },
      "source": [
        "import numpy as np\n",
        "import pandas as pd\n",
        "\n",
        "import matplotlib.pyplot as plt\n",
        "import seaborn as sns"
      ],
      "execution_count": 1,
      "outputs": []
    },
    {
      "cell_type": "markdown",
      "source": [
        ""
      ],
      "metadata": {
        "id": "gmmifrr3cMZc"
      }
    },
    {
      "cell_type": "markdown",
      "source": [
        "데이터 설명 : \n",
        "\n",
        "이혼한 사람과 이혼하지 않은 사람을 대상으로 인터뷰한 결과를 정리해 놓은 데이터이다.\n",
        "\n",
        "\n",
        "> *   54개의 질문에 대한 대답이다.\n",
        "*   각 질문에 대답은 0부터 4로 수집되었다.\n",
        "> (0=Never, 1=Seldom, 2=Averagely, 3=Frequently, 4=Always)\n",
        "* 이혼 여부에 대한 정보는 마지막 열에 있다.\n",
        "\n",
        "\n",
        "데이터 : https://www.kaggle.com/andrewmvd/divorce-prediction"
      ],
      "metadata": {
        "id": "Hsbi1zXm4t8Y"
      }
    },
    {
      "cell_type": "markdown",
      "source": [
        "# 목표\n",
        "1. 이혼 예측하기\n",
        "2. 이혼 예측의 주요 요인 찾기\n",
        "\n",
        "# 진행 과정\n",
        "1. 이혼예측\n",
        "2. 질문 유형 나누기\n",
        "3. dashboard"
      ],
      "metadata": {
        "id": "OjQVkEqZeZnd"
      }
    },
    {
      "cell_type": "markdown",
      "source": [
        "# 이혼 예측\n",
        "\n",
        "이혼한 사람과 이혼하지 않은 사람을 대상으로 인터뷰한 결과를 정리한 데이터를 가지고, 이혼 예측 모델을 만들 것입니다.\n",
        "\n",
        "\n",
        "1.   두 그룹(이혼한 사람/이혼하지 않은 사람)로 나누어서 대답 분포를 살펴본다.\n",
        "2.   질문에 대한 대답이 들어있는 54개의 열(독립변수)과 이혼 여부가 들어있는 'divorce' 열(종속변수)로 나누어, 이혼을 예측한다.\n",
        "\n"
      ],
      "metadata": {
        "id": "xwmmcrFHcOV9"
      }
    },
    {
      "cell_type": "code",
      "metadata": {
        "colab": {
          "base_uri": "https://localhost:8080/",
          "height": 0
        },
        "id": "QlkeR4jxmVUk",
        "outputId": "0c86d8f1-00bb-4e6f-eea4-69f641a1a111"
      },
      "source": [
        "# 데이터 가져오기\n",
        "path_divorce = 'https://raw.githubusercontent.com/dav1n9/DAP/main/divorce_data/divorce_data.csv'\n",
        "df = pd.read_csv(path_divorce,delimiter = ';')\n",
        "df.head()"
      ],
      "execution_count": 2,
      "outputs": [
        {
          "output_type": "execute_result",
          "data": {
            "text/html": [
              "\n",
              "  <div id=\"df-ef78c5ac-f702-4364-a03c-d7c531abb777\">\n",
              "    <div class=\"colab-df-container\">\n",
              "      <div>\n",
              "<style scoped>\n",
              "    .dataframe tbody tr th:only-of-type {\n",
              "        vertical-align: middle;\n",
              "    }\n",
              "\n",
              "    .dataframe tbody tr th {\n",
              "        vertical-align: top;\n",
              "    }\n",
              "\n",
              "    .dataframe thead th {\n",
              "        text-align: right;\n",
              "    }\n",
              "</style>\n",
              "<table border=\"1\" class=\"dataframe\">\n",
              "  <thead>\n",
              "    <tr style=\"text-align: right;\">\n",
              "      <th></th>\n",
              "      <th>Q1</th>\n",
              "      <th>Q2</th>\n",
              "      <th>Q3</th>\n",
              "      <th>Q4</th>\n",
              "      <th>Q5</th>\n",
              "      <th>Q6</th>\n",
              "      <th>Q7</th>\n",
              "      <th>Q8</th>\n",
              "      <th>Q9</th>\n",
              "      <th>Q10</th>\n",
              "      <th>Q11</th>\n",
              "      <th>Q12</th>\n",
              "      <th>Q13</th>\n",
              "      <th>Q14</th>\n",
              "      <th>Q15</th>\n",
              "      <th>Q16</th>\n",
              "      <th>Q17</th>\n",
              "      <th>Q18</th>\n",
              "      <th>Q19</th>\n",
              "      <th>Q20</th>\n",
              "      <th>Q21</th>\n",
              "      <th>Q22</th>\n",
              "      <th>Q23</th>\n",
              "      <th>Q24</th>\n",
              "      <th>Q25</th>\n",
              "      <th>Q26</th>\n",
              "      <th>Q27</th>\n",
              "      <th>Q28</th>\n",
              "      <th>Q29</th>\n",
              "      <th>Q30</th>\n",
              "      <th>Q31</th>\n",
              "      <th>Q32</th>\n",
              "      <th>Q33</th>\n",
              "      <th>Q34</th>\n",
              "      <th>Q35</th>\n",
              "      <th>Q36</th>\n",
              "      <th>Q37</th>\n",
              "      <th>Q38</th>\n",
              "      <th>Q39</th>\n",
              "      <th>Q40</th>\n",
              "      <th>Q41</th>\n",
              "      <th>Q42</th>\n",
              "      <th>Q43</th>\n",
              "      <th>Q44</th>\n",
              "      <th>Q45</th>\n",
              "      <th>Q46</th>\n",
              "      <th>Q47</th>\n",
              "      <th>Q48</th>\n",
              "      <th>Q49</th>\n",
              "      <th>Q50</th>\n",
              "      <th>Q51</th>\n",
              "      <th>Q52</th>\n",
              "      <th>Q53</th>\n",
              "      <th>Q54</th>\n",
              "      <th>Divorce</th>\n",
              "    </tr>\n",
              "  </thead>\n",
              "  <tbody>\n",
              "    <tr>\n",
              "      <th>0</th>\n",
              "      <td>2</td>\n",
              "      <td>2</td>\n",
              "      <td>4</td>\n",
              "      <td>1</td>\n",
              "      <td>0</td>\n",
              "      <td>0</td>\n",
              "      <td>0</td>\n",
              "      <td>0</td>\n",
              "      <td>0</td>\n",
              "      <td>0</td>\n",
              "      <td>1</td>\n",
              "      <td>0</td>\n",
              "      <td>1</td>\n",
              "      <td>1</td>\n",
              "      <td>0</td>\n",
              "      <td>1</td>\n",
              "      <td>0</td>\n",
              "      <td>0</td>\n",
              "      <td>0</td>\n",
              "      <td>1</td>\n",
              "      <td>0</td>\n",
              "      <td>0</td>\n",
              "      <td>0</td>\n",
              "      <td>0</td>\n",
              "      <td>0</td>\n",
              "      <td>0</td>\n",
              "      <td>0</td>\n",
              "      <td>0</td>\n",
              "      <td>0</td>\n",
              "      <td>1</td>\n",
              "      <td>1</td>\n",
              "      <td>2</td>\n",
              "      <td>1</td>\n",
              "      <td>2</td>\n",
              "      <td>0</td>\n",
              "      <td>1</td>\n",
              "      <td>2</td>\n",
              "      <td>1</td>\n",
              "      <td>3</td>\n",
              "      <td>3</td>\n",
              "      <td>2</td>\n",
              "      <td>1</td>\n",
              "      <td>1</td>\n",
              "      <td>2</td>\n",
              "      <td>3</td>\n",
              "      <td>2</td>\n",
              "      <td>1</td>\n",
              "      <td>3</td>\n",
              "      <td>3</td>\n",
              "      <td>3</td>\n",
              "      <td>2</td>\n",
              "      <td>3</td>\n",
              "      <td>2</td>\n",
              "      <td>1</td>\n",
              "      <td>1</td>\n",
              "    </tr>\n",
              "    <tr>\n",
              "      <th>1</th>\n",
              "      <td>4</td>\n",
              "      <td>4</td>\n",
              "      <td>4</td>\n",
              "      <td>4</td>\n",
              "      <td>4</td>\n",
              "      <td>0</td>\n",
              "      <td>0</td>\n",
              "      <td>4</td>\n",
              "      <td>4</td>\n",
              "      <td>4</td>\n",
              "      <td>4</td>\n",
              "      <td>3</td>\n",
              "      <td>4</td>\n",
              "      <td>0</td>\n",
              "      <td>4</td>\n",
              "      <td>4</td>\n",
              "      <td>4</td>\n",
              "      <td>4</td>\n",
              "      <td>3</td>\n",
              "      <td>2</td>\n",
              "      <td>1</td>\n",
              "      <td>1</td>\n",
              "      <td>0</td>\n",
              "      <td>2</td>\n",
              "      <td>2</td>\n",
              "      <td>1</td>\n",
              "      <td>2</td>\n",
              "      <td>0</td>\n",
              "      <td>1</td>\n",
              "      <td>1</td>\n",
              "      <td>0</td>\n",
              "      <td>4</td>\n",
              "      <td>2</td>\n",
              "      <td>3</td>\n",
              "      <td>0</td>\n",
              "      <td>2</td>\n",
              "      <td>3</td>\n",
              "      <td>4</td>\n",
              "      <td>2</td>\n",
              "      <td>4</td>\n",
              "      <td>2</td>\n",
              "      <td>2</td>\n",
              "      <td>3</td>\n",
              "      <td>4</td>\n",
              "      <td>2</td>\n",
              "      <td>2</td>\n",
              "      <td>2</td>\n",
              "      <td>3</td>\n",
              "      <td>4</td>\n",
              "      <td>4</td>\n",
              "      <td>4</td>\n",
              "      <td>4</td>\n",
              "      <td>2</td>\n",
              "      <td>2</td>\n",
              "      <td>1</td>\n",
              "    </tr>\n",
              "    <tr>\n",
              "      <th>2</th>\n",
              "      <td>2</td>\n",
              "      <td>2</td>\n",
              "      <td>2</td>\n",
              "      <td>2</td>\n",
              "      <td>1</td>\n",
              "      <td>3</td>\n",
              "      <td>2</td>\n",
              "      <td>1</td>\n",
              "      <td>1</td>\n",
              "      <td>2</td>\n",
              "      <td>3</td>\n",
              "      <td>4</td>\n",
              "      <td>2</td>\n",
              "      <td>3</td>\n",
              "      <td>3</td>\n",
              "      <td>3</td>\n",
              "      <td>3</td>\n",
              "      <td>3</td>\n",
              "      <td>3</td>\n",
              "      <td>2</td>\n",
              "      <td>1</td>\n",
              "      <td>0</td>\n",
              "      <td>1</td>\n",
              "      <td>2</td>\n",
              "      <td>2</td>\n",
              "      <td>2</td>\n",
              "      <td>2</td>\n",
              "      <td>2</td>\n",
              "      <td>3</td>\n",
              "      <td>2</td>\n",
              "      <td>3</td>\n",
              "      <td>3</td>\n",
              "      <td>1</td>\n",
              "      <td>1</td>\n",
              "      <td>1</td>\n",
              "      <td>1</td>\n",
              "      <td>2</td>\n",
              "      <td>1</td>\n",
              "      <td>3</td>\n",
              "      <td>3</td>\n",
              "      <td>3</td>\n",
              "      <td>3</td>\n",
              "      <td>2</td>\n",
              "      <td>3</td>\n",
              "      <td>2</td>\n",
              "      <td>3</td>\n",
              "      <td>2</td>\n",
              "      <td>3</td>\n",
              "      <td>1</td>\n",
              "      <td>1</td>\n",
              "      <td>1</td>\n",
              "      <td>2</td>\n",
              "      <td>2</td>\n",
              "      <td>2</td>\n",
              "      <td>1</td>\n",
              "    </tr>\n",
              "    <tr>\n",
              "      <th>3</th>\n",
              "      <td>3</td>\n",
              "      <td>2</td>\n",
              "      <td>3</td>\n",
              "      <td>2</td>\n",
              "      <td>3</td>\n",
              "      <td>3</td>\n",
              "      <td>3</td>\n",
              "      <td>3</td>\n",
              "      <td>3</td>\n",
              "      <td>3</td>\n",
              "      <td>4</td>\n",
              "      <td>3</td>\n",
              "      <td>3</td>\n",
              "      <td>4</td>\n",
              "      <td>3</td>\n",
              "      <td>3</td>\n",
              "      <td>3</td>\n",
              "      <td>3</td>\n",
              "      <td>3</td>\n",
              "      <td>4</td>\n",
              "      <td>1</td>\n",
              "      <td>1</td>\n",
              "      <td>1</td>\n",
              "      <td>1</td>\n",
              "      <td>2</td>\n",
              "      <td>1</td>\n",
              "      <td>1</td>\n",
              "      <td>1</td>\n",
              "      <td>1</td>\n",
              "      <td>3</td>\n",
              "      <td>2</td>\n",
              "      <td>3</td>\n",
              "      <td>2</td>\n",
              "      <td>2</td>\n",
              "      <td>1</td>\n",
              "      <td>1</td>\n",
              "      <td>3</td>\n",
              "      <td>3</td>\n",
              "      <td>4</td>\n",
              "      <td>4</td>\n",
              "      <td>2</td>\n",
              "      <td>2</td>\n",
              "      <td>3</td>\n",
              "      <td>2</td>\n",
              "      <td>3</td>\n",
              "      <td>2</td>\n",
              "      <td>2</td>\n",
              "      <td>3</td>\n",
              "      <td>3</td>\n",
              "      <td>3</td>\n",
              "      <td>3</td>\n",
              "      <td>2</td>\n",
              "      <td>2</td>\n",
              "      <td>2</td>\n",
              "      <td>1</td>\n",
              "    </tr>\n",
              "    <tr>\n",
              "      <th>4</th>\n",
              "      <td>2</td>\n",
              "      <td>2</td>\n",
              "      <td>1</td>\n",
              "      <td>1</td>\n",
              "      <td>1</td>\n",
              "      <td>1</td>\n",
              "      <td>0</td>\n",
              "      <td>0</td>\n",
              "      <td>0</td>\n",
              "      <td>0</td>\n",
              "      <td>0</td>\n",
              "      <td>1</td>\n",
              "      <td>0</td>\n",
              "      <td>1</td>\n",
              "      <td>1</td>\n",
              "      <td>1</td>\n",
              "      <td>1</td>\n",
              "      <td>1</td>\n",
              "      <td>2</td>\n",
              "      <td>1</td>\n",
              "      <td>1</td>\n",
              "      <td>0</td>\n",
              "      <td>0</td>\n",
              "      <td>0</td>\n",
              "      <td>0</td>\n",
              "      <td>2</td>\n",
              "      <td>1</td>\n",
              "      <td>2</td>\n",
              "      <td>1</td>\n",
              "      <td>1</td>\n",
              "      <td>1</td>\n",
              "      <td>1</td>\n",
              "      <td>1</td>\n",
              "      <td>1</td>\n",
              "      <td>0</td>\n",
              "      <td>0</td>\n",
              "      <td>0</td>\n",
              "      <td>0</td>\n",
              "      <td>2</td>\n",
              "      <td>1</td>\n",
              "      <td>0</td>\n",
              "      <td>2</td>\n",
              "      <td>3</td>\n",
              "      <td>0</td>\n",
              "      <td>2</td>\n",
              "      <td>2</td>\n",
              "      <td>1</td>\n",
              "      <td>2</td>\n",
              "      <td>3</td>\n",
              "      <td>2</td>\n",
              "      <td>2</td>\n",
              "      <td>2</td>\n",
              "      <td>1</td>\n",
              "      <td>0</td>\n",
              "      <td>1</td>\n",
              "    </tr>\n",
              "  </tbody>\n",
              "</table>\n",
              "</div>\n",
              "      <button class=\"colab-df-convert\" onclick=\"convertToInteractive('df-ef78c5ac-f702-4364-a03c-d7c531abb777')\"\n",
              "              title=\"Convert this dataframe to an interactive table.\"\n",
              "              style=\"display:none;\">\n",
              "        \n",
              "  <svg xmlns=\"http://www.w3.org/2000/svg\" height=\"24px\"viewBox=\"0 0 24 24\"\n",
              "       width=\"24px\">\n",
              "    <path d=\"M0 0h24v24H0V0z\" fill=\"none\"/>\n",
              "    <path d=\"M18.56 5.44l.94 2.06.94-2.06 2.06-.94-2.06-.94-.94-2.06-.94 2.06-2.06.94zm-11 1L8.5 8.5l.94-2.06 2.06-.94-2.06-.94L8.5 2.5l-.94 2.06-2.06.94zm10 10l.94 2.06.94-2.06 2.06-.94-2.06-.94-.94-2.06-.94 2.06-2.06.94z\"/><path d=\"M17.41 7.96l-1.37-1.37c-.4-.4-.92-.59-1.43-.59-.52 0-1.04.2-1.43.59L10.3 9.45l-7.72 7.72c-.78.78-.78 2.05 0 2.83L4 21.41c.39.39.9.59 1.41.59.51 0 1.02-.2 1.41-.59l7.78-7.78 2.81-2.81c.8-.78.8-2.07 0-2.86zM5.41 20L4 18.59l7.72-7.72 1.47 1.35L5.41 20z\"/>\n",
              "  </svg>\n",
              "      </button>\n",
              "      \n",
              "  <style>\n",
              "    .colab-df-container {\n",
              "      display:flex;\n",
              "      flex-wrap:wrap;\n",
              "      gap: 12px;\n",
              "    }\n",
              "\n",
              "    .colab-df-convert {\n",
              "      background-color: #E8F0FE;\n",
              "      border: none;\n",
              "      border-radius: 50%;\n",
              "      cursor: pointer;\n",
              "      display: none;\n",
              "      fill: #1967D2;\n",
              "      height: 32px;\n",
              "      padding: 0 0 0 0;\n",
              "      width: 32px;\n",
              "    }\n",
              "\n",
              "    .colab-df-convert:hover {\n",
              "      background-color: #E2EBFA;\n",
              "      box-shadow: 0px 1px 2px rgba(60, 64, 67, 0.3), 0px 1px 3px 1px rgba(60, 64, 67, 0.15);\n",
              "      fill: #174EA6;\n",
              "    }\n",
              "\n",
              "    [theme=dark] .colab-df-convert {\n",
              "      background-color: #3B4455;\n",
              "      fill: #D2E3FC;\n",
              "    }\n",
              "\n",
              "    [theme=dark] .colab-df-convert:hover {\n",
              "      background-color: #434B5C;\n",
              "      box-shadow: 0px 1px 3px 1px rgba(0, 0, 0, 0.15);\n",
              "      filter: drop-shadow(0px 1px 2px rgba(0, 0, 0, 0.3));\n",
              "      fill: #FFFFFF;\n",
              "    }\n",
              "  </style>\n",
              "\n",
              "      <script>\n",
              "        const buttonEl =\n",
              "          document.querySelector('#df-ef78c5ac-f702-4364-a03c-d7c531abb777 button.colab-df-convert');\n",
              "        buttonEl.style.display =\n",
              "          google.colab.kernel.accessAllowed ? 'block' : 'none';\n",
              "\n",
              "        async function convertToInteractive(key) {\n",
              "          const element = document.querySelector('#df-ef78c5ac-f702-4364-a03c-d7c531abb777');\n",
              "          const dataTable =\n",
              "            await google.colab.kernel.invokeFunction('convertToInteractive',\n",
              "                                                     [key], {});\n",
              "          if (!dataTable) return;\n",
              "\n",
              "          const docLinkHtml = 'Like what you see? Visit the ' +\n",
              "            '<a target=\"_blank\" href=https://colab.research.google.com/notebooks/data_table.ipynb>data table notebook</a>'\n",
              "            + ' to learn more about interactive tables.';\n",
              "          element.innerHTML = '';\n",
              "          dataTable['output_type'] = 'display_data';\n",
              "          await google.colab.output.renderOutput(dataTable, element);\n",
              "          const docLink = document.createElement('div');\n",
              "          docLink.innerHTML = docLinkHtml;\n",
              "          element.appendChild(docLink);\n",
              "        }\n",
              "      </script>\n",
              "    </div>\n",
              "  </div>\n",
              "  "
            ],
            "text/plain": [
              "   Q1  Q2  Q3  Q4  Q5  Q6  Q7  Q8  ...  Q48  Q49  Q50  Q51  Q52  Q53  Q54  Divorce\n",
              "0   2   2   4   1   0   0   0   0  ...    3    3    3    2    3    2    1        1\n",
              "1   4   4   4   4   4   0   0   4  ...    3    4    4    4    4    2    2        1\n",
              "2   2   2   2   2   1   3   2   1  ...    3    1    1    1    2    2    2        1\n",
              "3   3   2   3   2   3   3   3   3  ...    3    3    3    3    2    2    2        1\n",
              "4   2   2   1   1   1   1   0   0  ...    2    3    2    2    2    1    0        1\n",
              "\n",
              "[5 rows x 55 columns]"
            ]
          },
          "metadata": {},
          "execution_count": 2
        }
      ]
    },
    {
      "cell_type": "markdown",
      "metadata": {
        "id": "vw-g_f9Ajhe7"
      },
      "source": [
        "# 1) 대답 분포 살펴보기(시각화)"
      ]
    },
    {
      "cell_type": "markdown",
      "metadata": {
        "id": "WIjfkj-vzK3q"
      },
      "source": [
        "클래스 별로 각 질문에 대해서 어떤 대답을 주로 하였는지 Bar그래프로 시각화한다.\n",
        "\n",
        "(1) df를 divorce가 0인 데이터와 1인 데이터로 나누고,\n",
        "\n",
        "(2)  각각 0부터 4까지 대답의 빈도를 카운트하여\n",
        "\n",
        "새로운 데이터 프레임으로 만들었다.\n"
      ]
    },
    {
      "cell_type": "code",
      "metadata": {
        "id": "wqnHDjKHDgAJ"
      },
      "source": [
        "#'divorce'의 값이 1인 행들의 데이터들만 따로 저장\n",
        "data_married = df.groupby('Divorce').get_group(1)\n",
        "#'divorce'의 값이 0인 행들의 데이터들만 따로 저장\n",
        "data_divorced = df.groupby('Divorce').get_group(0)"
      ],
      "execution_count": 3,
      "outputs": []
    },
    {
      "cell_type": "markdown",
      "metadata": {
        "id": "FgjB2GzYkdRL"
      },
      "source": [
        "아래의 코드처럼 값을 카운트하고, 바로 인덱스 기준으로 정렬할 때, 비어있는 값에 대한 문제가 생긴다.\n",
        "\n",
        "```\n",
        "d = data_divorced.iloc[:, 31].value_counts().sort_index()\n",
        "```\n",
        "\n",
        "예를 들어, 1번 질문에 대해서 0(=Never),이라고 대답한 사람없을 경우, NaN값이 들어간다.\n",
        "\n",
        "그래서 아래 코드의 if문을 통해, 대답이 없는 경우 값을 추가해준 다음 인덱스 기준으로 정렬한다."
      ]
    },
    {
      "cell_type": "code",
      "metadata": {
        "colab": {
          "base_uri": "https://localhost:8080/",
          "height": 0
        },
        "id": "EGGCqra3NtmD",
        "outputId": "d77aa906-53db-499f-83ee-f5193ce9a9cf"
      },
      "source": [
        "# 이혼하지 않은 경우\n",
        "\n",
        "res_m = pd.DataFrame([1, 1, 1, 1, 1])\n",
        "\n",
        "for i in range(len(data_married.columns)-1):\n",
        "  res_count = data_married.iloc[:, i].value_counts()\n",
        "\n",
        "  index_check = res_count.index\n",
        "  if(0 not in index_check):   #'0'을 대답한 사람이 없는 경우 '0'행을 추가하여 0값을 넣어준다.\n",
        "    res_count[0] = 0\n",
        "  if(1 not in index_check):\n",
        "    res_count[1] = 0\n",
        "  if(2 not in index_check):\n",
        "    res_count[2] = 0\n",
        "  if(3 not in index_check):\n",
        "    res_count[3] = 0\n",
        "  if(4 not in index_check):\n",
        "    res_count[4] = 0\n",
        "\n",
        "  res_count = res_count.sort_index().tolist()     # 행(인덱스) 기준으로 정렬\n",
        "\n",
        "  res_df = pd.DataFrame(res_count)\n",
        "  res_m.insert(i, \"Q\"+str(i+1), res_df, True)\n",
        "\n",
        "# 해당 대답이 없는 경우 nan값이 들어가 있어서, 0으로 채워줌\n",
        "res_m = res_m.fillna(0)\n",
        "res_m = res_m.astype(int)\n",
        "res_m"
      ],
      "execution_count": 4,
      "outputs": [
        {
          "output_type": "execute_result",
          "data": {
            "text/html": [
              "\n",
              "  <div id=\"df-e01436e6-bb62-44ac-85f0-36bdd482f4ac\">\n",
              "    <div class=\"colab-df-container\">\n",
              "      <div>\n",
              "<style scoped>\n",
              "    .dataframe tbody tr th:only-of-type {\n",
              "        vertical-align: middle;\n",
              "    }\n",
              "\n",
              "    .dataframe tbody tr th {\n",
              "        vertical-align: top;\n",
              "    }\n",
              "\n",
              "    .dataframe thead th {\n",
              "        text-align: right;\n",
              "    }\n",
              "</style>\n",
              "<table border=\"1\" class=\"dataframe\">\n",
              "  <thead>\n",
              "    <tr style=\"text-align: right;\">\n",
              "      <th></th>\n",
              "      <th>Q1</th>\n",
              "      <th>Q2</th>\n",
              "      <th>Q3</th>\n",
              "      <th>Q4</th>\n",
              "      <th>Q5</th>\n",
              "      <th>Q6</th>\n",
              "      <th>Q7</th>\n",
              "      <th>Q8</th>\n",
              "      <th>Q9</th>\n",
              "      <th>Q10</th>\n",
              "      <th>Q11</th>\n",
              "      <th>Q12</th>\n",
              "      <th>Q13</th>\n",
              "      <th>Q14</th>\n",
              "      <th>Q15</th>\n",
              "      <th>Q16</th>\n",
              "      <th>Q17</th>\n",
              "      <th>Q18</th>\n",
              "      <th>Q19</th>\n",
              "      <th>Q20</th>\n",
              "      <th>Q21</th>\n",
              "      <th>Q22</th>\n",
              "      <th>Q23</th>\n",
              "      <th>Q24</th>\n",
              "      <th>Q25</th>\n",
              "      <th>Q26</th>\n",
              "      <th>Q27</th>\n",
              "      <th>Q28</th>\n",
              "      <th>Q29</th>\n",
              "      <th>Q30</th>\n",
              "      <th>Q31</th>\n",
              "      <th>Q32</th>\n",
              "      <th>Q33</th>\n",
              "      <th>Q34</th>\n",
              "      <th>Q35</th>\n",
              "      <th>Q36</th>\n",
              "      <th>Q37</th>\n",
              "      <th>Q38</th>\n",
              "      <th>Q39</th>\n",
              "      <th>Q40</th>\n",
              "      <th>Q41</th>\n",
              "      <th>Q42</th>\n",
              "      <th>Q43</th>\n",
              "      <th>Q44</th>\n",
              "      <th>Q45</th>\n",
              "      <th>Q46</th>\n",
              "      <th>Q47</th>\n",
              "      <th>Q48</th>\n",
              "      <th>Q49</th>\n",
              "      <th>Q50</th>\n",
              "      <th>Q51</th>\n",
              "      <th>Q52</th>\n",
              "      <th>Q53</th>\n",
              "      <th>Q54</th>\n",
              "      <th>0</th>\n",
              "    </tr>\n",
              "  </thead>\n",
              "  <tbody>\n",
              "    <tr>\n",
              "      <th>0</th>\n",
              "      <td>1</td>\n",
              "      <td>2</td>\n",
              "      <td>0</td>\n",
              "      <td>2</td>\n",
              "      <td>3</td>\n",
              "      <td>22</td>\n",
              "      <td>29</td>\n",
              "      <td>4</td>\n",
              "      <td>3</td>\n",
              "      <td>2</td>\n",
              "      <td>2</td>\n",
              "      <td>2</td>\n",
              "      <td>2</td>\n",
              "      <td>3</td>\n",
              "      <td>1</td>\n",
              "      <td>2</td>\n",
              "      <td>1</td>\n",
              "      <td>1</td>\n",
              "      <td>2</td>\n",
              "      <td>1</td>\n",
              "      <td>5</td>\n",
              "      <td>7</td>\n",
              "      <td>9</td>\n",
              "      <td>4</td>\n",
              "      <td>5</td>\n",
              "      <td>3</td>\n",
              "      <td>4</td>\n",
              "      <td>6</td>\n",
              "      <td>3</td>\n",
              "      <td>2</td>\n",
              "      <td>2</td>\n",
              "      <td>0</td>\n",
              "      <td>3</td>\n",
              "      <td>2</td>\n",
              "      <td>6</td>\n",
              "      <td>5</td>\n",
              "      <td>1</td>\n",
              "      <td>3</td>\n",
              "      <td>1</td>\n",
              "      <td>1</td>\n",
              "      <td>1</td>\n",
              "      <td>1</td>\n",
              "      <td>2</td>\n",
              "      <td>2</td>\n",
              "      <td>4</td>\n",
              "      <td>4</td>\n",
              "      <td>3</td>\n",
              "      <td>0</td>\n",
              "      <td>0</td>\n",
              "      <td>0</td>\n",
              "      <td>0</td>\n",
              "      <td>0</td>\n",
              "      <td>0</td>\n",
              "      <td>4</td>\n",
              "      <td>1</td>\n",
              "    </tr>\n",
              "    <tr>\n",
              "      <th>1</th>\n",
              "      <td>1</td>\n",
              "      <td>2</td>\n",
              "      <td>4</td>\n",
              "      <td>3</td>\n",
              "      <td>5</td>\n",
              "      <td>35</td>\n",
              "      <td>41</td>\n",
              "      <td>3</td>\n",
              "      <td>2</td>\n",
              "      <td>1</td>\n",
              "      <td>2</td>\n",
              "      <td>1</td>\n",
              "      <td>2</td>\n",
              "      <td>2</td>\n",
              "      <td>4</td>\n",
              "      <td>2</td>\n",
              "      <td>2</td>\n",
              "      <td>2</td>\n",
              "      <td>1</td>\n",
              "      <td>4</td>\n",
              "      <td>4</td>\n",
              "      <td>7</td>\n",
              "      <td>4</td>\n",
              "      <td>3</td>\n",
              "      <td>1</td>\n",
              "      <td>3</td>\n",
              "      <td>5</td>\n",
              "      <td>3</td>\n",
              "      <td>5</td>\n",
              "      <td>4</td>\n",
              "      <td>6</td>\n",
              "      <td>5</td>\n",
              "      <td>6</td>\n",
              "      <td>6</td>\n",
              "      <td>7</td>\n",
              "      <td>6</td>\n",
              "      <td>3</td>\n",
              "      <td>3</td>\n",
              "      <td>1</td>\n",
              "      <td>1</td>\n",
              "      <td>2</td>\n",
              "      <td>4</td>\n",
              "      <td>3</td>\n",
              "      <td>2</td>\n",
              "      <td>2</td>\n",
              "      <td>3</td>\n",
              "      <td>6</td>\n",
              "      <td>2</td>\n",
              "      <td>2</td>\n",
              "      <td>4</td>\n",
              "      <td>5</td>\n",
              "      <td>5</td>\n",
              "      <td>6</td>\n",
              "      <td>3</td>\n",
              "      <td>1</td>\n",
              "    </tr>\n",
              "    <tr>\n",
              "      <th>2</th>\n",
              "      <td>8</td>\n",
              "      <td>23</td>\n",
              "      <td>15</td>\n",
              "      <td>29</td>\n",
              "      <td>6</td>\n",
              "      <td>22</td>\n",
              "      <td>5</td>\n",
              "      <td>19</td>\n",
              "      <td>13</td>\n",
              "      <td>29</td>\n",
              "      <td>4</td>\n",
              "      <td>18</td>\n",
              "      <td>9</td>\n",
              "      <td>19</td>\n",
              "      <td>11</td>\n",
              "      <td>25</td>\n",
              "      <td>5</td>\n",
              "      <td>16</td>\n",
              "      <td>4</td>\n",
              "      <td>21</td>\n",
              "      <td>17</td>\n",
              "      <td>26</td>\n",
              "      <td>6</td>\n",
              "      <td>21</td>\n",
              "      <td>11</td>\n",
              "      <td>21</td>\n",
              "      <td>17</td>\n",
              "      <td>30</td>\n",
              "      <td>10</td>\n",
              "      <td>22</td>\n",
              "      <td>2</td>\n",
              "      <td>3</td>\n",
              "      <td>4</td>\n",
              "      <td>5</td>\n",
              "      <td>1</td>\n",
              "      <td>2</td>\n",
              "      <td>3</td>\n",
              "      <td>3</td>\n",
              "      <td>5</td>\n",
              "      <td>3</td>\n",
              "      <td>7</td>\n",
              "      <td>6</td>\n",
              "      <td>4</td>\n",
              "      <td>5</td>\n",
              "      <td>7</td>\n",
              "      <td>11</td>\n",
              "      <td>7</td>\n",
              "      <td>5</td>\n",
              "      <td>9</td>\n",
              "      <td>5</td>\n",
              "      <td>5</td>\n",
              "      <td>6</td>\n",
              "      <td>8</td>\n",
              "      <td>7</td>\n",
              "      <td>1</td>\n",
              "    </tr>\n",
              "    <tr>\n",
              "      <th>3</th>\n",
              "      <td>45</td>\n",
              "      <td>35</td>\n",
              "      <td>49</td>\n",
              "      <td>32</td>\n",
              "      <td>44</td>\n",
              "      <td>4</td>\n",
              "      <td>4</td>\n",
              "      <td>37</td>\n",
              "      <td>49</td>\n",
              "      <td>34</td>\n",
              "      <td>44</td>\n",
              "      <td>42</td>\n",
              "      <td>44</td>\n",
              "      <td>38</td>\n",
              "      <td>51</td>\n",
              "      <td>35</td>\n",
              "      <td>50</td>\n",
              "      <td>44</td>\n",
              "      <td>50</td>\n",
              "      <td>36</td>\n",
              "      <td>47</td>\n",
              "      <td>29</td>\n",
              "      <td>43</td>\n",
              "      <td>35</td>\n",
              "      <td>43</td>\n",
              "      <td>37</td>\n",
              "      <td>46</td>\n",
              "      <td>28</td>\n",
              "      <td>43</td>\n",
              "      <td>35</td>\n",
              "      <td>17</td>\n",
              "      <td>28</td>\n",
              "      <td>16</td>\n",
              "      <td>25</td>\n",
              "      <td>14</td>\n",
              "      <td>24</td>\n",
              "      <td>16</td>\n",
              "      <td>23</td>\n",
              "      <td>13</td>\n",
              "      <td>23</td>\n",
              "      <td>14</td>\n",
              "      <td>28</td>\n",
              "      <td>19</td>\n",
              "      <td>28</td>\n",
              "      <td>24</td>\n",
              "      <td>23</td>\n",
              "      <td>13</td>\n",
              "      <td>30</td>\n",
              "      <td>17</td>\n",
              "      <td>20</td>\n",
              "      <td>29</td>\n",
              "      <td>16</td>\n",
              "      <td>23</td>\n",
              "      <td>14</td>\n",
              "      <td>1</td>\n",
              "    </tr>\n",
              "    <tr>\n",
              "      <th>4</th>\n",
              "      <td>29</td>\n",
              "      <td>22</td>\n",
              "      <td>16</td>\n",
              "      <td>18</td>\n",
              "      <td>26</td>\n",
              "      <td>1</td>\n",
              "      <td>5</td>\n",
              "      <td>21</td>\n",
              "      <td>17</td>\n",
              "      <td>18</td>\n",
              "      <td>32</td>\n",
              "      <td>21</td>\n",
              "      <td>27</td>\n",
              "      <td>22</td>\n",
              "      <td>17</td>\n",
              "      <td>20</td>\n",
              "      <td>26</td>\n",
              "      <td>21</td>\n",
              "      <td>27</td>\n",
              "      <td>22</td>\n",
              "      <td>11</td>\n",
              "      <td>15</td>\n",
              "      <td>22</td>\n",
              "      <td>21</td>\n",
              "      <td>24</td>\n",
              "      <td>20</td>\n",
              "      <td>12</td>\n",
              "      <td>17</td>\n",
              "      <td>23</td>\n",
              "      <td>21</td>\n",
              "      <td>57</td>\n",
              "      <td>48</td>\n",
              "      <td>55</td>\n",
              "      <td>46</td>\n",
              "      <td>56</td>\n",
              "      <td>47</td>\n",
              "      <td>61</td>\n",
              "      <td>52</td>\n",
              "      <td>64</td>\n",
              "      <td>56</td>\n",
              "      <td>60</td>\n",
              "      <td>45</td>\n",
              "      <td>56</td>\n",
              "      <td>47</td>\n",
              "      <td>47</td>\n",
              "      <td>43</td>\n",
              "      <td>55</td>\n",
              "      <td>47</td>\n",
              "      <td>56</td>\n",
              "      <td>55</td>\n",
              "      <td>45</td>\n",
              "      <td>57</td>\n",
              "      <td>47</td>\n",
              "      <td>56</td>\n",
              "      <td>1</td>\n",
              "    </tr>\n",
              "  </tbody>\n",
              "</table>\n",
              "</div>\n",
              "      <button class=\"colab-df-convert\" onclick=\"convertToInteractive('df-e01436e6-bb62-44ac-85f0-36bdd482f4ac')\"\n",
              "              title=\"Convert this dataframe to an interactive table.\"\n",
              "              style=\"display:none;\">\n",
              "        \n",
              "  <svg xmlns=\"http://www.w3.org/2000/svg\" height=\"24px\"viewBox=\"0 0 24 24\"\n",
              "       width=\"24px\">\n",
              "    <path d=\"M0 0h24v24H0V0z\" fill=\"none\"/>\n",
              "    <path d=\"M18.56 5.44l.94 2.06.94-2.06 2.06-.94-2.06-.94-.94-2.06-.94 2.06-2.06.94zm-11 1L8.5 8.5l.94-2.06 2.06-.94-2.06-.94L8.5 2.5l-.94 2.06-2.06.94zm10 10l.94 2.06.94-2.06 2.06-.94-2.06-.94-.94-2.06-.94 2.06-2.06.94z\"/><path d=\"M17.41 7.96l-1.37-1.37c-.4-.4-.92-.59-1.43-.59-.52 0-1.04.2-1.43.59L10.3 9.45l-7.72 7.72c-.78.78-.78 2.05 0 2.83L4 21.41c.39.39.9.59 1.41.59.51 0 1.02-.2 1.41-.59l7.78-7.78 2.81-2.81c.8-.78.8-2.07 0-2.86zM5.41 20L4 18.59l7.72-7.72 1.47 1.35L5.41 20z\"/>\n",
              "  </svg>\n",
              "      </button>\n",
              "      \n",
              "  <style>\n",
              "    .colab-df-container {\n",
              "      display:flex;\n",
              "      flex-wrap:wrap;\n",
              "      gap: 12px;\n",
              "    }\n",
              "\n",
              "    .colab-df-convert {\n",
              "      background-color: #E8F0FE;\n",
              "      border: none;\n",
              "      border-radius: 50%;\n",
              "      cursor: pointer;\n",
              "      display: none;\n",
              "      fill: #1967D2;\n",
              "      height: 32px;\n",
              "      padding: 0 0 0 0;\n",
              "      width: 32px;\n",
              "    }\n",
              "\n",
              "    .colab-df-convert:hover {\n",
              "      background-color: #E2EBFA;\n",
              "      box-shadow: 0px 1px 2px rgba(60, 64, 67, 0.3), 0px 1px 3px 1px rgba(60, 64, 67, 0.15);\n",
              "      fill: #174EA6;\n",
              "    }\n",
              "\n",
              "    [theme=dark] .colab-df-convert {\n",
              "      background-color: #3B4455;\n",
              "      fill: #D2E3FC;\n",
              "    }\n",
              "\n",
              "    [theme=dark] .colab-df-convert:hover {\n",
              "      background-color: #434B5C;\n",
              "      box-shadow: 0px 1px 3px 1px rgba(0, 0, 0, 0.15);\n",
              "      filter: drop-shadow(0px 1px 2px rgba(0, 0, 0, 0.3));\n",
              "      fill: #FFFFFF;\n",
              "    }\n",
              "  </style>\n",
              "\n",
              "      <script>\n",
              "        const buttonEl =\n",
              "          document.querySelector('#df-e01436e6-bb62-44ac-85f0-36bdd482f4ac button.colab-df-convert');\n",
              "        buttonEl.style.display =\n",
              "          google.colab.kernel.accessAllowed ? 'block' : 'none';\n",
              "\n",
              "        async function convertToInteractive(key) {\n",
              "          const element = document.querySelector('#df-e01436e6-bb62-44ac-85f0-36bdd482f4ac');\n",
              "          const dataTable =\n",
              "            await google.colab.kernel.invokeFunction('convertToInteractive',\n",
              "                                                     [key], {});\n",
              "          if (!dataTable) return;\n",
              "\n",
              "          const docLinkHtml = 'Like what you see? Visit the ' +\n",
              "            '<a target=\"_blank\" href=https://colab.research.google.com/notebooks/data_table.ipynb>data table notebook</a>'\n",
              "            + ' to learn more about interactive tables.';\n",
              "          element.innerHTML = '';\n",
              "          dataTable['output_type'] = 'display_data';\n",
              "          await google.colab.output.renderOutput(dataTable, element);\n",
              "          const docLink = document.createElement('div');\n",
              "          docLink.innerHTML = docLinkHtml;\n",
              "          element.appendChild(docLink);\n",
              "        }\n",
              "      </script>\n",
              "    </div>\n",
              "  </div>\n",
              "  "
            ],
            "text/plain": [
              "   Q1  Q2  Q3  Q4  Q5  Q6  Q7  Q8  ...  Q48  Q49  Q50  Q51  Q52  Q53  Q54  0\n",
              "0   1   2   0   2   3  22  29   4  ...    0    0    0    0    0    0    4  1\n",
              "1   1   2   4   3   5  35  41   3  ...    2    2    4    5    5    6    3  1\n",
              "2   8  23  15  29   6  22   5  19  ...    5    9    5    5    6    8    7  1\n",
              "3  45  35  49  32  44   4   4  37  ...   30   17   20   29   16   23   14  1\n",
              "4  29  22  16  18  26   1   5  21  ...   47   56   55   45   57   47   56  1\n",
              "\n",
              "[5 rows x 55 columns]"
            ]
          },
          "metadata": {},
          "execution_count": 4
        }
      ]
    },
    {
      "cell_type": "markdown",
      "source": [
        "질문 1번에 대한 이혼하지 않은 사람들의 대답 분포이다."
      ],
      "metadata": {
        "id": "Gpg5MM3Loyeo"
      }
    },
    {
      "cell_type": "code",
      "source": [
        "plt.bar(res_m.Q1.index, res_m.Q1, width = 0.4)\n",
        "plt.xlabel(\"responses\")\n",
        "plt.ylabel(\"frequency\")\n",
        "plt.show()"
      ],
      "metadata": {
        "colab": {
          "base_uri": "https://localhost:8080/",
          "height": 0
        },
        "id": "x1GA2Z6BoRXL",
        "outputId": "2873cdf5-665d-483b-8b22-89f77303f14a"
      },
      "execution_count": 5,
      "outputs": [
        {
          "output_type": "display_data",
          "data": {
            "image/png": "[encoded data removed]",
            "text/plain": [
              "<Figure size 432x288 with 1 Axes>"
            ]
          },
          "metadata": {
            "needs_background": "light"
          }
        }
      ]
    },
    {
      "cell_type": "markdown",
      "source": [
        "이혼한 사람들의 각 대답을 카운트하여 데이터 프레임을 만든다.(위와 동일한 방법)"
      ],
      "metadata": {
        "id": "BkmC---npKjS"
      }
    },
    {
      "cell_type": "code",
      "metadata": {
        "colab": {
          "base_uri": "https://localhost:8080/",
          "height": 0
        },
        "id": "aCMrjvE-rh2C",
        "outputId": "0580d2de-c7c0-46e1-e962-53359c0ce875"
      },
      "source": [
        "# 이혼한 경우\n",
        "\n",
        "res_d = pd.DataFrame([0, 0, 0, 0, 0])\n",
        "\n",
        "for i in range(len(data_divorced.columns)-1):\n",
        "  res_count = data_divorced.iloc[:, i].value_counts()\n",
        "\n",
        "  index_check = res_count.index\n",
        "  if(0 not in index_check):   #'0'을 대답한 사람이 없는 경우 '0'행을 추가하여 0값을 넣어준다.\n",
        "    res_count[0] = 0\n",
        "  if(1 not in index_check):\n",
        "    res_count[1] = 0\n",
        "  if(2 not in index_check):\n",
        "    res_count[2] = 0\n",
        "  if(3 not in index_check):\n",
        "    res_count[3] = 0\n",
        "  if(4 not in index_check):\n",
        "    res_count[4] = 0\n",
        "\n",
        "  res_count = res_count.sort_index().tolist()     # 행(인덱스) 기준으로 정렬\n",
        "\n",
        "  res_df = pd.DataFrame(res_count)\n",
        "  res_d.insert(i, \"Q\"+str(i+1), res_df, True)\n",
        "\n",
        "# 해당 대답이 없는 경우 nan값이 들어가 있어서, 0으로 채워줌\n",
        "res_d = res_d.fillna(0)\n",
        "res_d = res_d.astype(int)\n",
        "res_d"
      ],
      "execution_count": 6,
      "outputs": [
        {
          "output_type": "execute_result",
          "data": {
            "text/html": [
              "\n",
              "  <div id=\"df-7c89e947-53df-4c4a-b44f-849d091dc591\">\n",
              "    <div class=\"colab-df-container\">\n",
              "      <div>\n",
              "<style scoped>\n",
              "    .dataframe tbody tr th:only-of-type {\n",
              "        vertical-align: middle;\n",
              "    }\n",
              "\n",
              "    .dataframe tbody tr th {\n",
              "        vertical-align: top;\n",
              "    }\n",
              "\n",
              "    .dataframe thead th {\n",
              "        text-align: right;\n",
              "    }\n",
              "</style>\n",
              "<table border=\"1\" class=\"dataframe\">\n",
              "  <thead>\n",
              "    <tr style=\"text-align: right;\">\n",
              "      <th></th>\n",
              "      <th>Q1</th>\n",
              "      <th>Q2</th>\n",
              "      <th>Q3</th>\n",
              "      <th>Q4</th>\n",
              "      <th>Q5</th>\n",
              "      <th>Q6</th>\n",
              "      <th>Q7</th>\n",
              "      <th>Q8</th>\n",
              "      <th>Q9</th>\n",
              "      <th>Q10</th>\n",
              "      <th>Q11</th>\n",
              "      <th>Q12</th>\n",
              "      <th>Q13</th>\n",
              "      <th>Q14</th>\n",
              "      <th>Q15</th>\n",
              "      <th>Q16</th>\n",
              "      <th>Q17</th>\n",
              "      <th>Q18</th>\n",
              "      <th>Q19</th>\n",
              "      <th>Q20</th>\n",
              "      <th>Q21</th>\n",
              "      <th>Q22</th>\n",
              "      <th>Q23</th>\n",
              "      <th>Q24</th>\n",
              "      <th>Q25</th>\n",
              "      <th>Q26</th>\n",
              "      <th>Q27</th>\n",
              "      <th>Q28</th>\n",
              "      <th>Q29</th>\n",
              "      <th>Q30</th>\n",
              "      <th>Q31</th>\n",
              "      <th>Q32</th>\n",
              "      <th>Q33</th>\n",
              "      <th>Q34</th>\n",
              "      <th>Q35</th>\n",
              "      <th>Q36</th>\n",
              "      <th>Q37</th>\n",
              "      <th>Q38</th>\n",
              "      <th>Q39</th>\n",
              "      <th>Q40</th>\n",
              "      <th>Q41</th>\n",
              "      <th>Q42</th>\n",
              "      <th>Q43</th>\n",
              "      <th>Q44</th>\n",
              "      <th>Q45</th>\n",
              "      <th>Q46</th>\n",
              "      <th>Q47</th>\n",
              "      <th>Q48</th>\n",
              "      <th>Q49</th>\n",
              "      <th>Q50</th>\n",
              "      <th>Q51</th>\n",
              "      <th>Q52</th>\n",
              "      <th>Q53</th>\n",
              "      <th>Q54</th>\n",
              "      <th>0</th>\n",
              "    </tr>\n",
              "  </thead>\n",
              "  <tbody>\n",
              "    <tr>\n",
              "      <th>0</th>\n",
              "      <td>68</td>\n",
              "      <td>57</td>\n",
              "      <td>51</td>\n",
              "      <td>73</td>\n",
              "      <td>79</td>\n",
              "      <td>64</td>\n",
              "      <td>85</td>\n",
              "      <td>77</td>\n",
              "      <td>81</td>\n",
              "      <td>60</td>\n",
              "      <td>69</td>\n",
              "      <td>56</td>\n",
              "      <td>45</td>\n",
              "      <td>63</td>\n",
              "      <td>68</td>\n",
              "      <td>73</td>\n",
              "      <td>72</td>\n",
              "      <td>78</td>\n",
              "      <td>75</td>\n",
              "      <td>80</td>\n",
              "      <td>73</td>\n",
              "      <td>80</td>\n",
              "      <td>81</td>\n",
              "      <td>68</td>\n",
              "      <td>58</td>\n",
              "      <td>69</td>\n",
              "      <td>73</td>\n",
              "      <td>79</td>\n",
              "      <td>78</td>\n",
              "      <td>70</td>\n",
              "      <td>42</td>\n",
              "      <td>46</td>\n",
              "      <td>68</td>\n",
              "      <td>48</td>\n",
              "      <td>79</td>\n",
              "      <td>83</td>\n",
              "      <td>48</td>\n",
              "      <td>61</td>\n",
              "      <td>49</td>\n",
              "      <td>71</td>\n",
              "      <td>54</td>\n",
              "      <td>43</td>\n",
              "      <td>14</td>\n",
              "      <td>58</td>\n",
              "      <td>24</td>\n",
              "      <td>18</td>\n",
              "      <td>30</td>\n",
              "      <td>10</td>\n",
              "      <td>28</td>\n",
              "      <td>19</td>\n",
              "      <td>12</td>\n",
              "      <td>23</td>\n",
              "      <td>31</td>\n",
              "      <td>46</td>\n",
              "      <td>0</td>\n",
              "    </tr>\n",
              "    <tr>\n",
              "      <th>1</th>\n",
              "      <td>8</td>\n",
              "      <td>21</td>\n",
              "      <td>20</td>\n",
              "      <td>9</td>\n",
              "      <td>5</td>\n",
              "      <td>14</td>\n",
              "      <td>1</td>\n",
              "      <td>7</td>\n",
              "      <td>5</td>\n",
              "      <td>17</td>\n",
              "      <td>17</td>\n",
              "      <td>26</td>\n",
              "      <td>31</td>\n",
              "      <td>21</td>\n",
              "      <td>16</td>\n",
              "      <td>12</td>\n",
              "      <td>13</td>\n",
              "      <td>8</td>\n",
              "      <td>10</td>\n",
              "      <td>6</td>\n",
              "      <td>13</td>\n",
              "      <td>6</td>\n",
              "      <td>3</td>\n",
              "      <td>13</td>\n",
              "      <td>27</td>\n",
              "      <td>17</td>\n",
              "      <td>13</td>\n",
              "      <td>7</td>\n",
              "      <td>8</td>\n",
              "      <td>15</td>\n",
              "      <td>22</td>\n",
              "      <td>25</td>\n",
              "      <td>14</td>\n",
              "      <td>31</td>\n",
              "      <td>6</td>\n",
              "      <td>3</td>\n",
              "      <td>28</td>\n",
              "      <td>21</td>\n",
              "      <td>27</td>\n",
              "      <td>12</td>\n",
              "      <td>24</td>\n",
              "      <td>13</td>\n",
              "      <td>16</td>\n",
              "      <td>14</td>\n",
              "      <td>22</td>\n",
              "      <td>15</td>\n",
              "      <td>28</td>\n",
              "      <td>8</td>\n",
              "      <td>26</td>\n",
              "      <td>27</td>\n",
              "      <td>24</td>\n",
              "      <td>23</td>\n",
              "      <td>25</td>\n",
              "      <td>24</td>\n",
              "      <td>0</td>\n",
              "    </tr>\n",
              "    <tr>\n",
              "      <th>2</th>\n",
              "      <td>6</td>\n",
              "      <td>5</td>\n",
              "      <td>11</td>\n",
              "      <td>1</td>\n",
              "      <td>2</td>\n",
              "      <td>7</td>\n",
              "      <td>0</td>\n",
              "      <td>2</td>\n",
              "      <td>0</td>\n",
              "      <td>9</td>\n",
              "      <td>0</td>\n",
              "      <td>4</td>\n",
              "      <td>9</td>\n",
              "      <td>2</td>\n",
              "      <td>2</td>\n",
              "      <td>1</td>\n",
              "      <td>1</td>\n",
              "      <td>0</td>\n",
              "      <td>1</td>\n",
              "      <td>0</td>\n",
              "      <td>0</td>\n",
              "      <td>0</td>\n",
              "      <td>2</td>\n",
              "      <td>5</td>\n",
              "      <td>1</td>\n",
              "      <td>0</td>\n",
              "      <td>0</td>\n",
              "      <td>0</td>\n",
              "      <td>0</td>\n",
              "      <td>1</td>\n",
              "      <td>19</td>\n",
              "      <td>9</td>\n",
              "      <td>2</td>\n",
              "      <td>5</td>\n",
              "      <td>0</td>\n",
              "      <td>0</td>\n",
              "      <td>7</td>\n",
              "      <td>3</td>\n",
              "      <td>9</td>\n",
              "      <td>3</td>\n",
              "      <td>7</td>\n",
              "      <td>20</td>\n",
              "      <td>29</td>\n",
              "      <td>12</td>\n",
              "      <td>14</td>\n",
              "      <td>17</td>\n",
              "      <td>13</td>\n",
              "      <td>42</td>\n",
              "      <td>17</td>\n",
              "      <td>31</td>\n",
              "      <td>38</td>\n",
              "      <td>17</td>\n",
              "      <td>18</td>\n",
              "      <td>14</td>\n",
              "      <td>0</td>\n",
              "    </tr>\n",
              "    <tr>\n",
              "      <th>3</th>\n",
              "      <td>2</td>\n",
              "      <td>3</td>\n",
              "      <td>3</td>\n",
              "      <td>0</td>\n",
              "      <td>0</td>\n",
              "      <td>0</td>\n",
              "      <td>0</td>\n",
              "      <td>0</td>\n",
              "      <td>0</td>\n",
              "      <td>0</td>\n",
              "      <td>0</td>\n",
              "      <td>0</td>\n",
              "      <td>1</td>\n",
              "      <td>0</td>\n",
              "      <td>0</td>\n",
              "      <td>0</td>\n",
              "      <td>0</td>\n",
              "      <td>0</td>\n",
              "      <td>0</td>\n",
              "      <td>0</td>\n",
              "      <td>0</td>\n",
              "      <td>0</td>\n",
              "      <td>0</td>\n",
              "      <td>0</td>\n",
              "      <td>0</td>\n",
              "      <td>0</td>\n",
              "      <td>0</td>\n",
              "      <td>0</td>\n",
              "      <td>0</td>\n",
              "      <td>0</td>\n",
              "      <td>0</td>\n",
              "      <td>4</td>\n",
              "      <td>1</td>\n",
              "      <td>1</td>\n",
              "      <td>1</td>\n",
              "      <td>0</td>\n",
              "      <td>0</td>\n",
              "      <td>1</td>\n",
              "      <td>0</td>\n",
              "      <td>0</td>\n",
              "      <td>1</td>\n",
              "      <td>6</td>\n",
              "      <td>14</td>\n",
              "      <td>0</td>\n",
              "      <td>12</td>\n",
              "      <td>25</td>\n",
              "      <td>7</td>\n",
              "      <td>20</td>\n",
              "      <td>10</td>\n",
              "      <td>6</td>\n",
              "      <td>9</td>\n",
              "      <td>14</td>\n",
              "      <td>7</td>\n",
              "      <td>1</td>\n",
              "      <td>0</td>\n",
              "    </tr>\n",
              "    <tr>\n",
              "      <th>4</th>\n",
              "      <td>2</td>\n",
              "      <td>0</td>\n",
              "      <td>1</td>\n",
              "      <td>3</td>\n",
              "      <td>0</td>\n",
              "      <td>1</td>\n",
              "      <td>0</td>\n",
              "      <td>0</td>\n",
              "      <td>0</td>\n",
              "      <td>0</td>\n",
              "      <td>0</td>\n",
              "      <td>0</td>\n",
              "      <td>0</td>\n",
              "      <td>0</td>\n",
              "      <td>0</td>\n",
              "      <td>0</td>\n",
              "      <td>0</td>\n",
              "      <td>0</td>\n",
              "      <td>0</td>\n",
              "      <td>0</td>\n",
              "      <td>0</td>\n",
              "      <td>0</td>\n",
              "      <td>0</td>\n",
              "      <td>0</td>\n",
              "      <td>0</td>\n",
              "      <td>0</td>\n",
              "      <td>0</td>\n",
              "      <td>0</td>\n",
              "      <td>0</td>\n",
              "      <td>0</td>\n",
              "      <td>3</td>\n",
              "      <td>2</td>\n",
              "      <td>1</td>\n",
              "      <td>1</td>\n",
              "      <td>0</td>\n",
              "      <td>0</td>\n",
              "      <td>3</td>\n",
              "      <td>0</td>\n",
              "      <td>1</td>\n",
              "      <td>0</td>\n",
              "      <td>0</td>\n",
              "      <td>4</td>\n",
              "      <td>13</td>\n",
              "      <td>2</td>\n",
              "      <td>14</td>\n",
              "      <td>11</td>\n",
              "      <td>8</td>\n",
              "      <td>6</td>\n",
              "      <td>5</td>\n",
              "      <td>3</td>\n",
              "      <td>3</td>\n",
              "      <td>9</td>\n",
              "      <td>5</td>\n",
              "      <td>1</td>\n",
              "      <td>0</td>\n",
              "    </tr>\n",
              "  </tbody>\n",
              "</table>\n",
              "</div>\n",
              "      <button class=\"colab-df-convert\" onclick=\"convertToInteractive('df-7c89e947-53df-4c4a-b44f-849d091dc591')\"\n",
              "              title=\"Convert this dataframe to an interactive table.\"\n",
              "              style=\"display:none;\">\n",
              "        \n",
              "  <svg xmlns=\"http://www.w3.org/2000/svg\" height=\"24px\"viewBox=\"0 0 24 24\"\n",
              "       width=\"24px\">\n",
              "    <path d=\"M0 0h24v24H0V0z\" fill=\"none\"/>\n",
              "    <path d=\"M18.56 5.44l.94 2.06.94-2.06 2.06-.94-2.06-.94-.94-2.06-.94 2.06-2.06.94zm-11 1L8.5 8.5l.94-2.06 2.06-.94-2.06-.94L8.5 2.5l-.94 2.06-2.06.94zm10 10l.94 2.06.94-2.06 2.06-.94-2.06-.94-.94-2.06-.94 2.06-2.06.94z\"/><path d=\"M17.41 7.96l-1.37-1.37c-.4-.4-.92-.59-1.43-.59-.52 0-1.04.2-1.43.59L10.3 9.45l-7.72 7.72c-.78.78-.78 2.05 0 2.83L4 21.41c.39.39.9.59 1.41.59.51 0 1.02-.2 1.41-.59l7.78-7.78 2.81-2.81c.8-.78.8-2.07 0-2.86zM5.41 20L4 18.59l7.72-7.72 1.47 1.35L5.41 20z\"/>\n",
              "  </svg>\n",
              "      </button>\n",
              "      \n",
              "  <style>\n",
              "    .colab-df-container {\n",
              "      display:flex;\n",
              "      flex-wrap:wrap;\n",
              "      gap: 12px;\n",
              "    }\n",
              "\n",
              "    .colab-df-convert {\n",
              "      background-color: #E8F0FE;\n",
              "      border: none;\n",
              "      border-radius: 50%;\n",
              "      cursor: pointer;\n",
              "      display: none;\n",
              "      fill: #1967D2;\n",
              "      height: 32px;\n",
              "      padding: 0 0 0 0;\n",
              "      width: 32px;\n",
              "    }\n",
              "\n",
              "    .colab-df-convert:hover {\n",
              "      background-color: #E2EBFA;\n",
              "      box-shadow: 0px 1px 2px rgba(60, 64, 67, 0.3), 0px 1px 3px 1px rgba(60, 64, 67, 0.15);\n",
              "      fill: #174EA6;\n",
              "    }\n",
              "\n",
              "    [theme=dark] .colab-df-convert {\n",
              "      background-color: #3B4455;\n",
              "      fill: #D2E3FC;\n",
              "    }\n",
              "\n",
              "    [theme=dark] .colab-df-convert:hover {\n",
              "      background-color: #434B5C;\n",
              "      box-shadow: 0px 1px 3px 1px rgba(0, 0, 0, 0.15);\n",
              "      filter: drop-shadow(0px 1px 2px rgba(0, 0, 0, 0.3));\n",
              "      fill: #FFFFFF;\n",
              "    }\n",
              "  </style>\n",
              "\n",
              "      <script>\n",
              "        const buttonEl =\n",
              "          document.querySelector('#df-7c89e947-53df-4c4a-b44f-849d091dc591 button.colab-df-convert');\n",
              "        buttonEl.style.display =\n",
              "          google.colab.kernel.accessAllowed ? 'block' : 'none';\n",
              "\n",
              "        async function convertToInteractive(key) {\n",
              "          const element = document.querySelector('#df-7c89e947-53df-4c4a-b44f-849d091dc591');\n",
              "          const dataTable =\n",
              "            await google.colab.kernel.invokeFunction('convertToInteractive',\n",
              "                                                     [key], {});\n",
              "          if (!dataTable) return;\n",
              "\n",
              "          const docLinkHtml = 'Like what you see? Visit the ' +\n",
              "            '<a target=\"_blank\" href=https://colab.research.google.com/notebooks/data_table.ipynb>data table notebook</a>'\n",
              "            + ' to learn more about interactive tables.';\n",
              "          element.innerHTML = '';\n",
              "          dataTable['output_type'] = 'display_data';\n",
              "          await google.colab.output.renderOutput(dataTable, element);\n",
              "          const docLink = document.createElement('div');\n",
              "          docLink.innerHTML = docLinkHtml;\n",
              "          element.appendChild(docLink);\n",
              "        }\n",
              "      </script>\n",
              "    </div>\n",
              "  </div>\n",
              "  "
            ],
            "text/plain": [
              "   Q1  Q2  Q3  Q4  Q5  Q6  Q7  Q8  ...  Q48  Q49  Q50  Q51  Q52  Q53  Q54  0\n",
              "0  68  57  51  73  79  64  85  77  ...   10   28   19   12   23   31   46  0\n",
              "1   8  21  20   9   5  14   1   7  ...    8   26   27   24   23   25   24  0\n",
              "2   6   5  11   1   2   7   0   2  ...   42   17   31   38   17   18   14  0\n",
              "3   2   3   3   0   0   0   0   0  ...   20   10    6    9   14    7    1  0\n",
              "4   2   0   1   3   0   1   0   0  ...    6    5    3    3    9    5    1  0\n",
              "\n",
              "[5 rows x 55 columns]"
            ]
          },
          "metadata": {},
          "execution_count": 6
        }
      ]
    },
    {
      "cell_type": "markdown",
      "source": [
        "질문 1번에 대한 이혼한 사람들의 대답 분포이다."
      ],
      "metadata": {
        "id": "ODe8wpMcptPK"
      }
    },
    {
      "cell_type": "code",
      "source": [
        "plt.bar(res_d.Q1.index, res_d.Q1, width = 0.4)\n",
        "plt.xlabel(\"responses\")\n",
        "plt.ylabel(\"frequency\")\n",
        "plt.show()"
      ],
      "metadata": {
        "colab": {
          "base_uri": "https://localhost:8080/",
          "height": 0
        },
        "id": "-WhRki9spj4c",
        "outputId": "595ce991-bf00-4bfb-f860-6962d0c63d00"
      },
      "execution_count": 7,
      "outputs": [
        {
          "output_type": "display_data",
          "data": {
            "image/png": "[encoded data removed]",
            "text/plain": [
              "<Figure size 432x288 with 1 Axes>"
            ]
          },
          "metadata": {
            "needs_background": "light"
          }
        }
      ]
    },
    {
      "cell_type": "markdown",
      "source": [
        "위의 두 그래프를 함께 그려서, 두 클래스의 대답 분포를 비교해 보았다."
      ],
      "metadata": {
        "id": "tYNpgZSQqEjC"
      }
    },
    {
      "cell_type": "code",
      "metadata": {
        "colab": {
          "base_uri": "https://localhost:8080/",
          "height": 0
        },
        "id": "DdPPXDp_1a1p",
        "outputId": "957ad6c1-84b6-4f10-d653-8c2504ea37cf"
      },
      "source": [
        "# \"Q1\" 에 대한 대답\n",
        "answers = [0, 1, 2, 3, 4]\n",
        "answers_mean = ['Never(0)', 'Seldom(1)', 'Averagely(2)', 'Frequently(3)', 'Always(4)']\n",
        "plt.bar(res_d.Q1.index -0.2, res_d.Q1, width = 0.4, label = \"0\")\n",
        "plt.bar(res_m.Q1.index +0.2, res_m.Q1, width = 0.4, label = \"1\")\n",
        "plt.xlabel(\"responses\")\n",
        "plt.ylabel(\"frequency\")\n",
        "plt.title(\"Q1.\")\n",
        "plt.legend()\n",
        "plt.xticks(answers, answers_mean, fontsize=10, rotation=20)\n",
        "plt.show()"
      ],
      "execution_count": 8,
      "outputs": [
        {
          "output_type": "display_data",
          "data": {
            "image/png": "[encoded data removed]",
            "text/plain": [
              "<Figure size 432x288 with 1 Axes>"
            ]
          },
          "metadata": {
            "needs_background": "light"
          }
        }
      ]
    },
    {
      "cell_type": "markdown",
      "source": [
        "나머지 질문들에 대한 대답 분포도 비교해 보았다.\n",
        "대체로 2를 기준으로, 이혼한 사람들에 대한 그래프는 왼쪽으로 치우쳐있고, 이혼하지 않은 사람들에 대한 그래프는 오른쪽으로 치우쳐 있음을 알 수 있다."
      ],
      "metadata": {
        "id": "P6NHAELeqhn3"
      }
    },
    {
      "cell_type": "code",
      "metadata": {
        "colab": {
          "base_uri": "https://localhost:8080/",
          "height": 0
        },
        "id": "DYIeJo5mWRcR",
        "outputId": "7adbe281-79d5-4637-b7f0-b015d523437b"
      },
      "source": [
        "fig,ax=plt.subplots(11, 5, figsize=(30,27))\n",
        "num_Q = 1\n",
        "for i in range(0,11):\n",
        "    for j in range(0,5):\n",
        "      if num_Q ==55:\n",
        "            break\n",
        "      ax[i, j].bar(res_d['Q'+str(num_Q)].index -0.2, res_d['Q'+str(num_Q)], width = 0.4, label = \"0\")\n",
        "      ax[i, j].bar(res_m['Q'+str(num_Q)].index +0.2, res_m['Q'+str(num_Q)], width = 0.4, label = \"1\")\n",
        "      ax[i, j].set_xlabel(\"responses\")\n",
        "      ax[i, j].set_ylabel(\"frequency\")\n",
        "      ax[i, j].set_title(\"Q\" + str(num_Q))\n",
        "      num_Q += 1\n",
        "      ax[i, j].legend()\n",
        "      #ax.xticks(answers, answers_mean, fontsize=10, rotation=20)\n",
        "plt.show()"
      ],
      "execution_count": 9,
      "outputs": [
        {
          "output_type": "display_data",
          "data": {
            "image/png": "[encoded data removed]",
            "text/plain": [
              "<Figure size 2160x1944 with 55 Axes>"
            ]
          },
          "metadata": {
            "needs_background": "light"
          }
        }
      ]
    },
    {
      "cell_type": "markdown",
      "metadata": {
        "id": "sw3num4djdiN"
      },
      "source": [
        "# 2) Classification"
      ]
    },
    {
      "cell_type": "markdown",
      "metadata": {
        "id": "Oy3CgFIFjQyI"
      },
      "source": [
        "classification 으로 이혼여부를 예측할 것이다. 아래의 두 방법을 사용한다.\n",
        "\n",
        "1.   DecisionTree\n",
        "2.   RandomForest\n",
        "\n",
        "그리고 특성중요도(feature importance)를 통해 종속변수에 가장 많은 영향을 미치는 독립변수를 찾아본다.\n",
        "\n",
        "\n"
      ]
    },
    {
      "cell_type": "code",
      "source": [
        "data = df.astype(str)  # str타입으로 바꿈."
      ],
      "metadata": {
        "id": "kKVL6ox-Dxrg"
      },
      "execution_count": 10,
      "outputs": []
    },
    {
      "cell_type": "code",
      "metadata": {
        "id": "6_I4bzpbdvjs"
      },
      "source": [
        "from sklearn.model_selection import train_test_split\n",
        "\n",
        "X = data.drop(\"Divorce\", axis = 1)    # 'Divorce'열을 제외한 나머지\n",
        "y = data.Divorce\n",
        "\n",
        "# 데이터 나누기.\n",
        "X_train, X_test, y_train, y_test = train_test_split(\n",
        "    X, y, test_size=0.3, random_state=0)"
      ],
      "execution_count": 11,
      "outputs": []
    },
    {
      "cell_type": "markdown",
      "source": [
        "(1) decision tree\n",
        "\n",
        "decision tree을 통해 모델을 생성하고, 학습 및 예측한다."
      ],
      "metadata": {
        "id": "9HhthsKDvwSo"
      }
    },
    {
      "cell_type": "code",
      "metadata": {
        "id": "bQmULqCYdaA2"
      },
      "source": [
        "from sklearn.tree import DecisionTreeClassifier\n",
        "\n",
        "dt_clf = DecisionTreeClassifier()      # 모델 생성\n",
        "dt_clf = dt_clf.fit(X_train, y_train)     # 모델 학습\n",
        "predictions = dt_clf.predict(X_test)"
      ],
      "execution_count": 12,
      "outputs": []
    },
    {
      "cell_type": "markdown",
      "source": [
        "decision tree 학습 후 특성 중요도를 살펴본다.\n",
        "- 그래프로 시각화 하였다.\n",
        "- 10개의 변수까지의 importance값만 받았다. \n"
      ],
      "metadata": {
        "id": "KKBTT0LLQ_Rk"
      }
    },
    {
      "cell_type": "code",
      "metadata": {
        "id": "HrD4uzQZBIC3",
        "colab": {
          "base_uri": "https://localhost:8080/"
        },
        "outputId": "cfe24f2e-1792-44ea-e2d5-aa8955f7b6ec"
      },
      "source": [
        "dt_clf.feature_importances_"
      ],
      "execution_count": 13,
      "outputs": [
        {
          "output_type": "execute_result",
          "data": {
            "text/plain": [
              "array([0.        , 0.        , 0.        , 0.        , 0.        ,\n",
              "       0.        , 0.        , 0.        , 0.        , 0.        ,\n",
              "       0.        , 0.        , 0.        , 0.        , 0.        ,\n",
              "       0.        , 0.        , 0.96694444, 0.        , 0.        ,\n",
              "       0.        , 0.        , 0.        , 0.        , 0.        ,\n",
              "       0.        , 0.        , 0.        , 0.        , 0.        ,\n",
              "       0.        , 0.        , 0.        , 0.        , 0.        ,\n",
              "       0.        , 0.        , 0.        , 0.        , 0.03305556,\n",
              "       0.        , 0.        , 0.        , 0.        , 0.        ,\n",
              "       0.        , 0.        , 0.        , 0.        , 0.        ,\n",
              "       0.        , 0.        , 0.        , 0.        ])"
            ]
          },
          "metadata": {},
          "execution_count": 13
        }
      ]
    },
    {
      "cell_type": "code",
      "source": [
        "pd.DataFrame(data = dt_clf.feature_importances_*100,\n",
        "                   columns = [\"Importances\"],\n",
        "                   index = X_train.columns).sort_values(\"Importances\", ascending = False)[:10].plot(kind = \"barh\", color = \"r\")\n",
        "\n",
        "plt.xlabel(\"Feature Importances (%)\")"
      ],
      "metadata": {
        "id": "rDB3w6EqPyRJ",
        "colab": {
          "base_uri": "https://localhost:8080/",
          "height": 0
        },
        "outputId": "a9bc9f3f-20ef-4d28-d6c2-1ed73bb75626"
      },
      "execution_count": 14,
      "outputs": [
        {
          "output_type": "execute_result",
          "data": {
            "text/plain": [
              "Text(0.5, 0, 'Feature Importances (%)')"
            ]
          },
          "metadata": {},
          "execution_count": 14
        },
        {
          "output_type": "display_data",
          "data": {
            "image/png": "[encoded data removed]",
            "text/plain": [
              "<Figure size 432x288 with 1 Axes>"
            ]
          },
          "metadata": {
            "needs_background": "light"
          }
        }
      ]
    },
    {
      "cell_type": "markdown",
      "source": [
        "40번 질문의 중요도가 매우 높게 나왔다."
      ],
      "metadata": {
        "id": "UyNDlKk29ucb"
      }
    },
    {
      "cell_type": "markdown",
      "source": [
        "DecisionTree- 성능평가\n",
        "\n",
        "*   0.92%의 정확도를 가진다.\n"
      ],
      "metadata": {
        "id": "jqUOrNS--ECg"
      }
    },
    {
      "cell_type": "code",
      "metadata": {
        "id": "BPFrPZ57eTNi",
        "colab": {
          "base_uri": "https://localhost:8080/"
        },
        "outputId": "ff979e1a-42cd-4840-ea6f-e553134bdf23"
      },
      "source": [
        "from sklearn.metrics import classification_report, confusion_matrix\n",
        "\n",
        "print(confusion_matrix(y_test, predictions))    # 혼동 행렬( confusion matrix )\n",
        "print(classification_report(y_test,predictions))    # 성능평가"
      ],
      "execution_count": 15,
      "outputs": [
        {
          "output_type": "stream",
          "name": "stdout",
          "text": [
            "[[27  0]\n",
            " [ 2 22]]\n",
            "              precision    recall  f1-score   support\n",
            "\n",
            "           0       0.93      1.00      0.96        27\n",
            "           1       1.00      0.92      0.96        24\n",
            "\n",
            "    accuracy                           0.96        51\n",
            "   macro avg       0.97      0.96      0.96        51\n",
            "weighted avg       0.96      0.96      0.96        51\n",
            "\n"
          ]
        }
      ]
    },
    {
      "cell_type": "code",
      "metadata": {
        "id": "MUTGrRW6gDvk",
        "colab": {
          "base_uri": "https://localhost:8080/",
          "height": 0
        },
        "outputId": "43b0a104-9ff9-4334-8627-1d4387728ea4"
      },
      "source": [
        "from sklearn.tree import export_graphviz\n",
        "from graphviz import Source\n",
        "\n",
        "export_graphviz(dt_clf,                             # 모델\n",
        "               out_file= \"divorce_tree1.dot\",  # 저장경로 설정\n",
        "               feature_names=data.columns[:54],   # 변수명\n",
        "               class_names=data.Divorce,         # 종속변수\n",
        "               rounded = True,\n",
        "               filled = True)\n",
        "\n",
        "Source.from_file(\"divorce_tree1.dot\")"
      ],
      "execution_count": 16,
      "outputs": [
        {
          "output_type": "execute_result",
          "data": {
            "text/plain": [
              "<graphviz.files.Source at 0x7fb0995a5590>"
            ],
            "image/svg+xml": "<?xml version=\"1.0\" encoding=\"UTF-8\" standalone=\"no\"?>\n<!DOCTYPE svg PUBLIC \"-//W3C//DTD SVG 1.1//EN\"\n \"http://www.w3.org/Graphics/SVG/1.1/DTD/svg11.dtd\">\n<!-- Generated by graphviz version 2.40.1 (20161225.0304)\n -->\n<!-- Title: Tree Pages: 1 -->\n<svg width=\"300pt\" height=\"314pt\"\n viewBox=\"0.00 0.00 300.00 314.00\" xmlns=\"http://www.w3.org/2000/svg\" xmlns:xlink=\"http://www.w3.org/1999/xlink\">\n<g id=\"graph0\" class=\"graph\" transform=\"scale(1 1) rotate(0) translate(4 310)\">\n<title>Tree</title>\n<polygon fill=\"#ffffff\" stroke=\"transparent\" points=\"-4,4 -4,-310 296,-310 296,4 -4,4\"/>\n<!-- 0 -->\n<g id=\"node1\" class=\"node\">\n<title>0</title>\n<path fill=\"#fcfdff\" stroke=\"#000000\" d=\"M221.5,-306C221.5,-306 129.5,-306 129.5,-306 123.5,-306 117.5,-300 117.5,-294 117.5,-294 117.5,-235 117.5,-235 117.5,-229 123.5,-223 129.5,-223 129.5,-223 221.5,-223 221.5,-223 227.5,-223 233.5,-229 233.5,-235 233.5,-235 233.5,-294 233.5,-294 233.5,-300 227.5,-306 221.5,-306\"/>\n<text text-anchor=\"middle\" x=\"175.5\" y=\"-290.8\" font-family=\"Helvetica,sans-Serif\" font-size=\"14.00\" fill=\"#000000\">Q18 &lt;= 1.5</text>\n<text text-anchor=\"middle\" x=\"175.5\" y=\"-275.8\" font-family=\"Helvetica,sans-Serif\" font-size=\"14.00\" fill=\"#000000\">gini = 0.5</text>\n<text text-anchor=\"middle\" x=\"175.5\" y=\"-260.8\" font-family=\"Helvetica,sans-Serif\" font-size=\"14.00\" fill=\"#000000\">samples = 119</text>\n<text text-anchor=\"middle\" x=\"175.5\" y=\"-245.8\" font-family=\"Helvetica,sans-Serif\" font-size=\"14.00\" fill=\"#000000\">value = [59, 60]</text>\n<text text-anchor=\"middle\" x=\"175.5\" y=\"-230.8\" font-family=\"Helvetica,sans-Serif\" font-size=\"14.00\" fill=\"#000000\">class = 1</text>\n</g>\n<!-- 1 -->\n<g id=\"node2\" class=\"node\">\n<title>1</title>\n<path fill=\"#e5833c\" stroke=\"#000000\" d=\"M155,-187C155,-187 72,-187 72,-187 66,-187 60,-181 60,-175 60,-175 60,-116 60,-116 60,-110 66,-104 72,-104 72,-104 155,-104 155,-104 161,-104 167,-110 167,-116 167,-116 167,-175 167,-175 167,-181 161,-187 155,-187\"/>\n<text text-anchor=\"middle\" x=\"113.5\" y=\"-171.8\" font-family=\"Helvetica,sans-Serif\" font-size=\"14.00\" fill=\"#000000\">Q40 &lt;= 2.0</text>\n<text text-anchor=\"middle\" x=\"113.5\" y=\"-156.8\" font-family=\"Helvetica,sans-Serif\" font-size=\"14.00\" fill=\"#000000\">gini = 0.033</text>\n<text text-anchor=\"middle\" x=\"113.5\" y=\"-141.8\" font-family=\"Helvetica,sans-Serif\" font-size=\"14.00\" fill=\"#000000\">samples = 60</text>\n<text text-anchor=\"middle\" x=\"113.5\" y=\"-126.8\" font-family=\"Helvetica,sans-Serif\" font-size=\"14.00\" fill=\"#000000\">value = [59, 1]</text>\n<text text-anchor=\"middle\" x=\"113.5\" y=\"-111.8\" font-family=\"Helvetica,sans-Serif\" font-size=\"14.00\" fill=\"#000000\">class = 1</text>\n</g>\n<!-- 0&#45;&gt;1 -->\n<g id=\"edge1\" class=\"edge\">\n<title>0&#45;&gt;1</title>\n<path fill=\"none\" stroke=\"#000000\" d=\"M153.8154,-222.8796C149.3577,-214.3236 144.6166,-205.2238 140.0106,-196.3833\"/>\n<polygon fill=\"#000000\" stroke=\"#000000\" points=\"143.0017,-194.5494 135.2771,-187.2981 136.7938,-197.7838 143.0017,-194.5494\"/>\n<text text-anchor=\"middle\" x=\"127.7678\" y=\"-207.4436\" font-family=\"Helvetica,sans-Serif\" font-size=\"14.00\" fill=\"#000000\">True</text>\n</g>\n<!-- 4 -->\n<g id=\"node5\" class=\"node\">\n<title>4</title>\n<path fill=\"#399de5\" stroke=\"#000000\" d=\"M280,-179.5C280,-179.5 197,-179.5 197,-179.5 191,-179.5 185,-173.5 185,-167.5 185,-167.5 185,-123.5 185,-123.5 185,-117.5 191,-111.5 197,-111.5 197,-111.5 280,-111.5 280,-111.5 286,-111.5 292,-117.5 292,-123.5 292,-123.5 292,-167.5 292,-167.5 292,-173.5 286,-179.5 280,-179.5\"/>\n<text text-anchor=\"middle\" x=\"238.5\" y=\"-164.3\" font-family=\"Helvetica,sans-Serif\" font-size=\"14.00\" fill=\"#000000\">gini = 0.0</text>\n<text text-anchor=\"middle\" x=\"238.5\" y=\"-149.3\" font-family=\"Helvetica,sans-Serif\" font-size=\"14.00\" fill=\"#000000\">samples = 59</text>\n<text text-anchor=\"middle\" x=\"238.5\" y=\"-134.3\" font-family=\"Helvetica,sans-Serif\" font-size=\"14.00\" fill=\"#000000\">value = [0, 59]</text>\n<text text-anchor=\"middle\" x=\"238.5\" y=\"-119.3\" font-family=\"Helvetica,sans-Serif\" font-size=\"14.00\" fill=\"#000000\">class = 1</text>\n</g>\n<!-- 0&#45;&gt;4 -->\n<g id=\"edge4\" class=\"edge\">\n<title>0&#45;&gt;4</title>\n<path fill=\"none\" stroke=\"#000000\" d=\"M197.5343,-222.8796C203.3558,-211.8835 209.6527,-199.9893 215.5227,-188.9015\"/>\n<polygon fill=\"#000000\" stroke=\"#000000\" points=\"218.7476,-190.2905 220.3333,-179.8149 212.5611,-187.0152 218.7476,-190.2905\"/>\n<text text-anchor=\"middle\" x=\"227.6854\" y=\"-200.0094\" font-family=\"Helvetica,sans-Serif\" font-size=\"14.00\" fill=\"#000000\">False</text>\n</g>\n<!-- 2 -->\n<g id=\"node3\" class=\"node\">\n<title>2</title>\n<path fill=\"#e58139\" stroke=\"#000000\" d=\"M95,-68C95,-68 12,-68 12,-68 6,-68 0,-62 0,-56 0,-56 0,-12 0,-12 0,-6 6,0 12,0 12,0 95,0 95,0 101,0 107,-6 107,-12 107,-12 107,-56 107,-56 107,-62 101,-68 95,-68\"/>\n<text text-anchor=\"middle\" x=\"53.5\" y=\"-52.8\" font-family=\"Helvetica,sans-Serif\" font-size=\"14.00\" fill=\"#000000\">gini = 0.0</text>\n<text text-anchor=\"middle\" x=\"53.5\" y=\"-37.8\" font-family=\"Helvetica,sans-Serif\" font-size=\"14.00\" fill=\"#000000\">samples = 59</text>\n<text text-anchor=\"middle\" x=\"53.5\" y=\"-22.8\" font-family=\"Helvetica,sans-Serif\" font-size=\"14.00\" fill=\"#000000\">value = [59, 0]</text>\n<text text-anchor=\"middle\" x=\"53.5\" y=\"-7.8\" font-family=\"Helvetica,sans-Serif\" font-size=\"14.00\" fill=\"#000000\">class = 1</text>\n</g>\n<!-- 1&#45;&gt;2 -->\n<g id=\"edge2\" class=\"edge\">\n<title>1&#45;&gt;2</title>\n<path fill=\"none\" stroke=\"#000000\" d=\"M91.1582,-103.9815C86.4598,-95.2504 81.4929,-86.0202 76.7617,-77.2281\"/>\n<polygon fill=\"#000000\" stroke=\"#000000\" points=\"79.7586,-75.4111 71.9379,-68.2637 73.5944,-78.7282 79.7586,-75.4111\"/>\n</g>\n<!-- 3 -->\n<g id=\"node4\" class=\"node\">\n<title>3</title>\n<path fill=\"#399de5\" stroke=\"#000000\" d=\"M212,-68C212,-68 137,-68 137,-68 131,-68 125,-62 125,-56 125,-56 125,-12 125,-12 125,-6 131,0 137,0 137,0 212,0 212,0 218,0 224,-6 224,-12 224,-12 224,-56 224,-56 224,-62 218,-68 212,-68\"/>\n<text text-anchor=\"middle\" x=\"174.5\" y=\"-52.8\" font-family=\"Helvetica,sans-Serif\" font-size=\"14.00\" fill=\"#000000\">gini = 0.0</text>\n<text text-anchor=\"middle\" x=\"174.5\" y=\"-37.8\" font-family=\"Helvetica,sans-Serif\" font-size=\"14.00\" fill=\"#000000\">samples = 1</text>\n<text text-anchor=\"middle\" x=\"174.5\" y=\"-22.8\" font-family=\"Helvetica,sans-Serif\" font-size=\"14.00\" fill=\"#000000\">value = [0, 1]</text>\n<text text-anchor=\"middle\" x=\"174.5\" y=\"-7.8\" font-family=\"Helvetica,sans-Serif\" font-size=\"14.00\" fill=\"#000000\">class = 1</text>\n</g>\n<!-- 1&#45;&gt;3 -->\n<g id=\"edge3\" class=\"edge\">\n<title>1&#45;&gt;3</title>\n<path fill=\"none\" stroke=\"#000000\" d=\"M136.2141,-103.9815C140.9908,-95.2504 146.0405,-86.0202 150.8506,-77.2281\"/>\n<polygon fill=\"#000000\" stroke=\"#000000\" points=\"154.0258,-78.7165 155.7549,-68.2637 147.8847,-75.3568 154.0258,-78.7165\"/>\n</g>\n</g>\n</svg>\n"
          },
          "metadata": {},
          "execution_count": 16
        }
      ]
    },
    {
      "cell_type": "markdown",
      "source": [
        "(2) RandomForest\n",
        "\n",
        "RandomForest 모델을 생성하고, 학습 및 예측한다."
      ],
      "metadata": {
        "id": "eB-lHpqd-VgV"
      }
    },
    {
      "cell_type": "code",
      "source": [
        "from sklearn.ensemble import RandomForestClassifier\n",
        "\n",
        "randomf = RandomForestClassifier()\n",
        "rf_model = randomf.fit(X_train, y_train)\n",
        "rf_predictions = rf_model.predict(X_test)"
      ],
      "metadata": {
        "id": "1GX0C3LcGenM"
      },
      "execution_count": 17,
      "outputs": []
    },
    {
      "cell_type": "markdown",
      "source": [
        "RandomForest 학습 후 얻은 특성 중요도를 그래프로 그려 시각화하였다.\n",
        "\n",
        "DecisionTree와 같이 40, 18번이 높게 나왔으며, 그 외에도 17, 19 등의 질문이 높게 나왔다."
      ],
      "metadata": {
        "id": "SNYqgpSm-wKZ"
      }
    },
    {
      "cell_type": "code",
      "source": [
        "pd.DataFrame(data = rf_model.feature_importances_*100,\n",
        "                   columns = [\"Importances\"],\n",
        "                   index = X_train.columns).sort_values(\"Importances\", ascending = False)[:15].plot(kind = \"barh\", color = \"r\")\n",
        "\n",
        "plt.xlabel(\"Feature Importances (%)\")"
      ],
      "metadata": {
        "id": "0UynRbGhPDsP",
        "colab": {
          "base_uri": "https://localhost:8080/",
          "height": 0
        },
        "outputId": "8b3d38b5-85c8-4749-a096-f06d70ce96fa"
      },
      "execution_count": 18,
      "outputs": [
        {
          "output_type": "execute_result",
          "data": {
            "text/plain": [
              "Text(0.5, 0, 'Feature Importances (%)')"
            ]
          },
          "metadata": {},
          "execution_count": 18
        },
        {
          "output_type": "display_data",
          "data": {
            "image/png": "[encoded data removed]",
            "text/plain": [
              "<Figure size 432x288 with 1 Axes>"
            ]
          },
          "metadata": {
            "needs_background": "light"
          }
        }
      ]
    },
    {
      "cell_type": "markdown",
      "source": [
        "RandomForest 성능 평가"
      ],
      "metadata": {
        "id": "5-GhLIjO_Yjm"
      }
    },
    {
      "cell_type": "code",
      "source": [
        "print(confusion_matrix(y_test, rf_predictions))\n",
        "print(classification_report(y_test,rf_predictions))"
      ],
      "metadata": {
        "id": "zIteUdr1SabJ",
        "colab": {
          "base_uri": "https://localhost:8080/"
        },
        "outputId": "5eb54e5f-952f-4d65-d30b-044bb25156ab"
      },
      "execution_count": 19,
      "outputs": [
        {
          "output_type": "stream",
          "name": "stdout",
          "text": [
            "[[27  0]\n",
            " [ 2 22]]\n",
            "              precision    recall  f1-score   support\n",
            "\n",
            "           0       0.93      1.00      0.96        27\n",
            "           1       1.00      0.92      0.96        24\n",
            "\n",
            "    accuracy                           0.96        51\n",
            "   macro avg       0.97      0.96      0.96        51\n",
            "weighted avg       0.96      0.96      0.96        51\n",
            "\n"
          ]
        }
      ]
    },
    {
      "cell_type": "markdown",
      "source": [
        "\n",
        "\n",
        "> 질문 40은?\n",
        "\n"
      ],
      "metadata": {
        "id": "SBF1MIt3TFeO"
      }
    },
    {
      "cell_type": "markdown",
      "source": [
        "# 이혼 예측의 결과\n",
        "\n",
        "(1) 이혼 예측 모델은 각각 0.92%, 0.96%로 높은 정확도를 가집니다.\n",
        "\n",
        "(2) 특성 중요도를 통해서 40번 질문(+ 20번, 17번)이 가장 많은 영향을 미치는 독립변수임을 알았습니다.\n",
        "\n",
        "1.   Q17 : 우리는 배우자와 함께 삶의 행복에 대해 **같은 견해를 공유**한다.\n",
        "2.   Q20 : 나와 배우자는 믿음에 대한 **가치관이 비슷**하다.\n",
        "2.   Q40 : 싸움을 시작하기 전에, 무슨 일이 일어나고 있는지 알린다.\n",
        "    - 싸우기 전에, **대화를 시도**하는지에 대한 질문.\n",
        "\n",
        "=> (비슷한) 가치관이나/ 대화에 대한 질문이 이혼을 예측하는데 중요하다 라고 판단."
      ],
      "metadata": {
        "id": "xZFVvz2KTq4r"
      }
    },
    {
      "cell_type": "markdown",
      "metadata": {
        "id": "W2yPJlhIpRAl"
      },
      "source": [
        "# 이혼 예측의 중요 요인 찾기(텍스트 전처리)"
      ]
    },
    {
      "cell_type": "markdown",
      "source": [
        "!가장 단순하게, 최빈값 사용.\n",
        "\n",
        "    가장 많은 유형의 질문이 이혼을 예측하는데 중요한 요인이다 라고 가정\n",
        "\n",
        "(1) 주요 단어 추출하기(질문 요약)\n",
        "\n",
        "*  54개의 질문들(문장)에서 주요 단어를 추출할 것입니다.\n",
        "    1.   불용어 제거(NLTK 패키지 활용)\n",
        "    2.   어간 추출\n",
        "    3.   길이가 3이하인 단어 삭제\n",
        "    4.   특정 품사 추출\n",
        "\n",
        "  https://wikidocs.net/21694\n",
        "\n",
        "(2) 그 중에서 사용빈도가 높은 단어로 질문 유형 나누기\n",
        "\n",
        "(3) 가장 많은 비율을 가지는 질문 유형 찾기\n",
        "\n",
        "목표 : 이혼 예측의 중요 요인 찾기"
      ],
      "metadata": {
        "id": "CEGkgUxUki_C"
      }
    },
    {
      "cell_type": "code",
      "metadata": {
        "colab": {
          "base_uri": "https://localhost:8080/",
          "height": 0
        },
        "id": "oSgIcLl2cqKI",
        "outputId": "a75d5df5-9a34-4ea5-cc8c-0ee122c2e4d7"
      },
      "source": [
        "path_reference = 'https://raw.githubusercontent.com/dav1n9/DAP/main/divorce_data/reference.tsv'\n",
        "data_reference = pd.read_csv(path_reference, sep = \"|\", engine='python')\n",
        "\n",
        "data_reference.head()"
      ],
      "execution_count": 20,
      "outputs": [
        {
          "output_type": "execute_result",
          "data": {
            "text/html": [
              "\n",
              "  <div id=\"df-4b2c56b2-2a2b-431a-8ff5-db57f60bec10\">\n",
              "    <div class=\"colab-df-container\">\n",
              "      <div>\n",
              "<style scoped>\n",
              "    .dataframe tbody tr th:only-of-type {\n",
              "        vertical-align: middle;\n",
              "    }\n",
              "\n",
              "    .dataframe tbody tr th {\n",
              "        vertical-align: top;\n",
              "    }\n",
              "\n",
              "    .dataframe thead th {\n",
              "        text-align: right;\n",
              "    }\n",
              "</style>\n",
              "<table border=\"1\" class=\"dataframe\">\n",
              "  <thead>\n",
              "    <tr style=\"text-align: right;\">\n",
              "      <th></th>\n",
              "      <th>atribute_id</th>\n",
              "      <th>description</th>\n",
              "    </tr>\n",
              "  </thead>\n",
              "  <tbody>\n",
              "    <tr>\n",
              "      <th>0</th>\n",
              "      <td>1</td>\n",
              "      <td>If one of us apologizes when our discussion de...</td>\n",
              "    </tr>\n",
              "    <tr>\n",
              "      <th>1</th>\n",
              "      <td>2</td>\n",
              "      <td>I know we can ignore our differences, even if ...</td>\n",
              "    </tr>\n",
              "    <tr>\n",
              "      <th>2</th>\n",
              "      <td>3</td>\n",
              "      <td>When we need it, we can take our discussions w...</td>\n",
              "    </tr>\n",
              "    <tr>\n",
              "      <th>3</th>\n",
              "      <td>4</td>\n",
              "      <td>When I discuss with my spouse, to contact him ...</td>\n",
              "    </tr>\n",
              "    <tr>\n",
              "      <th>4</th>\n",
              "      <td>5</td>\n",
              "      <td>The time I spent with my wife is special for us.</td>\n",
              "    </tr>\n",
              "  </tbody>\n",
              "</table>\n",
              "</div>\n",
              "      <button class=\"colab-df-convert\" onclick=\"convertToInteractive('df-4b2c56b2-2a2b-431a-8ff5-db57f60bec10')\"\n",
              "              title=\"Convert this dataframe to an interactive table.\"\n",
              "              style=\"display:none;\">\n",
              "        \n",
              "  <svg xmlns=\"http://www.w3.org/2000/svg\" height=\"24px\"viewBox=\"0 0 24 24\"\n",
              "       width=\"24px\">\n",
              "    <path d=\"M0 0h24v24H0V0z\" fill=\"none\"/>\n",
              "    <path d=\"M18.56 5.44l.94 2.06.94-2.06 2.06-.94-2.06-.94-.94-2.06-.94 2.06-2.06.94zm-11 1L8.5 8.5l.94-2.06 2.06-.94-2.06-.94L8.5 2.5l-.94 2.06-2.06.94zm10 10l.94 2.06.94-2.06 2.06-.94-2.06-.94-.94-2.06-.94 2.06-2.06.94z\"/><path d=\"M17.41 7.96l-1.37-1.37c-.4-.4-.92-.59-1.43-.59-.52 0-1.04.2-1.43.59L10.3 9.45l-7.72 7.72c-.78.78-.78 2.05 0 2.83L4 21.41c.39.39.9.59 1.41.59.51 0 1.02-.2 1.41-.59l7.78-7.78 2.81-2.81c.8-.78.8-2.07 0-2.86zM5.41 20L4 18.59l7.72-7.72 1.47 1.35L5.41 20z\"/>\n",
              "  </svg>\n",
              "      </button>\n",
              "      \n",
              "  <style>\n",
              "    .colab-df-container {\n",
              "      display:flex;\n",
              "      flex-wrap:wrap;\n",
              "      gap: 12px;\n",
              "    }\n",
              "\n",
              "    .colab-df-convert {\n",
              "      background-color: #E8F0FE;\n",
              "      border: none;\n",
              "      border-radius: 50%;\n",
              "      cursor: pointer;\n",
              "      display: none;\n",
              "      fill: #1967D2;\n",
              "      height: 32px;\n",
              "      padding: 0 0 0 0;\n",
              "      width: 32px;\n",
              "    }\n",
              "\n",
              "    .colab-df-convert:hover {\n",
              "      background-color: #E2EBFA;\n",
              "      box-shadow: 0px 1px 2px rgba(60, 64, 67, 0.3), 0px 1px 3px 1px rgba(60, 64, 67, 0.15);\n",
              "      fill: #174EA6;\n",
              "    }\n",
              "\n",
              "    [theme=dark] .colab-df-convert {\n",
              "      background-color: #3B4455;\n",
              "      fill: #D2E3FC;\n",
              "    }\n",
              "\n",
              "    [theme=dark] .colab-df-convert:hover {\n",
              "      background-color: #434B5C;\n",
              "      box-shadow: 0px 1px 3px 1px rgba(0, 0, 0, 0.15);\n",
              "      filter: drop-shadow(0px 1px 2px rgba(0, 0, 0, 0.3));\n",
              "      fill: #FFFFFF;\n",
              "    }\n",
              "  </style>\n",
              "\n",
              "      <script>\n",
              "        const buttonEl =\n",
              "          document.querySelector('#df-4b2c56b2-2a2b-431a-8ff5-db57f60bec10 button.colab-df-convert');\n",
              "        buttonEl.style.display =\n",
              "          google.colab.kernel.accessAllowed ? 'block' : 'none';\n",
              "\n",
              "        async function convertToInteractive(key) {\n",
              "          const element = document.querySelector('#df-4b2c56b2-2a2b-431a-8ff5-db57f60bec10');\n",
              "          const dataTable =\n",
              "            await google.colab.kernel.invokeFunction('convertToInteractive',\n",
              "                                                     [key], {});\n",
              "          if (!dataTable) return;\n",
              "\n",
              "          const docLinkHtml = 'Like what you see? Visit the ' +\n",
              "            '<a target=\"_blank\" href=https://colab.research.google.com/notebooks/data_table.ipynb>data table notebook</a>'\n",
              "            + ' to learn more about interactive tables.';\n",
              "          element.innerHTML = '';\n",
              "          dataTable['output_type'] = 'display_data';\n",
              "          await google.colab.output.renderOutput(dataTable, element);\n",
              "          const docLink = document.createElement('div');\n",
              "          docLink.innerHTML = docLinkHtml;\n",
              "          element.appendChild(docLink);\n",
              "        }\n",
              "      </script>\n",
              "    </div>\n",
              "  </div>\n",
              "  "
            ],
            "text/plain": [
              "   atribute_id                                        description\n",
              "0            1  If one of us apologizes when our discussion de...\n",
              "1            2  I know we can ignore our differences, even if ...\n",
              "2            3  When we need it, we can take our discussions w...\n",
              "3            4  When I discuss with my spouse, to contact him ...\n",
              "4            5   The time I spent with my wife is special for us."
            ]
          },
          "metadata": {},
          "execution_count": 20
        }
      ]
    },
    {
      "cell_type": "code",
      "metadata": {
        "colab": {
          "base_uri": "https://localhost:8080/"
        },
        "id": "_YYwikM3mTlZ",
        "outputId": "2b2430bd-4cee-4cb1-a20f-3e09b4c71eb8"
      },
      "source": [
        "import nltk\n",
        "nltk.download('stopwords')\n",
        "nltk.download('punkt')"
      ],
      "execution_count": 21,
      "outputs": [
        {
          "output_type": "stream",
          "name": "stdout",
          "text": [
            "[nltk_data] Downloading package stopwords to /root/nltk_data...\n",
            "[nltk_data]   Unzipping corpora/stopwords.zip.\n",
            "[nltk_data] Downloading package punkt to /root/nltk_data...\n",
            "[nltk_data]   Unzipping tokenizers/punkt.zip.\n"
          ]
        },
        {
          "output_type": "execute_result",
          "data": {
            "text/plain": [
              "True"
            ]
          },
          "metadata": {},
          "execution_count": 21
        }
      ]
    },
    {
      "cell_type": "markdown",
      "source": [
        "# 1) 주요 단어 찾기"
      ],
      "metadata": {
        "id": "QS3NokpPWzOf"
      }
    },
    {
      "cell_type": "markdown",
      "source": [
        "(1) 어간 추출\n",
        "\n",
        "> 섬세한 작업이 아니기 때문에 사전에 존재하지 않는 단어가 나올 수 있다.\n",
        "\n",
        "\n",
        "---\n",
        "\n",
        " => 일반동사들이나 명사 뒤에 e나 s가 삭제되는 경우 많음. \n",
        " 그러나 어간 추출을 하지 않으면 같은 의미를 가진 단어들이 많이 중복됨.(요약 불가)\n",
        "\n",
        " ex. dicuss , discussion, discussions 이런식임.\n",
        " 그래서 일단 어간 추출 단계를 포함함.\n",
        "\n",
        "\n"
      ],
      "metadata": {
        "id": "wJdbljxC9U_z"
      }
    },
    {
      "cell_type": "code",
      "source": [
        "for i in range(0, 54):\n",
        "    clean_words = []\n",
        "    document = data_reference.description[i]\n",
        "    for word in nltk.tokenize.word_tokenize(document):  #공백과 구두점(punctuation: ,혹은 .)을 기준으로 단어 분리, 축약형 단어도 분리 (Can't ==> ['Ca', \"n't\"])\n",
        "        word = word.lower() # 소문자로.\n",
        "        stemmer = nltk.stem.snowball.SnowballStemmer('english')\n",
        "        word = stemmer.stem(word) #어간 추출\n",
        "        clean_words.append(word)\n",
        "    print(clean_words) # 추출된 어간들\n",
        "    document = ' '.join(clean_words)          # 추출된 어간들 다시 묶어서\n",
        "    data_reference.description[i] = document  # data_reference에 저장.\n"
      ],
      "metadata": {
        "id": "ZsGcFcF85-Be",
        "colab": {
          "base_uri": "https://localhost:8080/"
        },
        "outputId": "df8c4df9-6ef9-4ed4-950f-d1190c3e4625"
      },
      "execution_count": 22,
      "outputs": [
        {
          "output_type": "stream",
          "name": "stdout",
          "text": [
            "['if', 'one', 'of', 'us', 'apolog', 'when', 'our', 'discuss', 'deterior', ',', 'the', 'discuss', 'end', '.']\n",
            "['i', 'know', 'we', 'can', 'ignor', 'our', 'differ', ',', 'even', 'if', 'thing', 'get', 'hard', 'sometim', '.']\n",
            "['when', 'we', 'need', 'it', ',', 'we', 'can', 'take', 'our', 'discuss', 'with', 'my', 'spous', 'from', 'the', 'begin', 'and', 'correct', 'it', '.']\n",
            "['when', 'i', 'discuss', 'with', 'my', 'spous', ',', 'to', 'contact', 'him', 'will', 'eventu', 'work', '.']\n",
            "['the', 'time', 'i', 'spent', 'with', 'my', 'wife', 'is', 'special', 'for', 'us', '.']\n",
            "['we', 'do', \"n't\", 'have', 'time', 'at', 'home', 'as', 'partner', '.']\n",
            "['we', 'are', 'like', 'two', 'stranger', 'who', 'share', 'the', 'same', 'environ', 'at', 'home', 'rather', 'than', 'famili', '.']\n",
            "['i', 'enjoy', 'our', 'holiday', 'with', 'my', 'wife', '.']\n",
            "['i', 'enjoy', 'travel', 'with', 'my', 'wife', '.']\n",
            "['most', 'of', 'our', 'goal', 'are', 'common', 'to', 'my', 'spous', '.']\n",
            "['i', 'think', 'that', 'one', 'day', 'in', 'the', 'futur', ',', 'when', 'i', 'look', 'back', ',', 'i', 'see', 'that', 'my', 'spous', 'and', 'i', 'have', 'been', 'in', 'harmoni', 'with', 'each', 'other', '.']\n",
            "['my', 'spous', 'and', 'i', 'have', 'similar', 'valu', 'in', 'term', 'of', 'person', 'freedom', '.']\n",
            "['my', 'spous', 'and', 'i', 'have', 'similar', 'sens', 'of', 'entertain', '.']\n",
            "['most', 'of', 'our', 'goal', 'for', 'peopl', '(', 'children', ',', 'friend', ',', 'etc', '.', ')', 'are', 'the', 'same', '.']\n",
            "['our', 'dream', 'with', 'my', 'spous', 'are', 'similar', 'and', 'harmoni', '.']\n",
            "['we', 're', 'compat', 'with', 'my', 'spous', 'about', 'what', 'love', 'should', 'be', '.']\n",
            "['we', 'share', 'the', 'same', 'view', 'about', 'be', 'happi', 'in', 'our', 'life', 'with', 'my', 'spous']\n",
            "['my', 'spous', 'and', 'i', 'have', 'similar', 'idea', 'about', 'how', 'marriag', 'should', 'be']\n",
            "['my', 'spous', 'and', 'i', 'have', 'similar', 'idea', 'about', 'how', 'role', 'should', 'be', 'in', 'marriag']\n",
            "['my', 'spous', 'and', 'i', 'have', 'similar', 'valu', 'in', 'trust', '.']\n",
            "['i', 'know', 'exact', 'what', 'my', 'wife', 'like', '.']\n",
            "['i', 'know', 'how', 'my', 'spous', 'want', 'to', 'be', 'taken', 'care', 'of', 'when', 'she/h', 'sick', '.']\n",
            "['i', 'know', 'my', 'spous', \"'s\", 'favorit', 'food', '.']\n",
            "['i', 'can', 'tell', 'you', 'what', 'kind', 'of', 'stress', 'my', 'spous', 'is', 'face', 'in', 'her/hi', 'life', '.']\n",
            "['i', 'have', 'knowledg', 'of', 'my', 'spous', \"'s\", 'inner', 'world', '.']\n",
            "['i', 'know', 'my', 'spous', \"'s\", 'basic', 'anxieti', '.']\n",
            "['i', 'know', 'what', 'my', 'spous', \"'s\", 'current', 'sourc', 'of', 'stress', 'are', '.']\n",
            "['i', 'know', 'my', 'spous', \"'s\", 'hope', 'and', 'wish', '.']\n",
            "['i', 'know', 'my', 'spous', 'veri', 'well', '.']\n",
            "['i', 'know', 'my', 'spous', \"'s\", 'friend', 'and', 'their', 'social', 'relationship', '.']\n",
            "['i', 'do', \"n't\", 'feel', 'aggress', 'when', 'i', 'argu', 'with', 'my', 'spous', '.']\n",
            "['when', 'discuss', 'with', 'my', 'spous', ',', 'i', 'do', \"n't\", 'use', 'express', 'such', 'as', '‘', 'you', 'alway', '’', 'or', '‘', 'you', 'never', '’', '.']\n",
            "['i', 'do', \"n't\", 'use', 'negat', 'statement', 'about', 'my', 'spous', \"'s\", 'person', 'dure', 'our', 'discuss', '.']\n",
            "['i', 'do', \"n't\", 'use', 'offens', 'express', 'dure', 'our', 'discuss', '.']\n",
            "['i', 'do', \"n't\", 'insult', 'my', 'spous', 'dure', 'our', 'discuss', '.']\n",
            "['i', \"'m\", 'not', 'humili', 'when', 'we', 'argu', '.']\n",
            "['my', 'discuss', 'with', 'my', 'spous', 'is', 'calm', '.']\n",
            "['i', 'like', 'my', 'spous', \"'s\", 'way', 'of', 'open', 'a', 'subject', '.']\n",
            "['our', 'discuss', 'do', \"n't\", 'occur', 'sudden', '.']\n",
            "['we', 're', 'not', 'start', 'a', 'discuss', 'befor', 'i', 'know', 'what', \"'s\", 'go', 'on', '.']\n",
            "['when', 'i', 'talk', 'to', 'my', 'spous', 'about', 'someth', ',', 'my', 'calm', 'doe', \"n't\", 'break']\n",
            "['when', 'i', 'argu', 'with', 'my', 'spous', ',', 'ı', 'onli', 'go', 'out', 'and', 'i', 'do', \"n't\", 'say', 'a', 'word', '.']\n",
            "['i', 'most', 'stay', 'silent', 'to', 'calm', 'the', 'environ', 'a', 'littl', 'bit', '.']\n",
            "['sometim', 'i', 'think', 'it', \"'s\", 'good', 'for', 'me', 'to', 'leav', 'home', 'for', 'a', 'while', '.']\n",
            "['i', \"'d\", 'rather', 'stay', 'silent', 'than', 'discuss', 'with', 'my', 'spous', '.']\n",
            "['even', 'if', 'i', \"'m\", 'right', 'in', 'the', 'discuss', ',', 'i', 'stay', 'silent', 'to', 'hurt', 'my', 'spous', '.']\n",
            "['when', 'i', 'discuss', 'with', 'my', 'spous', ',', 'i', 'stay', 'silent', 'becaus', 'i', 'am', 'afraid', 'of', 'not', 'be', 'abl', 'to', 'control', 'my', 'anger', '.']\n",
            "['i', 'feel', 'right', 'in', 'our', 'discuss', '.']\n",
            "['i', 'have', 'noth', 'to', 'do', 'with', 'what', 'i', 've', 'been', 'accus', 'of', '.']\n",
            "['i', \"'m\", 'not', 'actual', 'the', 'one', 'who', \"'s\", 'guilti', 'about', 'what', 'i', \"'m\", 'accus', 'of', '.']\n",
            "['i', \"'m\", 'not', 'the', 'one', 'who', \"'s\", 'wrong', 'about', 'problem', 'at', 'home', '.']\n",
            "['i', 'would', \"n't\", 'hesit', 'to', 'tell', 'my', 'spous', 'about', 'her/hi', 'inadequaci', '.']\n",
            "['when', 'i', 'discuss', ',', 'i', 'remind', 'my', 'spous', 'of', 'her/hi', 'inadequaci', '.']\n",
            "['i', \"'m\", 'not', 'afraid', 'to', 'tell', 'my', 'spous', 'about', 'her/hi', 'incompet', '.']\n"
          ]
        },
        {
          "output_type": "stream",
          "name": "stderr",
          "text": [
            "/usr/local/lib/python3.7/dist-packages/ipykernel_launcher.py:11: SettingWithCopyWarning: \n",
            "A value is trying to be set on a copy of a slice from a DataFrame\n",
            "\n",
            "See the caveats in the documentation: https://pandas.pydata.org/pandas-docs/stable/user_guide/indexing.html#returning-a-view-versus-a-copy\n",
            "  # This is added back by InteractiveShellApp.init_path()\n"
          ]
        }
      ]
    },
    {
      "cell_type": "code",
      "source": [
        "data_reference.head()"
      ],
      "metadata": {
        "colab": {
          "base_uri": "https://localhost:8080/",
          "height": 0
        },
        "id": "k6Hy2yhC8hRw",
        "outputId": "b3992266-fe67-4cd1-fcc7-7090b406a2b9"
      },
      "execution_count": 23,
      "outputs": [
        {
          "output_type": "execute_result",
          "data": {
            "text/html": [
              "\n",
              "  <div id=\"df-5b49cf24-7101-4ec4-8fc1-decde2ab25e7\">\n",
              "    <div class=\"colab-df-container\">\n",
              "      <div>\n",
              "<style scoped>\n",
              "    .dataframe tbody tr th:only-of-type {\n",
              "        vertical-align: middle;\n",
              "    }\n",
              "\n",
              "    .dataframe tbody tr th {\n",
              "        vertical-align: top;\n",
              "    }\n",
              "\n",
              "    .dataframe thead th {\n",
              "        text-align: right;\n",
              "    }\n",
              "</style>\n",
              "<table border=\"1\" class=\"dataframe\">\n",
              "  <thead>\n",
              "    <tr style=\"text-align: right;\">\n",
              "      <th></th>\n",
              "      <th>atribute_id</th>\n",
              "      <th>description</th>\n",
              "    </tr>\n",
              "  </thead>\n",
              "  <tbody>\n",
              "    <tr>\n",
              "      <th>0</th>\n",
              "      <td>1</td>\n",
              "      <td>if one of us apolog when our discuss deterior ...</td>\n",
              "    </tr>\n",
              "    <tr>\n",
              "      <th>1</th>\n",
              "      <td>2</td>\n",
              "      <td>i know we can ignor our differ , even if thing...</td>\n",
              "    </tr>\n",
              "    <tr>\n",
              "      <th>2</th>\n",
              "      <td>3</td>\n",
              "      <td>when we need it , we can take our discuss with...</td>\n",
              "    </tr>\n",
              "    <tr>\n",
              "      <th>3</th>\n",
              "      <td>4</td>\n",
              "      <td>when i discuss with my spous , to contact him ...</td>\n",
              "    </tr>\n",
              "    <tr>\n",
              "      <th>4</th>\n",
              "      <td>5</td>\n",
              "      <td>the time i spent with my wife is special for us .</td>\n",
              "    </tr>\n",
              "  </tbody>\n",
              "</table>\n",
              "</div>\n",
              "      <button class=\"colab-df-convert\" onclick=\"convertToInteractive('df-5b49cf24-7101-4ec4-8fc1-decde2ab25e7')\"\n",
              "              title=\"Convert this dataframe to an interactive table.\"\n",
              "              style=\"display:none;\">\n",
              "        \n",
              "  <svg xmlns=\"http://www.w3.org/2000/svg\" height=\"24px\"viewBox=\"0 0 24 24\"\n",
              "       width=\"24px\">\n",
              "    <path d=\"M0 0h24v24H0V0z\" fill=\"none\"/>\n",
              "    <path d=\"M18.56 5.44l.94 2.06.94-2.06 2.06-.94-2.06-.94-.94-2.06-.94 2.06-2.06.94zm-11 1L8.5 8.5l.94-2.06 2.06-.94-2.06-.94L8.5 2.5l-.94 2.06-2.06.94zm10 10l.94 2.06.94-2.06 2.06-.94-2.06-.94-.94-2.06-.94 2.06-2.06.94z\"/><path d=\"M17.41 7.96l-1.37-1.37c-.4-.4-.92-.59-1.43-.59-.52 0-1.04.2-1.43.59L10.3 9.45l-7.72 7.72c-.78.78-.78 2.05 0 2.83L4 21.41c.39.39.9.59 1.41.59.51 0 1.02-.2 1.41-.59l7.78-7.78 2.81-2.81c.8-.78.8-2.07 0-2.86zM5.41 20L4 18.59l7.72-7.72 1.47 1.35L5.41 20z\"/>\n",
              "  </svg>\n",
              "      </button>\n",
              "      \n",
              "  <style>\n",
              "    .colab-df-container {\n",
              "      display:flex;\n",
              "      flex-wrap:wrap;\n",
              "      gap: 12px;\n",
              "    }\n",
              "\n",
              "    .colab-df-convert {\n",
              "      background-color: #E8F0FE;\n",
              "      border: none;\n",
              "      border-radius: 50%;\n",
              "      cursor: pointer;\n",
              "      display: none;\n",
              "      fill: #1967D2;\n",
              "      height: 32px;\n",
              "      padding: 0 0 0 0;\n",
              "      width: 32px;\n",
              "    }\n",
              "\n",
              "    .colab-df-convert:hover {\n",
              "      background-color: #E2EBFA;\n",
              "      box-shadow: 0px 1px 2px rgba(60, 64, 67, 0.3), 0px 1px 3px 1px rgba(60, 64, 67, 0.15);\n",
              "      fill: #174EA6;\n",
              "    }\n",
              "\n",
              "    [theme=dark] .colab-df-convert {\n",
              "      background-color: #3B4455;\n",
              "      fill: #D2E3FC;\n",
              "    }\n",
              "\n",
              "    [theme=dark] .colab-df-convert:hover {\n",
              "      background-color: #434B5C;\n",
              "      box-shadow: 0px 1px 3px 1px rgba(0, 0, 0, 0.15);\n",
              "      filter: drop-shadow(0px 1px 2px rgba(0, 0, 0, 0.3));\n",
              "      fill: #FFFFFF;\n",
              "    }\n",
              "  </style>\n",
              "\n",
              "      <script>\n",
              "        const buttonEl =\n",
              "          document.querySelector('#df-5b49cf24-7101-4ec4-8fc1-decde2ab25e7 button.colab-df-convert');\n",
              "        buttonEl.style.display =\n",
              "          google.colab.kernel.accessAllowed ? 'block' : 'none';\n",
              "\n",
              "        async function convertToInteractive(key) {\n",
              "          const element = document.querySelector('#df-5b49cf24-7101-4ec4-8fc1-decde2ab25e7');\n",
              "          const dataTable =\n",
              "            await google.colab.kernel.invokeFunction('convertToInteractive',\n",
              "                                                     [key], {});\n",
              "          if (!dataTable) return;\n",
              "\n",
              "          const docLinkHtml = 'Like what you see? Visit the ' +\n",
              "            '<a target=\"_blank\" href=https://colab.research.google.com/notebooks/data_table.ipynb>data table notebook</a>'\n",
              "            + ' to learn more about interactive tables.';\n",
              "          element.innerHTML = '';\n",
              "          dataTable['output_type'] = 'display_data';\n",
              "          await google.colab.output.renderOutput(dataTable, element);\n",
              "          const docLink = document.createElement('div');\n",
              "          docLink.innerHTML = docLinkHtml;\n",
              "          element.appendChild(docLink);\n",
              "        }\n",
              "      </script>\n",
              "    </div>\n",
              "  </div>\n",
              "  "
            ],
            "text/plain": [
              "   atribute_id                                        description\n",
              "0            1  if one of us apolog when our discuss deterior ...\n",
              "1            2  i know we can ignor our differ , even if thing...\n",
              "2            3  when we need it , we can take our discuss with...\n",
              "3            4  when i discuss with my spous , to contact him ...\n",
              "4            5  the time i spent with my wife is special for us ."
            ]
          },
          "metadata": {},
          "execution_count": 23
        }
      ]
    },
    {
      "cell_type": "markdown",
      "metadata": {
        "id": "Mga7S0VAoz3v"
      },
      "source": [
        "(2) 불용어 삭제\n",
        "\n",
        "> 자주 등장하지만 분석을 하는 것에 있어서는 큰 도움이 되지 않는 단어를 불용어라고 한다. ex. 'i', 'me', 'my'"
      ]
    },
    {
      "cell_type": "code",
      "source": [
        "from nltk.corpus import stopwords\n",
        "# 불용어 예시\n",
        "print(stopwords.words('english')[:10])"
      ],
      "metadata": {
        "colab": {
          "base_uri": "https://localhost:8080/"
        },
        "id": "nTUIBo0-Dk8z",
        "outputId": "cbf524ec-35ce-4b0c-83b5-53d362ca6f6d"
      },
      "execution_count": 24,
      "outputs": [
        {
          "output_type": "stream",
          "name": "stdout",
          "text": [
            "['i', 'me', 'my', 'myself', 'we', 'our', 'ours', 'ourselves', 'you', \"you're\"]\n"
          ]
        }
      ]
    },
    {
      "cell_type": "code",
      "metadata": {
        "id": "Ha2Hnc8rlKRa",
        "colab": {
          "base_uri": "https://localhost:8080/"
        },
        "outputId": "a3ceb0ef-3ba5-47de-efcd-808221409853"
      },
      "source": [
        "from nltk.corpus import stopwords \n",
        "from nltk.tokenize import word_tokenize \n",
        "\n",
        "stop_words = set(stopwords.words('english'))\n",
        "\n",
        "for i in range(0, 54):\n",
        "  result = []\n",
        "  st = data_reference.description[i]\n",
        "  # 공백과 구두점(punctuation: ,혹은 .)을 기준으로 단어 분리, 축약형 단어도 분리 (Can't ==> ['Ca', \"n't\"])\n",
        "  for word in word_tokenize(st):\n",
        "    word = word.lower()\n",
        "    if word not in stopwords.words('english'): #불용어 제거\n",
        "      result.append(word)\n",
        "  print(result)  # 추출된 어간들\n",
        "  st = ' '.join(result)\n",
        "  data_reference.description[i] = st\n"
      ],
      "execution_count": 25,
      "outputs": [
        {
          "output_type": "stream",
          "name": "stdout",
          "text": [
            "['one', 'us', 'apolog', 'discuss', 'deterior', ',', 'discuss', 'end', '.']\n",
            "['know', 'ignor', 'differ', ',', 'even', 'thing', 'get', 'hard', 'sometim', '.']\n",
            "['need', ',', 'take', 'discuss', 'spous', 'begin', 'correct', '.']\n",
            "['discuss', 'spous', ',', 'contact', 'eventu', 'work', '.']\n",
            "['time', 'spent', 'wife', 'special', 'us', '.']\n",
            "[\"n't\", 'time', 'home', 'partner', '.']\n",
            "['like', 'two', 'stranger', 'share', 'environ', 'home', 'rather', 'famili', '.']\n",
            "['enjoy', 'holiday', 'wife', '.']\n",
            "['enjoy', 'travel', 'wife', '.']\n",
            "['goal', 'common', 'spous', '.']\n",
            "['think', 'one', 'day', 'futur', ',', 'look', 'back', ',', 'see', 'spous', 'harmoni', '.']\n",
            "['spous', 'similar', 'valu', 'term', 'person', 'freedom', '.']\n",
            "['spous', 'similar', 'sens', 'entertain', '.']\n",
            "['goal', 'peopl', '(', 'children', ',', 'friend', ',', 'etc', '.', ')', '.']\n",
            "['dream', 'spous', 'similar', 'harmoni', '.']\n",
            "['compat', 'spous', 'love', '.']\n",
            "['share', 'view', 'happi', 'life', 'spous']\n",
            "['spous', 'similar', 'idea', 'marriag']\n",
            "['spous', 'similar', 'idea', 'role', 'marriag']\n",
            "['spous', 'similar', 'valu', 'trust', '.']\n",
            "['know', 'exact', 'wife', 'like', '.']\n",
            "['know', 'spous', 'want', 'taken', 'care', 'she/h', 'sick', '.']\n",
            "['know', 'spous', \"'s\", 'favorit', 'food', '.']\n",
            "['tell', 'kind', 'stress', 'spous', 'face', 'her/hi', 'life', '.']\n",
            "['knowledg', 'spous', \"'s\", 'inner', 'world', '.']\n",
            "['know', 'spous', \"'s\", 'basic', 'anxieti', '.']\n",
            "['know', 'spous', \"'s\", 'current', 'sourc', 'stress', '.']\n",
            "['know', 'spous', \"'s\", 'hope', 'wish', '.']\n",
            "['know', 'spous', 'veri', 'well', '.']\n"
          ]
        },
        {
          "output_type": "stream",
          "name": "stderr",
          "text": [
            "/usr/local/lib/python3.7/dist-packages/ipykernel_launcher.py:16: SettingWithCopyWarning: \n",
            "A value is trying to be set on a copy of a slice from a DataFrame\n",
            "\n",
            "See the caveats in the documentation: https://pandas.pydata.org/pandas-docs/stable/user_guide/indexing.html#returning-a-view-versus-a-copy\n",
            "  app.launch_new_instance()\n"
          ]
        },
        {
          "output_type": "stream",
          "name": "stdout",
          "text": [
            "['know', 'spous', \"'s\", 'friend', 'social', 'relationship', '.']\n",
            "[\"n't\", 'feel', 'aggress', 'argu', 'spous', '.']\n",
            "['discuss', 'spous', ',', \"n't\", 'use', 'express', '‘', 'alway', '’', '‘', 'never', '’', '.']\n",
            "[\"n't\", 'use', 'negat', 'statement', 'spous', \"'s\", 'person', 'dure', 'discuss', '.']\n",
            "[\"n't\", 'use', 'offens', 'express', 'dure', 'discuss', '.']\n",
            "[\"n't\", 'insult', 'spous', 'dure', 'discuss', '.']\n",
            "[\"'m\", 'humili', 'argu', '.']\n",
            "['discuss', 'spous', 'calm', '.']\n",
            "['like', 'spous', \"'s\", 'way', 'open', 'subject', '.']\n",
            "['discuss', \"n't\", 'occur', 'sudden', '.']\n",
            "['start', 'discuss', 'befor', 'know', \"'s\", 'go', '.']\n",
            "['talk', 'spous', 'someth', ',', 'calm', 'doe', \"n't\", 'break']\n",
            "['argu', 'spous', ',', 'ı', 'onli', 'go', \"n't\", 'say', 'word', '.']\n",
            "['stay', 'silent', 'calm', 'environ', 'littl', 'bit', '.']\n",
            "['sometim', 'think', \"'s\", 'good', 'leav', 'home', '.']\n",
            "[\"'d\", 'rather', 'stay', 'silent', 'discuss', 'spous', '.']\n",
            "['even', \"'m\", 'right', 'discuss', ',', 'stay', 'silent', 'hurt', 'spous', '.']\n",
            "['discuss', 'spous', ',', 'stay', 'silent', 'becaus', 'afraid', 'abl', 'control', 'anger', '.']\n",
            "['feel', 'right', 'discuss', '.']\n",
            "['noth', 'accus', '.']\n",
            "[\"'m\", 'actual', 'one', \"'s\", 'guilti', \"'m\", 'accus', '.']\n",
            "[\"'m\", 'one', \"'s\", 'wrong', 'problem', 'home', '.']\n",
            "['would', \"n't\", 'hesit', 'tell', 'spous', 'her/hi', 'inadequaci', '.']\n",
            "['discuss', ',', 'remind', 'spous', 'her/hi', 'inadequaci', '.']\n",
            "[\"'m\", 'afraid', 'tell', 'spous', 'her/hi', 'incompet', '.']\n"
          ]
        }
      ]
    },
    {
      "cell_type": "code",
      "source": [
        "data_reference.head()"
      ],
      "metadata": {
        "colab": {
          "base_uri": "https://localhost:8080/",
          "height": 0
        },
        "id": "ifU7fx5sCjIT",
        "outputId": "6005a93f-028d-4a6c-e9ab-7993cbd849d2"
      },
      "execution_count": 26,
      "outputs": [
        {
          "output_type": "execute_result",
          "data": {
            "text/html": [
              "\n",
              "  <div id=\"df-ffafd719-381f-434a-8979-c7d9636d7891\">\n",
              "    <div class=\"colab-df-container\">\n",
              "      <div>\n",
              "<style scoped>\n",
              "    .dataframe tbody tr th:only-of-type {\n",
              "        vertical-align: middle;\n",
              "    }\n",
              "\n",
              "    .dataframe tbody tr th {\n",
              "        vertical-align: top;\n",
              "    }\n",
              "\n",
              "    .dataframe thead th {\n",
              "        text-align: right;\n",
              "    }\n",
              "</style>\n",
              "<table border=\"1\" class=\"dataframe\">\n",
              "  <thead>\n",
              "    <tr style=\"text-align: right;\">\n",
              "      <th></th>\n",
              "      <th>atribute_id</th>\n",
              "      <th>description</th>\n",
              "    </tr>\n",
              "  </thead>\n",
              "  <tbody>\n",
              "    <tr>\n",
              "      <th>0</th>\n",
              "      <td>1</td>\n",
              "      <td>one us apolog discuss deterior , discuss end .</td>\n",
              "    </tr>\n",
              "    <tr>\n",
              "      <th>1</th>\n",
              "      <td>2</td>\n",
              "      <td>know ignor differ , even thing get hard sometim .</td>\n",
              "    </tr>\n",
              "    <tr>\n",
              "      <th>2</th>\n",
              "      <td>3</td>\n",
              "      <td>need , take discuss spous begin correct .</td>\n",
              "    </tr>\n",
              "    <tr>\n",
              "      <th>3</th>\n",
              "      <td>4</td>\n",
              "      <td>discuss spous , contact eventu work .</td>\n",
              "    </tr>\n",
              "    <tr>\n",
              "      <th>4</th>\n",
              "      <td>5</td>\n",
              "      <td>time spent wife special us .</td>\n",
              "    </tr>\n",
              "  </tbody>\n",
              "</table>\n",
              "</div>\n",
              "      <button class=\"colab-df-convert\" onclick=\"convertToInteractive('df-ffafd719-381f-434a-8979-c7d9636d7891')\"\n",
              "              title=\"Convert this dataframe to an interactive table.\"\n",
              "              style=\"display:none;\">\n",
              "        \n",
              "  <svg xmlns=\"http://www.w3.org/2000/svg\" height=\"24px\"viewBox=\"0 0 24 24\"\n",
              "       width=\"24px\">\n",
              "    <path d=\"M0 0h24v24H0V0z\" fill=\"none\"/>\n",
              "    <path d=\"M18.56 5.44l.94 2.06.94-2.06 2.06-.94-2.06-.94-.94-2.06-.94 2.06-2.06.94zm-11 1L8.5 8.5l.94-2.06 2.06-.94-2.06-.94L8.5 2.5l-.94 2.06-2.06.94zm10 10l.94 2.06.94-2.06 2.06-.94-2.06-.94-.94-2.06-.94 2.06-2.06.94z\"/><path d=\"M17.41 7.96l-1.37-1.37c-.4-.4-.92-.59-1.43-.59-.52 0-1.04.2-1.43.59L10.3 9.45l-7.72 7.72c-.78.78-.78 2.05 0 2.83L4 21.41c.39.39.9.59 1.41.59.51 0 1.02-.2 1.41-.59l7.78-7.78 2.81-2.81c.8-.78.8-2.07 0-2.86zM5.41 20L4 18.59l7.72-7.72 1.47 1.35L5.41 20z\"/>\n",
              "  </svg>\n",
              "      </button>\n",
              "      \n",
              "  <style>\n",
              "    .colab-df-container {\n",
              "      display:flex;\n",
              "      flex-wrap:wrap;\n",
              "      gap: 12px;\n",
              "    }\n",
              "\n",
              "    .colab-df-convert {\n",
              "      background-color: #E8F0FE;\n",
              "      border: none;\n",
              "      border-radius: 50%;\n",
              "      cursor: pointer;\n",
              "      display: none;\n",
              "      fill: #1967D2;\n",
              "      height: 32px;\n",
              "      padding: 0 0 0 0;\n",
              "      width: 32px;\n",
              "    }\n",
              "\n",
              "    .colab-df-convert:hover {\n",
              "      background-color: #E2EBFA;\n",
              "      box-shadow: 0px 1px 2px rgba(60, 64, 67, 0.3), 0px 1px 3px 1px rgba(60, 64, 67, 0.15);\n",
              "      fill: #174EA6;\n",
              "    }\n",
              "\n",
              "    [theme=dark] .colab-df-convert {\n",
              "      background-color: #3B4455;\n",
              "      fill: #D2E3FC;\n",
              "    }\n",
              "\n",
              "    [theme=dark] .colab-df-convert:hover {\n",
              "      background-color: #434B5C;\n",
              "      box-shadow: 0px 1px 3px 1px rgba(0, 0, 0, 0.15);\n",
              "      filter: drop-shadow(0px 1px 2px rgba(0, 0, 0, 0.3));\n",
              "      fill: #FFFFFF;\n",
              "    }\n",
              "  </style>\n",
              "\n",
              "      <script>\n",
              "        const buttonEl =\n",
              "          document.querySelector('#df-ffafd719-381f-434a-8979-c7d9636d7891 button.colab-df-convert');\n",
              "        buttonEl.style.display =\n",
              "          google.colab.kernel.accessAllowed ? 'block' : 'none';\n",
              "\n",
              "        async function convertToInteractive(key) {\n",
              "          const element = document.querySelector('#df-ffafd719-381f-434a-8979-c7d9636d7891');\n",
              "          const dataTable =\n",
              "            await google.colab.kernel.invokeFunction('convertToInteractive',\n",
              "                                                     [key], {});\n",
              "          if (!dataTable) return;\n",
              "\n",
              "          const docLinkHtml = 'Like what you see? Visit the ' +\n",
              "            '<a target=\"_blank\" href=https://colab.research.google.com/notebooks/data_table.ipynb>data table notebook</a>'\n",
              "            + ' to learn more about interactive tables.';\n",
              "          element.innerHTML = '';\n",
              "          dataTable['output_type'] = 'display_data';\n",
              "          await google.colab.output.renderOutput(dataTable, element);\n",
              "          const docLink = document.createElement('div');\n",
              "          docLink.innerHTML = docLinkHtml;\n",
              "          element.appendChild(docLink);\n",
              "        }\n",
              "      </script>\n",
              "    </div>\n",
              "  </div>\n",
              "  "
            ],
            "text/plain": [
              "   atribute_id                                        description\n",
              "0            1     one us apolog discuss deterior , discuss end .\n",
              "1            2  know ignor differ , even thing get hard sometim .\n",
              "2            3          need , take discuss spous begin correct .\n",
              "3            4              discuss spous , contact eventu work .\n",
              "4            5                       time spent wife special us ."
            ]
          },
          "metadata": {},
          "execution_count": 26
        }
      ]
    },
    {
      "cell_type": "markdown",
      "source": [
        "\n",
        "\n",
        "---\n",
        "(3) 길이가 짧은 단어 삭제\n",
        "  \n",
        "*  글자의 길이가 3보다 큰 단어만 저장해줌.\n"
      ],
      "metadata": {
        "id": "FA8bPn5QFQw9"
      }
    },
    {
      "cell_type": "code",
      "source": [
        "for i in range(0, 54):\n",
        "    clean_words = []\n",
        "    document = data_reference.description[i]\n",
        "    for word in nltk.tokenize.word_tokenize(document):  #공백과 구두점(punctuation: ,혹은 .)을 기준으로 단어 분리, 축약형 단어도 분리 (Can't ==> ['Ca', \"n't\"])\n",
        "        word = word.lower() # 소문자로.\n",
        "        if len(word) > 3:\n",
        "          clean_words.append(word)\n",
        "    #print(clean_words) #  추출된 어간들\n",
        "    document = ' '.join(clean_words)\n",
        "    #print(document) #  추출된 어간들 다시 묶어서\n",
        "    data_reference.description[i] = document # data_reference에 저장."
      ],
      "metadata": {
        "id": "7i96QtooEtmR",
        "colab": {
          "base_uri": "https://localhost:8080/"
        },
        "outputId": "257db13b-7698-4058-929a-b4663a78481c"
      },
      "execution_count": 27,
      "outputs": [
        {
          "output_type": "stream",
          "name": "stderr",
          "text": [
            "/usr/local/lib/python3.7/dist-packages/ipykernel_launcher.py:11: SettingWithCopyWarning: \n",
            "A value is trying to be set on a copy of a slice from a DataFrame\n",
            "\n",
            "See the caveats in the documentation: https://pandas.pydata.org/pandas-docs/stable/user_guide/indexing.html#returning-a-view-versus-a-copy\n",
            "  # This is added back by InteractiveShellApp.init_path()\n"
          ]
        }
      ]
    },
    {
      "cell_type": "code",
      "source": [
        "#data_reference.head()"
      ],
      "metadata": {
        "id": "32GCRIGnFMLU"
      },
      "execution_count": 28,
      "outputs": []
    },
    {
      "cell_type": "markdown",
      "metadata": {
        "id": "TwA1yz-4u1Ir"
      },
      "source": [
        "\n",
        "> 3이하인 단어 삭제하면서 'use', 'see', 'say' 와 같은 의미있는 단어들 삭제됨.(무조건 단어 길이로 단어의 의미를 판단하는 건 좋은 방법 아님)\n",
        "그렇지만 사용빈도가 높지않고, 크게 중요한 단어 아니므로 삭제.\n",
        "\n"
      ]
    },
    {
      "cell_type": "markdown",
      "metadata": {
        "id": "LjsqXiCADAQR"
      },
      "source": [
        "(4) 품사 태깅\n",
        "\n",
        "> ex. VBP = 동사, RB = 부사, VBG = 현재부사, IN = 전치사, NPP = 고유명사, NNS = 복수형 명사, CC = 접속사, DT = 관사\n",
        "\n",
        "\n",
        "명사, 동사, 형용사만 가져온다.\n",
        " - 보다 정확하게 분류하고 싶으면 형태소 분석을 가장 먼저해야 할 듯 싶다."
      ]
    },
    {
      "cell_type": "code",
      "source": [
        "from nltk.tag import pos_tag\n",
        "\n",
        "#텍스트 정제 (형태소 분석)\n",
        "nltk.download('averaged_perceptron_tagger')\n",
        "nltk.download('punkt')\n",
        "for i in range(0, 54):\n",
        "    clean_words = []\n",
        "    document = data_reference.description[i]\n",
        "\n",
        "    for word in pos_tag(nltk.tokenize.word_tokenize(document)):\n",
        "        if word[1] in ['NN', 'NNS', 'NNP', 'NNPS', 'VB', 'VBD', 'VBG', 'VBN', 'VBP', 'VBZ', 'JJ', 'JJR', 'JJS']: #명사, 동사, 형용사\n",
        "            clean_words.append(word[0].lower())\n",
        "\n",
        "    #print(clean_words) #['stale', 'uninspired']\n",
        "    document = ' '.join(clean_words)\n",
        "    #print(document) #stale uninspired\n",
        "    data_reference.description[i] = document\n"
      ],
      "metadata": {
        "colab": {
          "base_uri": "https://localhost:8080/"
        },
        "id": "bSe9sj1UGFBY",
        "outputId": "a1e9bcf2-6b3e-4776-e3ba-98635d665ba6"
      },
      "execution_count": 29,
      "outputs": [
        {
          "output_type": "stream",
          "name": "stdout",
          "text": [
            "[nltk_data] Downloading package averaged_perceptron_tagger to\n",
            "[nltk_data]     /root/nltk_data...\n",
            "[nltk_data]   Unzipping taggers/averaged_perceptron_tagger.zip.\n",
            "[nltk_data] Downloading package punkt to /root/nltk_data...\n",
            "[nltk_data]   Package punkt is already up-to-date!\n"
          ]
        },
        {
          "output_type": "stream",
          "name": "stderr",
          "text": [
            "/usr/local/lib/python3.7/dist-packages/ipykernel_launcher.py:17: SettingWithCopyWarning: \n",
            "A value is trying to be set on a copy of a slice from a DataFrame\n",
            "\n",
            "See the caveats in the documentation: https://pandas.pydata.org/pandas-docs/stable/user_guide/indexing.html#returning-a-view-versus-a-copy\n"
          ]
        }
      ]
    },
    {
      "cell_type": "code",
      "source": [
        "data_reference.head()"
      ],
      "metadata": {
        "colab": {
          "base_uri": "https://localhost:8080/",
          "height": 0
        },
        "id": "55N6z_LHGrfk",
        "outputId": "c865cb02-6f13-4295-f265-cca71c8fe043"
      },
      "execution_count": 30,
      "outputs": [
        {
          "output_type": "execute_result",
          "data": {
            "text/html": [
              "\n",
              "  <div id=\"df-691a1f23-13d4-427c-aa4d-be45ad81368c\">\n",
              "    <div class=\"colab-df-container\">\n",
              "      <div>\n",
              "<style scoped>\n",
              "    .dataframe tbody tr th:only-of-type {\n",
              "        vertical-align: middle;\n",
              "    }\n",
              "\n",
              "    .dataframe tbody tr th {\n",
              "        vertical-align: top;\n",
              "    }\n",
              "\n",
              "    .dataframe thead th {\n",
              "        text-align: right;\n",
              "    }\n",
              "</style>\n",
              "<table border=\"1\" class=\"dataframe\">\n",
              "  <thead>\n",
              "    <tr style=\"text-align: right;\">\n",
              "      <th></th>\n",
              "      <th>atribute_id</th>\n",
              "      <th>description</th>\n",
              "    </tr>\n",
              "  </thead>\n",
              "  <tbody>\n",
              "    <tr>\n",
              "      <th>0</th>\n",
              "      <td>1</td>\n",
              "      <td>apolog discuss deterior discuss</td>\n",
              "    </tr>\n",
              "    <tr>\n",
              "      <th>1</th>\n",
              "      <td>2</td>\n",
              "      <td>know ignor differ thing hard sometim</td>\n",
              "    </tr>\n",
              "    <tr>\n",
              "      <th>2</th>\n",
              "      <td>3</td>\n",
              "      <td>take spous begin correct</td>\n",
              "    </tr>\n",
              "    <tr>\n",
              "      <th>3</th>\n",
              "      <td>4</td>\n",
              "      <td>spous contact eventu work</td>\n",
              "    </tr>\n",
              "    <tr>\n",
              "      <th>4</th>\n",
              "      <td>5</td>\n",
              "      <td>time spent wife special</td>\n",
              "    </tr>\n",
              "  </tbody>\n",
              "</table>\n",
              "</div>\n",
              "      <button class=\"colab-df-convert\" onclick=\"convertToInteractive('df-691a1f23-13d4-427c-aa4d-be45ad81368c')\"\n",
              "              title=\"Convert this dataframe to an interactive table.\"\n",
              "              style=\"display:none;\">\n",
              "        \n",
              "  <svg xmlns=\"http://www.w3.org/2000/svg\" height=\"24px\"viewBox=\"0 0 24 24\"\n",
              "       width=\"24px\">\n",
              "    <path d=\"M0 0h24v24H0V0z\" fill=\"none\"/>\n",
              "    <path d=\"M18.56 5.44l.94 2.06.94-2.06 2.06-.94-2.06-.94-.94-2.06-.94 2.06-2.06.94zm-11 1L8.5 8.5l.94-2.06 2.06-.94-2.06-.94L8.5 2.5l-.94 2.06-2.06.94zm10 10l.94 2.06.94-2.06 2.06-.94-2.06-.94-.94-2.06-.94 2.06-2.06.94z\"/><path d=\"M17.41 7.96l-1.37-1.37c-.4-.4-.92-.59-1.43-.59-.52 0-1.04.2-1.43.59L10.3 9.45l-7.72 7.72c-.78.78-.78 2.05 0 2.83L4 21.41c.39.39.9.59 1.41.59.51 0 1.02-.2 1.41-.59l7.78-7.78 2.81-2.81c.8-.78.8-2.07 0-2.86zM5.41 20L4 18.59l7.72-7.72 1.47 1.35L5.41 20z\"/>\n",
              "  </svg>\n",
              "      </button>\n",
              "      \n",
              "  <style>\n",
              "    .colab-df-container {\n",
              "      display:flex;\n",
              "      flex-wrap:wrap;\n",
              "      gap: 12px;\n",
              "    }\n",
              "\n",
              "    .colab-df-convert {\n",
              "      background-color: #E8F0FE;\n",
              "      border: none;\n",
              "      border-radius: 50%;\n",
              "      cursor: pointer;\n",
              "      display: none;\n",
              "      fill: #1967D2;\n",
              "      height: 32px;\n",
              "      padding: 0 0 0 0;\n",
              "      width: 32px;\n",
              "    }\n",
              "\n",
              "    .colab-df-convert:hover {\n",
              "      background-color: #E2EBFA;\n",
              "      box-shadow: 0px 1px 2px rgba(60, 64, 67, 0.3), 0px 1px 3px 1px rgba(60, 64, 67, 0.15);\n",
              "      fill: #174EA6;\n",
              "    }\n",
              "\n",
              "    [theme=dark] .colab-df-convert {\n",
              "      background-color: #3B4455;\n",
              "      fill: #D2E3FC;\n",
              "    }\n",
              "\n",
              "    [theme=dark] .colab-df-convert:hover {\n",
              "      background-color: #434B5C;\n",
              "      box-shadow: 0px 1px 3px 1px rgba(0, 0, 0, 0.15);\n",
              "      filter: drop-shadow(0px 1px 2px rgba(0, 0, 0, 0.3));\n",
              "      fill: #FFFFFF;\n",
              "    }\n",
              "  </style>\n",
              "\n",
              "      <script>\n",
              "        const buttonEl =\n",
              "          document.querySelector('#df-691a1f23-13d4-427c-aa4d-be45ad81368c button.colab-df-convert');\n",
              "        buttonEl.style.display =\n",
              "          google.colab.kernel.accessAllowed ? 'block' : 'none';\n",
              "\n",
              "        async function convertToInteractive(key) {\n",
              "          const element = document.querySelector('#df-691a1f23-13d4-427c-aa4d-be45ad81368c');\n",
              "          const dataTable =\n",
              "            await google.colab.kernel.invokeFunction('convertToInteractive',\n",
              "                                                     [key], {});\n",
              "          if (!dataTable) return;\n",
              "\n",
              "          const docLinkHtml = 'Like what you see? Visit the ' +\n",
              "            '<a target=\"_blank\" href=https://colab.research.google.com/notebooks/data_table.ipynb>data table notebook</a>'\n",
              "            + ' to learn more about interactive tables.';\n",
              "          element.innerHTML = '';\n",
              "          dataTable['output_type'] = 'display_data';\n",
              "          await google.colab.output.renderOutput(dataTable, element);\n",
              "          const docLink = document.createElement('div');\n",
              "          docLink.innerHTML = docLinkHtml;\n",
              "          element.appendChild(docLink);\n",
              "        }\n",
              "      </script>\n",
              "    </div>\n",
              "  </div>\n",
              "  "
            ],
            "text/plain": [
              "   atribute_id                           description\n",
              "0            1       apolog discuss deterior discuss\n",
              "1            2  know ignor differ thing hard sometim\n",
              "2            3              take spous begin correct\n",
              "3            4             spous contact eventu work\n",
              "4            5               time spent wife special"
            ]
          },
          "metadata": {},
          "execution_count": 30
        }
      ]
    },
    {
      "cell_type": "markdown",
      "source": [
        "# 2) 등장 빈도 높은 단어 추출\n",
        "\n",
        "위의 텍스트 전처리 과정으로 54개의 질문들을 각각 4~6개의 의미있는 단어로 요약하였다. \n",
        "\n",
        "그 중에서 등장 빈도가 높은 단어를 추출할 것이다.\n",
        "\n",
        "*  단어들을 하나의 배열에 담고 단어 사용 빈도 수를 살펴본다.\n",
        "\n",
        "*  위에서 사용한 품사 태깅 방법으로 3개의 배열(명사, 동사, 형용사)로 단어를 나누어, 각각 빈도수가 높은 단어 10개씩 추출한다."
      ],
      "metadata": {
        "id": "ulD9CmdVr718"
      }
    },
    {
      "cell_type": "code",
      "source": [
        "# 단어들 하나의 배열에 담기\n",
        "\n",
        "words = []\n",
        "for i in range(0, 54):\n",
        "    document = data_reference.description[i]\n",
        "    for word in nltk.tokenize.word_tokenize(document):  # 단어로 분리\n",
        "          words.append(word)\n",
        "\n",
        "print(words)"
      ],
      "metadata": {
        "colab": {
          "base_uri": "https://localhost:8080/"
        },
        "id": "hecK23MWH3Rl",
        "outputId": "9f715a64-9543-420f-fdce-d073e6741fd3"
      },
      "execution_count": 31,
      "outputs": [
        {
          "output_type": "stream",
          "name": "stdout",
          "text": [
            "['apolog', 'discuss', 'deterior', 'discuss', 'know', 'ignor', 'differ', 'thing', 'hard', 'sometim', 'take', 'spous', 'begin', 'correct', 'spous', 'contact', 'eventu', 'work', 'time', 'spent', 'wife', 'special', 'time', 'home', 'partner', 'stranger', 'share', 'environ', 'home', 'famili', 'enjoy', 'holiday', 'wife', 'enjoy', 'travel', 'wife', 'goal', 'common', 'spous', 'think', 'futur', 'look', 'spous', 'harmoni', 'spous', 'similar', 'valu', 'term', 'person', 'freedom', 'spous', 'similar', 'sens', 'entertain', 'goal', 'peopl', 'children', 'friend', 'dream', 'spous', 'similar', 'harmoni', 'spous', 'love', 'share', 'view', 'happi', 'life', 'spous', 'spous', 'similar', 'idea', 'marriag', 'spous', 'similar', 'idea', 'role', 'marriag', 'spous', 'similar', 'valu', 'trust', 'know', 'exact', 'wife', 'know', 'spous', 'want', 'taken', 'care', 'she/h', 'sick', 'spous', 'favorit', 'food', 'tell', 'kind', 'stress', 'spous', 'face', 'her/hi', 'life', 'spous', 'inner', 'world', 'know', 'spous', 'basic', 'anxieti', 'spous', 'current', 'sourc', 'stress', 'spous', 'hope', 'wish', 'spous', 'veri', 'spous', 'friend', 'social', 'relationship', 'feel', 'spous', 'spous', 'express', 'negat', 'statement', 'spous', 'person', 'dure', 'discuss', 'offens', 'express', 'dure', 'discuss', 'insult', 'spous', 'dure', 'discuss', 'humili', 'argu', 'spous', 'calm', 'spous', 'open', 'subject', 'discuss', 'occur', 'sudden', 'start', 'discuss', 'befor', 'know', 'talk', 'spous', 'someth', 'calm', 'break', 'spous', 'onli', 'word', 'stay', 'silent', 'calm', 'environ', 'littl', 'sometim', 'think', 'good', 'leav', 'home', 'stay', 'silent', 'discuss', 'spous', 'right', 'discuss', 'stay', 'silent', 'hurt', 'spous', 'spous', 'stay', 'silent', 'becaus', 'afraid', 'control', 'anger', 'feel', 'right', 'discuss', 'accus', 'actual', 'guilti', 'accus', 'wrong', 'problem', 'home', 'hesit', 'spous', 'her/hi', 'inadequaci', 'discuss', 'remind', 'spous', 'her/hi', 'inadequaci', 'afraid', 'tell', 'spous', 'her/hi', 'incompet']\n"
          ]
        }
      ]
    },
    {
      "cell_type": "code",
      "metadata": {
        "colab": {
          "base_uri": "https://localhost:8080/"
        },
        "id": "gsIr7pBSGW_Z",
        "outputId": "aa8bd06e-26d6-4c81-dc9f-5928d9cea9e6"
      },
      "source": [
        "# 단어들을 명사, 동사, 형용사로 나누어 줌\n",
        "\n",
        "noun = []\n",
        "verb = []\n",
        "adj = []\n",
        "\n",
        "tag = pos_tag(words)    # words에 들어있는 단어들을 ('단어', '품사') 형태로 저장\n",
        "                        # 그래서 tag[i][1]은 품사, tag[i][0]은 단어가 되는 것.\n",
        "\n",
        "for i in range(0, len(tag)):\n",
        "  if tag[i][1] in ['NN', 'NNS', 'NNP', 'NNPS']: \n",
        "    noun.append(tag[i][0])\n",
        "  elif tag[i][1] in ['VB', 'VBD', 'VBG', 'VBN', 'VBP', 'VBZ']:\n",
        "    verb.append(tag[i][0])\n",
        "  elif tag[i][1] in ['JJ', 'JJR', 'JJS']:\n",
        "    adj.append(tag[i][0])\n",
        "\n",
        "# 명사, 동사, 형용사만 뽑았는데,, 잘못 분류된것도 있는듯.\n",
        "print(noun)\n",
        "print(verb)\n",
        "print(adj)"
      ],
      "execution_count": 32,
      "outputs": [
        {
          "output_type": "stream",
          "name": "stdout",
          "text": [
            "['apolog', 'discuss', 'discuss', 'ignor', 'thing', 'sometim', 'begin', 'contact', 'eventu', 'work', 'time', 'wife', 'time', 'home', 'partner', 'stranger', 'share', 'home', 'famili', 'enjoy', 'wife', 'wife', 'goal', 'harmoni', 'valu', 'term', 'person', 'sens', 'goal', 'peopl', 'children', 'dream', 'harmoni', 'love', 'share', 'view', 'life', 'idea', 'idea', 'role', 'valu', 'trust', 'wife', 'care', 'favorit', 'food', 'tell', 'kind', 'stress', 'face', 'life', 'world', 'anxieti', 'sourc', 'stress', 'hope', 'veri', 'relationship', 'express', 'statement', 'person', 'dure', 'discuss', 'dure', 'discuss', 'insult', 'dure', 'discuss', 'humili', 'calm', 'subject', 'discuss', 'start', 'discuss', 'befor', 'talk', 'someth', 'calm', 'onli', 'word', 'stay', 'calm', 'environ', 'littl', 'sometim', 'leav', 'home', 'stay', 'discuss', 'right', 'discuss', 'hurt', 'stay', 'becaus', 'control', 'anger', 'discuss', 'guilti', 'accus', 'problem', 'home', 'hesit', 'her/hi', 'inadequaci', 'discuss', 'her/hi', 'inadequaci', 'her/hi', 'incompet']\n",
            "['know', 'differ', 'take', 'correct', 'environ', 'enjoy', 'think', 'look', 'entertain', 'friend', 'happi', 'know', 'know', 'want', 'taken', 'know', 'friend', 'feel', 'offens', 'argu', 'occur', 'know', 'break', 'think', 'stay', 'feel', 'accus', 'remind', 'tell']\n",
            "['deterior', 'hard', 'spous', 'spous', 'spent', 'special', 'holiday', 'travel', 'common', 'spous', 'futur', 'spous', 'spous', 'similar', 'spous', 'similar', 'spous', 'similar', 'spous', 'spous', 'spous', 'similar', 'spous', 'similar', 'spous', 'similar', 'exact', 'spous', 'she/h', 'spous', 'spous', 'her/hi', 'spous', 'inner', 'spous', 'basic', 'spous', 'current', 'spous', 'wish', 'spous', 'spous', 'social', 'spous', 'spous', 'negat', 'spous', 'express', 'spous', 'spous', 'spous', 'open', 'sudden', 'spous', 'spous', 'silent', 'good', 'silent', 'spous', 'silent', 'spous', 'spous', 'silent', 'afraid', 'right', 'actual', 'wrong', 'spous', 'spous', 'afraid', 'spous']\n"
          ]
        }
      ]
    },
    {
      "cell_type": "code",
      "metadata": {
        "colab": {
          "base_uri": "https://localhost:8080/"
        },
        "id": "kO00O-CqsNC9",
        "outputId": "6406332d-deee-400e-f495-2865425cbbc8"
      },
      "source": [
        "# 명사, 동사, 형용사 단어들의 빈도수 세기\n",
        "\n",
        "import collections\n",
        "\n",
        "# 각각 빈도수가 높은 10개만 출력\n",
        "counts_noun = collections.Counter(noun)\n",
        "print(counts_noun.most_common(10))\n",
        "\n",
        "counts_verb = collections.Counter(verb)\n",
        "print(counts_verb.most_common(10))\n",
        "\n",
        "counts_adj = collections.Counter(adj)\n",
        "print(counts_adj.most_common(10))"
      ],
      "execution_count": 33,
      "outputs": [
        {
          "output_type": "stream",
          "name": "stdout",
          "text": [
            "[('discuss', 11), ('wife', 4), ('home', 4), ('dure', 3), ('calm', 3), ('stay', 3), ('her/hi', 3), ('sometim', 2), ('time', 2), ('share', 2)]\n",
            "[('know', 5), ('think', 2), ('friend', 2), ('feel', 2), ('differ', 1), ('take', 1), ('correct', 1), ('environ', 1), ('enjoy', 1), ('look', 1)]\n",
            "[('spous', 35), ('similar', 6), ('silent', 4), ('afraid', 2), ('deterior', 1), ('hard', 1), ('spent', 1), ('special', 1), ('holiday', 1), ('travel', 1)]\n"
          ]
        }
      ]
    },
    {
      "cell_type": "markdown",
      "source": [
        "# 빈도 수 높은 단어 시각화"
      ],
      "metadata": {
        "id": "jsydtfoJW_AA"
      }
    },
    {
      "cell_type": "markdown",
      "source": [
        "\n",
        "---\n",
        "\n",
        "단어 빈도 수에 대한 그래프\n",
        "*  명사, 동사, 형용사가 담긴 배열을 합하고, 사용빈도가 높은 단어 20개를 그래프로 \n",
        "나타내었다."
      ],
      "metadata": {
        "id": "V_YO-IemgDyP"
      }
    },
    {
      "cell_type": "code",
      "source": [
        "all_words = counts_adj | counts_noun | counts_verb    # 합집합\n",
        "all_words = all_words.most_common(20)\n",
        "\n",
        "df_words_count = pd.DataFrame(all_words)\n",
        "\n",
        "plt.plot(df_words_count[0], df_words_count[1])\n",
        "plt.xticks(df_words_count[0], fontsize=10, rotation= 50)\n",
        "plt.show()"
      ],
      "metadata": {
        "colab": {
          "base_uri": "https://localhost:8080/",
          "height": 295
        },
        "id": "ECRX9WttRdns",
        "outputId": "7659059d-3f82-4e9f-cb47-571450e7ea96"
      },
      "execution_count": 34,
      "outputs": [
        {
          "output_type": "display_data",
          "data": {
            "image/png": "[encoded data removed]",
            "text/plain": [
              "<Figure size 432x288 with 1 Axes>"
            ]
          },
          "metadata": {
            "needs_background": "light"
          }
        }
      ]
    },
    {
      "cell_type": "markdown",
      "source": [
        "위의 그래프보다 한 눈에 파악하기 쉽도록 워드 클라우드 만들었다."
      ],
      "metadata": {
        "id": "lCDMy7d6gMEv"
      }
    },
    {
      "cell_type": "markdown",
      "source": [
        "\n",
        "\n",
        "*   워드 클라우드\n",
        "\n"
      ],
      "metadata": {
        "id": "pXupGq5oc5q_"
      }
    },
    {
      "cell_type": "markdown",
      "source": [
        "아래는 noun(명사)에 대한 워드 클라우드"
      ],
      "metadata": {
        "id": "tzyS8eh7gcTs"
      }
    },
    {
      "cell_type": "code",
      "source": [
        "import wordcloud\n",
        "from wordcloud import WordCloud\n",
        "import matplotlib.pyplot as plt\n",
        "from os import path\n",
        "\n",
        "final_words = noun\n",
        "#+ verb + adj\n",
        "noun_text = ''\n",
        "for word in final_words:\n",
        "    noun_text = noun_text +' '+word\n",
        "\n",
        "wordcloud = WordCloud(max_font_size=60, relative_scaling=.5, background_color='white', max_words=50).generate(noun_text) # generate() 는 하나의 string value를 입력 받음\n",
        "plt.figure(figsize = (16, 5))\n",
        "plt.imshow(wordcloud, interpolation='bilinear')\n",
        "plt.axis(\"off\")\n",
        "plt.show()"
      ],
      "metadata": {
        "colab": {
          "base_uri": "https://localhost:8080/",
          "height": 303
        },
        "id": "qiIdyJPxazxw",
        "outputId": "f3c3bd48-ea5a-40e3-c54e-e5703ef9d80f"
      },
      "execution_count": 35,
      "outputs": [
        {
          "output_type": "display_data",
          "data": {
            "image/png": "[encoded data removed]",
            "text/plain": [
              "<Figure size 1152x360 with 1 Axes>"
            ]
          },
          "metadata": {
            "needs_background": "light"
          }
        }
      ]
    },
    {
      "cell_type": "markdown",
      "source": [
        "!data_reference 질문 유형\n",
        "\n",
        "위의 단어들 중에서 빈도 수가 가장 많은 단어 기준으로 질문 유형 파악하기."
      ],
      "metadata": {
        "id": "sPIGKg98Oh-n"
      }
    },
    {
      "cell_type": "markdown",
      "source": [
        "빈도 수가 가장 높은 단어 :\n",
        "\n",
        "> *   ('discuss', 11), ('wife', 4)\n",
        "*   ('know', 5), ('think', 2)\n",
        "*   ('spous', 35), ('similar', 6)\n",
        "\n",
        "빈도 수가 높은 단어를 조합하여, 질문의 유형을 나눠본다.\n",
        "\n",
        "+ 배우자와의 대화, 배우자를 잘 아는 것, 비슷한 무언가(비슷한 생각이나 목표가 될 수 있을 듯) 등으로 위의 단어를 조합할 수 있다.\n"
      ],
      "metadata": {
        "id": "H9hNnoFkWX-E"
      }
    },
    {
      "cell_type": "code",
      "source": [
        "data_reference_keywords  = pd.read_csv(path_reference, sep = \"|\", engine='python')"
      ],
      "metadata": {
        "id": "vdd9so1DO-yM"
      },
      "execution_count": 36,
      "outputs": []
    },
    {
      "cell_type": "markdown",
      "source": [
        "# 3) 질문 유형 나누기"
      ],
      "metadata": {
        "id": "T_oCtmcMXQwI"
      }
    },
    {
      "cell_type": "markdown",
      "metadata": {
        "id": "PbhsHokyWxoI"
      },
      "source": [
        "빈도 수가 가장 높은 단어와 비슷한 의미를 가지는 단어를 조합하여 5개의 질문 유형을 정하였다.\n",
        "\n",
        "* discussion / tell / share\n",
        "* know + spouse\n",
        "* spent/enjoy + time\n",
        "* similar\n",
        "* silent/calm\n",
        "\n",
        "---\n",
        "1. 대화\n",
        "2. 서로를 잘 아는 것\n",
        "3. 함께하기\n",
        "4. 공통점\n",
        "5. 그 외..\n",
        "\n",
        "위의 다섯가지로 질문들을 분류해보자."
      ]
    },
    {
      "cell_type": "markdown",
      "source": [
        "findall함수에 주어진 패턴에 매칭되는 단어가 각 질문에 포함되어있는지 if문을 통해 확인한다.\n",
        "\n",
        "만약 1번 유형과 관련있는 단어가 들어있다면, 그 질문의 type을 1로 설정한다."
      ],
      "metadata": {
        "id": "TGgdTPQ8Tqfx"
      }
    },
    {
      "cell_type": "code",
      "source": [
        "import re\n",
        "\n",
        "data_reference_clf = []\n",
        "\n",
        "for i in range(0, 54):\n",
        "    keywords = []\n",
        "    document = data_reference_keywords.description[i]\n",
        "    # 1번 : 대화\n",
        "    if(re.findall(r'\\bdiscus\\w+', document) or re.findall(r'\\btel\\w+', document) or re.findall(r'\\bshar\\w+', document) or re.findall(r'\\btal\\w+', document)):\n",
        "      data_reference_clf.append('1')\n",
        "    # 2번 : (배우자를) 잘 아는 것\n",
        "    elif(re.findall(r'\\bkno\\w+', document)):\n",
        "      data_reference_clf.append('2')\n",
        "    # 3번 : 시간보내기\n",
        "    elif(re.findall(r'\\bspen\\w+', document) or re.findall(r'\\benjo\\w+', document) or re.findall(r'\\btim\\w+', document)) :\n",
        "      data_reference_clf.append('3')\n",
        "    # 4번 : 비슷한 생각/목표 등\n",
        "    elif(re.findall(r'\\bsimil\\w+', document) or re.findall(r'\\bgoal\\w+', document) or re.findall(r'\\bcommo\\w+', document)) :\n",
        "      data_reference_clf.append('4')\n",
        "    # 5번 : 그 외..\n",
        "    else:\n",
        "      data_reference_clf.append('5')\n",
        "    \n",
        "print(data_reference_clf)"
      ],
      "metadata": {
        "colab": {
          "base_uri": "https://localhost:8080/"
        },
        "id": "5XdROtd-aMpH",
        "outputId": "f813c469-cd43-470c-deb3-f9eb4d2de0e5"
      },
      "execution_count": 37,
      "outputs": [
        {
          "output_type": "stream",
          "name": "stdout",
          "text": [
            "['1', '2', '1', '1', '3', '3', '1', '3', '3', '4', '5', '4', '4', '4', '4', '5', '1', '4', '4', '4', '2', '2', '2', '1', '2', '2', '2', '2', '2', '2', '5', '1', '1', '1', '1', '5', '1', '5', '1', '1', '1', '5', '5', '5', '1', '1', '1', '1', '5', '5', '5', '1', '1', '1']\n"
          ]
        }
      ]
    },
    {
      "cell_type": "markdown",
      "source": [
        "위에서 설정한 type을 data_reference의 새로운 열로 추가한다.(열 이름 'type')"
      ],
      "metadata": {
        "id": "UOjrcBKtUpbE"
      }
    },
    {
      "cell_type": "code",
      "source": [
        "data_reference_keywords['type'] = data_reference_clf\n",
        "data_reference_keywords.head()"
      ],
      "metadata": {
        "colab": {
          "base_uri": "https://localhost:8080/",
          "height": 0
        },
        "id": "uHTK0Kh9qPR1",
        "outputId": "dad07ffc-8190-471c-8748-0b4633086458"
      },
      "execution_count": 38,
      "outputs": [
        {
          "output_type": "execute_result",
          "data": {
            "text/html": [
              "\n",
              "  <div id=\"df-3454f69f-4ed4-47a8-85f7-efe15cff5b26\">\n",
              "    <div class=\"colab-df-container\">\n",
              "      <div>\n",
              "<style scoped>\n",
              "    .dataframe tbody tr th:only-of-type {\n",
              "        vertical-align: middle;\n",
              "    }\n",
              "\n",
              "    .dataframe tbody tr th {\n",
              "        vertical-align: top;\n",
              "    }\n",
              "\n",
              "    .dataframe thead th {\n",
              "        text-align: right;\n",
              "    }\n",
              "</style>\n",
              "<table border=\"1\" class=\"dataframe\">\n",
              "  <thead>\n",
              "    <tr style=\"text-align: right;\">\n",
              "      <th></th>\n",
              "      <th>atribute_id</th>\n",
              "      <th>description</th>\n",
              "      <th>type</th>\n",
              "    </tr>\n",
              "  </thead>\n",
              "  <tbody>\n",
              "    <tr>\n",
              "      <th>0</th>\n",
              "      <td>1</td>\n",
              "      <td>If one of us apologizes when our discussion de...</td>\n",
              "      <td>1</td>\n",
              "    </tr>\n",
              "    <tr>\n",
              "      <th>1</th>\n",
              "      <td>2</td>\n",
              "      <td>I know we can ignore our differences, even if ...</td>\n",
              "      <td>2</td>\n",
              "    </tr>\n",
              "    <tr>\n",
              "      <th>2</th>\n",
              "      <td>3</td>\n",
              "      <td>When we need it, we can take our discussions w...</td>\n",
              "      <td>1</td>\n",
              "    </tr>\n",
              "    <tr>\n",
              "      <th>3</th>\n",
              "      <td>4</td>\n",
              "      <td>When I discuss with my spouse, to contact him ...</td>\n",
              "      <td>1</td>\n",
              "    </tr>\n",
              "    <tr>\n",
              "      <th>4</th>\n",
              "      <td>5</td>\n",
              "      <td>The time I spent with my wife is special for us.</td>\n",
              "      <td>3</td>\n",
              "    </tr>\n",
              "  </tbody>\n",
              "</table>\n",
              "</div>\n",
              "      <button class=\"colab-df-convert\" onclick=\"convertToInteractive('df-3454f69f-4ed4-47a8-85f7-efe15cff5b26')\"\n",
              "              title=\"Convert this dataframe to an interactive table.\"\n",
              "              style=\"display:none;\">\n",
              "        \n",
              "  <svg xmlns=\"http://www.w3.org/2000/svg\" height=\"24px\"viewBox=\"0 0 24 24\"\n",
              "       width=\"24px\">\n",
              "    <path d=\"M0 0h24v24H0V0z\" fill=\"none\"/>\n",
              "    <path d=\"M18.56 5.44l.94 2.06.94-2.06 2.06-.94-2.06-.94-.94-2.06-.94 2.06-2.06.94zm-11 1L8.5 8.5l.94-2.06 2.06-.94-2.06-.94L8.5 2.5l-.94 2.06-2.06.94zm10 10l.94 2.06.94-2.06 2.06-.94-2.06-.94-.94-2.06-.94 2.06-2.06.94z\"/><path d=\"M17.41 7.96l-1.37-1.37c-.4-.4-.92-.59-1.43-.59-.52 0-1.04.2-1.43.59L10.3 9.45l-7.72 7.72c-.78.78-.78 2.05 0 2.83L4 21.41c.39.39.9.59 1.41.59.51 0 1.02-.2 1.41-.59l7.78-7.78 2.81-2.81c.8-.78.8-2.07 0-2.86zM5.41 20L4 18.59l7.72-7.72 1.47 1.35L5.41 20z\"/>\n",
              "  </svg>\n",
              "      </button>\n",
              "      \n",
              "  <style>\n",
              "    .colab-df-container {\n",
              "      display:flex;\n",
              "      flex-wrap:wrap;\n",
              "      gap: 12px;\n",
              "    }\n",
              "\n",
              "    .colab-df-convert {\n",
              "      background-color: #E8F0FE;\n",
              "      border: none;\n",
              "      border-radius: 50%;\n",
              "      cursor: pointer;\n",
              "      display: none;\n",
              "      fill: #1967D2;\n",
              "      height: 32px;\n",
              "      padding: 0 0 0 0;\n",
              "      width: 32px;\n",
              "    }\n",
              "\n",
              "    .colab-df-convert:hover {\n",
              "      background-color: #E2EBFA;\n",
              "      box-shadow: 0px 1px 2px rgba(60, 64, 67, 0.3), 0px 1px 3px 1px rgba(60, 64, 67, 0.15);\n",
              "      fill: #174EA6;\n",
              "    }\n",
              "\n",
              "    [theme=dark] .colab-df-convert {\n",
              "      background-color: #3B4455;\n",
              "      fill: #D2E3FC;\n",
              "    }\n",
              "\n",
              "    [theme=dark] .colab-df-convert:hover {\n",
              "      background-color: #434B5C;\n",
              "      box-shadow: 0px 1px 3px 1px rgba(0, 0, 0, 0.15);\n",
              "      filter: drop-shadow(0px 1px 2px rgba(0, 0, 0, 0.3));\n",
              "      fill: #FFFFFF;\n",
              "    }\n",
              "  </style>\n",
              "\n",
              "      <script>\n",
              "        const buttonEl =\n",
              "          document.querySelector('#df-3454f69f-4ed4-47a8-85f7-efe15cff5b26 button.colab-df-convert');\n",
              "        buttonEl.style.display =\n",
              "          google.colab.kernel.accessAllowed ? 'block' : 'none';\n",
              "\n",
              "        async function convertToInteractive(key) {\n",
              "          const element = document.querySelector('#df-3454f69f-4ed4-47a8-85f7-efe15cff5b26');\n",
              "          const dataTable =\n",
              "            await google.colab.kernel.invokeFunction('convertToInteractive',\n",
              "                                                     [key], {});\n",
              "          if (!dataTable) return;\n",
              "\n",
              "          const docLinkHtml = 'Like what you see? Visit the ' +\n",
              "            '<a target=\"_blank\" href=https://colab.research.google.com/notebooks/data_table.ipynb>data table notebook</a>'\n",
              "            + ' to learn more about interactive tables.';\n",
              "          element.innerHTML = '';\n",
              "          dataTable['output_type'] = 'display_data';\n",
              "          await google.colab.output.renderOutput(dataTable, element);\n",
              "          const docLink = document.createElement('div');\n",
              "          docLink.innerHTML = docLinkHtml;\n",
              "          element.appendChild(docLink);\n",
              "        }\n",
              "      </script>\n",
              "    </div>\n",
              "  </div>\n",
              "  "
            ],
            "text/plain": [
              "   atribute_id                                        description type\n",
              "0            1  If one of us apologizes when our discussion de...    1\n",
              "1            2  I know we can ignore our differences, even if ...    2\n",
              "2            3  When we need it, we can take our discussions w...    1\n",
              "3            4  When I discuss with my spouse, to contact him ...    1\n",
              "4            5   The time I spent with my wife is special for us.    3"
            ]
          },
          "metadata": {},
          "execution_count": 38
        }
      ]
    },
    {
      "cell_type": "markdown",
      "source": [
        "---------"
      ],
      "metadata": {
        "id": "26lbY49VckUY"
      }
    },
    {
      "cell_type": "code",
      "source": [
        "data_reference_keywords['keywords'] = data_reference_keywords.description\n",
        "for i in range(0, 54):\n",
        "    keywords = []\n",
        "    document = data_reference_keywords.description[i]\n",
        "    for word in nltk.tokenize.word_tokenize(document):  #공백과 구두점(punctuation: ,혹은 .)을 기준으로 단어 분리, 축약형 단어도 분리 (Can't ==> ['Ca', \"n't\"])\n",
        "        word = word.lower() # 소문자로.\n",
        "        if word in ['discuss', 'discussion', 'discussions', \"discussing\", 'tell', 'share', 'talk',\n",
        "                    'know', \n",
        "                    'similar', 'goals', 'common',\n",
        "                    'enjoy', 'spent', 'spend', 'time']:\n",
        "          keywords.append(word)\n",
        "    document = ' '.join(keywords)\n",
        "    if (keywords == []):\n",
        "      document = 'etc.'\n",
        "  \n",
        "    data_reference_keywords.keywords[i] = document # data_reference에 저장."
      ],
      "metadata": {
        "colab": {
          "base_uri": "https://localhost:8080/"
        },
        "id": "CAnQlkHbPNzE",
        "outputId": "a573de94-7697-43a7-d2bd-6eb8ea3f44d2"
      },
      "execution_count": 39,
      "outputs": [
        {
          "output_type": "stream",
          "name": "stderr",
          "text": [
            "/usr/local/lib/python3.7/dist-packages/ipykernel_launcher.py:16: SettingWithCopyWarning: \n",
            "A value is trying to be set on a copy of a slice from a DataFrame\n",
            "\n",
            "See the caveats in the documentation: https://pandas.pydata.org/pandas-docs/stable/user_guide/indexing.html#returning-a-view-versus-a-copy\n",
            "  app.launch_new_instance()\n"
          ]
        }
      ]
    },
    {
      "cell_type": "code",
      "source": [
        "data_reference_keywords.head()"
      ],
      "metadata": {
        "id": "PMHXlTMxPNlK",
        "colab": {
          "base_uri": "https://localhost:8080/",
          "height": 0
        },
        "outputId": "360d665a-c9c6-4e73-8c1c-3d2cdcac47ce"
      },
      "execution_count": 40,
      "outputs": [
        {
          "output_type": "execute_result",
          "data": {
            "text/html": [
              "\n",
              "  <div id=\"df-366bc598-4031-4fdd-91a7-a4323fe8fb7d\">\n",
              "    <div class=\"colab-df-container\">\n",
              "      <div>\n",
              "<style scoped>\n",
              "    .dataframe tbody tr th:only-of-type {\n",
              "        vertical-align: middle;\n",
              "    }\n",
              "\n",
              "    .dataframe tbody tr th {\n",
              "        vertical-align: top;\n",
              "    }\n",
              "\n",
              "    .dataframe thead th {\n",
              "        text-align: right;\n",
              "    }\n",
              "</style>\n",
              "<table border=\"1\" class=\"dataframe\">\n",
              "  <thead>\n",
              "    <tr style=\"text-align: right;\">\n",
              "      <th></th>\n",
              "      <th>atribute_id</th>\n",
              "      <th>description</th>\n",
              "      <th>type</th>\n",
              "      <th>keywords</th>\n",
              "    </tr>\n",
              "  </thead>\n",
              "  <tbody>\n",
              "    <tr>\n",
              "      <th>0</th>\n",
              "      <td>1</td>\n",
              "      <td>If one of us apologizes when our discussion de...</td>\n",
              "      <td>1</td>\n",
              "      <td>discussion discussion</td>\n",
              "    </tr>\n",
              "    <tr>\n",
              "      <th>1</th>\n",
              "      <td>2</td>\n",
              "      <td>I know we can ignore our differences, even if ...</td>\n",
              "      <td>2</td>\n",
              "      <td>know</td>\n",
              "    </tr>\n",
              "    <tr>\n",
              "      <th>2</th>\n",
              "      <td>3</td>\n",
              "      <td>When we need it, we can take our discussions w...</td>\n",
              "      <td>1</td>\n",
              "      <td>discussions</td>\n",
              "    </tr>\n",
              "    <tr>\n",
              "      <th>3</th>\n",
              "      <td>4</td>\n",
              "      <td>When I discuss with my spouse, to contact him ...</td>\n",
              "      <td>1</td>\n",
              "      <td>discuss</td>\n",
              "    </tr>\n",
              "    <tr>\n",
              "      <th>4</th>\n",
              "      <td>5</td>\n",
              "      <td>The time I spent with my wife is special for us.</td>\n",
              "      <td>3</td>\n",
              "      <td>time spent</td>\n",
              "    </tr>\n",
              "  </tbody>\n",
              "</table>\n",
              "</div>\n",
              "      <button class=\"colab-df-convert\" onclick=\"convertToInteractive('df-366bc598-4031-4fdd-91a7-a4323fe8fb7d')\"\n",
              "              title=\"Convert this dataframe to an interactive table.\"\n",
              "              style=\"display:none;\">\n",
              "        \n",
              "  <svg xmlns=\"http://www.w3.org/2000/svg\" height=\"24px\"viewBox=\"0 0 24 24\"\n",
              "       width=\"24px\">\n",
              "    <path d=\"M0 0h24v24H0V0z\" fill=\"none\"/>\n",
              "    <path d=\"M18.56 5.44l.94 2.06.94-2.06 2.06-.94-2.06-.94-.94-2.06-.94 2.06-2.06.94zm-11 1L8.5 8.5l.94-2.06 2.06-.94-2.06-.94L8.5 2.5l-.94 2.06-2.06.94zm10 10l.94 2.06.94-2.06 2.06-.94-2.06-.94-.94-2.06-.94 2.06-2.06.94z\"/><path d=\"M17.41 7.96l-1.37-1.37c-.4-.4-.92-.59-1.43-.59-.52 0-1.04.2-1.43.59L10.3 9.45l-7.72 7.72c-.78.78-.78 2.05 0 2.83L4 21.41c.39.39.9.59 1.41.59.51 0 1.02-.2 1.41-.59l7.78-7.78 2.81-2.81c.8-.78.8-2.07 0-2.86zM5.41 20L4 18.59l7.72-7.72 1.47 1.35L5.41 20z\"/>\n",
              "  </svg>\n",
              "      </button>\n",
              "      \n",
              "  <style>\n",
              "    .colab-df-container {\n",
              "      display:flex;\n",
              "      flex-wrap:wrap;\n",
              "      gap: 12px;\n",
              "    }\n",
              "\n",
              "    .colab-df-convert {\n",
              "      background-color: #E8F0FE;\n",
              "      border: none;\n",
              "      border-radius: 50%;\n",
              "      cursor: pointer;\n",
              "      display: none;\n",
              "      fill: #1967D2;\n",
              "      height: 32px;\n",
              "      padding: 0 0 0 0;\n",
              "      width: 32px;\n",
              "    }\n",
              "\n",
              "    .colab-df-convert:hover {\n",
              "      background-color: #E2EBFA;\n",
              "      box-shadow: 0px 1px 2px rgba(60, 64, 67, 0.3), 0px 1px 3px 1px rgba(60, 64, 67, 0.15);\n",
              "      fill: #174EA6;\n",
              "    }\n",
              "\n",
              "    [theme=dark] .colab-df-convert {\n",
              "      background-color: #3B4455;\n",
              "      fill: #D2E3FC;\n",
              "    }\n",
              "\n",
              "    [theme=dark] .colab-df-convert:hover {\n",
              "      background-color: #434B5C;\n",
              "      box-shadow: 0px 1px 3px 1px rgba(0, 0, 0, 0.15);\n",
              "      filter: drop-shadow(0px 1px 2px rgba(0, 0, 0, 0.3));\n",
              "      fill: #FFFFFF;\n",
              "    }\n",
              "  </style>\n",
              "\n",
              "      <script>\n",
              "        const buttonEl =\n",
              "          document.querySelector('#df-366bc598-4031-4fdd-91a7-a4323fe8fb7d button.colab-df-convert');\n",
              "        buttonEl.style.display =\n",
              "          google.colab.kernel.accessAllowed ? 'block' : 'none';\n",
              "\n",
              "        async function convertToInteractive(key) {\n",
              "          const element = document.querySelector('#df-366bc598-4031-4fdd-91a7-a4323fe8fb7d');\n",
              "          const dataTable =\n",
              "            await google.colab.kernel.invokeFunction('convertToInteractive',\n",
              "                                                     [key], {});\n",
              "          if (!dataTable) return;\n",
              "\n",
              "          const docLinkHtml = 'Like what you see? Visit the ' +\n",
              "            '<a target=\"_blank\" href=https://colab.research.google.com/notebooks/data_table.ipynb>data table notebook</a>'\n",
              "            + ' to learn more about interactive tables.';\n",
              "          element.innerHTML = '';\n",
              "          dataTable['output_type'] = 'display_data';\n",
              "          await google.colab.output.renderOutput(dataTable, element);\n",
              "          const docLink = document.createElement('div');\n",
              "          docLink.innerHTML = docLinkHtml;\n",
              "          element.appendChild(docLink);\n",
              "        }\n",
              "      </script>\n",
              "    </div>\n",
              "  </div>\n",
              "  "
            ],
            "text/plain": [
              "   atribute_id  ...               keywords\n",
              "0            1  ...  discussion discussion\n",
              "1            2  ...                   know\n",
              "2            3  ...            discussions\n",
              "3            4  ...                discuss\n",
              "4            5  ...             time spent\n",
              "\n",
              "[5 rows x 4 columns]"
            ]
          },
          "metadata": {},
          "execution_count": 40
        }
      ]
    },
    {
      "cell_type": "markdown",
      "source": [
        "질문의 유형을 1부터 5까지 번호로 나누어봤다.\n",
        "\n",
        "이제, 어떤 질문 유형이 가장 많은지 살펴보기 위해, 같은 유형끼리 묶어서 카운트해준다."
      ],
      "metadata": {
        "id": "24MwNAoiRgrO"
      }
    },
    {
      "cell_type": "code",
      "source": [
        "# type이 같은 것끼리 묶어서 카운트해준 값을 (인덱스 기준)정렬하여 저장\n",
        "df_type = data_reference_keywords.type.value_counts().sort_index()\n",
        "df_type"
      ],
      "metadata": {
        "colab": {
          "base_uri": "https://localhost:8080/"
        },
        "id": "A4_eFI_3tU0H",
        "outputId": "2dc177cc-6ffd-44b3-ba13-c35dcab1a5bb"
      },
      "execution_count": 41,
      "outputs": [
        {
          "output_type": "execute_result",
          "data": {
            "text/plain": [
              "1    21\n",
              "2    10\n",
              "3     4\n",
              "4     8\n",
              "5    11\n",
              "Name: type, dtype: int64"
            ]
          },
          "metadata": {},
          "execution_count": 41
        }
      ]
    },
    {
      "cell_type": "markdown",
      "source": [
        "파이차트로 시각화"
      ],
      "metadata": {
        "id": "Obc2WSuQSsxS"
      }
    },
    {
      "cell_type": "code",
      "source": [
        "import plotly.express as px\n",
        "labels = ['discussion', 'to know each other', 'to spend time', 'common features', 'etc.']\n",
        "fig = px.pie(df_type,labels, values='type')\n",
        "fig.show()"
      ],
      "metadata": {
        "colab": {
          "base_uri": "https://localhost:8080/",
          "height": 0
        },
        "id": "u5uq_pFX_eRQ",
        "outputId": "6cf4fdf1-9053-404a-989e-28e3c96eb879"
      },
      "execution_count": 42,
      "outputs": [
        {
          "output_type": "display_data",
          "data": {
            "text/html": [
              "<html>\n",
              "<head><meta charset=\"utf-8\" /></head>\n",
              "<body>\n",
              "    <div>\n",
              "            <script src=\"https://cdnjs.cloudflare.com/ajax/libs/mathjax/2.7.5/MathJax.js?config=TeX-AMS-MML_SVG\"></script><script type=\"text/javascript\">if (window.MathJax) {MathJax.Hub.Config({SVG: {font: \"STIX-Web\"}});}</script>\n",
              "                <script type=\"text/javascript\">window.PlotlyConfig = {MathJaxConfig: 'local'};</script>\n",
              "        <script src=\"https://cdn.plot.ly/plotly-latest.min.js\"></script>    \n",
              "            <div id=\"b6a9f802-c4d6-4df3-bc45-843a94e1b617\" class=\"plotly-graph-div\" style=\"height:525px; width:100%;\"></div>\n",
              "            <script type=\"text/javascript\">\n",
              "                \n",
              "                    window.PLOTLYENV=window.PLOTLYENV || {};\n",
              "                    \n",
              "                if (document.getElementById(\"b6a9f802-c4d6-4df3-bc45-843a94e1b617\")) {\n",
              "                    Plotly.newPlot(\n",
              "                        'b6a9f802-c4d6-4df3-bc45-843a94e1b617',\n",
              "                        [{\"domain\": {\"x\": [0.0, 1.0], \"y\": [0.0, 1.0]}, \"hoverlabel\": {\"namelength\": 0}, \"hovertemplate\": \"label=%{label}<br>type=%{value}\", \"labels\": [\"discussion\", \"to know each other\", \"to spend time\", \"common features\", \"etc.\"], \"legendgroup\": \"\", \"name\": \"\", \"showlegend\": true, \"type\": \"pie\", \"values\": [21, 10, 4, 8, 11]}],\n",
              "                        {\"legend\": {\"tracegroupgap\": 0}, \"margin\": {\"t\": 60}, \"template\": {\"data\": {\"bar\": [{\"error_x\": {\"color\": \"#2a3f5f\"}, \"error_y\": {\"color\": \"#2a3f5f\"}, \"marker\": {\"line\": {\"color\": \"#E5ECF6\", \"width\": 0.5}}, \"type\": \"bar\"}], \"barpolar\": [{\"marker\": {\"line\": {\"color\": \"#E5ECF6\", \"width\": 0.5}}, \"type\": \"barpolar\"}], \"carpet\": [{\"aaxis\": {\"endlinecolor\": \"#2a3f5f\", \"gridcolor\": \"white\", \"linecolor\": \"white\", \"minorgridcolor\": \"white\", \"startlinecolor\": \"#2a3f5f\"}, \"baxis\": {\"endlinecolor\": \"#2a3f5f\", \"gridcolor\": \"white\", \"linecolor\": \"white\", \"minorgridcolor\": \"white\", \"startlinecolor\": \"#2a3f5f\"}, \"type\": \"carpet\"}], \"choropleth\": [{\"colorbar\": {\"outlinewidth\": 0, \"ticks\": \"\"}, \"type\": \"choropleth\"}], \"contour\": [{\"colorbar\": {\"outlinewidth\": 0, \"ticks\": \"\"}, \"colorscale\": [[0.0, \"#0d0887\"], [0.1111111111111111, \"#46039f\"], [0.2222222222222222, \"#7201a8\"], [0.3333333333333333, \"#9c179e\"], [0.4444444444444444, \"#bd3786\"], [0.5555555555555556, \"#d8576b\"], [0.6666666666666666, \"#ed7953\"], [0.7777777777777778, \"#fb9f3a\"], [0.8888888888888888, \"#fdca26\"], [1.0, \"#f0f921\"]], \"type\": \"contour\"}], \"contourcarpet\": [{\"colorbar\": {\"outlinewidth\": 0, \"ticks\": \"\"}, \"type\": \"contourcarpet\"}], \"heatmap\": [{\"colorbar\": {\"outlinewidth\": 0, \"ticks\": \"\"}, \"colorscale\": [[0.0, \"#0d0887\"], [0.1111111111111111, \"#46039f\"], [0.2222222222222222, \"#7201a8\"], [0.3333333333333333, \"#9c179e\"], [0.4444444444444444, \"#bd3786\"], [0.5555555555555556, \"#d8576b\"], [0.6666666666666666, \"#ed7953\"], [0.7777777777777778, \"#fb9f3a\"], [0.8888888888888888, \"#fdca26\"], [1.0, \"#f0f921\"]], \"type\": \"heatmap\"}], \"heatmapgl\": [{\"colorbar\": {\"outlinewidth\": 0, \"ticks\": \"\"}, \"colorscale\": [[0.0, \"#0d0887\"], [0.1111111111111111, \"#46039f\"], [0.2222222222222222, \"#7201a8\"], [0.3333333333333333, \"#9c179e\"], [0.4444444444444444, \"#bd3786\"], [0.5555555555555556, \"#d8576b\"], [0.6666666666666666, \"#ed7953\"], [0.7777777777777778, \"#fb9f3a\"], [0.8888888888888888, \"#fdca26\"], [1.0, \"#f0f921\"]], \"type\": \"heatmapgl\"}], \"histogram\": [{\"marker\": {\"colorbar\": {\"outlinewidth\": 0, \"ticks\": \"\"}}, \"type\": \"histogram\"}], \"histogram2d\": [{\"colorbar\": {\"outlinewidth\": 0, \"ticks\": \"\"}, \"colorscale\": [[0.0, \"#0d0887\"], [0.1111111111111111, \"#46039f\"], [0.2222222222222222, \"#7201a8\"], [0.3333333333333333, \"#9c179e\"], [0.4444444444444444, \"#bd3786\"], [0.5555555555555556, \"#d8576b\"], [0.6666666666666666, \"#ed7953\"], [0.7777777777777778, \"#fb9f3a\"], [0.8888888888888888, \"#fdca26\"], [1.0, \"#f0f921\"]], \"type\": \"histogram2d\"}], \"histogram2dcontour\": [{\"colorbar\": {\"outlinewidth\": 0, \"ticks\": \"\"}, \"colorscale\": [[0.0, \"#0d0887\"], [0.1111111111111111, \"#46039f\"], [0.2222222222222222, \"#7201a8\"], [0.3333333333333333, \"#9c179e\"], [0.4444444444444444, \"#bd3786\"], [0.5555555555555556, \"#d8576b\"], [0.6666666666666666, \"#ed7953\"], [0.7777777777777778, \"#fb9f3a\"], [0.8888888888888888, \"#fdca26\"], [1.0, \"#f0f921\"]], \"type\": \"histogram2dcontour\"}], \"mesh3d\": [{\"colorbar\": {\"outlinewidth\": 0, \"ticks\": \"\"}, \"type\": \"mesh3d\"}], \"parcoords\": [{\"line\": {\"colorbar\": {\"outlinewidth\": 0, \"ticks\": \"\"}}, \"type\": \"parcoords\"}], \"pie\": [{\"automargin\": true, \"type\": \"pie\"}], \"scatter\": [{\"marker\": {\"colorbar\": {\"outlinewidth\": 0, \"ticks\": \"\"}}, \"type\": \"scatter\"}], \"scatter3d\": [{\"line\": {\"colorbar\": {\"outlinewidth\": 0, \"ticks\": \"\"}}, \"marker\": {\"colorbar\": {\"outlinewidth\": 0, \"ticks\": \"\"}}, \"type\": \"scatter3d\"}], \"scattercarpet\": [{\"marker\": {\"colorbar\": {\"outlinewidth\": 0, \"ticks\": \"\"}}, \"type\": \"scattercarpet\"}], \"scattergeo\": [{\"marker\": {\"colorbar\": {\"outlinewidth\": 0, \"ticks\": \"\"}}, \"type\": \"scattergeo\"}], \"scattergl\": [{\"marker\": {\"colorbar\": {\"outlinewidth\": 0, \"ticks\": \"\"}}, \"type\": \"scattergl\"}], \"scattermapbox\": [{\"marker\": {\"colorbar\": {\"outlinewidth\": 0, \"ticks\": \"\"}}, \"type\": \"scattermapbox\"}], \"scatterpolar\": [{\"marker\": {\"colorbar\": {\"outlinewidth\": 0, \"ticks\": \"\"}}, \"type\": \"scatterpolar\"}], \"scatterpolargl\": [{\"marker\": {\"colorbar\": {\"outlinewidth\": 0, \"ticks\": \"\"}}, \"type\": \"scatterpolargl\"}], \"scatterternary\": [{\"marker\": {\"colorbar\": {\"outlinewidth\": 0, \"ticks\": \"\"}}, \"type\": \"scatterternary\"}], \"surface\": [{\"colorbar\": {\"outlinewidth\": 0, \"ticks\": \"\"}, \"colorscale\": [[0.0, \"#0d0887\"], [0.1111111111111111, \"#46039f\"], [0.2222222222222222, \"#7201a8\"], [0.3333333333333333, \"#9c179e\"], [0.4444444444444444, \"#bd3786\"], [0.5555555555555556, \"#d8576b\"], [0.6666666666666666, \"#ed7953\"], [0.7777777777777778, \"#fb9f3a\"], [0.8888888888888888, \"#fdca26\"], [1.0, \"#f0f921\"]], \"type\": \"surface\"}], \"table\": [{\"cells\": {\"fill\": {\"color\": \"#EBF0F8\"}, \"line\": {\"color\": \"white\"}}, \"header\": {\"fill\": {\"color\": \"#C8D4E3\"}, \"line\": {\"color\": \"white\"}}, \"type\": \"table\"}]}, \"layout\": {\"annotationdefaults\": {\"arrowcolor\": \"#2a3f5f\", \"arrowhead\": 0, \"arrowwidth\": 1}, \"coloraxis\": {\"colorbar\": {\"outlinewidth\": 0, \"ticks\": \"\"}}, \"colorscale\": {\"diverging\": [[0, \"#8e0152\"], [0.1, \"#c51b7d\"], [0.2, \"#de77ae\"], [0.3, \"#f1b6da\"], [0.4, \"#fde0ef\"], [0.5, \"#f7f7f7\"], [0.6, \"#e6f5d0\"], [0.7, \"#b8e186\"], [0.8, \"#7fbc41\"], [0.9, \"#4d9221\"], [1, \"#276419\"]], \"sequential\": [[0.0, \"#0d0887\"], [0.1111111111111111, \"#46039f\"], [0.2222222222222222, \"#7201a8\"], [0.3333333333333333, \"#9c179e\"], [0.4444444444444444, \"#bd3786\"], [0.5555555555555556, \"#d8576b\"], [0.6666666666666666, \"#ed7953\"], [0.7777777777777778, \"#fb9f3a\"], [0.8888888888888888, \"#fdca26\"], [1.0, \"#f0f921\"]], \"sequentialminus\": [[0.0, \"#0d0887\"], [0.1111111111111111, \"#46039f\"], [0.2222222222222222, \"#7201a8\"], [0.3333333333333333, \"#9c179e\"], [0.4444444444444444, \"#bd3786\"], [0.5555555555555556, \"#d8576b\"], [0.6666666666666666, \"#ed7953\"], [0.7777777777777778, \"#fb9f3a\"], [0.8888888888888888, \"#fdca26\"], [1.0, \"#f0f921\"]]}, \"colorway\": [\"#636efa\", \"#EF553B\", \"#00cc96\", \"#ab63fa\", \"#FFA15A\", \"#19d3f3\", \"#FF6692\", \"#B6E880\", \"#FF97FF\", \"#FECB52\"], \"font\": {\"color\": \"#2a3f5f\"}, \"geo\": {\"bgcolor\": \"white\", \"lakecolor\": \"white\", \"landcolor\": \"#E5ECF6\", \"showlakes\": true, \"showland\": true, \"subunitcolor\": \"white\"}, \"hoverlabel\": {\"align\": \"left\"}, \"hovermode\": \"closest\", \"mapbox\": {\"style\": \"light\"}, \"paper_bgcolor\": \"white\", \"plot_bgcolor\": \"#E5ECF6\", \"polar\": {\"angularaxis\": {\"gridcolor\": \"white\", \"linecolor\": \"white\", \"ticks\": \"\"}, \"bgcolor\": \"#E5ECF6\", \"radialaxis\": {\"gridcolor\": \"white\", \"linecolor\": \"white\", \"ticks\": \"\"}}, \"scene\": {\"xaxis\": {\"backgroundcolor\": \"#E5ECF6\", \"gridcolor\": \"white\", \"gridwidth\": 2, \"linecolor\": \"white\", \"showbackground\": true, \"ticks\": \"\", \"zerolinecolor\": \"white\"}, \"yaxis\": {\"backgroundcolor\": \"#E5ECF6\", \"gridcolor\": \"white\", \"gridwidth\": 2, \"linecolor\": \"white\", \"showbackground\": true, \"ticks\": \"\", \"zerolinecolor\": \"white\"}, \"zaxis\": {\"backgroundcolor\": \"#E5ECF6\", \"gridcolor\": \"white\", \"gridwidth\": 2, \"linecolor\": \"white\", \"showbackground\": true, \"ticks\": \"\", \"zerolinecolor\": \"white\"}}, \"shapedefaults\": {\"line\": {\"color\": \"#2a3f5f\"}}, \"ternary\": {\"aaxis\": {\"gridcolor\": \"white\", \"linecolor\": \"white\", \"ticks\": \"\"}, \"baxis\": {\"gridcolor\": \"white\", \"linecolor\": \"white\", \"ticks\": \"\"}, \"bgcolor\": \"#E5ECF6\", \"caxis\": {\"gridcolor\": \"white\", \"linecolor\": \"white\", \"ticks\": \"\"}}, \"title\": {\"x\": 0.05}, \"xaxis\": {\"automargin\": true, \"gridcolor\": \"white\", \"linecolor\": \"white\", \"ticks\": \"\", \"title\": {\"standoff\": 15}, \"zerolinecolor\": \"white\", \"zerolinewidth\": 2}, \"yaxis\": {\"automargin\": true, \"gridcolor\": \"white\", \"linecolor\": \"white\", \"ticks\": \"\", \"title\": {\"standoff\": 15}, \"zerolinecolor\": \"white\", \"zerolinewidth\": 2}}}},\n",
              "                        {\"responsive\": true}\n",
              "                    ).then(function(){\n",
              "                            \n",
              "var gd = document.getElementById('b6a9f802-c4d6-4df3-bc45-843a94e1b617');\n",
              "var x = new MutationObserver(function (mutations, observer) {{\n",
              "        var display = window.getComputedStyle(gd).display;\n",
              "        if (!display || display === 'none') {{\n",
              "            console.log([gd, 'removed!']);\n",
              "            Plotly.purge(gd);\n",
              "            observer.disconnect();\n",
              "        }}\n",
              "}});\n",
              "\n",
              "// Listen for the removal of the full notebook cells\n",
              "var notebookContainer = gd.closest('#notebook-container');\n",
              "if (notebookContainer) {{\n",
              "    x.observe(notebookContainer, {childList: true});\n",
              "}}\n",
              "\n",
              "// Listen for the clearing of the current output cell\n",
              "var outputEl = gd.closest('.output');\n",
              "if (outputEl) {{\n",
              "    x.observe(outputEl, {childList: true});\n",
              "}}\n",
              "\n",
              "                        })\n",
              "                };\n",
              "                \n",
              "            </script>\n",
              "        </div>\n",
              "</body>\n",
              "</html>"
            ]
          },
          "metadata": {}
        }
      ]
    },
    {
      "cell_type": "markdown",
      "source": [
        "38.9% 로 대화 관련 질문이 가장 많은 것을 확인했다.\n",
        "\n",
        "이혼을 예측할 때 대화 관련 질문이 가장 많다는 것을 의미하며,\n",
        "부부관계에서 대화가 중요하다고 할 수 있을 것이다."
      ],
      "metadata": {
        "id": "AeHdhLieViHG"
      }
    },
    {
      "cell_type": "code",
      "source": [
        ""
      ],
      "metadata": {
        "id": "dX5L16rx8M26"
      },
      "execution_count": 42,
      "outputs": []
    },
    {
      "cell_type": "markdown",
      "source": [
        "# 정리\n",
        "\n",
        "(1) 이혼 예측\n",
        "- decision tree, random forest 방법으로 0.92%, 0.96%의 높은 정확도를 가진 예측 모델을 만들었다.\n",
        "- 특성중요도를 통해 대화, 비슷한 결혼 생활에 대한 질문이 이혼을 예측하는데 중요한 요인임을 알 수 있었다.\n",
        "\n",
        "\n",
        "(2) 이혼 예측의 중요 요인\n",
        "- 텍스트 전처리를 통해 질문을 요약하였고, 빈도 수가 높은 단어로 질문 유형을 나누었다.\n",
        "- '대화' 관련 질문이 가장 많은 비율을 차지한다는 사실을 통해, '대화' 관련 질문이 이혼을 예측하는데 주요한 질문 유형임을 알 수 있었다."
      ],
      "metadata": {
        "id": "NA7ULIUB4fG9"
      }
    },
    {
      "cell_type": "markdown",
      "source": [
        "# Dashboard\n",
        "\n",
        "\n",
        "참고 : https://dash.plotly.com/layout\n",
        "\n",
        "https://plotly.com/python/tick-formatting/"
      ],
      "metadata": {
        "id": "8sa7cOgeWlci"
      }
    },
    {
      "cell_type": "code",
      "source": [
        "df_sum = pd.concat([res_d, res_m])\n",
        "\n",
        "df_sum = df_sum.rename(columns={0 : \"divorce\"})\n",
        "df_sum = df_sum.rename(index={0 : \"never\", \n",
        "                              1 : \"seldom\", \n",
        "                              2 :'Averagely', \n",
        "                              3 : 'Frequently',\n",
        "                              4 : 'Always'})\n",
        "# 여기서 'divorce'열을 스트링 타입으로 바꿔준 이유 (스트링으로 바꾸면서 두문제 해결)\n",
        "# 1. bar그래프 그릴때 divorce기준으로 구분하는데 0과1이 아니라 0부터 1로 색깔 구분이 됨.\n",
        "# 2. divorce기준으로 구분된 두 그래프가 겹쳐져서 그려짐.\n",
        "df_sum['divorce'] = df_sum['divorce'].astype(str)\n",
        "\n",
        "print(df_sum)"
      ],
      "metadata": {
        "colab": {
          "base_uri": "https://localhost:8080/"
        },
        "id": "2hiwBoIhM7vN",
        "outputId": "84c4c276-1075-413a-de95-73e2395c38ee"
      },
      "execution_count": 43,
      "outputs": [
        {
          "output_type": "stream",
          "name": "stdout",
          "text": [
            "            Q1  Q2  Q3  Q4  Q5  Q6  Q7  ...  Q49  Q50  Q51  Q52  Q53  Q54  divorce\n",
            "never       68  57  51  73  79  64  85  ...   28   19   12   23   31   46        0\n",
            "seldom       8  21  20   9   5  14   1  ...   26   27   24   23   25   24        0\n",
            "Averagely    6   5  11   1   2   7   0  ...   17   31   38   17   18   14        0\n",
            "Frequently   2   3   3   0   0   0   0  ...   10    6    9   14    7    1        0\n",
            "Always       2   0   1   3   0   1   0  ...    5    3    3    9    5    1        0\n",
            "never        1   2   0   2   3  22  29  ...    0    0    0    0    0    4        1\n",
            "seldom       1   2   4   3   5  35  41  ...    2    4    5    5    6    3        1\n",
            "Averagely    8  23  15  29   6  22   5  ...    9    5    5    6    8    7        1\n",
            "Frequently  45  35  49  32  44   4   4  ...   17   20   29   16   23   14        1\n",
            "Always      29  22  16  18  26   1   5  ...   56   55   45   57   47   56        1\n",
            "\n",
            "[10 rows x 55 columns]\n"
          ]
        }
      ]
    },
    {
      "cell_type": "code",
      "source": [
        "df_sum.to_csv('divorce_sum.csv')  # 따로 csv파일로 저장해줌"
      ],
      "metadata": {
        "id": "cFddW_az0Vhy"
      },
      "execution_count": 44,
      "outputs": []
    },
    {
      "cell_type": "markdown",
      "source": [
        "(1) 대시보드에 추가할 첫번째 그래프"
      ],
      "metadata": {
        "id": "eANzZsJcWaAj"
      }
    },
    {
      "cell_type": "code",
      "metadata": {
        "id": "-7XQYAM-qQoA",
        "colab": {
          "base_uri": "https://localhost:8080/",
          "height": 417
        },
        "outputId": "98370fc9-574b-47d9-d5a8-c4a4708506eb"
      },
      "source": [
        "import plotly.express as px\n",
        "fig = px.bar(df_sum, x=df_sum.index, y=df_sum[\"Q1\"], color='divorce', barmode='group',width=600, height=400)\n",
        "fig.update_xaxes(type='category')\n",
        "\n",
        "fig.show()\n",
        "\n"
      ],
      "execution_count": 45,
      "outputs": [
        {
          "output_type": "display_data",
          "data": {
            "text/html": [
              "<html>\n",
              "<head><meta charset=\"utf-8\" /></head>\n",
              "<body>\n",
              "    <div>\n",
              "            <script src=\"https://cdnjs.cloudflare.com/ajax/libs/mathjax/2.7.5/MathJax.js?config=TeX-AMS-MML_SVG\"></script><script type=\"text/javascript\">if (window.MathJax) {MathJax.Hub.Config({SVG: {font: \"STIX-Web\"}});}</script>\n",
              "                <script type=\"text/javascript\">window.PlotlyConfig = {MathJaxConfig: 'local'};</script>\n",
              "        <script src=\"https://cdn.plot.ly/plotly-latest.min.js\"></script>    \n",
              "            <div id=\"ecfd823a-2e96-4c90-b394-e77f191f4372\" class=\"plotly-graph-div\" style=\"height:400px; width:600px;\"></div>\n",
              "            <script type=\"text/javascript\">\n",
              "                \n",
              "                    window.PLOTLYENV=window.PLOTLYENV || {};\n",
              "                    \n",
              "                if (document.getElementById(\"ecfd823a-2e96-4c90-b394-e77f191f4372\")) {\n",
              "                    Plotly.newPlot(\n",
              "                        'ecfd823a-2e96-4c90-b394-e77f191f4372',\n",
              "                        [{\"alignmentgroup\": \"True\", \"hoverlabel\": {\"namelength\": 0}, \"hovertemplate\": \"divorce=0<br>x=%{x}<br>Q1=%{y}\", \"legendgroup\": \"divorce=0\", \"marker\": {\"color\": \"#636efa\"}, \"name\": \"divorce=0\", \"offsetgroup\": \"divorce=0\", \"orientation\": \"v\", \"showlegend\": true, \"textposition\": \"auto\", \"type\": \"bar\", \"x\": [\"never\", \"seldom\", \"Averagely\", \"Frequently\", \"Always\"], \"xaxis\": \"x\", \"y\": [68, 8, 6, 2, 2], \"yaxis\": \"y\"}, {\"alignmentgroup\": \"True\", \"hoverlabel\": {\"namelength\": 0}, \"hovertemplate\": \"divorce=1<br>x=%{x}<br>Q1=%{y}\", \"legendgroup\": \"divorce=1\", \"marker\": {\"color\": \"#EF553B\"}, \"name\": \"divorce=1\", \"offsetgroup\": \"divorce=1\", \"orientation\": \"v\", \"showlegend\": true, \"textposition\": \"auto\", \"type\": \"bar\", \"x\": [\"never\", \"seldom\", \"Averagely\", \"Frequently\", \"Always\"], \"xaxis\": \"x\", \"y\": [1, 1, 8, 45, 29], \"yaxis\": \"y\"}],\n",
              "                        {\"barmode\": \"group\", \"height\": 400, \"legend\": {\"tracegroupgap\": 0}, \"margin\": {\"t\": 60}, \"template\": {\"data\": {\"bar\": [{\"error_x\": {\"color\": \"#2a3f5f\"}, \"error_y\": {\"color\": \"#2a3f5f\"}, \"marker\": {\"line\": {\"color\": \"#E5ECF6\", \"width\": 0.5}}, \"type\": \"bar\"}], \"barpolar\": [{\"marker\": {\"line\": {\"color\": \"#E5ECF6\", \"width\": 0.5}}, \"type\": \"barpolar\"}], \"carpet\": [{\"aaxis\": {\"endlinecolor\": \"#2a3f5f\", \"gridcolor\": \"white\", \"linecolor\": \"white\", \"minorgridcolor\": \"white\", \"startlinecolor\": \"#2a3f5f\"}, \"baxis\": {\"endlinecolor\": \"#2a3f5f\", \"gridcolor\": \"white\", \"linecolor\": \"white\", \"minorgridcolor\": \"white\", \"startlinecolor\": \"#2a3f5f\"}, \"type\": \"carpet\"}], \"choropleth\": [{\"colorbar\": {\"outlinewidth\": 0, \"ticks\": \"\"}, \"type\": \"choropleth\"}], \"contour\": [{\"colorbar\": {\"outlinewidth\": 0, \"ticks\": \"\"}, \"colorscale\": [[0.0, \"#0d0887\"], [0.1111111111111111, \"#46039f\"], [0.2222222222222222, \"#7201a8\"], [0.3333333333333333, \"#9c179e\"], [0.4444444444444444, \"#bd3786\"], [0.5555555555555556, \"#d8576b\"], [0.6666666666666666, \"#ed7953\"], [0.7777777777777778, \"#fb9f3a\"], [0.8888888888888888, \"#fdca26\"], [1.0, \"#f0f921\"]], \"type\": \"contour\"}], \"contourcarpet\": [{\"colorbar\": {\"outlinewidth\": 0, \"ticks\": \"\"}, \"type\": \"contourcarpet\"}], \"heatmap\": [{\"colorbar\": {\"outlinewidth\": 0, \"ticks\": \"\"}, \"colorscale\": [[0.0, \"#0d0887\"], [0.1111111111111111, \"#46039f\"], [0.2222222222222222, \"#7201a8\"], [0.3333333333333333, \"#9c179e\"], [0.4444444444444444, \"#bd3786\"], [0.5555555555555556, \"#d8576b\"], [0.6666666666666666, \"#ed7953\"], [0.7777777777777778, \"#fb9f3a\"], [0.8888888888888888, \"#fdca26\"], [1.0, \"#f0f921\"]], \"type\": \"heatmap\"}], \"heatmapgl\": [{\"colorbar\": {\"outlinewidth\": 0, \"ticks\": \"\"}, \"colorscale\": [[0.0, \"#0d0887\"], [0.1111111111111111, \"#46039f\"], [0.2222222222222222, \"#7201a8\"], [0.3333333333333333, \"#9c179e\"], [0.4444444444444444, \"#bd3786\"], [0.5555555555555556, \"#d8576b\"], [0.6666666666666666, \"#ed7953\"], [0.7777777777777778, \"#fb9f3a\"], [0.8888888888888888, \"#fdca26\"], [1.0, \"#f0f921\"]], \"type\": \"heatmapgl\"}], \"histogram\": [{\"marker\": {\"colorbar\": {\"outlinewidth\": 0, \"ticks\": \"\"}}, \"type\": \"histogram\"}], \"histogram2d\": [{\"colorbar\": {\"outlinewidth\": 0, \"ticks\": \"\"}, \"colorscale\": [[0.0, \"#0d0887\"], [0.1111111111111111, \"#46039f\"], [0.2222222222222222, \"#7201a8\"], [0.3333333333333333, \"#9c179e\"], [0.4444444444444444, \"#bd3786\"], [0.5555555555555556, \"#d8576b\"], [0.6666666666666666, \"#ed7953\"], [0.7777777777777778, \"#fb9f3a\"], [0.8888888888888888, \"#fdca26\"], [1.0, \"#f0f921\"]], \"type\": \"histogram2d\"}], \"histogram2dcontour\": [{\"colorbar\": {\"outlinewidth\": 0, \"ticks\": \"\"}, \"colorscale\": [[0.0, \"#0d0887\"], [0.1111111111111111, \"#46039f\"], [0.2222222222222222, \"#7201a8\"], [0.3333333333333333, \"#9c179e\"], [0.4444444444444444, \"#bd3786\"], [0.5555555555555556, \"#d8576b\"], [0.6666666666666666, \"#ed7953\"], [0.7777777777777778, \"#fb9f3a\"], [0.8888888888888888, \"#fdca26\"], [1.0, \"#f0f921\"]], \"type\": \"histogram2dcontour\"}], \"mesh3d\": [{\"colorbar\": {\"outlinewidth\": 0, \"ticks\": \"\"}, \"type\": \"mesh3d\"}], \"parcoords\": [{\"line\": {\"colorbar\": {\"outlinewidth\": 0, \"ticks\": \"\"}}, \"type\": \"parcoords\"}], \"pie\": [{\"automargin\": true, \"type\": \"pie\"}], \"scatter\": [{\"marker\": {\"colorbar\": {\"outlinewidth\": 0, \"ticks\": \"\"}}, \"type\": \"scatter\"}], \"scatter3d\": [{\"line\": {\"colorbar\": {\"outlinewidth\": 0, \"ticks\": \"\"}}, \"marker\": {\"colorbar\": {\"outlinewidth\": 0, \"ticks\": \"\"}}, \"type\": \"scatter3d\"}], \"scattercarpet\": [{\"marker\": {\"colorbar\": {\"outlinewidth\": 0, \"ticks\": \"\"}}, \"type\": \"scattercarpet\"}], \"scattergeo\": [{\"marker\": {\"colorbar\": {\"outlinewidth\": 0, \"ticks\": \"\"}}, \"type\": \"scattergeo\"}], \"scattergl\": [{\"marker\": {\"colorbar\": {\"outlinewidth\": 0, \"ticks\": \"\"}}, \"type\": \"scattergl\"}], \"scattermapbox\": [{\"marker\": {\"colorbar\": {\"outlinewidth\": 0, \"ticks\": \"\"}}, \"type\": \"scattermapbox\"}], \"scatterpolar\": [{\"marker\": {\"colorbar\": {\"outlinewidth\": 0, \"ticks\": \"\"}}, \"type\": \"scatterpolar\"}], \"scatterpolargl\": [{\"marker\": {\"colorbar\": {\"outlinewidth\": 0, \"ticks\": \"\"}}, \"type\": \"scatterpolargl\"}], \"scatterternary\": [{\"marker\": {\"colorbar\": {\"outlinewidth\": 0, \"ticks\": \"\"}}, \"type\": \"scatterternary\"}], \"surface\": [{\"colorbar\": {\"outlinewidth\": 0, \"ticks\": \"\"}, \"colorscale\": [[0.0, \"#0d0887\"], [0.1111111111111111, \"#46039f\"], [0.2222222222222222, \"#7201a8\"], [0.3333333333333333, \"#9c179e\"], [0.4444444444444444, \"#bd3786\"], [0.5555555555555556, \"#d8576b\"], [0.6666666666666666, \"#ed7953\"], [0.7777777777777778, \"#fb9f3a\"], [0.8888888888888888, \"#fdca26\"], [1.0, \"#f0f921\"]], \"type\": \"surface\"}], \"table\": [{\"cells\": {\"fill\": {\"color\": \"#EBF0F8\"}, \"line\": {\"color\": \"white\"}}, \"header\": {\"fill\": {\"color\": \"#C8D4E3\"}, \"line\": {\"color\": \"white\"}}, \"type\": \"table\"}]}, \"layout\": {\"annotationdefaults\": {\"arrowcolor\": \"#2a3f5f\", \"arrowhead\": 0, \"arrowwidth\": 1}, \"coloraxis\": {\"colorbar\": {\"outlinewidth\": 0, \"ticks\": \"\"}}, \"colorscale\": {\"diverging\": [[0, \"#8e0152\"], [0.1, \"#c51b7d\"], [0.2, \"#de77ae\"], [0.3, \"#f1b6da\"], [0.4, \"#fde0ef\"], [0.5, \"#f7f7f7\"], [0.6, \"#e6f5d0\"], [0.7, \"#b8e186\"], [0.8, \"#7fbc41\"], [0.9, \"#4d9221\"], [1, \"#276419\"]], \"sequential\": [[0.0, \"#0d0887\"], [0.1111111111111111, \"#46039f\"], [0.2222222222222222, \"#7201a8\"], [0.3333333333333333, \"#9c179e\"], [0.4444444444444444, \"#bd3786\"], [0.5555555555555556, \"#d8576b\"], [0.6666666666666666, \"#ed7953\"], [0.7777777777777778, \"#fb9f3a\"], [0.8888888888888888, \"#fdca26\"], [1.0, \"#f0f921\"]], \"sequentialminus\": [[0.0, \"#0d0887\"], [0.1111111111111111, \"#46039f\"], [0.2222222222222222, \"#7201a8\"], [0.3333333333333333, \"#9c179e\"], [0.4444444444444444, \"#bd3786\"], [0.5555555555555556, \"#d8576b\"], [0.6666666666666666, \"#ed7953\"], [0.7777777777777778, \"#fb9f3a\"], [0.8888888888888888, \"#fdca26\"], [1.0, \"#f0f921\"]]}, \"colorway\": [\"#636efa\", \"#EF553B\", \"#00cc96\", \"#ab63fa\", \"#FFA15A\", \"#19d3f3\", \"#FF6692\", \"#B6E880\", \"#FF97FF\", \"#FECB52\"], \"font\": {\"color\": \"#2a3f5f\"}, \"geo\": {\"bgcolor\": \"white\", \"lakecolor\": \"white\", \"landcolor\": \"#E5ECF6\", \"showlakes\": true, \"showland\": true, \"subunitcolor\": \"white\"}, \"hoverlabel\": {\"align\": \"left\"}, \"hovermode\": \"closest\", \"mapbox\": {\"style\": \"light\"}, \"paper_bgcolor\": \"white\", \"plot_bgcolor\": \"#E5ECF6\", \"polar\": {\"angularaxis\": {\"gridcolor\": \"white\", \"linecolor\": \"white\", \"ticks\": \"\"}, \"bgcolor\": \"#E5ECF6\", \"radialaxis\": {\"gridcolor\": \"white\", \"linecolor\": \"white\", \"ticks\": \"\"}}, \"scene\": {\"xaxis\": {\"backgroundcolor\": \"#E5ECF6\", \"gridcolor\": \"white\", \"gridwidth\": 2, \"linecolor\": \"white\", \"showbackground\": true, \"ticks\": \"\", \"zerolinecolor\": \"white\"}, \"yaxis\": {\"backgroundcolor\": \"#E5ECF6\", \"gridcolor\": \"white\", \"gridwidth\": 2, \"linecolor\": \"white\", \"showbackground\": true, \"ticks\": \"\", \"zerolinecolor\": \"white\"}, \"zaxis\": {\"backgroundcolor\": \"#E5ECF6\", \"gridcolor\": \"white\", \"gridwidth\": 2, \"linecolor\": \"white\", \"showbackground\": true, \"ticks\": \"\", \"zerolinecolor\": \"white\"}}, \"shapedefaults\": {\"line\": {\"color\": \"#2a3f5f\"}}, \"ternary\": {\"aaxis\": {\"gridcolor\": \"white\", \"linecolor\": \"white\", \"ticks\": \"\"}, \"baxis\": {\"gridcolor\": \"white\", \"linecolor\": \"white\", \"ticks\": \"\"}, \"bgcolor\": \"#E5ECF6\", \"caxis\": {\"gridcolor\": \"white\", \"linecolor\": \"white\", \"ticks\": \"\"}}, \"title\": {\"x\": 0.05}, \"xaxis\": {\"automargin\": true, \"gridcolor\": \"white\", \"linecolor\": \"white\", \"ticks\": \"\", \"title\": {\"standoff\": 15}, \"zerolinecolor\": \"white\", \"zerolinewidth\": 2}, \"yaxis\": {\"automargin\": true, \"gridcolor\": \"white\", \"linecolor\": \"white\", \"ticks\": \"\", \"title\": {\"standoff\": 15}, \"zerolinecolor\": \"white\", \"zerolinewidth\": 2}}}, \"width\": 600, \"xaxis\": {\"anchor\": \"y\", \"domain\": [0.0, 1.0], \"title\": {\"text\": \"x\"}, \"type\": \"category\"}, \"yaxis\": {\"anchor\": \"x\", \"domain\": [0.0, 1.0], \"title\": {\"text\": \"Q1\"}}},\n",
              "                        {\"responsive\": true}\n",
              "                    ).then(function(){\n",
              "                            \n",
              "var gd = document.getElementById('ecfd823a-2e96-4c90-b394-e77f191f4372');\n",
              "var x = new MutationObserver(function (mutations, observer) {{\n",
              "        var display = window.getComputedStyle(gd).display;\n",
              "        if (!display || display === 'none') {{\n",
              "            console.log([gd, 'removed!']);\n",
              "            Plotly.purge(gd);\n",
              "            observer.disconnect();\n",
              "        }}\n",
              "}});\n",
              "\n",
              "// Listen for the removal of the full notebook cells\n",
              "var notebookContainer = gd.closest('#notebook-container');\n",
              "if (notebookContainer) {{\n",
              "    x.observe(notebookContainer, {childList: true});\n",
              "}}\n",
              "\n",
              "// Listen for the clearing of the current output cell\n",
              "var outputEl = gd.closest('.output');\n",
              "if (outputEl) {{\n",
              "    x.observe(outputEl, {childList: true});\n",
              "}}\n",
              "\n",
              "                        })\n",
              "                };\n",
              "                \n",
              "            </script>\n",
              "        </div>\n",
              "</body>\n",
              "</html>"
            ]
          },
          "metadata": {}
        }
      ]
    },
    {
      "cell_type": "markdown",
      "source": [
        "(2) 두번째 그래프\n",
        "* 질문 유형 비율을 알 수 있는 파이그래프"
      ],
      "metadata": {
        "id": "X0s9WGBdXB1h"
      }
    },
    {
      "cell_type": "markdown",
      "source": [
        "(3)"
      ],
      "metadata": {
        "id": "SfSU4wdhXBiy"
      }
    },
    {
      "cell_type": "code",
      "source": [
        "df_noun_count = pd.DataFrame(counts_noun.most_common(20))\n",
        "df_verb_count = pd.DataFrame(counts_verb.most_common(20))\n",
        "df_adj_count = pd.DataFrame(counts_adj.most_common(20))"
      ],
      "metadata": {
        "id": "vJEcGaM-UOIb"
      },
      "execution_count": 46,
      "outputs": []
    },
    {
      "cell_type": "code",
      "source": [
        "!pip install dash\n",
        "!pip install jupyter_dash"
      ],
      "metadata": {
        "id": "aWgtFrQVd8Qe",
        "colab": {
          "base_uri": "https://localhost:8080/",
          "height": 1000
        },
        "outputId": "a4cb1eb4-505e-477e-c906-71e0135823fa"
      },
      "execution_count": 47,
      "outputs": [
        {
          "output_type": "stream",
          "name": "stdout",
          "text": [
            "Collecting dash\n",
            "  Downloading dash-2.0.0-py3-none-any.whl (7.3 MB)\n",
            "\u001b[K     |████████████████████████████████| 7.3 MB 27.0 MB/s \n",
            "\u001b[?25hCollecting flask-compress\n",
            "  Downloading Flask_Compress-1.10.1-py3-none-any.whl (7.9 kB)\n",
            "Requirement already satisfied: Flask>=1.0.4 in /usr/local/lib/python3.7/dist-packages (from dash) (1.1.4)\n",
            "Collecting dash-html-components==2.0.0\n",
            "  Downloading dash_html_components-2.0.0.tar.gz (3.8 kB)\n",
            "Collecting dash-core-components==2.0.0\n",
            "  Downloading dash_core_components-2.0.0.tar.gz (3.4 kB)\n",
            "Collecting dash-table==5.0.0\n",
            "  Downloading dash_table-5.0.0.tar.gz (3.4 kB)\n",
            "Collecting plotly>=5.0.0\n",
            "  Downloading plotly-5.4.0-py2.py3-none-any.whl (25.3 MB)\n",
            "\u001b[K     |████████████████████████████████| 25.3 MB 53.4 MB/s \n",
            "\u001b[?25hRequirement already satisfied: itsdangerous<2.0,>=0.24 in /usr/local/lib/python3.7/dist-packages (from Flask>=1.0.4->dash) (1.1.0)\n",
            "Requirement already satisfied: Jinja2<3.0,>=2.10.1 in /usr/local/lib/python3.7/dist-packages (from Flask>=1.0.4->dash) (2.11.3)\n",
            "Requirement already satisfied: Werkzeug<2.0,>=0.15 in /usr/local/lib/python3.7/dist-packages (from Flask>=1.0.4->dash) (1.0.1)\n",
            "Requirement already satisfied: click<8.0,>=5.1 in /usr/local/lib/python3.7/dist-packages (from Flask>=1.0.4->dash) (7.1.2)\n",
            "Requirement already satisfied: MarkupSafe>=0.23 in /usr/local/lib/python3.7/dist-packages (from Jinja2<3.0,>=2.10.1->Flask>=1.0.4->dash) (2.0.1)\n",
            "Collecting tenacity>=6.2.0\n",
            "  Downloading tenacity-8.0.1-py3-none-any.whl (24 kB)\n",
            "Requirement already satisfied: six in /usr/local/lib/python3.7/dist-packages (from plotly>=5.0.0->dash) (1.15.0)\n",
            "Collecting brotli\n",
            "  Downloading Brotli-1.0.9-cp37-cp37m-manylinux1_x86_64.whl (357 kB)\n",
            "\u001b[K     |████████████████████████████████| 357 kB 29.6 MB/s \n",
            "\u001b[?25hBuilding wheels for collected packages: dash-core-components, dash-html-components, dash-table\n",
            "  Building wheel for dash-core-components (setup.py) ... \u001b[?25l\u001b[?25hdone\n",
            "  Created wheel for dash-core-components: filename=dash_core_components-2.0.0-py3-none-any.whl size=3821 sha256=dd19d7b889397bc77d91b05b47cb9911e3176b95755c7e5f436dcdd31b2566f4\n",
            "  Stored in directory: /root/.cache/pip/wheels/00/f9/c7/1a6437d794ed753ea9bc9079e761d4fc803a1f1f5d3697b9ec\n",
            "  Building wheel for dash-html-components (setup.py) ... \u001b[?25l\u001b[?25hdone\n",
            "  Created wheel for dash-html-components: filename=dash_html_components-2.0.0-py3-none-any.whl size=4089 sha256=359b0761405532432a08cc4d87b7f94b8cf26e4d84b5e069b72d09ce62db42da\n",
            "  Stored in directory: /root/.cache/pip/wheels/ec/6b/81/05aceabd8b27f724e2c96784016287cc1bfbc349ebfda451de\n",
            "  Building wheel for dash-table (setup.py) ... \u001b[?25l\u001b[?25hdone\n",
            "  Created wheel for dash-table: filename=dash_table-5.0.0-py3-none-any.whl size=3911 sha256=ea53dc13c8a73ef94bf6c3eb7c4555dfa6846de7d6c5a1b6212817faf7adbf14\n",
            "  Stored in directory: /root/.cache/pip/wheels/85/5d/4e/7c276b57992951dbe770bf5caad6448d0539c510663aefd2e2\n",
            "Successfully built dash-core-components dash-html-components dash-table\n",
            "Installing collected packages: tenacity, brotli, plotly, flask-compress, dash-table, dash-html-components, dash-core-components, dash\n",
            "  Attempting uninstall: plotly\n",
            "    Found existing installation: plotly 4.4.1\n",
            "    Uninstalling plotly-4.4.1:\n",
            "      Successfully uninstalled plotly-4.4.1\n",
            "Successfully installed brotli-1.0.9 dash-2.0.0 dash-core-components-2.0.0 dash-html-components-2.0.0 dash-table-5.0.0 flask-compress-1.10.1 plotly-5.4.0 tenacity-8.0.1\n"
          ]
        },
        {
          "output_type": "display_data",
          "data": {
            "application/vnd.colab-display-data+json": {
              "pip_warning": {
                "packages": [
                  "_plotly_utils",
                  "plotly"
                ]
              }
            }
          },
          "metadata": {}
        },
        {
          "output_type": "stream",
          "name": "stdout",
          "text": [
            "Collecting jupyter_dash\n",
            "  Downloading jupyter_dash-0.4.0-py3-none-any.whl (20 kB)\n",
            "Requirement already satisfied: dash in /usr/local/lib/python3.7/dist-packages (from jupyter_dash) (2.0.0)\n",
            "Requirement already satisfied: ipython in /usr/local/lib/python3.7/dist-packages (from jupyter_dash) (5.5.0)\n",
            "Requirement already satisfied: requests in /usr/local/lib/python3.7/dist-packages (from jupyter_dash) (2.23.0)\n",
            "Requirement already satisfied: retrying in /usr/local/lib/python3.7/dist-packages (from jupyter_dash) (1.3.3)\n",
            "Requirement already satisfied: ipykernel in /usr/local/lib/python3.7/dist-packages (from jupyter_dash) (4.10.1)\n",
            "Collecting ansi2html\n",
            "  Downloading ansi2html-1.6.0-py3-none-any.whl (14 kB)\n",
            "Requirement already satisfied: flask in /usr/local/lib/python3.7/dist-packages (from jupyter_dash) (1.1.4)\n",
            "Requirement already satisfied: plotly>=5.0.0 in /usr/local/lib/python3.7/dist-packages (from dash->jupyter_dash) (5.4.0)\n",
            "Requirement already satisfied: flask-compress in /usr/local/lib/python3.7/dist-packages (from dash->jupyter_dash) (1.10.1)\n",
            "Requirement already satisfied: dash-html-components==2.0.0 in /usr/local/lib/python3.7/dist-packages (from dash->jupyter_dash) (2.0.0)\n",
            "Requirement already satisfied: dash-table==5.0.0 in /usr/local/lib/python3.7/dist-packages (from dash->jupyter_dash) (5.0.0)\n",
            "Requirement already satisfied: dash-core-components==2.0.0 in /usr/local/lib/python3.7/dist-packages (from dash->jupyter_dash) (2.0.0)\n",
            "Requirement already satisfied: itsdangerous<2.0,>=0.24 in /usr/local/lib/python3.7/dist-packages (from flask->jupyter_dash) (1.1.0)\n",
            "Requirement already satisfied: click<8.0,>=5.1 in /usr/local/lib/python3.7/dist-packages (from flask->jupyter_dash) (7.1.2)\n",
            "Requirement already satisfied: Jinja2<3.0,>=2.10.1 in /usr/local/lib/python3.7/dist-packages (from flask->jupyter_dash) (2.11.3)\n",
            "Requirement already satisfied: Werkzeug<2.0,>=0.15 in /usr/local/lib/python3.7/dist-packages (from flask->jupyter_dash) (1.0.1)\n",
            "Requirement already satisfied: MarkupSafe>=0.23 in /usr/local/lib/python3.7/dist-packages (from Jinja2<3.0,>=2.10.1->flask->jupyter_dash) (2.0.1)\n",
            "Requirement already satisfied: six in /usr/local/lib/python3.7/dist-packages (from plotly>=5.0.0->dash->jupyter_dash) (1.15.0)\n",
            "Requirement already satisfied: tenacity>=6.2.0 in /usr/local/lib/python3.7/dist-packages (from plotly>=5.0.0->dash->jupyter_dash) (8.0.1)\n",
            "Requirement already satisfied: brotli in /usr/local/lib/python3.7/dist-packages (from flask-compress->dash->jupyter_dash) (1.0.9)\n",
            "Requirement already satisfied: tornado>=4.0 in /usr/local/lib/python3.7/dist-packages (from ipykernel->jupyter_dash) (5.1.1)\n",
            "Requirement already satisfied: traitlets>=4.1.0 in /usr/local/lib/python3.7/dist-packages (from ipykernel->jupyter_dash) (5.1.1)\n",
            "Requirement already satisfied: jupyter-client in /usr/local/lib/python3.7/dist-packages (from ipykernel->jupyter_dash) (5.3.5)\n",
            "Requirement already satisfied: setuptools>=18.5 in /usr/local/lib/python3.7/dist-packages (from ipython->jupyter_dash) (57.4.0)\n",
            "Requirement already satisfied: pexpect in /usr/local/lib/python3.7/dist-packages (from ipython->jupyter_dash) (4.8.0)\n",
            "Requirement already satisfied: prompt-toolkit<2.0.0,>=1.0.4 in /usr/local/lib/python3.7/dist-packages (from ipython->jupyter_dash) (1.0.18)\n",
            "Requirement already satisfied: pickleshare in /usr/local/lib/python3.7/dist-packages (from ipython->jupyter_dash) (0.7.5)\n",
            "Requirement already satisfied: decorator in /usr/local/lib/python3.7/dist-packages (from ipython->jupyter_dash) (4.4.2)\n",
            "Requirement already satisfied: simplegeneric>0.8 in /usr/local/lib/python3.7/dist-packages (from ipython->jupyter_dash) (0.8.1)\n",
            "Requirement already satisfied: pygments in /usr/local/lib/python3.7/dist-packages (from ipython->jupyter_dash) (2.6.1)\n",
            "Requirement already satisfied: wcwidth in /usr/local/lib/python3.7/dist-packages (from prompt-toolkit<2.0.0,>=1.0.4->ipython->jupyter_dash) (0.2.5)\n",
            "Requirement already satisfied: python-dateutil>=2.1 in /usr/local/lib/python3.7/dist-packages (from jupyter-client->ipykernel->jupyter_dash) (2.8.2)\n",
            "Requirement already satisfied: pyzmq>=13 in /usr/local/lib/python3.7/dist-packages (from jupyter-client->ipykernel->jupyter_dash) (22.3.0)\n",
            "Requirement already satisfied: jupyter-core>=4.6.0 in /usr/local/lib/python3.7/dist-packages (from jupyter-client->ipykernel->jupyter_dash) (4.9.1)\n",
            "Requirement already satisfied: ptyprocess>=0.5 in /usr/local/lib/python3.7/dist-packages (from pexpect->ipython->jupyter_dash) (0.7.0)\n",
            "Requirement already satisfied: idna<3,>=2.5 in /usr/local/lib/python3.7/dist-packages (from requests->jupyter_dash) (2.10)\n",
            "Requirement already satisfied: chardet<4,>=3.0.2 in /usr/local/lib/python3.7/dist-packages (from requests->jupyter_dash) (3.0.4)\n",
            "Requirement already satisfied: certifi>=2017.4.17 in /usr/local/lib/python3.7/dist-packages (from requests->jupyter_dash) (2021.10.8)\n",
            "Requirement already satisfied: urllib3!=1.25.0,!=1.25.1,<1.26,>=1.21.1 in /usr/local/lib/python3.7/dist-packages (from requests->jupyter_dash) (1.24.3)\n",
            "Installing collected packages: ansi2html, jupyter-dash\n",
            "Successfully installed ansi2html-1.6.0 jupyter-dash-0.4.0\n"
          ]
        }
      ]
    },
    {
      "cell_type": "code",
      "source": [
        "path_divorce = 'https://raw.githubusercontent.com/dav1n9/DAP/main/divorce_data/divorce_sum.csv'\n",
        "df_sum = pd.read_csv(path_divorce,delimiter = ',')\n",
        "\n",
        "path_reference = 'https://raw.githubusercontent.com/dav1n9/DAP/main/divorce_data/reference.tsv'\n",
        "df_reference = pd.read_csv(path_reference, sep = \"|\", engine='python')\n",
        "\n",
        "df_sum.set_index('answer', inplace = True)    #answer 열을 인덱스로 바꿔줌\n",
        "df_sum['divorce'] = df_sum['divorce'].astype(str)     # str타입으로 바꿔준이유는 전에도 써있지만, 색을 0과1 2개로만 구분하기 위함.\n",
        "\n",
        "data_divorced = df_sum.groupby('divorce').get_group('0')\n",
        "data_married = df_sum.groupby('divorce').get_group('1')"
      ],
      "metadata": {
        "id": "Fa5-DGrN2LIL"
      },
      "execution_count": 48,
      "outputs": []
    },
    {
      "cell_type": "code",
      "source": [
        "all_words = counts_adj | counts_noun | counts_verb    # 합집합\n",
        "all_words = all_words.most_common(20)\n",
        "\n",
        "df_words_count = pd.DataFrame(all_words)"
      ],
      "metadata": {
        "id": "ljajhBnwA__P"
      },
      "execution_count": 49,
      "outputs": []
    },
    {
      "cell_type": "code",
      "source": [
        "import plotly.graph_objects as go\n",
        "\n",
        "import pandas as pd\n",
        "all_words = counts_adj | counts_noun | counts_verb    # 합집합\n",
        "all_words = all_words.most_common(20)\n",
        "df_words_count = pd.DataFrame(all_words)\n",
        "fig = go.Figure(go.Scatter(\n",
        "    x = df_words_count[0],\n",
        "    y = df_words_count[1],\n",
        "))\n",
        "\n",
        "fig.update_layout(title = 'The frequency of all words')\n",
        "\n",
        "fig.show()"
      ],
      "metadata": {
        "colab": {
          "base_uri": "https://localhost:8080/",
          "height": 542
        },
        "id": "PaYv7Po1AWnF",
        "outputId": "28ec6ebb-a8e6-414f-b9c7-70860f0fea3b"
      },
      "execution_count": 50,
      "outputs": [
        {
          "output_type": "display_data",
          "data": {
            "text/html": [
              "<html>\n",
              "<head><meta charset=\"utf-8\" /></head>\n",
              "<body>\n",
              "    <div>\n",
              "            <script src=\"https://cdnjs.cloudflare.com/ajax/libs/mathjax/2.7.5/MathJax.js?config=TeX-AMS-MML_SVG\"></script><script type=\"text/javascript\">if (window.MathJax) {MathJax.Hub.Config({SVG: {font: \"STIX-Web\"}});}</script>\n",
              "                <script type=\"text/javascript\">window.PlotlyConfig = {MathJaxConfig: 'local'};</script>\n",
              "        <script src=\"https://cdn.plot.ly/plotly-latest.min.js\"></script>    \n",
              "            <div id=\"8e7c61d8-ac45-4f32-b693-413c6012a172\" class=\"plotly-graph-div\" style=\"height:525px; width:100%;\"></div>\n",
              "            <script type=\"text/javascript\">\n",
              "                \n",
              "                    window.PLOTLYENV=window.PLOTLYENV || {};\n",
              "                    \n",
              "                if (document.getElementById(\"8e7c61d8-ac45-4f32-b693-413c6012a172\")) {\n",
              "                    Plotly.newPlot(\n",
              "                        '8e7c61d8-ac45-4f32-b693-413c6012a172',\n",
              "                        [{\"type\": \"scatter\", \"x\": [\"spous\", \"discuss\", \"similar\", \"know\", \"silent\", \"wife\", \"home\", \"her/hi\", \"dure\", \"calm\", \"stay\", \"afraid\", \"sometim\", \"time\", \"share\", \"goal\", \"harmoni\", \"valu\", \"person\", \"life\"], \"y\": [35, 11, 6, 5, 4, 4, 4, 3, 3, 3, 3, 2, 2, 2, 2, 2, 2, 2, 2, 2]}],\n",
              "                        {\"template\": {\"data\": {\"bar\": [{\"error_x\": {\"color\": \"#2a3f5f\"}, \"error_y\": {\"color\": \"#2a3f5f\"}, \"marker\": {\"line\": {\"color\": \"#E5ECF6\", \"width\": 0.5}}, \"type\": \"bar\"}], \"barpolar\": [{\"marker\": {\"line\": {\"color\": \"#E5ECF6\", \"width\": 0.5}}, \"type\": \"barpolar\"}], \"carpet\": [{\"aaxis\": {\"endlinecolor\": \"#2a3f5f\", \"gridcolor\": \"white\", \"linecolor\": \"white\", \"minorgridcolor\": \"white\", \"startlinecolor\": \"#2a3f5f\"}, \"baxis\": {\"endlinecolor\": \"#2a3f5f\", \"gridcolor\": \"white\", \"linecolor\": \"white\", \"minorgridcolor\": \"white\", \"startlinecolor\": \"#2a3f5f\"}, \"type\": \"carpet\"}], \"choropleth\": [{\"colorbar\": {\"outlinewidth\": 0, \"ticks\": \"\"}, \"type\": \"choropleth\"}], \"contour\": [{\"colorbar\": {\"outlinewidth\": 0, \"ticks\": \"\"}, \"colorscale\": [[0.0, \"#0d0887\"], [0.1111111111111111, \"#46039f\"], [0.2222222222222222, \"#7201a8\"], [0.3333333333333333, \"#9c179e\"], [0.4444444444444444, \"#bd3786\"], [0.5555555555555556, \"#d8576b\"], [0.6666666666666666, \"#ed7953\"], [0.7777777777777778, \"#fb9f3a\"], [0.8888888888888888, \"#fdca26\"], [1.0, \"#f0f921\"]], \"type\": \"contour\"}], \"contourcarpet\": [{\"colorbar\": {\"outlinewidth\": 0, \"ticks\": \"\"}, \"type\": \"contourcarpet\"}], \"heatmap\": [{\"colorbar\": {\"outlinewidth\": 0, \"ticks\": \"\"}, \"colorscale\": [[0.0, \"#0d0887\"], [0.1111111111111111, \"#46039f\"], [0.2222222222222222, \"#7201a8\"], [0.3333333333333333, \"#9c179e\"], [0.4444444444444444, \"#bd3786\"], [0.5555555555555556, \"#d8576b\"], [0.6666666666666666, \"#ed7953\"], [0.7777777777777778, \"#fb9f3a\"], [0.8888888888888888, \"#fdca26\"], [1.0, \"#f0f921\"]], \"type\": \"heatmap\"}], \"heatmapgl\": [{\"colorbar\": {\"outlinewidth\": 0, \"ticks\": \"\"}, \"colorscale\": [[0.0, \"#0d0887\"], [0.1111111111111111, \"#46039f\"], [0.2222222222222222, \"#7201a8\"], [0.3333333333333333, \"#9c179e\"], [0.4444444444444444, \"#bd3786\"], [0.5555555555555556, \"#d8576b\"], [0.6666666666666666, \"#ed7953\"], [0.7777777777777778, \"#fb9f3a\"], [0.8888888888888888, \"#fdca26\"], [1.0, \"#f0f921\"]], \"type\": \"heatmapgl\"}], \"histogram\": [{\"marker\": {\"colorbar\": {\"outlinewidth\": 0, \"ticks\": \"\"}}, \"type\": \"histogram\"}], \"histogram2d\": [{\"colorbar\": {\"outlinewidth\": 0, \"ticks\": \"\"}, \"colorscale\": [[0.0, \"#0d0887\"], [0.1111111111111111, \"#46039f\"], [0.2222222222222222, \"#7201a8\"], [0.3333333333333333, \"#9c179e\"], [0.4444444444444444, \"#bd3786\"], [0.5555555555555556, \"#d8576b\"], [0.6666666666666666, \"#ed7953\"], [0.7777777777777778, \"#fb9f3a\"], [0.8888888888888888, \"#fdca26\"], [1.0, \"#f0f921\"]], \"type\": \"histogram2d\"}], \"histogram2dcontour\": [{\"colorbar\": {\"outlinewidth\": 0, \"ticks\": \"\"}, \"colorscale\": [[0.0, \"#0d0887\"], [0.1111111111111111, \"#46039f\"], [0.2222222222222222, \"#7201a8\"], [0.3333333333333333, \"#9c179e\"], [0.4444444444444444, \"#bd3786\"], [0.5555555555555556, \"#d8576b\"], [0.6666666666666666, \"#ed7953\"], [0.7777777777777778, \"#fb9f3a\"], [0.8888888888888888, \"#fdca26\"], [1.0, \"#f0f921\"]], \"type\": \"histogram2dcontour\"}], \"mesh3d\": [{\"colorbar\": {\"outlinewidth\": 0, \"ticks\": \"\"}, \"type\": \"mesh3d\"}], \"parcoords\": [{\"line\": {\"colorbar\": {\"outlinewidth\": 0, \"ticks\": \"\"}}, \"type\": \"parcoords\"}], \"pie\": [{\"automargin\": true, \"type\": \"pie\"}], \"scatter\": [{\"marker\": {\"colorbar\": {\"outlinewidth\": 0, \"ticks\": \"\"}}, \"type\": \"scatter\"}], \"scatter3d\": [{\"line\": {\"colorbar\": {\"outlinewidth\": 0, \"ticks\": \"\"}}, \"marker\": {\"colorbar\": {\"outlinewidth\": 0, \"ticks\": \"\"}}, \"type\": \"scatter3d\"}], \"scattercarpet\": [{\"marker\": {\"colorbar\": {\"outlinewidth\": 0, \"ticks\": \"\"}}, \"type\": \"scattercarpet\"}], \"scattergeo\": [{\"marker\": {\"colorbar\": {\"outlinewidth\": 0, \"ticks\": \"\"}}, \"type\": \"scattergeo\"}], \"scattergl\": [{\"marker\": {\"colorbar\": {\"outlinewidth\": 0, \"ticks\": \"\"}}, \"type\": \"scattergl\"}], \"scattermapbox\": [{\"marker\": {\"colorbar\": {\"outlinewidth\": 0, \"ticks\": \"\"}}, \"type\": \"scattermapbox\"}], \"scatterpolar\": [{\"marker\": {\"colorbar\": {\"outlinewidth\": 0, \"ticks\": \"\"}}, \"type\": \"scatterpolar\"}], \"scatterpolargl\": [{\"marker\": {\"colorbar\": {\"outlinewidth\": 0, \"ticks\": \"\"}}, \"type\": \"scatterpolargl\"}], \"scatterternary\": [{\"marker\": {\"colorbar\": {\"outlinewidth\": 0, \"ticks\": \"\"}}, \"type\": \"scatterternary\"}], \"surface\": [{\"colorbar\": {\"outlinewidth\": 0, \"ticks\": \"\"}, \"colorscale\": [[0.0, \"#0d0887\"], [0.1111111111111111, \"#46039f\"], [0.2222222222222222, \"#7201a8\"], [0.3333333333333333, \"#9c179e\"], [0.4444444444444444, \"#bd3786\"], [0.5555555555555556, \"#d8576b\"], [0.6666666666666666, \"#ed7953\"], [0.7777777777777778, \"#fb9f3a\"], [0.8888888888888888, \"#fdca26\"], [1.0, \"#f0f921\"]], \"type\": \"surface\"}], \"table\": [{\"cells\": {\"fill\": {\"color\": \"#EBF0F8\"}, \"line\": {\"color\": \"white\"}}, \"header\": {\"fill\": {\"color\": \"#C8D4E3\"}, \"line\": {\"color\": \"white\"}}, \"type\": \"table\"}]}, \"layout\": {\"annotationdefaults\": {\"arrowcolor\": \"#2a3f5f\", \"arrowhead\": 0, \"arrowwidth\": 1}, \"coloraxis\": {\"colorbar\": {\"outlinewidth\": 0, \"ticks\": \"\"}}, \"colorscale\": {\"diverging\": [[0, \"#8e0152\"], [0.1, \"#c51b7d\"], [0.2, \"#de77ae\"], [0.3, \"#f1b6da\"], [0.4, \"#fde0ef\"], [0.5, \"#f7f7f7\"], [0.6, \"#e6f5d0\"], [0.7, \"#b8e186\"], [0.8, \"#7fbc41\"], [0.9, \"#4d9221\"], [1, \"#276419\"]], \"sequential\": [[0.0, \"#0d0887\"], [0.1111111111111111, \"#46039f\"], [0.2222222222222222, \"#7201a8\"], [0.3333333333333333, \"#9c179e\"], [0.4444444444444444, \"#bd3786\"], [0.5555555555555556, \"#d8576b\"], [0.6666666666666666, \"#ed7953\"], [0.7777777777777778, \"#fb9f3a\"], [0.8888888888888888, \"#fdca26\"], [1.0, \"#f0f921\"]], \"sequentialminus\": [[0.0, \"#0d0887\"], [0.1111111111111111, \"#46039f\"], [0.2222222222222222, \"#7201a8\"], [0.3333333333333333, \"#9c179e\"], [0.4444444444444444, \"#bd3786\"], [0.5555555555555556, \"#d8576b\"], [0.6666666666666666, \"#ed7953\"], [0.7777777777777778, \"#fb9f3a\"], [0.8888888888888888, \"#fdca26\"], [1.0, \"#f0f921\"]]}, \"colorway\": [\"#636efa\", \"#EF553B\", \"#00cc96\", \"#ab63fa\", \"#FFA15A\", \"#19d3f3\", \"#FF6692\", \"#B6E880\", \"#FF97FF\", \"#FECB52\"], \"font\": {\"color\": \"#2a3f5f\"}, \"geo\": {\"bgcolor\": \"white\", \"lakecolor\": \"white\", \"landcolor\": \"#E5ECF6\", \"showlakes\": true, \"showland\": true, \"subunitcolor\": \"white\"}, \"hoverlabel\": {\"align\": \"left\"}, \"hovermode\": \"closest\", \"mapbox\": {\"style\": \"light\"}, \"paper_bgcolor\": \"white\", \"plot_bgcolor\": \"#E5ECF6\", \"polar\": {\"angularaxis\": {\"gridcolor\": \"white\", \"linecolor\": \"white\", \"ticks\": \"\"}, \"bgcolor\": \"#E5ECF6\", \"radialaxis\": {\"gridcolor\": \"white\", \"linecolor\": \"white\", \"ticks\": \"\"}}, \"scene\": {\"xaxis\": {\"backgroundcolor\": \"#E5ECF6\", \"gridcolor\": \"white\", \"gridwidth\": 2, \"linecolor\": \"white\", \"showbackground\": true, \"ticks\": \"\", \"zerolinecolor\": \"white\"}, \"yaxis\": {\"backgroundcolor\": \"#E5ECF6\", \"gridcolor\": \"white\", \"gridwidth\": 2, \"linecolor\": \"white\", \"showbackground\": true, \"ticks\": \"\", \"zerolinecolor\": \"white\"}, \"zaxis\": {\"backgroundcolor\": \"#E5ECF6\", \"gridcolor\": \"white\", \"gridwidth\": 2, \"linecolor\": \"white\", \"showbackground\": true, \"ticks\": \"\", \"zerolinecolor\": \"white\"}}, \"shapedefaults\": {\"line\": {\"color\": \"#2a3f5f\"}}, \"ternary\": {\"aaxis\": {\"gridcolor\": \"white\", \"linecolor\": \"white\", \"ticks\": \"\"}, \"baxis\": {\"gridcolor\": \"white\", \"linecolor\": \"white\", \"ticks\": \"\"}, \"bgcolor\": \"#E5ECF6\", \"caxis\": {\"gridcolor\": \"white\", \"linecolor\": \"white\", \"ticks\": \"\"}}, \"title\": {\"x\": 0.05}, \"xaxis\": {\"automargin\": true, \"gridcolor\": \"white\", \"linecolor\": \"white\", \"ticks\": \"\", \"title\": {\"standoff\": 15}, \"zerolinecolor\": \"white\", \"zerolinewidth\": 2}, \"yaxis\": {\"automargin\": true, \"gridcolor\": \"white\", \"linecolor\": \"white\", \"ticks\": \"\", \"title\": {\"standoff\": 15}, \"zerolinecolor\": \"white\", \"zerolinewidth\": 2}}}, \"title\": {\"text\": \"The frequency of all words\"}},\n",
              "                        {\"responsive\": true}\n",
              "                    ).then(function(){\n",
              "                            \n",
              "var gd = document.getElementById('8e7c61d8-ac45-4f32-b693-413c6012a172');\n",
              "var x = new MutationObserver(function (mutations, observer) {{\n",
              "        var display = window.getComputedStyle(gd).display;\n",
              "        if (!display || display === 'none') {{\n",
              "            console.log([gd, 'removed!']);\n",
              "            Plotly.purge(gd);\n",
              "            observer.disconnect();\n",
              "        }}\n",
              "}});\n",
              "\n",
              "// Listen for the removal of the full notebook cells\n",
              "var notebookContainer = gd.closest('#notebook-container');\n",
              "if (notebookContainer) {{\n",
              "    x.observe(notebookContainer, {childList: true});\n",
              "}}\n",
              "\n",
              "// Listen for the clearing of the current output cell\n",
              "var outputEl = gd.closest('.output');\n",
              "if (outputEl) {{\n",
              "    x.observe(outputEl, {childList: true});\n",
              "}}\n",
              "\n",
              "                        })\n",
              "                };\n",
              "                \n",
              "            </script>\n",
              "        </div>\n",
              "</body>\n",
              "</html>"
            ]
          },
          "metadata": {}
        }
      ]
    },
    {
      "cell_type": "code",
      "source": [
        "import dash\n",
        "from dash import html\n",
        "import plotly.graph_objects as go\n",
        "from dash import dcc\n",
        "import plotly.express as px\n",
        "from dash.dependencies import Input, Output\n",
        "\n",
        "from jupyter_dash import JupyterDash\n",
        "\n",
        "# Load Dash App\n",
        "app = JupyterDash()\n",
        "\n",
        "app.layout = html.Div([\n",
        "    dcc.Tabs([\n",
        "              dcc.Tab(label='The frequency of answers', children=[\n",
        "                                                                  dcc.Dropdown(id=\"dropdown\",\n",
        "                                                                               options = [{'label': i, 'value': i} for i in df_sum.columns],\n",
        "                                                                               multi=False,\n",
        "                                                                               value=\"Q1\",\n",
        "                                                                               style={'width': \"40%\"}\n",
        "                                                                               ),\n",
        "                                                                  dcc.Checklist(id=\"checkboxes\",\n",
        "                                                                                options=[{'label': 'Divorced', 'value': 'divorced'},\n",
        "                                                                                         {'label': 'Married', 'value': 'married'}], \n",
        "                                                                                value=['divorced', 'married']),\n",
        "                                                                  dcc.Graph(id='bar', figure={})\n",
        "                                                                  ]),\n",
        "              # 두번째 탭\n",
        "              dcc.Tab(label='Word frequency', children=[\n",
        "                                                        html.Label('The number of words : '),\n",
        "                                                        dcc.Input(id=\"num_words\", value='20', type='number'),\n",
        "                                                        dcc.Graph(id=\"fre_words\")\n",
        "                                                        ],style={'width': '49%', 'display': 'inline-block'}),\n",
        "              # 세번째 탭\n",
        "              dcc.Tab(label='Question type', children=[\n",
        "                                                       dcc.Graph(id=\"pie-chart\")\n",
        "                                                       ]),\n",
        "              ])\n",
        "    ])\n",
        "\n",
        "# Define callback decorator and it's function    \n",
        "@app.callback(Output(component_id='bar', component_property= 'figure'),\n",
        "              [Input(component_id='dropdown', component_property= 'value'),\n",
        "               Input(component_id='checkboxes', component_property= 'value')])\n",
        "def graph_update(dropdown_value, checkboxes_value):\n",
        "  print(dropdown_value, checkboxes_value)\n",
        "  if (checkboxes_value == ['divorced']):\n",
        "    fig = px.bar(data_divorced, x=data_divorced.index, y=data_divorced[dropdown_value], width=600, height=400)\n",
        "  elif (checkboxes_value == ['married']):\n",
        "    fig = px.bar(data_married, x=data_married.index, y=data_married[dropdown_value],width=600, height=400)\n",
        "  elif (checkboxes_value == ['divorced', 'married']):\n",
        "    fig = px.bar(df_sum, x=df_sum.index, y=df_sum[dropdown_value], color='divorce', barmode='group',width=600, height=400)\n",
        "  else:\n",
        "    fig = px.bar()\n",
        "\n",
        "  fig.update_xaxes(type='category')\n",
        "  return fig  \n",
        "\n",
        "@app.callback(Output(\"fre_words\", \"figure\"), \n",
        "              [Input(\"num_words\", \"value\")])\n",
        "def generate_chart(num):\n",
        "  all_words = counts_adj | counts_noun | counts_verb    # 합집합\n",
        "  all_words = all_words.most_common()\n",
        "  df_words_count = pd.DataFrame(num)\n",
        "\n",
        "  fig = go.Figure(go.Scatter(x = df_words_count[0],y = df_words_count[1]))\n",
        "  fig.update_layout(title = 'The frequency of all words')\n",
        "  return fig \n",
        "\n",
        "\n",
        "@app.callback(Output(\"pie-chart\", \"figure\"))\n",
        "def generate_chart():\n",
        "  labels = ['discussion', 'to know each others', 'to spend time', 'common features', 'etc.']\n",
        "  fig = px.pie(df_type, labels, values='type')\n",
        "  \n",
        "  return fig \n",
        "\n",
        "#---------------\n",
        "if __name__ == '__main__':\n",
        "  app.run_server()"
      ],
      "metadata": {
        "colab": {
          "base_uri": "https://localhost:8080/",
          "height": 53
        },
        "id": "7ORLzShZ2YTC",
        "outputId": "e039f46a-a4ad-4450-be5e-ab88f24360df"
      },
      "execution_count": 54,
      "outputs": [
        {
          "output_type": "stream",
          "name": "stdout",
          "text": [
            "Dash app running on:\n"
          ]
        },
        {
          "output_type": "display_data",
          "data": {
            "application/javascript": [
              "(async (port, path, text, element) => {\n",
              "    if (!google.colab.kernel.accessAllowed) {\n",
              "      return;\n",
              "    }\n",
              "    element.appendChild(document.createTextNode(''));\n",
              "    const url = await google.colab.kernel.proxyPort(port);\n",
              "    const anchor = document.createElement('a');\n",
              "    anchor.href = new URL(path, url).toString();\n",
              "    anchor.target = '_blank';\n",
              "    anchor.setAttribute('data-href', url + path);\n",
              "    anchor.textContent = text;\n",
              "    element.appendChild(anchor);\n",
              "  })(8050, \"/\", \"http://127.0.0.1:8050/\", window.element)"
            ],
            "text/plain": [
              "<IPython.core.display.Javascript object>"
            ]
          },
          "metadata": {}
        }
      ]
    },
    {
      "cell_type": "code",
      "source": [
        "#app._terminate_server_for_port(\"127.0.0.1\", 8050)"
      ],
      "metadata": {
        "id": "0OD3P8grivry"
      },
      "execution_count": 55,
      "outputs": []
    },
    {
      "cell_type": "markdown",
      "source": [
        ""
      ],
      "metadata": {
        "id": "PkKXP9to2ZEN"
      }
    },
    {
      "cell_type": "code",
      "source": [
        "import dash\n",
        "from dash import html\n",
        "import plotly.graph_objects as go\n",
        "from dash import dcc\n",
        "import plotly.express as px\n",
        "from dash.dependencies import Input, Output\n",
        "\n",
        "from jupyter_dash import JupyterDash\n",
        "\n",
        "# Load Dash App\n",
        "#app = JupyterDash()\n",
        "\n",
        "#------------------\n",
        "\n",
        "app.layout = html.Div([\n",
        "                       html.H1(\"Web Application Dashboards - Divorce Prediction\", style={'text-align' : 'center'}),\n",
        "                       html.Div(children=[\n",
        "\n",
        "                       dcc.Dropdown(id=\"dropdown\",\n",
        "                                    options = [{'label': i, 'value': i} for i in df_sum.columns],\n",
        "                                    multi=False,\n",
        "                                    value=\"Q1\",\n",
        "                                    style={'width': \"40%\"}\n",
        "                                    ),\n",
        "                       #html.Div(id='output_container', children=[]),\n",
        "                       #html.Br(),\n",
        "                       \n",
        "                       dcc.Checklist(id=\"checkboxes\",\n",
        "                           options=[{'label': 'Divorced', 'value': 'divorced'},\n",
        "                                    {'label': 'Married', 'value': 'married'}], \n",
        "                                     value=['divorced', 'married']),\n",
        "                                     \n",
        "                                     dcc.Graph(id='bar', figure={})\n",
        "                                     ],style={'width': '49%', 'display': 'inline-block'}),\n",
        "  \n",
        "                       html.Div(children=[\n",
        "                                          #html.Label('Checkboxes'),\n",
        "                                          dcc.Dropdown(id=\"dropdown_word\",\n",
        "                                                       options = [{'label': 'Noun', 'value': 'noun'},\n",
        "                                                                  {'label': 'Verb', 'value': 'verb'},\n",
        "                                                                  {'label': 'Adjective', 'value': 'adjective'}\n",
        "                                                                  ],\n",
        "                                                       multi=False,\n",
        "                                                       value=\"noun\",\n",
        "                                                       style={'width': \"40%\"}\n",
        "                                                       ),\n",
        "                                          dcc.Dropdown(id=\"dropdown_questions\",\n",
        "                                                       options = [{'label': i, 'value': i} for i in df_reference['description']],\n",
        "                                                       multi=False,\n",
        "                                                       value=\"noun\",\n",
        "                                                       ),\n",
        "                                          html.Div(id='output_container', children=[]),\n",
        "                                          html.Br(),\n",
        "                                          dcc.Graph(id='pie', figure={}) \n",
        "                                          ],style={'width': '49%', 'display': 'inline-block'}),\n",
        "                       \n",
        "\n",
        "                       html.Div(children=[\n",
        "                                          html.Label('RadioItems'),\n",
        "                                          dcc.RadioItems(id=\"d\",\n",
        "                                                       options = [{'label': 'Noun', 'value': 'noun'},\n",
        "                                                                  {'label': 'Verb', 'value': 'verb'},\n",
        "                                                                  {'label': 'Adjective', 'value': 'adjective'}\n",
        "                                                                  ],\n",
        "                                                       value=\"noun\"\n",
        "                                                       ),\n",
        "                                          html.Div(id='output_container', children=[]),\n",
        "                                          html.Br(),\n",
        "                                          dcc.Graph(id='word_cloud', figure={}) \n",
        "                                          ],style={'width': '49%', 'display': 'inline-block'})\n",
        "                       ])\n",
        "\n",
        "#--------------\n",
        "\n",
        "# Define callback decorator and it's function    \n",
        "@app.callback(Output(component_id='bar', component_property= 'figure'),\n",
        "              [Input(component_id='dropdown', component_property= 'value'),\n",
        "               Input(component_id='checkboxes', component_property= 'value')])\n",
        "def graph_update(dropdown_value, checkboxes_value):\n",
        "    print(dropdown_value, checkboxes_value)\n",
        "    if (checkboxes_value == ['divorced']):\n",
        "      fig = px.bar(data_divorced, x=data_divorced.index, y=data_divorced[dropdown_value], width=600, height=400)\n",
        "    elif (checkboxes_value == ['married']):\n",
        "      fig = px.bar(data_married, x=data_married.index, y=data_married[dropdown_value],width=600, height=400)\n",
        "    elif (checkboxes_value == ['divorced', 'married']):\n",
        "      fig = px.bar(df_sum, x=df_sum.index, y=df_sum[dropdown_value], color='divorce', barmode='group',width=600, height=400)\n",
        "    else:\n",
        "      fig = px.bar()\n",
        "\n",
        "    fig.update_xaxes(type='category')\n",
        "    return fig  \n",
        "\n",
        "@app.callback(Output(component_id='pie', component_property= 'figure'))\n",
        "def graph_update():\n",
        "    print()\n",
        "    labels = ['discussion', 'to know each other', 'to spend time', 'common features', 'etc.']\n",
        "    fig = px.pie(df_type,labels, values='type')\n",
        "\n",
        "    return fig  \n",
        "\n",
        "@app.callback(Output(component_id='word_cloud', component_property= 'figure'),\n",
        "              [Input(component_id='d', component_property= 'value')])\n",
        "def graph_update(d_value):\n",
        "    print(d_value)\n",
        "\n",
        "#---------------\n",
        "if __name__ == '__main__':\n",
        "#  app.run_server()\n"
      ],
      "metadata": {
        "id": "g4RknHDs4Lj8",
        "colab": {
          "base_uri": "https://localhost:8080/",
          "height": 139
        },
        "outputId": "8bbd0e18-0e17-4664-fa9e-185955ec7ced"
      },
      "execution_count": 53,
      "outputs": [
        {
          "output_type": "error",
          "ename": "SyntaxError",
          "evalue": "ignored",
          "traceback": [
            "\u001b[0;36m  File \u001b[0;32m\"<ipython-input-53-4a291c9c0302>\"\u001b[0;36m, line \u001b[0;32m108\u001b[0m\n\u001b[0;31m    #  app.run_server()\u001b[0m\n\u001b[0m                       ^\u001b[0m\n\u001b[0;31mSyntaxError\u001b[0m\u001b[0;31m:\u001b[0m unexpected EOF while parsing\n"
          ]
        }
      ]
    },
    {
      "cell_type": "code",
      "source": [
        ""
      ],
      "metadata": {
        "id": "EziOGNvZDHUU"
      },
      "execution_count": null,
      "outputs": []
    }
  ]
}