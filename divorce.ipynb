{
  "nbformat": 4,
  "nbformat_minor": 0,
  "metadata": {
    "colab": {
      "name": "divorce.ipynb",
      "provenance": [],
      "collapsed_sections": [
        "xwmmcrFHcOV9"
      ],
      "include_colab_link": true
    },
    "kernelspec": {
      "name": "python3",
      "display_name": "Python 3"
    },
    "language_info": {
      "name": "python"
    }
  },
  "cells": [
    {
      "cell_type": "markdown",
      "metadata": {
        "id": "view-in-github",
        "colab_type": "text"
      },
      "source": [
        "<a href=\"https://colab.research.google.com/github/dav1n9/DAP/blob/main/divorce.ipynb\" target=\"_parent\"><img src=\"https://colab.research.google.com/assets/colab-badge.svg\" alt=\"Open In Colab\"/></a>"
      ]
    },
    {
      "cell_type": "code",
      "metadata": {
        "id": "nPkrHVhmmIHK"
      },
      "source": [
        "import numpy as np\n",
        "import pandas as pd\n",
        "\n",
        "import matplotlib.pyplot as plt\n",
        "import seaborn as sns"
      ],
      "execution_count": 1,
      "outputs": []
    },
    {
      "cell_type": "markdown",
      "source": [
        ""
      ],
      "metadata": {
        "id": "gmmifrr3cMZc"
      }
    },
    {
      "cell_type": "markdown",
      "source": [
        "데이터 설명 : \n",
        "\n",
        "이혼한 사람과 이혼하지 않은 사람을 대상으로 인터뷰한 결과를 정리해 놓은 데이터이다.\n",
        "\n",
        "\n",
        "> *   54개의 질문에 대한 대답이다.\n",
        "*   각 질문에 대답은 0부터 4로 수집되었다.\n",
        "> (0=Never, 1=Seldom, 2=Averagely, 3=Frequently, 4=Always)\n",
        "* 이혼 여부에 대한 정보는 마지막 열에 있다.\n",
        "\n",
        "\n",
        "데이터 : https://www.kaggle.com/andrewmvd/divorce-prediction"
      ],
      "metadata": {
        "id": "Hsbi1zXm4t8Y"
      }
    },
    {
      "cell_type": "markdown",
      "source": [
        "# 목표\n",
        "1. 이혼 예측하기\n",
        "2. 이혼 예측의 주요 요인 찾기\n",
        "\n",
        "# 진행 과정\n",
        "1. 이혼예측\n",
        "2. 질문 유형 나누기\n",
        "3. dashboard"
      ],
      "metadata": {
        "id": "OjQVkEqZeZnd"
      }
    },
    {
      "cell_type": "markdown",
      "source": [
        "# 이혼 예측\n",
        "\n",
        "이혼한 사람과 이혼하지 않은 사람을 대상으로 인터뷰한 결과를 정리한 데이터를 가지고, 이혼 예측 모델을 만들 것입니다.\n",
        "\n",
        "\n",
        "1.   두 그룹(이혼한 사람/이혼하지 않은 사람)로 나누어서 대답 분포를 살펴본다.\n",
        "2.   질문에 대한 대답이 들어있는 54개의 열(독립변수)과 이혼 여부가 들어있는 'divorce' 열(종속변수)로 나누어, 이혼을 예측한다.\n",
        "\n"
      ],
      "metadata": {
        "id": "xwmmcrFHcOV9"
      }
    },
    {
      "cell_type": "code",
      "metadata": {
        "colab": {
          "base_uri": "https://localhost:8080/",
          "height": 0
        },
        "id": "QlkeR4jxmVUk",
        "outputId": "33e863cd-8123-47f6-962a-1348f6cd0855"
      },
      "source": [
        "# 데이터 가져오기\n",
        "path_divorce = 'https://raw.githubusercontent.com/dav1n9/DAP/main/divorce_data/divorce_data.csv'\n",
        "df = pd.read_csv(path_divorce,delimiter = ';')\n",
        "df.head()"
      ],
      "execution_count": 2,
      "outputs": [
        {
          "output_type": "execute_result",
          "data": {
            "text/html": [
              "\n",
              "  <div id=\"df-53424d6a-0434-48a6-9089-5596dd4b247b\">\n",
              "    <div class=\"colab-df-container\">\n",
              "      <div>\n",
              "<style scoped>\n",
              "    .dataframe tbody tr th:only-of-type {\n",
              "        vertical-align: middle;\n",
              "    }\n",
              "\n",
              "    .dataframe tbody tr th {\n",
              "        vertical-align: top;\n",
              "    }\n",
              "\n",
              "    .dataframe thead th {\n",
              "        text-align: right;\n",
              "    }\n",
              "</style>\n",
              "<table border=\"1\" class=\"dataframe\">\n",
              "  <thead>\n",
              "    <tr style=\"text-align: right;\">\n",
              "      <th></th>\n",
              "      <th>Q1</th>\n",
              "      <th>Q2</th>\n",
              "      <th>Q3</th>\n",
              "      <th>Q4</th>\n",
              "      <th>Q5</th>\n",
              "      <th>Q6</th>\n",
              "      <th>Q7</th>\n",
              "      <th>Q8</th>\n",
              "      <th>Q9</th>\n",
              "      <th>Q10</th>\n",
              "      <th>Q11</th>\n",
              "      <th>Q12</th>\n",
              "      <th>Q13</th>\n",
              "      <th>Q14</th>\n",
              "      <th>Q15</th>\n",
              "      <th>Q16</th>\n",
              "      <th>Q17</th>\n",
              "      <th>Q18</th>\n",
              "      <th>Q19</th>\n",
              "      <th>Q20</th>\n",
              "      <th>Q21</th>\n",
              "      <th>Q22</th>\n",
              "      <th>Q23</th>\n",
              "      <th>Q24</th>\n",
              "      <th>Q25</th>\n",
              "      <th>Q26</th>\n",
              "      <th>Q27</th>\n",
              "      <th>Q28</th>\n",
              "      <th>Q29</th>\n",
              "      <th>Q30</th>\n",
              "      <th>Q31</th>\n",
              "      <th>Q32</th>\n",
              "      <th>Q33</th>\n",
              "      <th>Q34</th>\n",
              "      <th>Q35</th>\n",
              "      <th>Q36</th>\n",
              "      <th>Q37</th>\n",
              "      <th>Q38</th>\n",
              "      <th>Q39</th>\n",
              "      <th>Q40</th>\n",
              "      <th>Q41</th>\n",
              "      <th>Q42</th>\n",
              "      <th>Q43</th>\n",
              "      <th>Q44</th>\n",
              "      <th>Q45</th>\n",
              "      <th>Q46</th>\n",
              "      <th>Q47</th>\n",
              "      <th>Q48</th>\n",
              "      <th>Q49</th>\n",
              "      <th>Q50</th>\n",
              "      <th>Q51</th>\n",
              "      <th>Q52</th>\n",
              "      <th>Q53</th>\n",
              "      <th>Q54</th>\n",
              "      <th>Divorce</th>\n",
              "    </tr>\n",
              "  </thead>\n",
              "  <tbody>\n",
              "    <tr>\n",
              "      <th>0</th>\n",
              "      <td>2</td>\n",
              "      <td>2</td>\n",
              "      <td>4</td>\n",
              "      <td>1</td>\n",
              "      <td>0</td>\n",
              "      <td>0</td>\n",
              "      <td>0</td>\n",
              "      <td>0</td>\n",
              "      <td>0</td>\n",
              "      <td>0</td>\n",
              "      <td>1</td>\n",
              "      <td>0</td>\n",
              "      <td>1</td>\n",
              "      <td>1</td>\n",
              "      <td>0</td>\n",
              "      <td>1</td>\n",
              "      <td>0</td>\n",
              "      <td>0</td>\n",
              "      <td>0</td>\n",
              "      <td>1</td>\n",
              "      <td>0</td>\n",
              "      <td>0</td>\n",
              "      <td>0</td>\n",
              "      <td>0</td>\n",
              "      <td>0</td>\n",
              "      <td>0</td>\n",
              "      <td>0</td>\n",
              "      <td>0</td>\n",
              "      <td>0</td>\n",
              "      <td>1</td>\n",
              "      <td>1</td>\n",
              "      <td>2</td>\n",
              "      <td>1</td>\n",
              "      <td>2</td>\n",
              "      <td>0</td>\n",
              "      <td>1</td>\n",
              "      <td>2</td>\n",
              "      <td>1</td>\n",
              "      <td>3</td>\n",
              "      <td>3</td>\n",
              "      <td>2</td>\n",
              "      <td>1</td>\n",
              "      <td>1</td>\n",
              "      <td>2</td>\n",
              "      <td>3</td>\n",
              "      <td>2</td>\n",
              "      <td>1</td>\n",
              "      <td>3</td>\n",
              "      <td>3</td>\n",
              "      <td>3</td>\n",
              "      <td>2</td>\n",
              "      <td>3</td>\n",
              "      <td>2</td>\n",
              "      <td>1</td>\n",
              "      <td>1</td>\n",
              "    </tr>\n",
              "    <tr>\n",
              "      <th>1</th>\n",
              "      <td>4</td>\n",
              "      <td>4</td>\n",
              "      <td>4</td>\n",
              "      <td>4</td>\n",
              "      <td>4</td>\n",
              "      <td>0</td>\n",
              "      <td>0</td>\n",
              "      <td>4</td>\n",
              "      <td>4</td>\n",
              "      <td>4</td>\n",
              "      <td>4</td>\n",
              "      <td>3</td>\n",
              "      <td>4</td>\n",
              "      <td>0</td>\n",
              "      <td>4</td>\n",
              "      <td>4</td>\n",
              "      <td>4</td>\n",
              "      <td>4</td>\n",
              "      <td>3</td>\n",
              "      <td>2</td>\n",
              "      <td>1</td>\n",
              "      <td>1</td>\n",
              "      <td>0</td>\n",
              "      <td>2</td>\n",
              "      <td>2</td>\n",
              "      <td>1</td>\n",
              "      <td>2</td>\n",
              "      <td>0</td>\n",
              "      <td>1</td>\n",
              "      <td>1</td>\n",
              "      <td>0</td>\n",
              "      <td>4</td>\n",
              "      <td>2</td>\n",
              "      <td>3</td>\n",
              "      <td>0</td>\n",
              "      <td>2</td>\n",
              "      <td>3</td>\n",
              "      <td>4</td>\n",
              "      <td>2</td>\n",
              "      <td>4</td>\n",
              "      <td>2</td>\n",
              "      <td>2</td>\n",
              "      <td>3</td>\n",
              "      <td>4</td>\n",
              "      <td>2</td>\n",
              "      <td>2</td>\n",
              "      <td>2</td>\n",
              "      <td>3</td>\n",
              "      <td>4</td>\n",
              "      <td>4</td>\n",
              "      <td>4</td>\n",
              "      <td>4</td>\n",
              "      <td>2</td>\n",
              "      <td>2</td>\n",
              "      <td>1</td>\n",
              "    </tr>\n",
              "    <tr>\n",
              "      <th>2</th>\n",
              "      <td>2</td>\n",
              "      <td>2</td>\n",
              "      <td>2</td>\n",
              "      <td>2</td>\n",
              "      <td>1</td>\n",
              "      <td>3</td>\n",
              "      <td>2</td>\n",
              "      <td>1</td>\n",
              "      <td>1</td>\n",
              "      <td>2</td>\n",
              "      <td>3</td>\n",
              "      <td>4</td>\n",
              "      <td>2</td>\n",
              "      <td>3</td>\n",
              "      <td>3</td>\n",
              "      <td>3</td>\n",
              "      <td>3</td>\n",
              "      <td>3</td>\n",
              "      <td>3</td>\n",
              "      <td>2</td>\n",
              "      <td>1</td>\n",
              "      <td>0</td>\n",
              "      <td>1</td>\n",
              "      <td>2</td>\n",
              "      <td>2</td>\n",
              "      <td>2</td>\n",
              "      <td>2</td>\n",
              "      <td>2</td>\n",
              "      <td>3</td>\n",
              "      <td>2</td>\n",
              "      <td>3</td>\n",
              "      <td>3</td>\n",
              "      <td>1</td>\n",
              "      <td>1</td>\n",
              "      <td>1</td>\n",
              "      <td>1</td>\n",
              "      <td>2</td>\n",
              "      <td>1</td>\n",
              "      <td>3</td>\n",
              "      <td>3</td>\n",
              "      <td>3</td>\n",
              "      <td>3</td>\n",
              "      <td>2</td>\n",
              "      <td>3</td>\n",
              "      <td>2</td>\n",
              "      <td>3</td>\n",
              "      <td>2</td>\n",
              "      <td>3</td>\n",
              "      <td>1</td>\n",
              "      <td>1</td>\n",
              "      <td>1</td>\n",
              "      <td>2</td>\n",
              "      <td>2</td>\n",
              "      <td>2</td>\n",
              "      <td>1</td>\n",
              "    </tr>\n",
              "    <tr>\n",
              "      <th>3</th>\n",
              "      <td>3</td>\n",
              "      <td>2</td>\n",
              "      <td>3</td>\n",
              "      <td>2</td>\n",
              "      <td>3</td>\n",
              "      <td>3</td>\n",
              "      <td>3</td>\n",
              "      <td>3</td>\n",
              "      <td>3</td>\n",
              "      <td>3</td>\n",
              "      <td>4</td>\n",
              "      <td>3</td>\n",
              "      <td>3</td>\n",
              "      <td>4</td>\n",
              "      <td>3</td>\n",
              "      <td>3</td>\n",
              "      <td>3</td>\n",
              "      <td>3</td>\n",
              "      <td>3</td>\n",
              "      <td>4</td>\n",
              "      <td>1</td>\n",
              "      <td>1</td>\n",
              "      <td>1</td>\n",
              "      <td>1</td>\n",
              "      <td>2</td>\n",
              "      <td>1</td>\n",
              "      <td>1</td>\n",
              "      <td>1</td>\n",
              "      <td>1</td>\n",
              "      <td>3</td>\n",
              "      <td>2</td>\n",
              "      <td>3</td>\n",
              "      <td>2</td>\n",
              "      <td>2</td>\n",
              "      <td>1</td>\n",
              "      <td>1</td>\n",
              "      <td>3</td>\n",
              "      <td>3</td>\n",
              "      <td>4</td>\n",
              "      <td>4</td>\n",
              "      <td>2</td>\n",
              "      <td>2</td>\n",
              "      <td>3</td>\n",
              "      <td>2</td>\n",
              "      <td>3</td>\n",
              "      <td>2</td>\n",
              "      <td>2</td>\n",
              "      <td>3</td>\n",
              "      <td>3</td>\n",
              "      <td>3</td>\n",
              "      <td>3</td>\n",
              "      <td>2</td>\n",
              "      <td>2</td>\n",
              "      <td>2</td>\n",
              "      <td>1</td>\n",
              "    </tr>\n",
              "    <tr>\n",
              "      <th>4</th>\n",
              "      <td>2</td>\n",
              "      <td>2</td>\n",
              "      <td>1</td>\n",
              "      <td>1</td>\n",
              "      <td>1</td>\n",
              "      <td>1</td>\n",
              "      <td>0</td>\n",
              "      <td>0</td>\n",
              "      <td>0</td>\n",
              "      <td>0</td>\n",
              "      <td>0</td>\n",
              "      <td>1</td>\n",
              "      <td>0</td>\n",
              "      <td>1</td>\n",
              "      <td>1</td>\n",
              "      <td>1</td>\n",
              "      <td>1</td>\n",
              "      <td>1</td>\n",
              "      <td>2</td>\n",
              "      <td>1</td>\n",
              "      <td>1</td>\n",
              "      <td>0</td>\n",
              "      <td>0</td>\n",
              "      <td>0</td>\n",
              "      <td>0</td>\n",
              "      <td>2</td>\n",
              "      <td>1</td>\n",
              "      <td>2</td>\n",
              "      <td>1</td>\n",
              "      <td>1</td>\n",
              "      <td>1</td>\n",
              "      <td>1</td>\n",
              "      <td>1</td>\n",
              "      <td>1</td>\n",
              "      <td>0</td>\n",
              "      <td>0</td>\n",
              "      <td>0</td>\n",
              "      <td>0</td>\n",
              "      <td>2</td>\n",
              "      <td>1</td>\n",
              "      <td>0</td>\n",
              "      <td>2</td>\n",
              "      <td>3</td>\n",
              "      <td>0</td>\n",
              "      <td>2</td>\n",
              "      <td>2</td>\n",
              "      <td>1</td>\n",
              "      <td>2</td>\n",
              "      <td>3</td>\n",
              "      <td>2</td>\n",
              "      <td>2</td>\n",
              "      <td>2</td>\n",
              "      <td>1</td>\n",
              "      <td>0</td>\n",
              "      <td>1</td>\n",
              "    </tr>\n",
              "  </tbody>\n",
              "</table>\n",
              "</div>\n",
              "      <button class=\"colab-df-convert\" onclick=\"convertToInteractive('df-53424d6a-0434-48a6-9089-5596dd4b247b')\"\n",
              "              title=\"Convert this dataframe to an interactive table.\"\n",
              "              style=\"display:none;\">\n",
              "        \n",
              "  <svg xmlns=\"http://www.w3.org/2000/svg\" height=\"24px\"viewBox=\"0 0 24 24\"\n",
              "       width=\"24px\">\n",
              "    <path d=\"M0 0h24v24H0V0z\" fill=\"none\"/>\n",
              "    <path d=\"M18.56 5.44l.94 2.06.94-2.06 2.06-.94-2.06-.94-.94-2.06-.94 2.06-2.06.94zm-11 1L8.5 8.5l.94-2.06 2.06-.94-2.06-.94L8.5 2.5l-.94 2.06-2.06.94zm10 10l.94 2.06.94-2.06 2.06-.94-2.06-.94-.94-2.06-.94 2.06-2.06.94z\"/><path d=\"M17.41 7.96l-1.37-1.37c-.4-.4-.92-.59-1.43-.59-.52 0-1.04.2-1.43.59L10.3 9.45l-7.72 7.72c-.78.78-.78 2.05 0 2.83L4 21.41c.39.39.9.59 1.41.59.51 0 1.02-.2 1.41-.59l7.78-7.78 2.81-2.81c.8-.78.8-2.07 0-2.86zM5.41 20L4 18.59l7.72-7.72 1.47 1.35L5.41 20z\"/>\n",
              "  </svg>\n",
              "      </button>\n",
              "      \n",
              "  <style>\n",
              "    .colab-df-container {\n",
              "      display:flex;\n",
              "      flex-wrap:wrap;\n",
              "      gap: 12px;\n",
              "    }\n",
              "\n",
              "    .colab-df-convert {\n",
              "      background-color: #E8F0FE;\n",
              "      border: none;\n",
              "      border-radius: 50%;\n",
              "      cursor: pointer;\n",
              "      display: none;\n",
              "      fill: #1967D2;\n",
              "      height: 32px;\n",
              "      padding: 0 0 0 0;\n",
              "      width: 32px;\n",
              "    }\n",
              "\n",
              "    .colab-df-convert:hover {\n",
              "      background-color: #E2EBFA;\n",
              "      box-shadow: 0px 1px 2px rgba(60, 64, 67, 0.3), 0px 1px 3px 1px rgba(60, 64, 67, 0.15);\n",
              "      fill: #174EA6;\n",
              "    }\n",
              "\n",
              "    [theme=dark] .colab-df-convert {\n",
              "      background-color: #3B4455;\n",
              "      fill: #D2E3FC;\n",
              "    }\n",
              "\n",
              "    [theme=dark] .colab-df-convert:hover {\n",
              "      background-color: #434B5C;\n",
              "      box-shadow: 0px 1px 3px 1px rgba(0, 0, 0, 0.15);\n",
              "      filter: drop-shadow(0px 1px 2px rgba(0, 0, 0, 0.3));\n",
              "      fill: #FFFFFF;\n",
              "    }\n",
              "  </style>\n",
              "\n",
              "      <script>\n",
              "        const buttonEl =\n",
              "          document.querySelector('#df-53424d6a-0434-48a6-9089-5596dd4b247b button.colab-df-convert');\n",
              "        buttonEl.style.display =\n",
              "          google.colab.kernel.accessAllowed ? 'block' : 'none';\n",
              "\n",
              "        async function convertToInteractive(key) {\n",
              "          const element = document.querySelector('#df-53424d6a-0434-48a6-9089-5596dd4b247b');\n",
              "          const dataTable =\n",
              "            await google.colab.kernel.invokeFunction('convertToInteractive',\n",
              "                                                     [key], {});\n",
              "          if (!dataTable) return;\n",
              "\n",
              "          const docLinkHtml = 'Like what you see? Visit the ' +\n",
              "            '<a target=\"_blank\" href=https://colab.research.google.com/notebooks/data_table.ipynb>data table notebook</a>'\n",
              "            + ' to learn more about interactive tables.';\n",
              "          element.innerHTML = '';\n",
              "          dataTable['output_type'] = 'display_data';\n",
              "          await google.colab.output.renderOutput(dataTable, element);\n",
              "          const docLink = document.createElement('div');\n",
              "          docLink.innerHTML = docLinkHtml;\n",
              "          element.appendChild(docLink);\n",
              "        }\n",
              "      </script>\n",
              "    </div>\n",
              "  </div>\n",
              "  "
            ],
            "text/plain": [
              "   Q1  Q2  Q3  Q4  Q5  Q6  Q7  Q8  ...  Q48  Q49  Q50  Q51  Q52  Q53  Q54  Divorce\n",
              "0   2   2   4   1   0   0   0   0  ...    3    3    3    2    3    2    1        1\n",
              "1   4   4   4   4   4   0   0   4  ...    3    4    4    4    4    2    2        1\n",
              "2   2   2   2   2   1   3   2   1  ...    3    1    1    1    2    2    2        1\n",
              "3   3   2   3   2   3   3   3   3  ...    3    3    3    3    2    2    2        1\n",
              "4   2   2   1   1   1   1   0   0  ...    2    3    2    2    2    1    0        1\n",
              "\n",
              "[5 rows x 55 columns]"
            ]
          },
          "metadata": {},
          "execution_count": 2
        }
      ]
    },
    {
      "cell_type": "markdown",
      "metadata": {
        "id": "vw-g_f9Ajhe7"
      },
      "source": [
        "# 1) 대답 분포 살펴보기(시각화)"
      ]
    },
    {
      "cell_type": "markdown",
      "metadata": {
        "id": "WIjfkj-vzK3q"
      },
      "source": [
        "클래스 별로 각 질문에 대해서 어떤 대답을 주로 하였는지 Bar그래프로 시각화한다.\n",
        "\n",
        "(1) df를 divorce가 0인 데이터와 1인 데이터로 나누고,\n",
        "\n",
        "(2)  각각 0부터 4까지 대답의 빈도를 카운트하여\n",
        "\n",
        "새로운 데이터 프레임으로 만들었다.\n"
      ]
    },
    {
      "cell_type": "code",
      "metadata": {
        "id": "wqnHDjKHDgAJ"
      },
      "source": [
        "#'divorce'의 값이 1인 행들의 데이터들만 따로 저장\n",
        "data_married = df.groupby('Divorce').get_group(1)\n",
        "#'divorce'의 값이 0인 행들의 데이터들만 따로 저장\n",
        "data_divorced = df.groupby('Divorce').get_group(0)"
      ],
      "execution_count": 3,
      "outputs": []
    },
    {
      "cell_type": "markdown",
      "metadata": {
        "id": "FgjB2GzYkdRL"
      },
      "source": [
        "아래의 코드처럼 값을 카운트하고, 바로 인덱스 기준으로 정렬할 때, 비어있는 값에 대한 문제가 생긴다.\n",
        "\n",
        "```\n",
        "d = data_divorced.iloc[:, 31].value_counts().sort_index()\n",
        "```\n",
        "\n",
        "예를 들어, 1번 질문에 대해서 0(=Never),이라고 대답한 사람없을 경우, NaN값이 들어간다.\n",
        "\n",
        "그래서 아래 코드의 if문을 통해, 대답이 없는 경우 값을 추가해준 다음 인덱스 기준으로 정렬한다."
      ]
    },
    {
      "cell_type": "code",
      "metadata": {
        "colab": {
          "base_uri": "https://localhost:8080/",
          "height": 270
        },
        "id": "EGGCqra3NtmD",
        "outputId": "7e423fba-144d-4ac5-cfff-cdd661cd057c"
      },
      "source": [
        "# 이혼하지 않은 경우\n",
        "\n",
        "res_m = pd.DataFrame([1, 1, 1, 1, 1])\n",
        "\n",
        "for i in range(len(data_married.columns)-1):\n",
        "  res_count = data_married.iloc[:, i].value_counts()\n",
        "\n",
        "  index_check = res_count.index\n",
        "  if(0 not in index_check):   #'0'을 대답한 사람이 없는 경우 '0'행을 추가하여 0값을 넣어준다.\n",
        "    res_count[0] = 0\n",
        "  if(1 not in index_check):\n",
        "    res_count[1] = 0\n",
        "  if(2 not in index_check):\n",
        "    res_count[2] = 0\n",
        "  if(3 not in index_check):\n",
        "    res_count[3] = 0\n",
        "  if(4 not in index_check):\n",
        "    res_count[4] = 0\n",
        "\n",
        "  res_count = res_count.sort_index().tolist()     # 행(인덱스) 기준으로 정렬\n",
        "\n",
        "  res_df = pd.DataFrame(res_count)\n",
        "  res_m.insert(i, \"Q\"+str(i+1), res_df, True)\n",
        "\n",
        "# 해당 대답이 없는 경우 nan값이 들어가 있어서, 0으로 채워줌\n",
        "res_m = res_m.fillna(0)\n",
        "res_m = res_m.astype(int)\n",
        "res_m"
      ],
      "execution_count": 4,
      "outputs": [
        {
          "output_type": "execute_result",
          "data": {
            "text/html": [
              "\n",
              "  <div id=\"df-198fcf06-b073-413d-bb28-506c1980d756\">\n",
              "    <div class=\"colab-df-container\">\n",
              "      <div>\n",
              "<style scoped>\n",
              "    .dataframe tbody tr th:only-of-type {\n",
              "        vertical-align: middle;\n",
              "    }\n",
              "\n",
              "    .dataframe tbody tr th {\n",
              "        vertical-align: top;\n",
              "    }\n",
              "\n",
              "    .dataframe thead th {\n",
              "        text-align: right;\n",
              "    }\n",
              "</style>\n",
              "<table border=\"1\" class=\"dataframe\">\n",
              "  <thead>\n",
              "    <tr style=\"text-align: right;\">\n",
              "      <th></th>\n",
              "      <th>Q1</th>\n",
              "      <th>Q2</th>\n",
              "      <th>Q3</th>\n",
              "      <th>Q4</th>\n",
              "      <th>Q5</th>\n",
              "      <th>Q6</th>\n",
              "      <th>Q7</th>\n",
              "      <th>Q8</th>\n",
              "      <th>Q9</th>\n",
              "      <th>Q10</th>\n",
              "      <th>Q11</th>\n",
              "      <th>Q12</th>\n",
              "      <th>Q13</th>\n",
              "      <th>Q14</th>\n",
              "      <th>Q15</th>\n",
              "      <th>Q16</th>\n",
              "      <th>Q17</th>\n",
              "      <th>Q18</th>\n",
              "      <th>Q19</th>\n",
              "      <th>Q20</th>\n",
              "      <th>Q21</th>\n",
              "      <th>Q22</th>\n",
              "      <th>Q23</th>\n",
              "      <th>Q24</th>\n",
              "      <th>Q25</th>\n",
              "      <th>Q26</th>\n",
              "      <th>Q27</th>\n",
              "      <th>Q28</th>\n",
              "      <th>Q29</th>\n",
              "      <th>Q30</th>\n",
              "      <th>Q31</th>\n",
              "      <th>Q32</th>\n",
              "      <th>Q33</th>\n",
              "      <th>Q34</th>\n",
              "      <th>Q35</th>\n",
              "      <th>Q36</th>\n",
              "      <th>Q37</th>\n",
              "      <th>Q38</th>\n",
              "      <th>Q39</th>\n",
              "      <th>Q40</th>\n",
              "      <th>Q41</th>\n",
              "      <th>Q42</th>\n",
              "      <th>Q43</th>\n",
              "      <th>Q44</th>\n",
              "      <th>Q45</th>\n",
              "      <th>Q46</th>\n",
              "      <th>Q47</th>\n",
              "      <th>Q48</th>\n",
              "      <th>Q49</th>\n",
              "      <th>Q50</th>\n",
              "      <th>Q51</th>\n",
              "      <th>Q52</th>\n",
              "      <th>Q53</th>\n",
              "      <th>Q54</th>\n",
              "      <th>0</th>\n",
              "    </tr>\n",
              "  </thead>\n",
              "  <tbody>\n",
              "    <tr>\n",
              "      <th>0</th>\n",
              "      <td>1</td>\n",
              "      <td>2</td>\n",
              "      <td>0</td>\n",
              "      <td>2</td>\n",
              "      <td>3</td>\n",
              "      <td>22</td>\n",
              "      <td>29</td>\n",
              "      <td>4</td>\n",
              "      <td>3</td>\n",
              "      <td>2</td>\n",
              "      <td>2</td>\n",
              "      <td>2</td>\n",
              "      <td>2</td>\n",
              "      <td>3</td>\n",
              "      <td>1</td>\n",
              "      <td>2</td>\n",
              "      <td>1</td>\n",
              "      <td>1</td>\n",
              "      <td>2</td>\n",
              "      <td>1</td>\n",
              "      <td>5</td>\n",
              "      <td>7</td>\n",
              "      <td>9</td>\n",
              "      <td>4</td>\n",
              "      <td>5</td>\n",
              "      <td>3</td>\n",
              "      <td>4</td>\n",
              "      <td>6</td>\n",
              "      <td>3</td>\n",
              "      <td>2</td>\n",
              "      <td>2</td>\n",
              "      <td>0</td>\n",
              "      <td>3</td>\n",
              "      <td>2</td>\n",
              "      <td>6</td>\n",
              "      <td>5</td>\n",
              "      <td>1</td>\n",
              "      <td>3</td>\n",
              "      <td>1</td>\n",
              "      <td>1</td>\n",
              "      <td>1</td>\n",
              "      <td>1</td>\n",
              "      <td>2</td>\n",
              "      <td>2</td>\n",
              "      <td>4</td>\n",
              "      <td>4</td>\n",
              "      <td>3</td>\n",
              "      <td>0</td>\n",
              "      <td>0</td>\n",
              "      <td>0</td>\n",
              "      <td>0</td>\n",
              "      <td>0</td>\n",
              "      <td>0</td>\n",
              "      <td>4</td>\n",
              "      <td>1</td>\n",
              "    </tr>\n",
              "    <tr>\n",
              "      <th>1</th>\n",
              "      <td>1</td>\n",
              "      <td>2</td>\n",
              "      <td>4</td>\n",
              "      <td>3</td>\n",
              "      <td>5</td>\n",
              "      <td>35</td>\n",
              "      <td>41</td>\n",
              "      <td>3</td>\n",
              "      <td>2</td>\n",
              "      <td>1</td>\n",
              "      <td>2</td>\n",
              "      <td>1</td>\n",
              "      <td>2</td>\n",
              "      <td>2</td>\n",
              "      <td>4</td>\n",
              "      <td>2</td>\n",
              "      <td>2</td>\n",
              "      <td>2</td>\n",
              "      <td>1</td>\n",
              "      <td>4</td>\n",
              "      <td>4</td>\n",
              "      <td>7</td>\n",
              "      <td>4</td>\n",
              "      <td>3</td>\n",
              "      <td>1</td>\n",
              "      <td>3</td>\n",
              "      <td>5</td>\n",
              "      <td>3</td>\n",
              "      <td>5</td>\n",
              "      <td>4</td>\n",
              "      <td>6</td>\n",
              "      <td>5</td>\n",
              "      <td>6</td>\n",
              "      <td>6</td>\n",
              "      <td>7</td>\n",
              "      <td>6</td>\n",
              "      <td>3</td>\n",
              "      <td>3</td>\n",
              "      <td>1</td>\n",
              "      <td>1</td>\n",
              "      <td>2</td>\n",
              "      <td>4</td>\n",
              "      <td>3</td>\n",
              "      <td>2</td>\n",
              "      <td>2</td>\n",
              "      <td>3</td>\n",
              "      <td>6</td>\n",
              "      <td>2</td>\n",
              "      <td>2</td>\n",
              "      <td>4</td>\n",
              "      <td>5</td>\n",
              "      <td>5</td>\n",
              "      <td>6</td>\n",
              "      <td>3</td>\n",
              "      <td>1</td>\n",
              "    </tr>\n",
              "    <tr>\n",
              "      <th>2</th>\n",
              "      <td>8</td>\n",
              "      <td>23</td>\n",
              "      <td>15</td>\n",
              "      <td>29</td>\n",
              "      <td>6</td>\n",
              "      <td>22</td>\n",
              "      <td>5</td>\n",
              "      <td>19</td>\n",
              "      <td>13</td>\n",
              "      <td>29</td>\n",
              "      <td>4</td>\n",
              "      <td>18</td>\n",
              "      <td>9</td>\n",
              "      <td>19</td>\n",
              "      <td>11</td>\n",
              "      <td>25</td>\n",
              "      <td>5</td>\n",
              "      <td>16</td>\n",
              "      <td>4</td>\n",
              "      <td>21</td>\n",
              "      <td>17</td>\n",
              "      <td>26</td>\n",
              "      <td>6</td>\n",
              "      <td>21</td>\n",
              "      <td>11</td>\n",
              "      <td>21</td>\n",
              "      <td>17</td>\n",
              "      <td>30</td>\n",
              "      <td>10</td>\n",
              "      <td>22</td>\n",
              "      <td>2</td>\n",
              "      <td>3</td>\n",
              "      <td>4</td>\n",
              "      <td>5</td>\n",
              "      <td>1</td>\n",
              "      <td>2</td>\n",
              "      <td>3</td>\n",
              "      <td>3</td>\n",
              "      <td>5</td>\n",
              "      <td>3</td>\n",
              "      <td>7</td>\n",
              "      <td>6</td>\n",
              "      <td>4</td>\n",
              "      <td>5</td>\n",
              "      <td>7</td>\n",
              "      <td>11</td>\n",
              "      <td>7</td>\n",
              "      <td>5</td>\n",
              "      <td>9</td>\n",
              "      <td>5</td>\n",
              "      <td>5</td>\n",
              "      <td>6</td>\n",
              "      <td>8</td>\n",
              "      <td>7</td>\n",
              "      <td>1</td>\n",
              "    </tr>\n",
              "    <tr>\n",
              "      <th>3</th>\n",
              "      <td>45</td>\n",
              "      <td>35</td>\n",
              "      <td>49</td>\n",
              "      <td>32</td>\n",
              "      <td>44</td>\n",
              "      <td>4</td>\n",
              "      <td>4</td>\n",
              "      <td>37</td>\n",
              "      <td>49</td>\n",
              "      <td>34</td>\n",
              "      <td>44</td>\n",
              "      <td>42</td>\n",
              "      <td>44</td>\n",
              "      <td>38</td>\n",
              "      <td>51</td>\n",
              "      <td>35</td>\n",
              "      <td>50</td>\n",
              "      <td>44</td>\n",
              "      <td>50</td>\n",
              "      <td>36</td>\n",
              "      <td>47</td>\n",
              "      <td>29</td>\n",
              "      <td>43</td>\n",
              "      <td>35</td>\n",
              "      <td>43</td>\n",
              "      <td>37</td>\n",
              "      <td>46</td>\n",
              "      <td>28</td>\n",
              "      <td>43</td>\n",
              "      <td>35</td>\n",
              "      <td>17</td>\n",
              "      <td>28</td>\n",
              "      <td>16</td>\n",
              "      <td>25</td>\n",
              "      <td>14</td>\n",
              "      <td>24</td>\n",
              "      <td>16</td>\n",
              "      <td>23</td>\n",
              "      <td>13</td>\n",
              "      <td>23</td>\n",
              "      <td>14</td>\n",
              "      <td>28</td>\n",
              "      <td>19</td>\n",
              "      <td>28</td>\n",
              "      <td>24</td>\n",
              "      <td>23</td>\n",
              "      <td>13</td>\n",
              "      <td>30</td>\n",
              "      <td>17</td>\n",
              "      <td>20</td>\n",
              "      <td>29</td>\n",
              "      <td>16</td>\n",
              "      <td>23</td>\n",
              "      <td>14</td>\n",
              "      <td>1</td>\n",
              "    </tr>\n",
              "    <tr>\n",
              "      <th>4</th>\n",
              "      <td>29</td>\n",
              "      <td>22</td>\n",
              "      <td>16</td>\n",
              "      <td>18</td>\n",
              "      <td>26</td>\n",
              "      <td>1</td>\n",
              "      <td>5</td>\n",
              "      <td>21</td>\n",
              "      <td>17</td>\n",
              "      <td>18</td>\n",
              "      <td>32</td>\n",
              "      <td>21</td>\n",
              "      <td>27</td>\n",
              "      <td>22</td>\n",
              "      <td>17</td>\n",
              "      <td>20</td>\n",
              "      <td>26</td>\n",
              "      <td>21</td>\n",
              "      <td>27</td>\n",
              "      <td>22</td>\n",
              "      <td>11</td>\n",
              "      <td>15</td>\n",
              "      <td>22</td>\n",
              "      <td>21</td>\n",
              "      <td>24</td>\n",
              "      <td>20</td>\n",
              "      <td>12</td>\n",
              "      <td>17</td>\n",
              "      <td>23</td>\n",
              "      <td>21</td>\n",
              "      <td>57</td>\n",
              "      <td>48</td>\n",
              "      <td>55</td>\n",
              "      <td>46</td>\n",
              "      <td>56</td>\n",
              "      <td>47</td>\n",
              "      <td>61</td>\n",
              "      <td>52</td>\n",
              "      <td>64</td>\n",
              "      <td>56</td>\n",
              "      <td>60</td>\n",
              "      <td>45</td>\n",
              "      <td>56</td>\n",
              "      <td>47</td>\n",
              "      <td>47</td>\n",
              "      <td>43</td>\n",
              "      <td>55</td>\n",
              "      <td>47</td>\n",
              "      <td>56</td>\n",
              "      <td>55</td>\n",
              "      <td>45</td>\n",
              "      <td>57</td>\n",
              "      <td>47</td>\n",
              "      <td>56</td>\n",
              "      <td>1</td>\n",
              "    </tr>\n",
              "  </tbody>\n",
              "</table>\n",
              "</div>\n",
              "      <button class=\"colab-df-convert\" onclick=\"convertToInteractive('df-198fcf06-b073-413d-bb28-506c1980d756')\"\n",
              "              title=\"Convert this dataframe to an interactive table.\"\n",
              "              style=\"display:none;\">\n",
              "        \n",
              "  <svg xmlns=\"http://www.w3.org/2000/svg\" height=\"24px\"viewBox=\"0 0 24 24\"\n",
              "       width=\"24px\">\n",
              "    <path d=\"M0 0h24v24H0V0z\" fill=\"none\"/>\n",
              "    <path d=\"M18.56 5.44l.94 2.06.94-2.06 2.06-.94-2.06-.94-.94-2.06-.94 2.06-2.06.94zm-11 1L8.5 8.5l.94-2.06 2.06-.94-2.06-.94L8.5 2.5l-.94 2.06-2.06.94zm10 10l.94 2.06.94-2.06 2.06-.94-2.06-.94-.94-2.06-.94 2.06-2.06.94z\"/><path d=\"M17.41 7.96l-1.37-1.37c-.4-.4-.92-.59-1.43-.59-.52 0-1.04.2-1.43.59L10.3 9.45l-7.72 7.72c-.78.78-.78 2.05 0 2.83L4 21.41c.39.39.9.59 1.41.59.51 0 1.02-.2 1.41-.59l7.78-7.78 2.81-2.81c.8-.78.8-2.07 0-2.86zM5.41 20L4 18.59l7.72-7.72 1.47 1.35L5.41 20z\"/>\n",
              "  </svg>\n",
              "      </button>\n",
              "      \n",
              "  <style>\n",
              "    .colab-df-container {\n",
              "      display:flex;\n",
              "      flex-wrap:wrap;\n",
              "      gap: 12px;\n",
              "    }\n",
              "\n",
              "    .colab-df-convert {\n",
              "      background-color: #E8F0FE;\n",
              "      border: none;\n",
              "      border-radius: 50%;\n",
              "      cursor: pointer;\n",
              "      display: none;\n",
              "      fill: #1967D2;\n",
              "      height: 32px;\n",
              "      padding: 0 0 0 0;\n",
              "      width: 32px;\n",
              "    }\n",
              "\n",
              "    .colab-df-convert:hover {\n",
              "      background-color: #E2EBFA;\n",
              "      box-shadow: 0px 1px 2px rgba(60, 64, 67, 0.3), 0px 1px 3px 1px rgba(60, 64, 67, 0.15);\n",
              "      fill: #174EA6;\n",
              "    }\n",
              "\n",
              "    [theme=dark] .colab-df-convert {\n",
              "      background-color: #3B4455;\n",
              "      fill: #D2E3FC;\n",
              "    }\n",
              "\n",
              "    [theme=dark] .colab-df-convert:hover {\n",
              "      background-color: #434B5C;\n",
              "      box-shadow: 0px 1px 3px 1px rgba(0, 0, 0, 0.15);\n",
              "      filter: drop-shadow(0px 1px 2px rgba(0, 0, 0, 0.3));\n",
              "      fill: #FFFFFF;\n",
              "    }\n",
              "  </style>\n",
              "\n",
              "      <script>\n",
              "        const buttonEl =\n",
              "          document.querySelector('#df-198fcf06-b073-413d-bb28-506c1980d756 button.colab-df-convert');\n",
              "        buttonEl.style.display =\n",
              "          google.colab.kernel.accessAllowed ? 'block' : 'none';\n",
              "\n",
              "        async function convertToInteractive(key) {\n",
              "          const element = document.querySelector('#df-198fcf06-b073-413d-bb28-506c1980d756');\n",
              "          const dataTable =\n",
              "            await google.colab.kernel.invokeFunction('convertToInteractive',\n",
              "                                                     [key], {});\n",
              "          if (!dataTable) return;\n",
              "\n",
              "          const docLinkHtml = 'Like what you see? Visit the ' +\n",
              "            '<a target=\"_blank\" href=https://colab.research.google.com/notebooks/data_table.ipynb>data table notebook</a>'\n",
              "            + ' to learn more about interactive tables.';\n",
              "          element.innerHTML = '';\n",
              "          dataTable['output_type'] = 'display_data';\n",
              "          await google.colab.output.renderOutput(dataTable, element);\n",
              "          const docLink = document.createElement('div');\n",
              "          docLink.innerHTML = docLinkHtml;\n",
              "          element.appendChild(docLink);\n",
              "        }\n",
              "      </script>\n",
              "    </div>\n",
              "  </div>\n",
              "  "
            ],
            "text/plain": [
              "   Q1  Q2  Q3  Q4  Q5  Q6  Q7  Q8  ...  Q48  Q49  Q50  Q51  Q52  Q53  Q54  0\n",
              "0   1   2   0   2   3  22  29   4  ...    0    0    0    0    0    0    4  1\n",
              "1   1   2   4   3   5  35  41   3  ...    2    2    4    5    5    6    3  1\n",
              "2   8  23  15  29   6  22   5  19  ...    5    9    5    5    6    8    7  1\n",
              "3  45  35  49  32  44   4   4  37  ...   30   17   20   29   16   23   14  1\n",
              "4  29  22  16  18  26   1   5  21  ...   47   56   55   45   57   47   56  1\n",
              "\n",
              "[5 rows x 55 columns]"
            ]
          },
          "metadata": {},
          "execution_count": 4
        }
      ]
    },
    {
      "cell_type": "markdown",
      "source": [
        "질문 1번에 대한 이혼하지 않은 사람들의 대답 분포이다."
      ],
      "metadata": {
        "id": "Gpg5MM3Loyeo"
      }
    },
    {
      "cell_type": "code",
      "source": [
        "plt.bar(res_m.Q1.index, res_m.Q1, width = 0.4)\n",
        "plt.xlabel(\"responses\")\n",
        "plt.ylabel(\"frequency\")\n",
        "plt.show()"
      ],
      "metadata": {
        "colab": {
          "base_uri": "https://localhost:8080/",
          "height": 279
        },
        "id": "x1GA2Z6BoRXL",
        "outputId": "e2525219-cb7f-418b-8237-877be5d7c1bc"
      },
      "execution_count": 5,
      "outputs": [
        {
          "output_type": "display_data",
          "data": {
            "image/png": "[encoded data removed]",
            "text/plain": [
              "<Figure size 432x288 with 1 Axes>"
            ]
          },
          "metadata": {
            "needs_background": "light"
          }
        }
      ]
    },
    {
      "cell_type": "markdown",
      "source": [
        "이혼한 사람들의 각 대답을 카운트하여 데이터 프레임을 만든다.(위와 동일한 방법)"
      ],
      "metadata": {
        "id": "BkmC---npKjS"
      }
    },
    {
      "cell_type": "code",
      "metadata": {
        "colab": {
          "base_uri": "https://localhost:8080/",
          "height": 270
        },
        "id": "aCMrjvE-rh2C",
        "outputId": "f9307343-f056-47f4-a9d2-e60bcb56388a"
      },
      "source": [
        "# 이혼한 경우\n",
        "\n",
        "res_d = pd.DataFrame([0, 0, 0, 0, 0])\n",
        "\n",
        "for i in range(len(data_divorced.columns)-1):\n",
        "  res_count = data_divorced.iloc[:, i].value_counts()\n",
        "\n",
        "  index_check = res_count.index\n",
        "  if(0 not in index_check):   #'0'을 대답한 사람이 없는 경우 '0'행을 추가하여 0값을 넣어준다.\n",
        "    res_count[0] = 0\n",
        "  if(1 not in index_check):\n",
        "    res_count[1] = 0\n",
        "  if(2 not in index_check):\n",
        "    res_count[2] = 0\n",
        "  if(3 not in index_check):\n",
        "    res_count[3] = 0\n",
        "  if(4 not in index_check):\n",
        "    res_count[4] = 0\n",
        "\n",
        "  res_count = res_count.sort_index().tolist()     # 행(인덱스) 기준으로 정렬\n",
        "\n",
        "  res_df = pd.DataFrame(res_count)\n",
        "  res_d.insert(i, \"Q\"+str(i+1), res_df, True)\n",
        "\n",
        "# 해당 대답이 없는 경우 nan값이 들어가 있어서, 0으로 채워줌\n",
        "res_d = res_d.fillna(0)\n",
        "res_d = res_d.astype(int)\n",
        "res_d"
      ],
      "execution_count": 6,
      "outputs": [
        {
          "output_type": "execute_result",
          "data": {
            "text/html": [
              "\n",
              "  <div id=\"df-db79618f-ac32-4e70-932e-30e586ae4da1\">\n",
              "    <div class=\"colab-df-container\">\n",
              "      <div>\n",
              "<style scoped>\n",
              "    .dataframe tbody tr th:only-of-type {\n",
              "        vertical-align: middle;\n",
              "    }\n",
              "\n",
              "    .dataframe tbody tr th {\n",
              "        vertical-align: top;\n",
              "    }\n",
              "\n",
              "    .dataframe thead th {\n",
              "        text-align: right;\n",
              "    }\n",
              "</style>\n",
              "<table border=\"1\" class=\"dataframe\">\n",
              "  <thead>\n",
              "    <tr style=\"text-align: right;\">\n",
              "      <th></th>\n",
              "      <th>Q1</th>\n",
              "      <th>Q2</th>\n",
              "      <th>Q3</th>\n",
              "      <th>Q4</th>\n",
              "      <th>Q5</th>\n",
              "      <th>Q6</th>\n",
              "      <th>Q7</th>\n",
              "      <th>Q8</th>\n",
              "      <th>Q9</th>\n",
              "      <th>Q10</th>\n",
              "      <th>Q11</th>\n",
              "      <th>Q12</th>\n",
              "      <th>Q13</th>\n",
              "      <th>Q14</th>\n",
              "      <th>Q15</th>\n",
              "      <th>Q16</th>\n",
              "      <th>Q17</th>\n",
              "      <th>Q18</th>\n",
              "      <th>Q19</th>\n",
              "      <th>Q20</th>\n",
              "      <th>Q21</th>\n",
              "      <th>Q22</th>\n",
              "      <th>Q23</th>\n",
              "      <th>Q24</th>\n",
              "      <th>Q25</th>\n",
              "      <th>Q26</th>\n",
              "      <th>Q27</th>\n",
              "      <th>Q28</th>\n",
              "      <th>Q29</th>\n",
              "      <th>Q30</th>\n",
              "      <th>Q31</th>\n",
              "      <th>Q32</th>\n",
              "      <th>Q33</th>\n",
              "      <th>Q34</th>\n",
              "      <th>Q35</th>\n",
              "      <th>Q36</th>\n",
              "      <th>Q37</th>\n",
              "      <th>Q38</th>\n",
              "      <th>Q39</th>\n",
              "      <th>Q40</th>\n",
              "      <th>Q41</th>\n",
              "      <th>Q42</th>\n",
              "      <th>Q43</th>\n",
              "      <th>Q44</th>\n",
              "      <th>Q45</th>\n",
              "      <th>Q46</th>\n",
              "      <th>Q47</th>\n",
              "      <th>Q48</th>\n",
              "      <th>Q49</th>\n",
              "      <th>Q50</th>\n",
              "      <th>Q51</th>\n",
              "      <th>Q52</th>\n",
              "      <th>Q53</th>\n",
              "      <th>Q54</th>\n",
              "      <th>0</th>\n",
              "    </tr>\n",
              "  </thead>\n",
              "  <tbody>\n",
              "    <tr>\n",
              "      <th>0</th>\n",
              "      <td>68</td>\n",
              "      <td>57</td>\n",
              "      <td>51</td>\n",
              "      <td>73</td>\n",
              "      <td>79</td>\n",
              "      <td>64</td>\n",
              "      <td>85</td>\n",
              "      <td>77</td>\n",
              "      <td>81</td>\n",
              "      <td>60</td>\n",
              "      <td>69</td>\n",
              "      <td>56</td>\n",
              "      <td>45</td>\n",
              "      <td>63</td>\n",
              "      <td>68</td>\n",
              "      <td>73</td>\n",
              "      <td>72</td>\n",
              "      <td>78</td>\n",
              "      <td>75</td>\n",
              "      <td>80</td>\n",
              "      <td>73</td>\n",
              "      <td>80</td>\n",
              "      <td>81</td>\n",
              "      <td>68</td>\n",
              "      <td>58</td>\n",
              "      <td>69</td>\n",
              "      <td>73</td>\n",
              "      <td>79</td>\n",
              "      <td>78</td>\n",
              "      <td>70</td>\n",
              "      <td>42</td>\n",
              "      <td>46</td>\n",
              "      <td>68</td>\n",
              "      <td>48</td>\n",
              "      <td>79</td>\n",
              "      <td>83</td>\n",
              "      <td>48</td>\n",
              "      <td>61</td>\n",
              "      <td>49</td>\n",
              "      <td>71</td>\n",
              "      <td>54</td>\n",
              "      <td>43</td>\n",
              "      <td>14</td>\n",
              "      <td>58</td>\n",
              "      <td>24</td>\n",
              "      <td>18</td>\n",
              "      <td>30</td>\n",
              "      <td>10</td>\n",
              "      <td>28</td>\n",
              "      <td>19</td>\n",
              "      <td>12</td>\n",
              "      <td>23</td>\n",
              "      <td>31</td>\n",
              "      <td>46</td>\n",
              "      <td>0</td>\n",
              "    </tr>\n",
              "    <tr>\n",
              "      <th>1</th>\n",
              "      <td>8</td>\n",
              "      <td>21</td>\n",
              "      <td>20</td>\n",
              "      <td>9</td>\n",
              "      <td>5</td>\n",
              "      <td>14</td>\n",
              "      <td>1</td>\n",
              "      <td>7</td>\n",
              "      <td>5</td>\n",
              "      <td>17</td>\n",
              "      <td>17</td>\n",
              "      <td>26</td>\n",
              "      <td>31</td>\n",
              "      <td>21</td>\n",
              "      <td>16</td>\n",
              "      <td>12</td>\n",
              "      <td>13</td>\n",
              "      <td>8</td>\n",
              "      <td>10</td>\n",
              "      <td>6</td>\n",
              "      <td>13</td>\n",
              "      <td>6</td>\n",
              "      <td>3</td>\n",
              "      <td>13</td>\n",
              "      <td>27</td>\n",
              "      <td>17</td>\n",
              "      <td>13</td>\n",
              "      <td>7</td>\n",
              "      <td>8</td>\n",
              "      <td>15</td>\n",
              "      <td>22</td>\n",
              "      <td>25</td>\n",
              "      <td>14</td>\n",
              "      <td>31</td>\n",
              "      <td>6</td>\n",
              "      <td>3</td>\n",
              "      <td>28</td>\n",
              "      <td>21</td>\n",
              "      <td>27</td>\n",
              "      <td>12</td>\n",
              "      <td>24</td>\n",
              "      <td>13</td>\n",
              "      <td>16</td>\n",
              "      <td>14</td>\n",
              "      <td>22</td>\n",
              "      <td>15</td>\n",
              "      <td>28</td>\n",
              "      <td>8</td>\n",
              "      <td>26</td>\n",
              "      <td>27</td>\n",
              "      <td>24</td>\n",
              "      <td>23</td>\n",
              "      <td>25</td>\n",
              "      <td>24</td>\n",
              "      <td>0</td>\n",
              "    </tr>\n",
              "    <tr>\n",
              "      <th>2</th>\n",
              "      <td>6</td>\n",
              "      <td>5</td>\n",
              "      <td>11</td>\n",
              "      <td>1</td>\n",
              "      <td>2</td>\n",
              "      <td>7</td>\n",
              "      <td>0</td>\n",
              "      <td>2</td>\n",
              "      <td>0</td>\n",
              "      <td>9</td>\n",
              "      <td>0</td>\n",
              "      <td>4</td>\n",
              "      <td>9</td>\n",
              "      <td>2</td>\n",
              "      <td>2</td>\n",
              "      <td>1</td>\n",
              "      <td>1</td>\n",
              "      <td>0</td>\n",
              "      <td>1</td>\n",
              "      <td>0</td>\n",
              "      <td>0</td>\n",
              "      <td>0</td>\n",
              "      <td>2</td>\n",
              "      <td>5</td>\n",
              "      <td>1</td>\n",
              "      <td>0</td>\n",
              "      <td>0</td>\n",
              "      <td>0</td>\n",
              "      <td>0</td>\n",
              "      <td>1</td>\n",
              "      <td>19</td>\n",
              "      <td>9</td>\n",
              "      <td>2</td>\n",
              "      <td>5</td>\n",
              "      <td>0</td>\n",
              "      <td>0</td>\n",
              "      <td>7</td>\n",
              "      <td>3</td>\n",
              "      <td>9</td>\n",
              "      <td>3</td>\n",
              "      <td>7</td>\n",
              "      <td>20</td>\n",
              "      <td>29</td>\n",
              "      <td>12</td>\n",
              "      <td>14</td>\n",
              "      <td>17</td>\n",
              "      <td>13</td>\n",
              "      <td>42</td>\n",
              "      <td>17</td>\n",
              "      <td>31</td>\n",
              "      <td>38</td>\n",
              "      <td>17</td>\n",
              "      <td>18</td>\n",
              "      <td>14</td>\n",
              "      <td>0</td>\n",
              "    </tr>\n",
              "    <tr>\n",
              "      <th>3</th>\n",
              "      <td>2</td>\n",
              "      <td>3</td>\n",
              "      <td>3</td>\n",
              "      <td>0</td>\n",
              "      <td>0</td>\n",
              "      <td>0</td>\n",
              "      <td>0</td>\n",
              "      <td>0</td>\n",
              "      <td>0</td>\n",
              "      <td>0</td>\n",
              "      <td>0</td>\n",
              "      <td>0</td>\n",
              "      <td>1</td>\n",
              "      <td>0</td>\n",
              "      <td>0</td>\n",
              "      <td>0</td>\n",
              "      <td>0</td>\n",
              "      <td>0</td>\n",
              "      <td>0</td>\n",
              "      <td>0</td>\n",
              "      <td>0</td>\n",
              "      <td>0</td>\n",
              "      <td>0</td>\n",
              "      <td>0</td>\n",
              "      <td>0</td>\n",
              "      <td>0</td>\n",
              "      <td>0</td>\n",
              "      <td>0</td>\n",
              "      <td>0</td>\n",
              "      <td>0</td>\n",
              "      <td>0</td>\n",
              "      <td>4</td>\n",
              "      <td>1</td>\n",
              "      <td>1</td>\n",
              "      <td>1</td>\n",
              "      <td>0</td>\n",
              "      <td>0</td>\n",
              "      <td>1</td>\n",
              "      <td>0</td>\n",
              "      <td>0</td>\n",
              "      <td>1</td>\n",
              "      <td>6</td>\n",
              "      <td>14</td>\n",
              "      <td>0</td>\n",
              "      <td>12</td>\n",
              "      <td>25</td>\n",
              "      <td>7</td>\n",
              "      <td>20</td>\n",
              "      <td>10</td>\n",
              "      <td>6</td>\n",
              "      <td>9</td>\n",
              "      <td>14</td>\n",
              "      <td>7</td>\n",
              "      <td>1</td>\n",
              "      <td>0</td>\n",
              "    </tr>\n",
              "    <tr>\n",
              "      <th>4</th>\n",
              "      <td>2</td>\n",
              "      <td>0</td>\n",
              "      <td>1</td>\n",
              "      <td>3</td>\n",
              "      <td>0</td>\n",
              "      <td>1</td>\n",
              "      <td>0</td>\n",
              "      <td>0</td>\n",
              "      <td>0</td>\n",
              "      <td>0</td>\n",
              "      <td>0</td>\n",
              "      <td>0</td>\n",
              "      <td>0</td>\n",
              "      <td>0</td>\n",
              "      <td>0</td>\n",
              "      <td>0</td>\n",
              "      <td>0</td>\n",
              "      <td>0</td>\n",
              "      <td>0</td>\n",
              "      <td>0</td>\n",
              "      <td>0</td>\n",
              "      <td>0</td>\n",
              "      <td>0</td>\n",
              "      <td>0</td>\n",
              "      <td>0</td>\n",
              "      <td>0</td>\n",
              "      <td>0</td>\n",
              "      <td>0</td>\n",
              "      <td>0</td>\n",
              "      <td>0</td>\n",
              "      <td>3</td>\n",
              "      <td>2</td>\n",
              "      <td>1</td>\n",
              "      <td>1</td>\n",
              "      <td>0</td>\n",
              "      <td>0</td>\n",
              "      <td>3</td>\n",
              "      <td>0</td>\n",
              "      <td>1</td>\n",
              "      <td>0</td>\n",
              "      <td>0</td>\n",
              "      <td>4</td>\n",
              "      <td>13</td>\n",
              "      <td>2</td>\n",
              "      <td>14</td>\n",
              "      <td>11</td>\n",
              "      <td>8</td>\n",
              "      <td>6</td>\n",
              "      <td>5</td>\n",
              "      <td>3</td>\n",
              "      <td>3</td>\n",
              "      <td>9</td>\n",
              "      <td>5</td>\n",
              "      <td>1</td>\n",
              "      <td>0</td>\n",
              "    </tr>\n",
              "  </tbody>\n",
              "</table>\n",
              "</div>\n",
              "      <button class=\"colab-df-convert\" onclick=\"convertToInteractive('df-db79618f-ac32-4e70-932e-30e586ae4da1')\"\n",
              "              title=\"Convert this dataframe to an interactive table.\"\n",
              "              style=\"display:none;\">\n",
              "        \n",
              "  <svg xmlns=\"http://www.w3.org/2000/svg\" height=\"24px\"viewBox=\"0 0 24 24\"\n",
              "       width=\"24px\">\n",
              "    <path d=\"M0 0h24v24H0V0z\" fill=\"none\"/>\n",
              "    <path d=\"M18.56 5.44l.94 2.06.94-2.06 2.06-.94-2.06-.94-.94-2.06-.94 2.06-2.06.94zm-11 1L8.5 8.5l.94-2.06 2.06-.94-2.06-.94L8.5 2.5l-.94 2.06-2.06.94zm10 10l.94 2.06.94-2.06 2.06-.94-2.06-.94-.94-2.06-.94 2.06-2.06.94z\"/><path d=\"M17.41 7.96l-1.37-1.37c-.4-.4-.92-.59-1.43-.59-.52 0-1.04.2-1.43.59L10.3 9.45l-7.72 7.72c-.78.78-.78 2.05 0 2.83L4 21.41c.39.39.9.59 1.41.59.51 0 1.02-.2 1.41-.59l7.78-7.78 2.81-2.81c.8-.78.8-2.07 0-2.86zM5.41 20L4 18.59l7.72-7.72 1.47 1.35L5.41 20z\"/>\n",
              "  </svg>\n",
              "      </button>\n",
              "      \n",
              "  <style>\n",
              "    .colab-df-container {\n",
              "      display:flex;\n",
              "      flex-wrap:wrap;\n",
              "      gap: 12px;\n",
              "    }\n",
              "\n",
              "    .colab-df-convert {\n",
              "      background-color: #E8F0FE;\n",
              "      border: none;\n",
              "      border-radius: 50%;\n",
              "      cursor: pointer;\n",
              "      display: none;\n",
              "      fill: #1967D2;\n",
              "      height: 32px;\n",
              "      padding: 0 0 0 0;\n",
              "      width: 32px;\n",
              "    }\n",
              "\n",
              "    .colab-df-convert:hover {\n",
              "      background-color: #E2EBFA;\n",
              "      box-shadow: 0px 1px 2px rgba(60, 64, 67, 0.3), 0px 1px 3px 1px rgba(60, 64, 67, 0.15);\n",
              "      fill: #174EA6;\n",
              "    }\n",
              "\n",
              "    [theme=dark] .colab-df-convert {\n",
              "      background-color: #3B4455;\n",
              "      fill: #D2E3FC;\n",
              "    }\n",
              "\n",
              "    [theme=dark] .colab-df-convert:hover {\n",
              "      background-color: #434B5C;\n",
              "      box-shadow: 0px 1px 3px 1px rgba(0, 0, 0, 0.15);\n",
              "      filter: drop-shadow(0px 1px 2px rgba(0, 0, 0, 0.3));\n",
              "      fill: #FFFFFF;\n",
              "    }\n",
              "  </style>\n",
              "\n",
              "      <script>\n",
              "        const buttonEl =\n",
              "          document.querySelector('#df-db79618f-ac32-4e70-932e-30e586ae4da1 button.colab-df-convert');\n",
              "        buttonEl.style.display =\n",
              "          google.colab.kernel.accessAllowed ? 'block' : 'none';\n",
              "\n",
              "        async function convertToInteractive(key) {\n",
              "          const element = document.querySelector('#df-db79618f-ac32-4e70-932e-30e586ae4da1');\n",
              "          const dataTable =\n",
              "            await google.colab.kernel.invokeFunction('convertToInteractive',\n",
              "                                                     [key], {});\n",
              "          if (!dataTable) return;\n",
              "\n",
              "          const docLinkHtml = 'Like what you see? Visit the ' +\n",
              "            '<a target=\"_blank\" href=https://colab.research.google.com/notebooks/data_table.ipynb>data table notebook</a>'\n",
              "            + ' to learn more about interactive tables.';\n",
              "          element.innerHTML = '';\n",
              "          dataTable['output_type'] = 'display_data';\n",
              "          await google.colab.output.renderOutput(dataTable, element);\n",
              "          const docLink = document.createElement('div');\n",
              "          docLink.innerHTML = docLinkHtml;\n",
              "          element.appendChild(docLink);\n",
              "        }\n",
              "      </script>\n",
              "    </div>\n",
              "  </div>\n",
              "  "
            ],
            "text/plain": [
              "   Q1  Q2  Q3  Q4  Q5  Q6  Q7  Q8  ...  Q48  Q49  Q50  Q51  Q52  Q53  Q54  0\n",
              "0  68  57  51  73  79  64  85  77  ...   10   28   19   12   23   31   46  0\n",
              "1   8  21  20   9   5  14   1   7  ...    8   26   27   24   23   25   24  0\n",
              "2   6   5  11   1   2   7   0   2  ...   42   17   31   38   17   18   14  0\n",
              "3   2   3   3   0   0   0   0   0  ...   20   10    6    9   14    7    1  0\n",
              "4   2   0   1   3   0   1   0   0  ...    6    5    3    3    9    5    1  0\n",
              "\n",
              "[5 rows x 55 columns]"
            ]
          },
          "metadata": {},
          "execution_count": 6
        }
      ]
    },
    {
      "cell_type": "markdown",
      "source": [
        "질문 1번에 대한 이혼한 사람들의 대답 분포이다."
      ],
      "metadata": {
        "id": "ODe8wpMcptPK"
      }
    },
    {
      "cell_type": "code",
      "source": [
        "plt.bar(res_d.Q1.index, res_d.Q1, width = 0.4)\n",
        "plt.xlabel(\"responses\")\n",
        "plt.ylabel(\"frequency\")\n",
        "plt.show()"
      ],
      "metadata": {
        "colab": {
          "base_uri": "https://localhost:8080/",
          "height": 279
        },
        "id": "-WhRki9spj4c",
        "outputId": "f250cef1-6d8e-4d4f-f524-9dbeca239d61"
      },
      "execution_count": 7,
      "outputs": [
        {
          "output_type": "display_data",
          "data": {
            "image/png": "[encoded data removed]",
            "text/plain": [
              "<Figure size 432x288 with 1 Axes>"
            ]
          },
          "metadata": {
            "needs_background": "light"
          }
        }
      ]
    },
    {
      "cell_type": "markdown",
      "source": [
        "위의 두 그래프를 함께 그려서, 두 클래스의 대답 분포를 비교해 보았다."
      ],
      "metadata": {
        "id": "tYNpgZSQqEjC"
      }
    },
    {
      "cell_type": "code",
      "metadata": {
        "colab": {
          "base_uri": "https://localhost:8080/",
          "height": 318
        },
        "id": "DdPPXDp_1a1p",
        "outputId": "40c59ded-ab4c-4ef6-912d-4ce774df6142"
      },
      "source": [
        "# \"Q1\" 에 대한 대답\n",
        "answers = [0, 1, 2, 3, 4]\n",
        "answers_mean = ['Never(0)', 'Seldom(1)', 'Averagely(2)', 'Frequently(3)', 'Always(4)']\n",
        "plt.bar(res_d.Q1.index -0.2, res_d.Q1, width = 0.4, label = \"0\")\n",
        "plt.bar(res_m.Q1.index +0.2, res_m.Q1, width = 0.4, label = \"1\")\n",
        "plt.xlabel(\"responses\")\n",
        "plt.ylabel(\"frequency\")\n",
        "plt.title(\"Q1.\")\n",
        "plt.legend()\n",
        "plt.xticks(answers, answers_mean, fontsize=10, rotation=20)\n",
        "plt.show()"
      ],
      "execution_count": 8,
      "outputs": [
        {
          "output_type": "display_data",
          "data": {
            "image/png": "[encoded data removed]",
            "text/plain": [
              "<Figure size 432x288 with 1 Axes>"
            ]
          },
          "metadata": {
            "needs_background": "light"
          }
        }
      ]
    },
    {
      "cell_type": "markdown",
      "source": [
        "나머지 질문들에 대한 대답 분포도 비교해 보았다.\n",
        "대체로 2를 기준으로, 이혼한 사람들에 대한 그래프는 왼쪽으로 치우쳐있고, 이혼하지 않은 사람들에 대한 그래프는 오른쪽으로 치우쳐 있음을 알 수 있다."
      ],
      "metadata": {
        "id": "P6NHAELeqhn3"
      }
    },
    {
      "cell_type": "code",
      "metadata": {
        "colab": {
          "base_uri": "https://localhost:8080/",
          "height": 1000
        },
        "id": "DYIeJo5mWRcR",
        "outputId": "a938fcab-0923-44d4-99fd-9dbbaa23cb36"
      },
      "source": [
        "fig,ax=plt.subplots(11, 5, figsize=(30,27))\n",
        "num_Q = 1\n",
        "for i in range(0,11):\n",
        "    for j in range(0,5):\n",
        "      if num_Q ==55:\n",
        "            break\n",
        "      ax[i, j].bar(res_d['Q'+str(num_Q)].index -0.2, res_d['Q'+str(num_Q)], width = 0.4, label = \"0\")\n",
        "      ax[i, j].bar(res_m['Q'+str(num_Q)].index +0.2, res_m['Q'+str(num_Q)], width = 0.4, label = \"1\")\n",
        "      ax[i, j].set_xlabel(\"responses\")\n",
        "      ax[i, j].set_ylabel(\"frequency\")\n",
        "      ax[i, j].set_title(\"Q\" + str(num_Q))\n",
        "      num_Q += 1\n",
        "      ax[i, j].legend()\n",
        "      #ax.xticks(answers, answers_mean, fontsize=10, rotation=20)\n",
        "plt.show()"
      ],
      "execution_count": 9,
      "outputs": [
        {
          "output_type": "display_data",
          "data": {
            "image/png": "[encoded data removed]",
            "text/plain": [
              "<Figure size 2160x1944 with 55 Axes>"
            ]
          },
          "metadata": {
            "needs_background": "light"
          }
        }
      ]
    },
    {
      "cell_type": "markdown",
      "metadata": {
        "id": "sw3num4djdiN"
      },
      "source": [
        "# 2) Classification"
      ]
    },
    {
      "cell_type": "markdown",
      "metadata": {
        "id": "Oy3CgFIFjQyI"
      },
      "source": [
        "classification 으로 이혼여부를 예측할 것이다. 아래의 두 방법을 사용한다.\n",
        "\n",
        "1.   DecisionTree\n",
        "2.   RandomForest\n",
        "\n",
        "그리고 특성중요도(feature importance)를 통해 종속변수에 가장 많은 영향을 미치는 독립변수를 찾아본다.\n",
        "\n",
        "\n"
      ]
    },
    {
      "cell_type": "code",
      "source": [
        "data = df.astype(str)  # str타입으로 바꿈."
      ],
      "metadata": {
        "id": "kKVL6ox-Dxrg"
      },
      "execution_count": 10,
      "outputs": []
    },
    {
      "cell_type": "code",
      "metadata": {
        "id": "6_I4bzpbdvjs"
      },
      "source": [
        "from sklearn.model_selection import train_test_split\n",
        "\n",
        "X = data.drop(\"Divorce\", axis = 1)    # 'Divorce'열을 제외한 나머지\n",
        "y = data.Divorce\n",
        "\n",
        "# 데이터 나누기.\n",
        "X_train, X_test, y_train, y_test = train_test_split(\n",
        "    X, y, test_size=0.3, random_state=0)"
      ],
      "execution_count": 11,
      "outputs": []
    },
    {
      "cell_type": "markdown",
      "source": [
        "(1) decision tree\n",
        "\n",
        "decision tree을 통해 모델을 생성하고, 학습 및 예측한다."
      ],
      "metadata": {
        "id": "9HhthsKDvwSo"
      }
    },
    {
      "cell_type": "code",
      "metadata": {
        "id": "bQmULqCYdaA2"
      },
      "source": [
        "from sklearn.tree import DecisionTreeClassifier\n",
        "\n",
        "dt_clf = DecisionTreeClassifier()      # 모델 생성\n",
        "dt_clf = dt_clf.fit(X_train, y_train)     # 모델 학습\n",
        "predictions = dt_clf.predict(X_test)"
      ],
      "execution_count": 49,
      "outputs": []
    },
    {
      "cell_type": "markdown",
      "source": [
        "decision tree 학습 후 특성 중요도를 살펴본다.\n",
        "- 그래프로 시각화 하였다.\n",
        "- 10개의 변수까지의 importance값만 받았다. \n"
      ],
      "metadata": {
        "id": "KKBTT0LLQ_Rk"
      }
    },
    {
      "cell_type": "code",
      "metadata": {
        "id": "HrD4uzQZBIC3",
        "colab": {
          "base_uri": "https://localhost:8080/"
        },
        "outputId": "ed86b1da-25b7-4c2a-8a70-9513fa5f99cb"
      },
      "source": [
        "dt_clf.feature_importances_"
      ],
      "execution_count": 50,
      "outputs": [
        {
          "output_type": "execute_result",
          "data": {
            "text/plain": [
              "array([0.        , 0.        , 0.        , 0.        , 0.        ,\n",
              "       0.        , 0.        , 0.        , 0.        , 0.        ,\n",
              "       0.        , 0.        , 0.        , 0.        , 0.        ,\n",
              "       0.        , 0.        , 0.        , 0.        , 0.03305556,\n",
              "       0.        , 0.        , 0.        , 0.        , 0.        ,\n",
              "       0.        , 0.        , 0.        , 0.        , 0.        ,\n",
              "       0.        , 0.        , 0.        , 0.        , 0.        ,\n",
              "       0.        , 0.        , 0.        , 0.        , 0.96694444,\n",
              "       0.        , 0.        , 0.        , 0.        , 0.        ,\n",
              "       0.        , 0.        , 0.        , 0.        , 0.        ,\n",
              "       0.        , 0.        , 0.        , 0.        ])"
            ]
          },
          "metadata": {},
          "execution_count": 50
        }
      ]
    },
    {
      "cell_type": "code",
      "source": [
        "pd.DataFrame(data = dt_clf.feature_importances_*100,\n",
        "                   columns = [\"Importances\"],\n",
        "                   index = X_train.columns).sort_values(\"Importances\", ascending = False)[:10].plot(kind = \"barh\", color = \"r\")\n",
        "\n",
        "plt.xlabel(\"Feature Importances (%)\")"
      ],
      "metadata": {
        "id": "rDB3w6EqPyRJ",
        "colab": {
          "base_uri": "https://localhost:8080/",
          "height": 298
        },
        "outputId": "eb34e725-6c7f-46ce-b811-469514509d4f"
      },
      "execution_count": 51,
      "outputs": [
        {
          "output_type": "execute_result",
          "data": {
            "text/plain": [
              "Text(0.5, 0, 'Feature Importances (%)')"
            ]
          },
          "metadata": {},
          "execution_count": 51
        },
        {
          "output_type": "display_data",
          "data": {
            "image/png": "[encoded data removed]",
            "text/plain": [
              "<Figure size 432x288 with 1 Axes>"
            ]
          },
          "metadata": {
            "needs_background": "light"
          }
        }
      ]
    },
    {
      "cell_type": "markdown",
      "source": [
        "40번 질문의 중요도가 매우 높게 나왔다."
      ],
      "metadata": {
        "id": "UyNDlKk29ucb"
      }
    },
    {
      "cell_type": "markdown",
      "source": [
        "DecisionTree- 성능평가\n",
        "\n",
        "*   0.92%의 정확도를 가진다.\n"
      ],
      "metadata": {
        "id": "jqUOrNS--ECg"
      }
    },
    {
      "cell_type": "code",
      "metadata": {
        "id": "BPFrPZ57eTNi",
        "colab": {
          "base_uri": "https://localhost:8080/"
        },
        "outputId": "59e158af-aa19-4875-89f3-28a752cb4d1b"
      },
      "source": [
        "from sklearn.metrics import classification_report, confusion_matrix\n",
        "\n",
        "print(confusion_matrix(y_test, predictions))    # 혼동 행렬( confusion matrix )\n",
        "print(classification_report(y_test,predictions))    # 성능평가"
      ],
      "execution_count": 52,
      "outputs": [
        {
          "output_type": "stream",
          "name": "stdout",
          "text": [
            "[[24  3]\n",
            " [ 1 23]]\n",
            "              precision    recall  f1-score   support\n",
            "\n",
            "           0       0.96      0.89      0.92        27\n",
            "           1       0.88      0.96      0.92        24\n",
            "\n",
            "    accuracy                           0.92        51\n",
            "   macro avg       0.92      0.92      0.92        51\n",
            "weighted avg       0.92      0.92      0.92        51\n",
            "\n"
          ]
        }
      ]
    },
    {
      "cell_type": "code",
      "metadata": {
        "id": "MUTGrRW6gDvk",
        "colab": {
          "base_uri": "https://localhost:8080/",
          "height": 439
        },
        "outputId": "33e1d719-f650-4d2c-d4e1-d35795bbe592"
      },
      "source": [
        "from sklearn.tree import export_graphviz\n",
        "from graphviz import Source\n",
        "\n",
        "export_graphviz(dt_clf,                             # 모델\n",
        "               out_file= \"divorce_tree1.dot\",  # 저장경로 설정\n",
        "               feature_names=data.columns[:54],   # 변수명\n",
        "               class_names=data.Divorce,         # 종속변수\n",
        "               rounded = True,\n",
        "               filled = True)\n",
        "\n",
        "Source.from_file(\"divorce_tree1.dot\")"
      ],
      "execution_count": 53,
      "outputs": [
        {
          "output_type": "execute_result",
          "data": {
            "text/plain": [
              "<graphviz.files.Source at 0x7fdcd02bafd0>"
            ],
            "image/svg+xml": "<?xml version=\"1.0\" encoding=\"UTF-8\" standalone=\"no\"?>\n<!DOCTYPE svg PUBLIC \"-//W3C//DTD SVG 1.1//EN\"\n \"http://www.w3.org/Graphics/SVG/1.1/DTD/svg11.dtd\">\n<!-- Generated by graphviz version 2.40.1 (20161225.0304)\n -->\n<!-- Title: Tree Pages: 1 -->\n<svg width=\"300pt\" height=\"314pt\"\n viewBox=\"0.00 0.00 300.00 314.00\" xmlns=\"http://www.w3.org/2000/svg\" xmlns:xlink=\"http://www.w3.org/1999/xlink\">\n<g id=\"graph0\" class=\"graph\" transform=\"scale(1 1) rotate(0) translate(4 310)\">\n<title>Tree</title>\n<polygon fill=\"#ffffff\" stroke=\"transparent\" points=\"-4,4 -4,-310 296,-310 296,4 -4,4\"/>\n<!-- 0 -->\n<g id=\"node1\" class=\"node\">\n<title>0</title>\n<path fill=\"#fcfdff\" stroke=\"#000000\" d=\"M221.5,-306C221.5,-306 129.5,-306 129.5,-306 123.5,-306 117.5,-300 117.5,-294 117.5,-294 117.5,-235 117.5,-235 117.5,-229 123.5,-223 129.5,-223 129.5,-223 221.5,-223 221.5,-223 227.5,-223 233.5,-229 233.5,-235 233.5,-235 233.5,-294 233.5,-294 233.5,-300 227.5,-306 221.5,-306\"/>\n<text text-anchor=\"middle\" x=\"175.5\" y=\"-290.8\" font-family=\"Helvetica,sans-Serif\" font-size=\"14.00\" fill=\"#000000\">Q40 &lt;= 1.5</text>\n<text text-anchor=\"middle\" x=\"175.5\" y=\"-275.8\" font-family=\"Helvetica,sans-Serif\" font-size=\"14.00\" fill=\"#000000\">gini = 0.5</text>\n<text text-anchor=\"middle\" x=\"175.5\" y=\"-260.8\" font-family=\"Helvetica,sans-Serif\" font-size=\"14.00\" fill=\"#000000\">samples = 119</text>\n<text text-anchor=\"middle\" x=\"175.5\" y=\"-245.8\" font-family=\"Helvetica,sans-Serif\" font-size=\"14.00\" fill=\"#000000\">value = [59, 60]</text>\n<text text-anchor=\"middle\" x=\"175.5\" y=\"-230.8\" font-family=\"Helvetica,sans-Serif\" font-size=\"14.00\" fill=\"#000000\">class = 1</text>\n</g>\n<!-- 1 -->\n<g id=\"node2\" class=\"node\">\n<title>1</title>\n<path fill=\"#e5833c\" stroke=\"#000000\" d=\"M155,-187C155,-187 72,-187 72,-187 66,-187 60,-181 60,-175 60,-175 60,-116 60,-116 60,-110 66,-104 72,-104 72,-104 155,-104 155,-104 161,-104 167,-110 167,-116 167,-116 167,-175 167,-175 167,-181 161,-187 155,-187\"/>\n<text text-anchor=\"middle\" x=\"113.5\" y=\"-171.8\" font-family=\"Helvetica,sans-Serif\" font-size=\"14.00\" fill=\"#000000\">Q20 &lt;= 2.5</text>\n<text text-anchor=\"middle\" x=\"113.5\" y=\"-156.8\" font-family=\"Helvetica,sans-Serif\" font-size=\"14.00\" fill=\"#000000\">gini = 0.033</text>\n<text text-anchor=\"middle\" x=\"113.5\" y=\"-141.8\" font-family=\"Helvetica,sans-Serif\" font-size=\"14.00\" fill=\"#000000\">samples = 60</text>\n<text text-anchor=\"middle\" x=\"113.5\" y=\"-126.8\" font-family=\"Helvetica,sans-Serif\" font-size=\"14.00\" fill=\"#000000\">value = [59, 1]</text>\n<text text-anchor=\"middle\" x=\"113.5\" y=\"-111.8\" font-family=\"Helvetica,sans-Serif\" font-size=\"14.00\" fill=\"#000000\">class = 1</text>\n</g>\n<!-- 0&#45;&gt;1 -->\n<g id=\"edge1\" class=\"edge\">\n<title>0&#45;&gt;1</title>\n<path fill=\"none\" stroke=\"#000000\" d=\"M153.8154,-222.8796C149.3577,-214.3236 144.6166,-205.2238 140.0106,-196.3833\"/>\n<polygon fill=\"#000000\" stroke=\"#000000\" points=\"143.0017,-194.5494 135.2771,-187.2981 136.7938,-197.7838 143.0017,-194.5494\"/>\n<text text-anchor=\"middle\" x=\"127.7678\" y=\"-207.4436\" font-family=\"Helvetica,sans-Serif\" font-size=\"14.00\" fill=\"#000000\">True</text>\n</g>\n<!-- 4 -->\n<g id=\"node5\" class=\"node\">\n<title>4</title>\n<path fill=\"#399de5\" stroke=\"#000000\" d=\"M280,-179.5C280,-179.5 197,-179.5 197,-179.5 191,-179.5 185,-173.5 185,-167.5 185,-167.5 185,-123.5 185,-123.5 185,-117.5 191,-111.5 197,-111.5 197,-111.5 280,-111.5 280,-111.5 286,-111.5 292,-117.5 292,-123.5 292,-123.5 292,-167.5 292,-167.5 292,-173.5 286,-179.5 280,-179.5\"/>\n<text text-anchor=\"middle\" x=\"238.5\" y=\"-164.3\" font-family=\"Helvetica,sans-Serif\" font-size=\"14.00\" fill=\"#000000\">gini = 0.0</text>\n<text text-anchor=\"middle\" x=\"238.5\" y=\"-149.3\" font-family=\"Helvetica,sans-Serif\" font-size=\"14.00\" fill=\"#000000\">samples = 59</text>\n<text text-anchor=\"middle\" x=\"238.5\" y=\"-134.3\" font-family=\"Helvetica,sans-Serif\" font-size=\"14.00\" fill=\"#000000\">value = [0, 59]</text>\n<text text-anchor=\"middle\" x=\"238.5\" y=\"-119.3\" font-family=\"Helvetica,sans-Serif\" font-size=\"14.00\" fill=\"#000000\">class = 1</text>\n</g>\n<!-- 0&#45;&gt;4 -->\n<g id=\"edge4\" class=\"edge\">\n<title>0&#45;&gt;4</title>\n<path fill=\"none\" stroke=\"#000000\" d=\"M197.5343,-222.8796C203.3558,-211.8835 209.6527,-199.9893 215.5227,-188.9015\"/>\n<polygon fill=\"#000000\" stroke=\"#000000\" points=\"218.7476,-190.2905 220.3333,-179.8149 212.5611,-187.0152 218.7476,-190.2905\"/>\n<text text-anchor=\"middle\" x=\"227.6854\" y=\"-200.0094\" font-family=\"Helvetica,sans-Serif\" font-size=\"14.00\" fill=\"#000000\">False</text>\n</g>\n<!-- 2 -->\n<g id=\"node3\" class=\"node\">\n<title>2</title>\n<path fill=\"#e58139\" stroke=\"#000000\" d=\"M95,-68C95,-68 12,-68 12,-68 6,-68 0,-62 0,-56 0,-56 0,-12 0,-12 0,-6 6,0 12,0 12,0 95,0 95,0 101,0 107,-6 107,-12 107,-12 107,-56 107,-56 107,-62 101,-68 95,-68\"/>\n<text text-anchor=\"middle\" x=\"53.5\" y=\"-52.8\" font-family=\"Helvetica,sans-Serif\" font-size=\"14.00\" fill=\"#000000\">gini = 0.0</text>\n<text text-anchor=\"middle\" x=\"53.5\" y=\"-37.8\" font-family=\"Helvetica,sans-Serif\" font-size=\"14.00\" fill=\"#000000\">samples = 59</text>\n<text text-anchor=\"middle\" x=\"53.5\" y=\"-22.8\" font-family=\"Helvetica,sans-Serif\" font-size=\"14.00\" fill=\"#000000\">value = [59, 0]</text>\n<text text-anchor=\"middle\" x=\"53.5\" y=\"-7.8\" font-family=\"Helvetica,sans-Serif\" font-size=\"14.00\" fill=\"#000000\">class = 1</text>\n</g>\n<!-- 1&#45;&gt;2 -->\n<g id=\"edge2\" class=\"edge\">\n<title>1&#45;&gt;2</title>\n<path fill=\"none\" stroke=\"#000000\" d=\"M91.1582,-103.9815C86.4598,-95.2504 81.4929,-86.0202 76.7617,-77.2281\"/>\n<polygon fill=\"#000000\" stroke=\"#000000\" points=\"79.7586,-75.4111 71.9379,-68.2637 73.5944,-78.7282 79.7586,-75.4111\"/>\n</g>\n<!-- 3 -->\n<g id=\"node4\" class=\"node\">\n<title>3</title>\n<path fill=\"#399de5\" stroke=\"#000000\" d=\"M212,-68C212,-68 137,-68 137,-68 131,-68 125,-62 125,-56 125,-56 125,-12 125,-12 125,-6 131,0 137,0 137,0 212,0 212,0 218,0 224,-6 224,-12 224,-12 224,-56 224,-56 224,-62 218,-68 212,-68\"/>\n<text text-anchor=\"middle\" x=\"174.5\" y=\"-52.8\" font-family=\"Helvetica,sans-Serif\" font-size=\"14.00\" fill=\"#000000\">gini = 0.0</text>\n<text text-anchor=\"middle\" x=\"174.5\" y=\"-37.8\" font-family=\"Helvetica,sans-Serif\" font-size=\"14.00\" fill=\"#000000\">samples = 1</text>\n<text text-anchor=\"middle\" x=\"174.5\" y=\"-22.8\" font-family=\"Helvetica,sans-Serif\" font-size=\"14.00\" fill=\"#000000\">value = [0, 1]</text>\n<text text-anchor=\"middle\" x=\"174.5\" y=\"-7.8\" font-family=\"Helvetica,sans-Serif\" font-size=\"14.00\" fill=\"#000000\">class = 1</text>\n</g>\n<!-- 1&#45;&gt;3 -->\n<g id=\"edge3\" class=\"edge\">\n<title>1&#45;&gt;3</title>\n<path fill=\"none\" stroke=\"#000000\" d=\"M136.2141,-103.9815C140.9908,-95.2504 146.0405,-86.0202 150.8506,-77.2281\"/>\n<polygon fill=\"#000000\" stroke=\"#000000\" points=\"154.0258,-78.7165 155.7549,-68.2637 147.8847,-75.3568 154.0258,-78.7165\"/>\n</g>\n</g>\n</svg>\n"
          },
          "metadata": {},
          "execution_count": 53
        }
      ]
    },
    {
      "cell_type": "markdown",
      "source": [
        "(2) RandomForest\n",
        "\n",
        "RandomForest 모델을 생성하고, 학습 및 예측한다."
      ],
      "metadata": {
        "id": "eB-lHpqd-VgV"
      }
    },
    {
      "cell_type": "code",
      "source": [
        "from sklearn.ensemble import RandomForestClassifier\n",
        "\n",
        "randomf = RandomForestClassifier()\n",
        "rf_model = randomf.fit(X_train, y_train)\n",
        "rf_predictions = rf_model.predict(X_test)"
      ],
      "metadata": {
        "id": "1GX0C3LcGenM"
      },
      "execution_count": 54,
      "outputs": []
    },
    {
      "cell_type": "markdown",
      "source": [
        "RandomForest 학습 후 얻은 특성 중요도를 그래프로 그려 시각화하였다.\n",
        "\n",
        "DecisionTree와 같이 40, 18번이 높게 나왔으며, 그 외에도 17, 19 등의 질문이 높게 나왔다."
      ],
      "metadata": {
        "id": "SNYqgpSm-wKZ"
      }
    },
    {
      "cell_type": "code",
      "source": [
        "pd.DataFrame(data = rf_model.feature_importances_*100,\n",
        "                   columns = [\"Importances\"],\n",
        "                   index = X_train.columns).sort_values(\"Importances\", ascending = False)[:15].plot(kind = \"barh\", color = \"r\")\n",
        "\n",
        "plt.xlabel(\"Feature Importances (%)\")"
      ],
      "metadata": {
        "id": "0UynRbGhPDsP",
        "colab": {
          "base_uri": "https://localhost:8080/",
          "height": 298
        },
        "outputId": "2281f38b-b7e2-459a-fcc7-b2bffd6442f7"
      },
      "execution_count": 55,
      "outputs": [
        {
          "output_type": "execute_result",
          "data": {
            "text/plain": [
              "Text(0.5, 0, 'Feature Importances (%)')"
            ]
          },
          "metadata": {},
          "execution_count": 55
        },
        {
          "output_type": "display_data",
          "data": {
            "image/png": "[encoded data removed]",
            "text/plain": [
              "<Figure size 432x288 with 1 Axes>"
            ]
          },
          "metadata": {
            "needs_background": "light"
          }
        }
      ]
    },
    {
      "cell_type": "markdown",
      "source": [
        "RandomForest 성능 평가"
      ],
      "metadata": {
        "id": "5-GhLIjO_Yjm"
      }
    },
    {
      "cell_type": "code",
      "source": [
        "print(confusion_matrix(y_test, rf_predictions))\n",
        "print(classification_report(y_test,rf_predictions))"
      ],
      "metadata": {
        "id": "zIteUdr1SabJ",
        "colab": {
          "base_uri": "https://localhost:8080/"
        },
        "outputId": "4ce1fb48-396e-4af7-ff5f-dba42d4ee247"
      },
      "execution_count": 56,
      "outputs": [
        {
          "output_type": "stream",
          "name": "stdout",
          "text": [
            "[[27  0]\n",
            " [ 2 22]]\n",
            "              precision    recall  f1-score   support\n",
            "\n",
            "           0       0.93      1.00      0.96        27\n",
            "           1       1.00      0.92      0.96        24\n",
            "\n",
            "    accuracy                           0.96        51\n",
            "   macro avg       0.97      0.96      0.96        51\n",
            "weighted avg       0.96      0.96      0.96        51\n",
            "\n"
          ]
        }
      ]
    },
    {
      "cell_type": "markdown",
      "source": [
        "\n",
        "\n",
        "> 질문 40은?\n",
        "\n"
      ],
      "metadata": {
        "id": "SBF1MIt3TFeO"
      }
    },
    {
      "cell_type": "markdown",
      "source": [
        "# 이혼 예측의 결과\n",
        "\n",
        "(1) 이혼 예측 모델은 각각 0.92%, 0.96%로 높은 정확도를 가집니다.\n",
        "\n",
        "(2) 특성 중요도를 통해서 40번 질문(+ 20번, 17번)이 가장 많은 영향을 미치는 독립변수임을 알았습니다.\n",
        "\n",
        "1.   Q17 : 우리는 배우자와 함께 삶의 행복에 대해 **같은 견해를 공유**한다.\n",
        "2.   Q20 : 나와 배우자는 믿음에 대한 **가치관이 비슷**하다.\n",
        "2.   Q40 : 싸움을 시작하기 전에, 무슨 일이 일어나고 있는지 알린다.\n",
        "    - 싸우기 전에, **대화를 시도**하는지에 대한 질문.\n",
        "\n",
        "=> (비슷한) 가치관이나/ 대화에 대한 질문이 이혼을 예측하는데 중요하다 라고 판단."
      ],
      "metadata": {
        "id": "xZFVvz2KTq4r"
      }
    },
    {
      "cell_type": "markdown",
      "metadata": {
        "id": "W2yPJlhIpRAl"
      },
      "source": [
        "# 이혼 예측의 중요 요인 찾기(텍스트 전처리)"
      ]
    },
    {
      "cell_type": "markdown",
      "source": [
        "!가장 단순하게, 최빈값 사용.\n",
        "\n",
        "    가장 많은 유형의 질문이 이혼을 예측하는데 중요한 요인이다 라고 가정\n",
        "\n",
        "(1) 주요 단어 추출하기(질문 요약)\n",
        "\n",
        "*  54개의 질문들(문장)에서 주요 단어를 추출할 것입니다.\n",
        "    1.   불용어 제거(NLTK 패키지 활용)\n",
        "    2.   어간 추출\n",
        "    3.   길이가 3이하인 단어 삭제\n",
        "    4.   특정 품사 추출\n",
        "\n",
        "  https://wikidocs.net/21694\n",
        "\n",
        "(2) 그 중에서 사용빈도가 높은 단어로 질문 유형 나누기\n",
        "\n",
        "(3) 가장 많은 비율을 가지는 질문 유형 찾기\n",
        "\n",
        "목표 : 이혼 예측의 중요 요인 찾기"
      ],
      "metadata": {
        "id": "CEGkgUxUki_C"
      }
    },
    {
      "cell_type": "code",
      "metadata": {
        "colab": {
          "base_uri": "https://localhost:8080/",
          "height": 206
        },
        "id": "oSgIcLl2cqKI",
        "outputId": "70550667-e03d-49a3-a942-399d7e77c516"
      },
      "source": [
        "path_reference = 'https://raw.githubusercontent.com/dav1n9/DAP/main/divorce_data/reference.tsv'\n",
        "data_reference = pd.read_csv(path_reference, sep = \"|\", engine='python')\n",
        "\n",
        "data_reference.head()"
      ],
      "execution_count": 20,
      "outputs": [
        {
          "output_type": "execute_result",
          "data": {
            "text/html": [
              "\n",
              "  <div id=\"df-fc541122-2284-4072-8f05-95267a73eb3d\">\n",
              "    <div class=\"colab-df-container\">\n",
              "      <div>\n",
              "<style scoped>\n",
              "    .dataframe tbody tr th:only-of-type {\n",
              "        vertical-align: middle;\n",
              "    }\n",
              "\n",
              "    .dataframe tbody tr th {\n",
              "        vertical-align: top;\n",
              "    }\n",
              "\n",
              "    .dataframe thead th {\n",
              "        text-align: right;\n",
              "    }\n",
              "</style>\n",
              "<table border=\"1\" class=\"dataframe\">\n",
              "  <thead>\n",
              "    <tr style=\"text-align: right;\">\n",
              "      <th></th>\n",
              "      <th>atribute_id</th>\n",
              "      <th>description</th>\n",
              "    </tr>\n",
              "  </thead>\n",
              "  <tbody>\n",
              "    <tr>\n",
              "      <th>0</th>\n",
              "      <td>1</td>\n",
              "      <td>If one of us apologizes when our discussion de...</td>\n",
              "    </tr>\n",
              "    <tr>\n",
              "      <th>1</th>\n",
              "      <td>2</td>\n",
              "      <td>I know we can ignore our differences, even if ...</td>\n",
              "    </tr>\n",
              "    <tr>\n",
              "      <th>2</th>\n",
              "      <td>3</td>\n",
              "      <td>When we need it, we can take our discussions w...</td>\n",
              "    </tr>\n",
              "    <tr>\n",
              "      <th>3</th>\n",
              "      <td>4</td>\n",
              "      <td>When I discuss with my spouse, to contact him ...</td>\n",
              "    </tr>\n",
              "    <tr>\n",
              "      <th>4</th>\n",
              "      <td>5</td>\n",
              "      <td>The time I spent with my wife is special for us.</td>\n",
              "    </tr>\n",
              "  </tbody>\n",
              "</table>\n",
              "</div>\n",
              "      <button class=\"colab-df-convert\" onclick=\"convertToInteractive('df-fc541122-2284-4072-8f05-95267a73eb3d')\"\n",
              "              title=\"Convert this dataframe to an interactive table.\"\n",
              "              style=\"display:none;\">\n",
              "        \n",
              "  <svg xmlns=\"http://www.w3.org/2000/svg\" height=\"24px\"viewBox=\"0 0 24 24\"\n",
              "       width=\"24px\">\n",
              "    <path d=\"M0 0h24v24H0V0z\" fill=\"none\"/>\n",
              "    <path d=\"M18.56 5.44l.94 2.06.94-2.06 2.06-.94-2.06-.94-.94-2.06-.94 2.06-2.06.94zm-11 1L8.5 8.5l.94-2.06 2.06-.94-2.06-.94L8.5 2.5l-.94 2.06-2.06.94zm10 10l.94 2.06.94-2.06 2.06-.94-2.06-.94-.94-2.06-.94 2.06-2.06.94z\"/><path d=\"M17.41 7.96l-1.37-1.37c-.4-.4-.92-.59-1.43-.59-.52 0-1.04.2-1.43.59L10.3 9.45l-7.72 7.72c-.78.78-.78 2.05 0 2.83L4 21.41c.39.39.9.59 1.41.59.51 0 1.02-.2 1.41-.59l7.78-7.78 2.81-2.81c.8-.78.8-2.07 0-2.86zM5.41 20L4 18.59l7.72-7.72 1.47 1.35L5.41 20z\"/>\n",
              "  </svg>\n",
              "      </button>\n",
              "      \n",
              "  <style>\n",
              "    .colab-df-container {\n",
              "      display:flex;\n",
              "      flex-wrap:wrap;\n",
              "      gap: 12px;\n",
              "    }\n",
              "\n",
              "    .colab-df-convert {\n",
              "      background-color: #E8F0FE;\n",
              "      border: none;\n",
              "      border-radius: 50%;\n",
              "      cursor: pointer;\n",
              "      display: none;\n",
              "      fill: #1967D2;\n",
              "      height: 32px;\n",
              "      padding: 0 0 0 0;\n",
              "      width: 32px;\n",
              "    }\n",
              "\n",
              "    .colab-df-convert:hover {\n",
              "      background-color: #E2EBFA;\n",
              "      box-shadow: 0px 1px 2px rgba(60, 64, 67, 0.3), 0px 1px 3px 1px rgba(60, 64, 67, 0.15);\n",
              "      fill: #174EA6;\n",
              "    }\n",
              "\n",
              "    [theme=dark] .colab-df-convert {\n",
              "      background-color: #3B4455;\n",
              "      fill: #D2E3FC;\n",
              "    }\n",
              "\n",
              "    [theme=dark] .colab-df-convert:hover {\n",
              "      background-color: #434B5C;\n",
              "      box-shadow: 0px 1px 3px 1px rgba(0, 0, 0, 0.15);\n",
              "      filter: drop-shadow(0px 1px 2px rgba(0, 0, 0, 0.3));\n",
              "      fill: #FFFFFF;\n",
              "    }\n",
              "  </style>\n",
              "\n",
              "      <script>\n",
              "        const buttonEl =\n",
              "          document.querySelector('#df-fc541122-2284-4072-8f05-95267a73eb3d button.colab-df-convert');\n",
              "        buttonEl.style.display =\n",
              "          google.colab.kernel.accessAllowed ? 'block' : 'none';\n",
              "\n",
              "        async function convertToInteractive(key) {\n",
              "          const element = document.querySelector('#df-fc541122-2284-4072-8f05-95267a73eb3d');\n",
              "          const dataTable =\n",
              "            await google.colab.kernel.invokeFunction('convertToInteractive',\n",
              "                                                     [key], {});\n",
              "          if (!dataTable) return;\n",
              "\n",
              "          const docLinkHtml = 'Like what you see? Visit the ' +\n",
              "            '<a target=\"_blank\" href=https://colab.research.google.com/notebooks/data_table.ipynb>data table notebook</a>'\n",
              "            + ' to learn more about interactive tables.';\n",
              "          element.innerHTML = '';\n",
              "          dataTable['output_type'] = 'display_data';\n",
              "          await google.colab.output.renderOutput(dataTable, element);\n",
              "          const docLink = document.createElement('div');\n",
              "          docLink.innerHTML = docLinkHtml;\n",
              "          element.appendChild(docLink);\n",
              "        }\n",
              "      </script>\n",
              "    </div>\n",
              "  </div>\n",
              "  "
            ],
            "text/plain": [
              "   atribute_id                                        description\n",
              "0            1  If one of us apologizes when our discussion de...\n",
              "1            2  I know we can ignore our differences, even if ...\n",
              "2            3  When we need it, we can take our discussions w...\n",
              "3            4  When I discuss with my spouse, to contact him ...\n",
              "4            5   The time I spent with my wife is special for us."
            ]
          },
          "metadata": {},
          "execution_count": 20
        }
      ]
    },
    {
      "cell_type": "code",
      "metadata": {
        "colab": {
          "base_uri": "https://localhost:8080/"
        },
        "id": "_YYwikM3mTlZ",
        "outputId": "61ee1205-ea58-469c-d897-9e49fab4f997"
      },
      "source": [
        "import nltk\n",
        "nltk.download('stopwords')\n",
        "nltk.download('punkt')"
      ],
      "execution_count": 21,
      "outputs": [
        {
          "output_type": "stream",
          "name": "stdout",
          "text": [
            "[nltk_data] Downloading package stopwords to /root/nltk_data...\n",
            "[nltk_data]   Unzipping corpora/stopwords.zip.\n",
            "[nltk_data] Downloading package punkt to /root/nltk_data...\n",
            "[nltk_data]   Unzipping tokenizers/punkt.zip.\n"
          ]
        },
        {
          "output_type": "execute_result",
          "data": {
            "text/plain": [
              "True"
            ]
          },
          "metadata": {},
          "execution_count": 21
        }
      ]
    },
    {
      "cell_type": "markdown",
      "source": [
        "# 1) 주요 단어 찾기"
      ],
      "metadata": {
        "id": "QS3NokpPWzOf"
      }
    },
    {
      "cell_type": "markdown",
      "source": [
        "(1) 어간 추출\n",
        "\n",
        "> 섬세한 작업이 아니기 때문에 사전에 존재하지 않는 단어가 나올 수 있다.\n",
        "\n",
        "\n",
        "---\n",
        "\n",
        " => 일반동사들이나 명사 뒤에 e나 s가 삭제되는 경우 많음. \n",
        " 그러나 어간 추출을 하지 않으면 같은 의미를 가진 단어들이 많이 중복됨.(요약 불가)\n",
        "\n",
        " ex. dicuss , discussion, discussions 이런식임.\n",
        " 그래서 일단 어간 추출 단계를 포함함.\n",
        "\n",
        "\n"
      ],
      "metadata": {
        "id": "wJdbljxC9U_z"
      }
    },
    {
      "cell_type": "code",
      "source": [
        "for i in range(0, 54):\n",
        "    clean_words = []\n",
        "    document = data_reference.description[i]\n",
        "    for word in nltk.tokenize.word_tokenize(document):  #공백과 구두점(punctuation: ,혹은 .)을 기준으로 단어 분리, 축약형 단어도 분리 (Can't ==> ['Ca', \"n't\"])\n",
        "        word = word.lower() # 소문자로.\n",
        "        stemmer = nltk.stem.snowball.SnowballStemmer('english')\n",
        "        word = stemmer.stem(word) #어간 추출\n",
        "        clean_words.append(word)\n",
        "    print(clean_words) # 추출된 어간들\n",
        "    document = ' '.join(clean_words)          # 추출된 어간들 다시 묶어서\n",
        "    data_reference.description[i] = document  # data_reference에 저장.\n"
      ],
      "metadata": {
        "id": "ZsGcFcF85-Be",
        "colab": {
          "base_uri": "https://localhost:8080/"
        },
        "outputId": "19f3842d-3466-44aa-e57e-bc93652ee7d0"
      },
      "execution_count": 22,
      "outputs": [
        {
          "output_type": "stream",
          "name": "stdout",
          "text": [
            "['if', 'one', 'of', 'us', 'apolog', 'when', 'our', 'discuss', 'deterior', ',', 'the', 'discuss', 'end', '.']\n",
            "['i', 'know', 'we', 'can', 'ignor', 'our', 'differ', ',', 'even', 'if', 'thing', 'get', 'hard', 'sometim', '.']\n",
            "['when', 'we', 'need', 'it', ',', 'we', 'can', 'take', 'our', 'discuss', 'with', 'my', 'spous', 'from', 'the', 'begin', 'and', 'correct', 'it', '.']\n",
            "['when', 'i', 'discuss', 'with', 'my', 'spous', ',', 'to', 'contact', 'him', 'will', 'eventu', 'work', '.']\n",
            "['the', 'time', 'i', 'spent', 'with', 'my', 'wife', 'is', 'special', 'for', 'us', '.']\n",
            "['we', 'do', \"n't\", 'have', 'time', 'at', 'home', 'as', 'partner', '.']\n",
            "['we', 'are', 'like', 'two', 'stranger', 'who', 'share', 'the', 'same', 'environ', 'at', 'home', 'rather', 'than', 'famili', '.']\n",
            "['i', 'enjoy', 'our', 'holiday', 'with', 'my', 'wife', '.']\n",
            "['i', 'enjoy', 'travel', 'with', 'my', 'wife', '.']\n",
            "['most', 'of', 'our', 'goal', 'are', 'common', 'to', 'my', 'spous', '.']\n",
            "['i', 'think', 'that', 'one', 'day', 'in', 'the', 'futur', ',', 'when', 'i', 'look', 'back', ',', 'i', 'see', 'that', 'my', 'spous', 'and', 'i', 'have', 'been', 'in', 'harmoni', 'with', 'each', 'other', '.']\n",
            "['my', 'spous', 'and', 'i', 'have', 'similar', 'valu', 'in', 'term', 'of', 'person', 'freedom', '.']\n",
            "['my', 'spous', 'and', 'i', 'have', 'similar', 'sens', 'of', 'entertain', '.']\n",
            "['most', 'of', 'our', 'goal', 'for', 'peopl', '(', 'children', ',', 'friend', ',', 'etc', '.', ')', 'are', 'the', 'same', '.']\n",
            "['our', 'dream', 'with', 'my', 'spous', 'are', 'similar', 'and', 'harmoni', '.']\n",
            "['we', 're', 'compat', 'with', 'my', 'spous', 'about', 'what', 'love', 'should', 'be', '.']\n",
            "['we', 'share', 'the', 'same', 'view', 'about', 'be', 'happi', 'in', 'our', 'life', 'with', 'my', 'spous']\n",
            "['my', 'spous', 'and', 'i', 'have', 'similar', 'idea', 'about', 'how', 'marriag', 'should', 'be']\n",
            "['my', 'spous', 'and', 'i', 'have', 'similar', 'idea', 'about', 'how', 'role', 'should', 'be', 'in', 'marriag']\n",
            "['my', 'spous', 'and', 'i', 'have', 'similar', 'valu', 'in', 'trust', '.']\n",
            "['i', 'know', 'exact', 'what', 'my', 'wife', 'like', '.']\n",
            "['i', 'know', 'how', 'my', 'spous', 'want', 'to', 'be', 'taken', 'care', 'of', 'when', 'she/h', 'sick', '.']\n",
            "['i', 'know', 'my', 'spous', \"'s\", 'favorit', 'food', '.']\n",
            "['i', 'can', 'tell', 'you', 'what', 'kind', 'of', 'stress', 'my', 'spous', 'is', 'face', 'in', 'her/hi', 'life', '.']\n",
            "['i', 'have', 'knowledg', 'of', 'my', 'spous', \"'s\", 'inner', 'world', '.']\n",
            "['i', 'know', 'my', 'spous', \"'s\", 'basic', 'anxieti', '.']\n",
            "['i', 'know', 'what', 'my', 'spous', \"'s\", 'current', 'sourc', 'of', 'stress', 'are', '.']\n",
            "['i', 'know', 'my', 'spous', \"'s\", 'hope', 'and', 'wish', '.']\n",
            "['i', 'know', 'my', 'spous', 'veri', 'well', '.']\n",
            "['i', 'know', 'my', 'spous', \"'s\", 'friend', 'and', 'their', 'social', 'relationship', '.']\n",
            "['i', 'do', \"n't\", 'feel', 'aggress', 'when', 'i', 'argu', 'with', 'my', 'spous', '.']\n",
            "['when', 'discuss', 'with', 'my', 'spous', ',', 'i', 'do', \"n't\", 'use', 'express', 'such', 'as', '‘', 'you', 'alway', '’', 'or', '‘', 'you', 'never', '’', '.']\n",
            "['i', 'do', \"n't\", 'use', 'negat', 'statement', 'about', 'my', 'spous', \"'s\", 'person', 'dure', 'our', 'discuss', '.']\n",
            "['i', 'do', \"n't\", 'use', 'offens', 'express', 'dure', 'our', 'discuss', '.']\n",
            "['i', 'do', \"n't\", 'insult', 'my', 'spous', 'dure', 'our', 'discuss', '.']\n",
            "['i', \"'m\", 'not', 'humili', 'when', 'we', 'argu', '.']\n",
            "['my', 'discuss', 'with', 'my', 'spous', 'is', 'calm', '.']\n",
            "['i', 'like', 'my', 'spous', \"'s\", 'way', 'of', 'open', 'a', 'subject', '.']\n",
            "['our', 'discuss', 'do', \"n't\", 'occur', 'sudden', '.']\n",
            "['we', 're', 'not', 'start', 'a', 'discuss', 'befor', 'i', 'know', 'what', \"'s\", 'go', 'on', '.']\n",
            "['when', 'i', 'talk', 'to', 'my', 'spous', 'about', 'someth', ',', 'my', 'calm', 'doe', \"n't\", 'break']\n",
            "['when', 'i', 'argu', 'with', 'my', 'spous', ',', 'ı', 'onli', 'go', 'out', 'and', 'i', 'do', \"n't\", 'say', 'a', 'word', '.']\n",
            "['i', 'most', 'stay', 'silent', 'to', 'calm', 'the', 'environ', 'a', 'littl', 'bit', '.']\n",
            "['sometim', 'i', 'think', 'it', \"'s\", 'good', 'for', 'me', 'to', 'leav', 'home', 'for', 'a', 'while', '.']\n",
            "['i', \"'d\", 'rather', 'stay', 'silent', 'than', 'discuss', 'with', 'my', 'spous', '.']\n",
            "['even', 'if', 'i', \"'m\", 'right', 'in', 'the', 'discuss', ',', 'i', 'stay', 'silent', 'to', 'hurt', 'my', 'spous', '.']\n",
            "['when', 'i', 'discuss', 'with', 'my', 'spous', ',', 'i', 'stay', 'silent', 'becaus', 'i', 'am', 'afraid', 'of', 'not', 'be', 'abl', 'to', 'control', 'my', 'anger', '.']\n",
            "['i', 'feel', 'right', 'in', 'our', 'discuss', '.']\n",
            "['i', 'have', 'noth', 'to', 'do', 'with', 'what', 'i', 've', 'been', 'accus', 'of', '.']\n",
            "['i', \"'m\", 'not', 'actual', 'the', 'one', 'who', \"'s\", 'guilti', 'about', 'what', 'i', \"'m\", 'accus', 'of', '.']\n",
            "['i', \"'m\", 'not', 'the', 'one', 'who', \"'s\", 'wrong', 'about', 'problem', 'at', 'home', '.']\n",
            "['i', 'would', \"n't\", 'hesit', 'to', 'tell', 'my', 'spous', 'about', 'her/hi', 'inadequaci', '.']\n",
            "['when', 'i', 'discuss', ',', 'i', 'remind', 'my', 'spous', 'of', 'her/hi', 'inadequaci', '.']\n",
            "['i', \"'m\", 'not', 'afraid', 'to', 'tell', 'my', 'spous', 'about', 'her/hi', 'incompet', '.']\n"
          ]
        },
        {
          "output_type": "stream",
          "name": "stderr",
          "text": [
            "/usr/local/lib/python3.7/dist-packages/ipykernel_launcher.py:11: SettingWithCopyWarning: \n",
            "A value is trying to be set on a copy of a slice from a DataFrame\n",
            "\n",
            "See the caveats in the documentation: https://pandas.pydata.org/pandas-docs/stable/user_guide/indexing.html#returning-a-view-versus-a-copy\n",
            "  # This is added back by InteractiveShellApp.init_path()\n"
          ]
        }
      ]
    },
    {
      "cell_type": "code",
      "source": [
        "data_reference.head()"
      ],
      "metadata": {
        "colab": {
          "base_uri": "https://localhost:8080/",
          "height": 206
        },
        "id": "k6Hy2yhC8hRw",
        "outputId": "a798187c-cdab-4e12-d7d8-5f1c6fdf968c"
      },
      "execution_count": 23,
      "outputs": [
        {
          "output_type": "execute_result",
          "data": {
            "text/html": [
              "\n",
              "  <div id=\"df-830f248c-704f-4922-bf9d-a95295931b85\">\n",
              "    <div class=\"colab-df-container\">\n",
              "      <div>\n",
              "<style scoped>\n",
              "    .dataframe tbody tr th:only-of-type {\n",
              "        vertical-align: middle;\n",
              "    }\n",
              "\n",
              "    .dataframe tbody tr th {\n",
              "        vertical-align: top;\n",
              "    }\n",
              "\n",
              "    .dataframe thead th {\n",
              "        text-align: right;\n",
              "    }\n",
              "</style>\n",
              "<table border=\"1\" class=\"dataframe\">\n",
              "  <thead>\n",
              "    <tr style=\"text-align: right;\">\n",
              "      <th></th>\n",
              "      <th>atribute_id</th>\n",
              "      <th>description</th>\n",
              "    </tr>\n",
              "  </thead>\n",
              "  <tbody>\n",
              "    <tr>\n",
              "      <th>0</th>\n",
              "      <td>1</td>\n",
              "      <td>if one of us apolog when our discuss deterior ...</td>\n",
              "    </tr>\n",
              "    <tr>\n",
              "      <th>1</th>\n",
              "      <td>2</td>\n",
              "      <td>i know we can ignor our differ , even if thing...</td>\n",
              "    </tr>\n",
              "    <tr>\n",
              "      <th>2</th>\n",
              "      <td>3</td>\n",
              "      <td>when we need it , we can take our discuss with...</td>\n",
              "    </tr>\n",
              "    <tr>\n",
              "      <th>3</th>\n",
              "      <td>4</td>\n",
              "      <td>when i discuss with my spous , to contact him ...</td>\n",
              "    </tr>\n",
              "    <tr>\n",
              "      <th>4</th>\n",
              "      <td>5</td>\n",
              "      <td>the time i spent with my wife is special for us .</td>\n",
              "    </tr>\n",
              "  </tbody>\n",
              "</table>\n",
              "</div>\n",
              "      <button class=\"colab-df-convert\" onclick=\"convertToInteractive('df-830f248c-704f-4922-bf9d-a95295931b85')\"\n",
              "              title=\"Convert this dataframe to an interactive table.\"\n",
              "              style=\"display:none;\">\n",
              "        \n",
              "  <svg xmlns=\"http://www.w3.org/2000/svg\" height=\"24px\"viewBox=\"0 0 24 24\"\n",
              "       width=\"24px\">\n",
              "    <path d=\"M0 0h24v24H0V0z\" fill=\"none\"/>\n",
              "    <path d=\"M18.56 5.44l.94 2.06.94-2.06 2.06-.94-2.06-.94-.94-2.06-.94 2.06-2.06.94zm-11 1L8.5 8.5l.94-2.06 2.06-.94-2.06-.94L8.5 2.5l-.94 2.06-2.06.94zm10 10l.94 2.06.94-2.06 2.06-.94-2.06-.94-.94-2.06-.94 2.06-2.06.94z\"/><path d=\"M17.41 7.96l-1.37-1.37c-.4-.4-.92-.59-1.43-.59-.52 0-1.04.2-1.43.59L10.3 9.45l-7.72 7.72c-.78.78-.78 2.05 0 2.83L4 21.41c.39.39.9.59 1.41.59.51 0 1.02-.2 1.41-.59l7.78-7.78 2.81-2.81c.8-.78.8-2.07 0-2.86zM5.41 20L4 18.59l7.72-7.72 1.47 1.35L5.41 20z\"/>\n",
              "  </svg>\n",
              "      </button>\n",
              "      \n",
              "  <style>\n",
              "    .colab-df-container {\n",
              "      display:flex;\n",
              "      flex-wrap:wrap;\n",
              "      gap: 12px;\n",
              "    }\n",
              "\n",
              "    .colab-df-convert {\n",
              "      background-color: #E8F0FE;\n",
              "      border: none;\n",
              "      border-radius: 50%;\n",
              "      cursor: pointer;\n",
              "      display: none;\n",
              "      fill: #1967D2;\n",
              "      height: 32px;\n",
              "      padding: 0 0 0 0;\n",
              "      width: 32px;\n",
              "    }\n",
              "\n",
              "    .colab-df-convert:hover {\n",
              "      background-color: #E2EBFA;\n",
              "      box-shadow: 0px 1px 2px rgba(60, 64, 67, 0.3), 0px 1px 3px 1px rgba(60, 64, 67, 0.15);\n",
              "      fill: #174EA6;\n",
              "    }\n",
              "\n",
              "    [theme=dark] .colab-df-convert {\n",
              "      background-color: #3B4455;\n",
              "      fill: #D2E3FC;\n",
              "    }\n",
              "\n",
              "    [theme=dark] .colab-df-convert:hover {\n",
              "      background-color: #434B5C;\n",
              "      box-shadow: 0px 1px 3px 1px rgba(0, 0, 0, 0.15);\n",
              "      filter: drop-shadow(0px 1px 2px rgba(0, 0, 0, 0.3));\n",
              "      fill: #FFFFFF;\n",
              "    }\n",
              "  </style>\n",
              "\n",
              "      <script>\n",
              "        const buttonEl =\n",
              "          document.querySelector('#df-830f248c-704f-4922-bf9d-a95295931b85 button.colab-df-convert');\n",
              "        buttonEl.style.display =\n",
              "          google.colab.kernel.accessAllowed ? 'block' : 'none';\n",
              "\n",
              "        async function convertToInteractive(key) {\n",
              "          const element = document.querySelector('#df-830f248c-704f-4922-bf9d-a95295931b85');\n",
              "          const dataTable =\n",
              "            await google.colab.kernel.invokeFunction('convertToInteractive',\n",
              "                                                     [key], {});\n",
              "          if (!dataTable) return;\n",
              "\n",
              "          const docLinkHtml = 'Like what you see? Visit the ' +\n",
              "            '<a target=\"_blank\" href=https://colab.research.google.com/notebooks/data_table.ipynb>data table notebook</a>'\n",
              "            + ' to learn more about interactive tables.';\n",
              "          element.innerHTML = '';\n",
              "          dataTable['output_type'] = 'display_data';\n",
              "          await google.colab.output.renderOutput(dataTable, element);\n",
              "          const docLink = document.createElement('div');\n",
              "          docLink.innerHTML = docLinkHtml;\n",
              "          element.appendChild(docLink);\n",
              "        }\n",
              "      </script>\n",
              "    </div>\n",
              "  </div>\n",
              "  "
            ],
            "text/plain": [
              "   atribute_id                                        description\n",
              "0            1  if one of us apolog when our discuss deterior ...\n",
              "1            2  i know we can ignor our differ , even if thing...\n",
              "2            3  when we need it , we can take our discuss with...\n",
              "3            4  when i discuss with my spous , to contact him ...\n",
              "4            5  the time i spent with my wife is special for us ."
            ]
          },
          "metadata": {},
          "execution_count": 23
        }
      ]
    },
    {
      "cell_type": "markdown",
      "metadata": {
        "id": "Mga7S0VAoz3v"
      },
      "source": [
        "(2) 불용어 삭제\n",
        "\n",
        "> 자주 등장하지만 분석을 하는 것에 있어서는 큰 도움이 되지 않는 단어를 불용어라고 한다. ex. 'i', 'me', 'my'"
      ]
    },
    {
      "cell_type": "code",
      "source": [
        "from nltk.corpus import stopwords\n",
        "# 불용어 예시\n",
        "print(stopwords.words('english')[:10])"
      ],
      "metadata": {
        "colab": {
          "base_uri": "https://localhost:8080/"
        },
        "id": "nTUIBo0-Dk8z",
        "outputId": "ea2394ae-8fba-4243-92b5-b00301745da9"
      },
      "execution_count": 24,
      "outputs": [
        {
          "output_type": "stream",
          "name": "stdout",
          "text": [
            "['i', 'me', 'my', 'myself', 'we', 'our', 'ours', 'ourselves', 'you', \"you're\"]\n"
          ]
        }
      ]
    },
    {
      "cell_type": "code",
      "metadata": {
        "id": "Ha2Hnc8rlKRa",
        "colab": {
          "base_uri": "https://localhost:8080/"
        },
        "outputId": "d647938d-28fb-41bc-ff59-5cff0a22399d"
      },
      "source": [
        "from nltk.corpus import stopwords \n",
        "from nltk.tokenize import word_tokenize \n",
        "\n",
        "stop_words = set(stopwords.words('english'))\n",
        "\n",
        "for i in range(0, 54):\n",
        "  result = []\n",
        "  st = data_reference.description[i]\n",
        "  # 공백과 구두점(punctuation: ,혹은 .)을 기준으로 단어 분리, 축약형 단어도 분리 (Can't ==> ['Ca', \"n't\"])\n",
        "  for word in word_tokenize(st):\n",
        "    word = word.lower()\n",
        "    if word not in stopwords.words('english'): #불용어 제거\n",
        "      result.append(word)\n",
        "  print(result)  # 추출된 어간들\n",
        "  st = ' '.join(result)\n",
        "  data_reference.description[i] = st\n"
      ],
      "execution_count": 25,
      "outputs": [
        {
          "output_type": "stream",
          "name": "stdout",
          "text": [
            "['one', 'us', 'apolog', 'discuss', 'deterior', ',', 'discuss', 'end', '.']\n",
            "['know', 'ignor', 'differ', ',', 'even', 'thing', 'get', 'hard', 'sometim', '.']\n",
            "['need', ',', 'take', 'discuss', 'spous', 'begin', 'correct', '.']\n",
            "['discuss', 'spous', ',', 'contact', 'eventu', 'work', '.']\n",
            "['time', 'spent', 'wife', 'special', 'us', '.']\n",
            "[\"n't\", 'time', 'home', 'partner', '.']\n",
            "['like', 'two', 'stranger', 'share', 'environ', 'home', 'rather', 'famili', '.']\n",
            "['enjoy', 'holiday', 'wife', '.']\n",
            "['enjoy', 'travel', 'wife', '.']\n",
            "['goal', 'common', 'spous', '.']\n",
            "['think', 'one', 'day', 'futur', ',', 'look', 'back', ',', 'see', 'spous', 'harmoni', '.']\n",
            "['spous', 'similar', 'valu', 'term', 'person', 'freedom', '.']\n",
            "['spous', 'similar', 'sens', 'entertain', '.']\n",
            "['goal', 'peopl', '(', 'children', ',', 'friend', ',', 'etc', '.', ')', '.']\n",
            "['dream', 'spous', 'similar', 'harmoni', '.']\n",
            "['compat', 'spous', 'love', '.']\n",
            "['share', 'view', 'happi', 'life', 'spous']\n",
            "['spous', 'similar', 'idea', 'marriag']\n",
            "['spous', 'similar', 'idea', 'role', 'marriag']\n",
            "['spous', 'similar', 'valu', 'trust', '.']\n",
            "['know', 'exact', 'wife', 'like', '.']\n",
            "['know', 'spous', 'want', 'taken', 'care', 'she/h', 'sick', '.']\n",
            "['know', 'spous', \"'s\", 'favorit', 'food', '.']\n",
            "['tell', 'kind', 'stress', 'spous', 'face', 'her/hi', 'life', '.']\n",
            "['knowledg', 'spous', \"'s\", 'inner', 'world', '.']\n",
            "['know', 'spous', \"'s\", 'basic', 'anxieti', '.']\n",
            "['know', 'spous', \"'s\", 'current', 'sourc', 'stress', '.']\n",
            "['know', 'spous', \"'s\", 'hope', 'wish', '.']\n",
            "['know', 'spous', 'veri', 'well', '.']\n",
            "['know', 'spous', \"'s\", 'friend', 'social', 'relationship', '.']\n",
            "[\"n't\", 'feel', 'aggress', 'argu', 'spous', '.']\n",
            "['discuss', 'spous', ',', \"n't\", 'use', 'express', '‘', 'alway', '’', '‘', 'never', '’', '.']\n",
            "[\"n't\", 'use', 'negat', 'statement', 'spous', \"'s\", 'person', 'dure', 'discuss', '.']\n",
            "[\"n't\", 'use', 'offens', 'express', 'dure', 'discuss', '.']\n",
            "[\"n't\", 'insult', 'spous', 'dure', 'discuss', '.']\n",
            "[\"'m\", 'humili', 'argu', '.']\n",
            "['discuss', 'spous', 'calm', '.']\n",
            "['like', 'spous', \"'s\", 'way', 'open', 'subject', '.']\n",
            "['discuss', \"n't\", 'occur', 'sudden', '.']\n",
            "['start', 'discuss', 'befor', 'know', \"'s\", 'go', '.']\n",
            "['talk', 'spous', 'someth', ',', 'calm', 'doe', \"n't\", 'break']\n",
            "['argu', 'spous', ',', 'ı', 'onli', 'go', \"n't\", 'say', 'word', '.']\n",
            "['stay', 'silent', 'calm', 'environ', 'littl', 'bit', '.']\n",
            "['sometim', 'think', \"'s\", 'good', 'leav', 'home', '.']\n",
            "[\"'d\", 'rather', 'stay', 'silent', 'discuss', 'spous', '.']"
          ]
        },
        {
          "output_type": "stream",
          "name": "stderr",
          "text": [
            "/usr/local/lib/python3.7/dist-packages/ipykernel_launcher.py:16: SettingWithCopyWarning: \n",
            "A value is trying to be set on a copy of a slice from a DataFrame\n",
            "\n",
            "See the caveats in the documentation: https://pandas.pydata.org/pandas-docs/stable/user_guide/indexing.html#returning-a-view-versus-a-copy\n",
            "  app.launch_new_instance()\n"
          ]
        },
        {
          "output_type": "stream",
          "name": "stdout",
          "text": [
            "\n",
            "['even', \"'m\", 'right', 'discuss', ',', 'stay', 'silent', 'hurt', 'spous', '.']\n",
            "['discuss', 'spous', ',', 'stay', 'silent', 'becaus', 'afraid', 'abl', 'control', 'anger', '.']\n",
            "['feel', 'right', 'discuss', '.']\n",
            "['noth', 'accus', '.']\n",
            "[\"'m\", 'actual', 'one', \"'s\", 'guilti', \"'m\", 'accus', '.']\n",
            "[\"'m\", 'one', \"'s\", 'wrong', 'problem', 'home', '.']\n",
            "['would', \"n't\", 'hesit', 'tell', 'spous', 'her/hi', 'inadequaci', '.']\n",
            "['discuss', ',', 'remind', 'spous', 'her/hi', 'inadequaci', '.']\n",
            "[\"'m\", 'afraid', 'tell', 'spous', 'her/hi', 'incompet', '.']\n"
          ]
        }
      ]
    },
    {
      "cell_type": "code",
      "source": [
        "data_reference.head()"
      ],
      "metadata": {
        "colab": {
          "base_uri": "https://localhost:8080/",
          "height": 206
        },
        "id": "ifU7fx5sCjIT",
        "outputId": "60cbc6d1-5d8e-494f-8fbd-fa5235eaf683"
      },
      "execution_count": 26,
      "outputs": [
        {
          "output_type": "execute_result",
          "data": {
            "text/html": [
              "\n",
              "  <div id=\"df-4eb35a5c-9ec2-43b2-beee-3309357c6f2c\">\n",
              "    <div class=\"colab-df-container\">\n",
              "      <div>\n",
              "<style scoped>\n",
              "    .dataframe tbody tr th:only-of-type {\n",
              "        vertical-align: middle;\n",
              "    }\n",
              "\n",
              "    .dataframe tbody tr th {\n",
              "        vertical-align: top;\n",
              "    }\n",
              "\n",
              "    .dataframe thead th {\n",
              "        text-align: right;\n",
              "    }\n",
              "</style>\n",
              "<table border=\"1\" class=\"dataframe\">\n",
              "  <thead>\n",
              "    <tr style=\"text-align: right;\">\n",
              "      <th></th>\n",
              "      <th>atribute_id</th>\n",
              "      <th>description</th>\n",
              "    </tr>\n",
              "  </thead>\n",
              "  <tbody>\n",
              "    <tr>\n",
              "      <th>0</th>\n",
              "      <td>1</td>\n",
              "      <td>one us apolog discuss deterior , discuss end .</td>\n",
              "    </tr>\n",
              "    <tr>\n",
              "      <th>1</th>\n",
              "      <td>2</td>\n",
              "      <td>know ignor differ , even thing get hard sometim .</td>\n",
              "    </tr>\n",
              "    <tr>\n",
              "      <th>2</th>\n",
              "      <td>3</td>\n",
              "      <td>need , take discuss spous begin correct .</td>\n",
              "    </tr>\n",
              "    <tr>\n",
              "      <th>3</th>\n",
              "      <td>4</td>\n",
              "      <td>discuss spous , contact eventu work .</td>\n",
              "    </tr>\n",
              "    <tr>\n",
              "      <th>4</th>\n",
              "      <td>5</td>\n",
              "      <td>time spent wife special us .</td>\n",
              "    </tr>\n",
              "  </tbody>\n",
              "</table>\n",
              "</div>\n",
              "      <button class=\"colab-df-convert\" onclick=\"convertToInteractive('df-4eb35a5c-9ec2-43b2-beee-3309357c6f2c')\"\n",
              "              title=\"Convert this dataframe to an interactive table.\"\n",
              "              style=\"display:none;\">\n",
              "        \n",
              "  <svg xmlns=\"http://www.w3.org/2000/svg\" height=\"24px\"viewBox=\"0 0 24 24\"\n",
              "       width=\"24px\">\n",
              "    <path d=\"M0 0h24v24H0V0z\" fill=\"none\"/>\n",
              "    <path d=\"M18.56 5.44l.94 2.06.94-2.06 2.06-.94-2.06-.94-.94-2.06-.94 2.06-2.06.94zm-11 1L8.5 8.5l.94-2.06 2.06-.94-2.06-.94L8.5 2.5l-.94 2.06-2.06.94zm10 10l.94 2.06.94-2.06 2.06-.94-2.06-.94-.94-2.06-.94 2.06-2.06.94z\"/><path d=\"M17.41 7.96l-1.37-1.37c-.4-.4-.92-.59-1.43-.59-.52 0-1.04.2-1.43.59L10.3 9.45l-7.72 7.72c-.78.78-.78 2.05 0 2.83L4 21.41c.39.39.9.59 1.41.59.51 0 1.02-.2 1.41-.59l7.78-7.78 2.81-2.81c.8-.78.8-2.07 0-2.86zM5.41 20L4 18.59l7.72-7.72 1.47 1.35L5.41 20z\"/>\n",
              "  </svg>\n",
              "      </button>\n",
              "      \n",
              "  <style>\n",
              "    .colab-df-container {\n",
              "      display:flex;\n",
              "      flex-wrap:wrap;\n",
              "      gap: 12px;\n",
              "    }\n",
              "\n",
              "    .colab-df-convert {\n",
              "      background-color: #E8F0FE;\n",
              "      border: none;\n",
              "      border-radius: 50%;\n",
              "      cursor: pointer;\n",
              "      display: none;\n",
              "      fill: #1967D2;\n",
              "      height: 32px;\n",
              "      padding: 0 0 0 0;\n",
              "      width: 32px;\n",
              "    }\n",
              "\n",
              "    .colab-df-convert:hover {\n",
              "      background-color: #E2EBFA;\n",
              "      box-shadow: 0px 1px 2px rgba(60, 64, 67, 0.3), 0px 1px 3px 1px rgba(60, 64, 67, 0.15);\n",
              "      fill: #174EA6;\n",
              "    }\n",
              "\n",
              "    [theme=dark] .colab-df-convert {\n",
              "      background-color: #3B4455;\n",
              "      fill: #D2E3FC;\n",
              "    }\n",
              "\n",
              "    [theme=dark] .colab-df-convert:hover {\n",
              "      background-color: #434B5C;\n",
              "      box-shadow: 0px 1px 3px 1px rgba(0, 0, 0, 0.15);\n",
              "      filter: drop-shadow(0px 1px 2px rgba(0, 0, 0, 0.3));\n",
              "      fill: #FFFFFF;\n",
              "    }\n",
              "  </style>\n",
              "\n",
              "      <script>\n",
              "        const buttonEl =\n",
              "          document.querySelector('#df-4eb35a5c-9ec2-43b2-beee-3309357c6f2c button.colab-df-convert');\n",
              "        buttonEl.style.display =\n",
              "          google.colab.kernel.accessAllowed ? 'block' : 'none';\n",
              "\n",
              "        async function convertToInteractive(key) {\n",
              "          const element = document.querySelector('#df-4eb35a5c-9ec2-43b2-beee-3309357c6f2c');\n",
              "          const dataTable =\n",
              "            await google.colab.kernel.invokeFunction('convertToInteractive',\n",
              "                                                     [key], {});\n",
              "          if (!dataTable) return;\n",
              "\n",
              "          const docLinkHtml = 'Like what you see? Visit the ' +\n",
              "            '<a target=\"_blank\" href=https://colab.research.google.com/notebooks/data_table.ipynb>data table notebook</a>'\n",
              "            + ' to learn more about interactive tables.';\n",
              "          element.innerHTML = '';\n",
              "          dataTable['output_type'] = 'display_data';\n",
              "          await google.colab.output.renderOutput(dataTable, element);\n",
              "          const docLink = document.createElement('div');\n",
              "          docLink.innerHTML = docLinkHtml;\n",
              "          element.appendChild(docLink);\n",
              "        }\n",
              "      </script>\n",
              "    </div>\n",
              "  </div>\n",
              "  "
            ],
            "text/plain": [
              "   atribute_id                                        description\n",
              "0            1     one us apolog discuss deterior , discuss end .\n",
              "1            2  know ignor differ , even thing get hard sometim .\n",
              "2            3          need , take discuss spous begin correct .\n",
              "3            4              discuss spous , contact eventu work .\n",
              "4            5                       time spent wife special us ."
            ]
          },
          "metadata": {},
          "execution_count": 26
        }
      ]
    },
    {
      "cell_type": "markdown",
      "source": [
        "\n",
        "\n",
        "---\n",
        "(3) 길이가 짧은 단어 삭제\n",
        "  \n",
        "*  글자의 길이가 3보다 큰 단어만 저장해줌.\n"
      ],
      "metadata": {
        "id": "FA8bPn5QFQw9"
      }
    },
    {
      "cell_type": "code",
      "source": [
        "for i in range(0, 54):\n",
        "    clean_words = []\n",
        "    document = data_reference.description[i]\n",
        "    for word in nltk.tokenize.word_tokenize(document):  #공백과 구두점(punctuation: ,혹은 .)을 기준으로 단어 분리, 축약형 단어도 분리 (Can't ==> ['Ca', \"n't\"])\n",
        "        word = word.lower() # 소문자로.\n",
        "        if len(word) > 3:\n",
        "          clean_words.append(word)\n",
        "    #print(clean_words) #  추출된 어간들\n",
        "    document = ' '.join(clean_words)\n",
        "    #print(document) #  추출된 어간들 다시 묶어서\n",
        "    data_reference.description[i] = document # data_reference에 저장."
      ],
      "metadata": {
        "id": "7i96QtooEtmR",
        "colab": {
          "base_uri": "https://localhost:8080/"
        },
        "outputId": "9e20c317-00e2-4aee-ecf1-ac3da90be907"
      },
      "execution_count": 27,
      "outputs": [
        {
          "output_type": "stream",
          "name": "stderr",
          "text": [
            "/usr/local/lib/python3.7/dist-packages/ipykernel_launcher.py:11: SettingWithCopyWarning: \n",
            "A value is trying to be set on a copy of a slice from a DataFrame\n",
            "\n",
            "See the caveats in the documentation: https://pandas.pydata.org/pandas-docs/stable/user_guide/indexing.html#returning-a-view-versus-a-copy\n",
            "  # This is added back by InteractiveShellApp.init_path()\n"
          ]
        }
      ]
    },
    {
      "cell_type": "code",
      "source": [
        "#data_reference.head()"
      ],
      "metadata": {
        "id": "32GCRIGnFMLU"
      },
      "execution_count": 28,
      "outputs": []
    },
    {
      "cell_type": "markdown",
      "metadata": {
        "id": "TwA1yz-4u1Ir"
      },
      "source": [
        "\n",
        "> 3이하인 단어 삭제하면서 'use', 'see', 'say' 와 같은 의미있는 단어들 삭제됨.(무조건 단어 길이로 단어의 의미를 판단하는 건 좋은 방법 아님)\n",
        "그렇지만 사용빈도가 높지않고, 크게 중요한 단어 아니므로 삭제.\n",
        "\n"
      ]
    },
    {
      "cell_type": "markdown",
      "metadata": {
        "id": "LjsqXiCADAQR"
      },
      "source": [
        "(4) 품사 태깅\n",
        "\n",
        "> ex. VBP = 동사, RB = 부사, VBG = 현재부사, IN = 전치사, NPP = 고유명사, NNS = 복수형 명사, CC = 접속사, DT = 관사\n",
        "\n",
        "\n",
        "명사, 동사, 형용사만 가져온다.\n",
        " - 보다 정확하게 분류하고 싶으면 형태소 분석을 가장 먼저해야 할 듯 싶다."
      ]
    },
    {
      "cell_type": "code",
      "source": [
        "from nltk.tag import pos_tag\n",
        "\n",
        "#텍스트 정제 (형태소 분석)\n",
        "nltk.download('averaged_perceptron_tagger')\n",
        "nltk.download('punkt')\n",
        "for i in range(0, 54):\n",
        "    clean_words = []\n",
        "    document = data_reference.description[i]\n",
        "\n",
        "    for word in pos_tag(nltk.tokenize.word_tokenize(document)):\n",
        "        if word[1] in ['NN', 'NNS', 'NNP', 'NNPS', 'VB', 'VBD', 'VBG', 'VBN', 'VBP', 'VBZ', 'JJ', 'JJR', 'JJS']: #명사, 동사, 형용사\n",
        "            clean_words.append(word[0].lower())\n",
        "\n",
        "    #print(clean_words) #['stale', 'uninspired']\n",
        "    document = ' '.join(clean_words)\n",
        "    #print(document) #stale uninspired\n",
        "    data_reference.description[i] = document\n"
      ],
      "metadata": {
        "colab": {
          "base_uri": "https://localhost:8080/"
        },
        "id": "bSe9sj1UGFBY",
        "outputId": "157495f3-a2e7-4e20-f49a-c2841a9e25ae"
      },
      "execution_count": 29,
      "outputs": [
        {
          "output_type": "stream",
          "name": "stdout",
          "text": [
            "[nltk_data] Downloading package averaged_perceptron_tagger to\n",
            "[nltk_data]     /root/nltk_data...\n",
            "[nltk_data]   Unzipping taggers/averaged_perceptron_tagger.zip.\n",
            "[nltk_data] Downloading package punkt to /root/nltk_data...\n",
            "[nltk_data]   Package punkt is already up-to-date!\n"
          ]
        },
        {
          "output_type": "stream",
          "name": "stderr",
          "text": [
            "/usr/local/lib/python3.7/dist-packages/ipykernel_launcher.py:17: SettingWithCopyWarning: \n",
            "A value is trying to be set on a copy of a slice from a DataFrame\n",
            "\n",
            "See the caveats in the documentation: https://pandas.pydata.org/pandas-docs/stable/user_guide/indexing.html#returning-a-view-versus-a-copy\n"
          ]
        }
      ]
    },
    {
      "cell_type": "code",
      "source": [
        "data_reference.head()"
      ],
      "metadata": {
        "colab": {
          "base_uri": "https://localhost:8080/",
          "height": 206
        },
        "id": "55N6z_LHGrfk",
        "outputId": "cf3959f6-4747-4d02-df22-80f228decf56"
      },
      "execution_count": 30,
      "outputs": [
        {
          "output_type": "execute_result",
          "data": {
            "text/html": [
              "\n",
              "  <div id=\"df-d43eb694-7bf7-4c7d-b8e9-d3f09ee2ee59\">\n",
              "    <div class=\"colab-df-container\">\n",
              "      <div>\n",
              "<style scoped>\n",
              "    .dataframe tbody tr th:only-of-type {\n",
              "        vertical-align: middle;\n",
              "    }\n",
              "\n",
              "    .dataframe tbody tr th {\n",
              "        vertical-align: top;\n",
              "    }\n",
              "\n",
              "    .dataframe thead th {\n",
              "        text-align: right;\n",
              "    }\n",
              "</style>\n",
              "<table border=\"1\" class=\"dataframe\">\n",
              "  <thead>\n",
              "    <tr style=\"text-align: right;\">\n",
              "      <th></th>\n",
              "      <th>atribute_id</th>\n",
              "      <th>description</th>\n",
              "    </tr>\n",
              "  </thead>\n",
              "  <tbody>\n",
              "    <tr>\n",
              "      <th>0</th>\n",
              "      <td>1</td>\n",
              "      <td>apolog discuss deterior discuss</td>\n",
              "    </tr>\n",
              "    <tr>\n",
              "      <th>1</th>\n",
              "      <td>2</td>\n",
              "      <td>know ignor differ thing hard sometim</td>\n",
              "    </tr>\n",
              "    <tr>\n",
              "      <th>2</th>\n",
              "      <td>3</td>\n",
              "      <td>take spous begin correct</td>\n",
              "    </tr>\n",
              "    <tr>\n",
              "      <th>3</th>\n",
              "      <td>4</td>\n",
              "      <td>spous contact eventu work</td>\n",
              "    </tr>\n",
              "    <tr>\n",
              "      <th>4</th>\n",
              "      <td>5</td>\n",
              "      <td>time spent wife special</td>\n",
              "    </tr>\n",
              "  </tbody>\n",
              "</table>\n",
              "</div>\n",
              "      <button class=\"colab-df-convert\" onclick=\"convertToInteractive('df-d43eb694-7bf7-4c7d-b8e9-d3f09ee2ee59')\"\n",
              "              title=\"Convert this dataframe to an interactive table.\"\n",
              "              style=\"display:none;\">\n",
              "        \n",
              "  <svg xmlns=\"http://www.w3.org/2000/svg\" height=\"24px\"viewBox=\"0 0 24 24\"\n",
              "       width=\"24px\">\n",
              "    <path d=\"M0 0h24v24H0V0z\" fill=\"none\"/>\n",
              "    <path d=\"M18.56 5.44l.94 2.06.94-2.06 2.06-.94-2.06-.94-.94-2.06-.94 2.06-2.06.94zm-11 1L8.5 8.5l.94-2.06 2.06-.94-2.06-.94L8.5 2.5l-.94 2.06-2.06.94zm10 10l.94 2.06.94-2.06 2.06-.94-2.06-.94-.94-2.06-.94 2.06-2.06.94z\"/><path d=\"M17.41 7.96l-1.37-1.37c-.4-.4-.92-.59-1.43-.59-.52 0-1.04.2-1.43.59L10.3 9.45l-7.72 7.72c-.78.78-.78 2.05 0 2.83L4 21.41c.39.39.9.59 1.41.59.51 0 1.02-.2 1.41-.59l7.78-7.78 2.81-2.81c.8-.78.8-2.07 0-2.86zM5.41 20L4 18.59l7.72-7.72 1.47 1.35L5.41 20z\"/>\n",
              "  </svg>\n",
              "      </button>\n",
              "      \n",
              "  <style>\n",
              "    .colab-df-container {\n",
              "      display:flex;\n",
              "      flex-wrap:wrap;\n",
              "      gap: 12px;\n",
              "    }\n",
              "\n",
              "    .colab-df-convert {\n",
              "      background-color: #E8F0FE;\n",
              "      border: none;\n",
              "      border-radius: 50%;\n",
              "      cursor: pointer;\n",
              "      display: none;\n",
              "      fill: #1967D2;\n",
              "      height: 32px;\n",
              "      padding: 0 0 0 0;\n",
              "      width: 32px;\n",
              "    }\n",
              "\n",
              "    .colab-df-convert:hover {\n",
              "      background-color: #E2EBFA;\n",
              "      box-shadow: 0px 1px 2px rgba(60, 64, 67, 0.3), 0px 1px 3px 1px rgba(60, 64, 67, 0.15);\n",
              "      fill: #174EA6;\n",
              "    }\n",
              "\n",
              "    [theme=dark] .colab-df-convert {\n",
              "      background-color: #3B4455;\n",
              "      fill: #D2E3FC;\n",
              "    }\n",
              "\n",
              "    [theme=dark] .colab-df-convert:hover {\n",
              "      background-color: #434B5C;\n",
              "      box-shadow: 0px 1px 3px 1px rgba(0, 0, 0, 0.15);\n",
              "      filter: drop-shadow(0px 1px 2px rgba(0, 0, 0, 0.3));\n",
              "      fill: #FFFFFF;\n",
              "    }\n",
              "  </style>\n",
              "\n",
              "      <script>\n",
              "        const buttonEl =\n",
              "          document.querySelector('#df-d43eb694-7bf7-4c7d-b8e9-d3f09ee2ee59 button.colab-df-convert');\n",
              "        buttonEl.style.display =\n",
              "          google.colab.kernel.accessAllowed ? 'block' : 'none';\n",
              "\n",
              "        async function convertToInteractive(key) {\n",
              "          const element = document.querySelector('#df-d43eb694-7bf7-4c7d-b8e9-d3f09ee2ee59');\n",
              "          const dataTable =\n",
              "            await google.colab.kernel.invokeFunction('convertToInteractive',\n",
              "                                                     [key], {});\n",
              "          if (!dataTable) return;\n",
              "\n",
              "          const docLinkHtml = 'Like what you see? Visit the ' +\n",
              "            '<a target=\"_blank\" href=https://colab.research.google.com/notebooks/data_table.ipynb>data table notebook</a>'\n",
              "            + ' to learn more about interactive tables.';\n",
              "          element.innerHTML = '';\n",
              "          dataTable['output_type'] = 'display_data';\n",
              "          await google.colab.output.renderOutput(dataTable, element);\n",
              "          const docLink = document.createElement('div');\n",
              "          docLink.innerHTML = docLinkHtml;\n",
              "          element.appendChild(docLink);\n",
              "        }\n",
              "      </script>\n",
              "    </div>\n",
              "  </div>\n",
              "  "
            ],
            "text/plain": [
              "   atribute_id                           description\n",
              "0            1       apolog discuss deterior discuss\n",
              "1            2  know ignor differ thing hard sometim\n",
              "2            3              take spous begin correct\n",
              "3            4             spous contact eventu work\n",
              "4            5               time spent wife special"
            ]
          },
          "metadata": {},
          "execution_count": 30
        }
      ]
    },
    {
      "cell_type": "markdown",
      "source": [
        "# 2) 등장 빈도 높은 단어 추출\n",
        "\n",
        "위의 텍스트 전처리 과정으로 54개의 질문들을 각각 4~6개의 의미있는 단어로 요약하였다. \n",
        "\n",
        "그 중에서 등장 빈도가 높은 단어를 추출할 것이다.\n",
        "\n",
        "*  단어들을 하나의 배열에 담고 단어 사용 빈도 수를 살펴본다.\n",
        "\n",
        "*  위에서 사용한 품사 태깅 방법으로 3개의 배열(명사, 동사, 형용사)로 단어를 나누어, 각각 빈도수가 높은 단어 10개씩 추출한다."
      ],
      "metadata": {
        "id": "ulD9CmdVr718"
      }
    },
    {
      "cell_type": "code",
      "source": [
        "# 단어들 하나의 배열에 담기\n",
        "\n",
        "words = []\n",
        "for i in range(0, 54):\n",
        "    document = data_reference.description[i]\n",
        "    for word in nltk.tokenize.word_tokenize(document):  # 단어로 분리\n",
        "          words.append(word)\n",
        "\n",
        "print(words)"
      ],
      "metadata": {
        "colab": {
          "base_uri": "https://localhost:8080/"
        },
        "id": "hecK23MWH3Rl",
        "outputId": "90de987f-06d7-460f-d6d2-6ddd9f3c71a6"
      },
      "execution_count": 31,
      "outputs": [
        {
          "output_type": "stream",
          "name": "stdout",
          "text": [
            "['apolog', 'discuss', 'deterior', 'discuss', 'know', 'ignor', 'differ', 'thing', 'hard', 'sometim', 'take', 'spous', 'begin', 'correct', 'spous', 'contact', 'eventu', 'work', 'time', 'spent', 'wife', 'special', 'time', 'home', 'partner', 'stranger', 'share', 'environ', 'home', 'famili', 'enjoy', 'holiday', 'wife', 'enjoy', 'travel', 'wife', 'goal', 'common', 'spous', 'think', 'futur', 'look', 'spous', 'harmoni', 'spous', 'similar', 'valu', 'term', 'person', 'freedom', 'spous', 'similar', 'sens', 'entertain', 'goal', 'peopl', 'children', 'friend', 'dream', 'spous', 'similar', 'harmoni', 'spous', 'love', 'share', 'view', 'happi', 'life', 'spous', 'spous', 'similar', 'idea', 'marriag', 'spous', 'similar', 'idea', 'role', 'marriag', 'spous', 'similar', 'valu', 'trust', 'know', 'exact', 'wife', 'know', 'spous', 'want', 'taken', 'care', 'she/h', 'sick', 'spous', 'favorit', 'food', 'tell', 'kind', 'stress', 'spous', 'face', 'her/hi', 'life', 'spous', 'inner', 'world', 'know', 'spous', 'basic', 'anxieti', 'spous', 'current', 'sourc', 'stress', 'spous', 'hope', 'wish', 'spous', 'veri', 'spous', 'friend', 'social', 'relationship', 'feel', 'spous', 'spous', 'express', 'negat', 'statement', 'spous', 'person', 'dure', 'discuss', 'offens', 'express', 'dure', 'discuss', 'insult', 'spous', 'dure', 'discuss', 'humili', 'argu', 'spous', 'calm', 'spous', 'open', 'subject', 'discuss', 'occur', 'sudden', 'start', 'discuss', 'befor', 'know', 'talk', 'spous', 'someth', 'calm', 'break', 'spous', 'onli', 'word', 'stay', 'silent', 'calm', 'environ', 'littl', 'sometim', 'think', 'good', 'leav', 'home', 'stay', 'silent', 'discuss', 'spous', 'right', 'discuss', 'stay', 'silent', 'hurt', 'spous', 'spous', 'stay', 'silent', 'becaus', 'afraid', 'control', 'anger', 'feel', 'right', 'discuss', 'accus', 'actual', 'guilti', 'accus', 'wrong', 'problem', 'home', 'hesit', 'spous', 'her/hi', 'inadequaci', 'discuss', 'remind', 'spous', 'her/hi', 'inadequaci', 'afraid', 'tell', 'spous', 'her/hi', 'incompet']\n"
          ]
        }
      ]
    },
    {
      "cell_type": "code",
      "metadata": {
        "colab": {
          "base_uri": "https://localhost:8080/"
        },
        "id": "gsIr7pBSGW_Z",
        "outputId": "336c2f27-7437-44af-ccc1-c51df4c8fb3a"
      },
      "source": [
        "# 단어들을 명사, 동사, 형용사로 나누어 줌\n",
        "\n",
        "noun = []\n",
        "verb = []\n",
        "adj = []\n",
        "\n",
        "tag = pos_tag(words)    # words에 들어있는 단어들을 ('단어', '품사') 형태로 저장\n",
        "                        # 그래서 tag[i][1]은 품사, tag[i][0]은 단어가 되는 것.\n",
        "\n",
        "for i in range(0, len(tag)):\n",
        "  if tag[i][1] in ['NN', 'NNS', 'NNP', 'NNPS']: \n",
        "    noun.append(tag[i][0])\n",
        "  elif tag[i][1] in ['VB', 'VBD', 'VBG', 'VBN', 'VBP', 'VBZ']:\n",
        "    verb.append(tag[i][0])\n",
        "  elif tag[i][1] in ['JJ', 'JJR', 'JJS']:\n",
        "    adj.append(tag[i][0])\n",
        "\n",
        "# 명사, 동사, 형용사만 뽑았는데,, 잘못 분류된것도 있는듯.\n",
        "print(noun)\n",
        "print(verb)\n",
        "print(adj)"
      ],
      "execution_count": 32,
      "outputs": [
        {
          "output_type": "stream",
          "name": "stdout",
          "text": [
            "['apolog', 'discuss', 'discuss', 'ignor', 'thing', 'sometim', 'begin', 'contact', 'eventu', 'work', 'time', 'wife', 'time', 'home', 'partner', 'stranger', 'share', 'home', 'famili', 'enjoy', 'wife', 'wife', 'goal', 'harmoni', 'valu', 'term', 'person', 'sens', 'goal', 'peopl', 'children', 'dream', 'harmoni', 'love', 'share', 'view', 'life', 'idea', 'idea', 'role', 'valu', 'trust', 'wife', 'care', 'favorit', 'food', 'tell', 'kind', 'stress', 'face', 'life', 'world', 'anxieti', 'sourc', 'stress', 'hope', 'veri', 'relationship', 'express', 'statement', 'person', 'dure', 'discuss', 'dure', 'discuss', 'insult', 'dure', 'discuss', 'humili', 'calm', 'subject', 'discuss', 'start', 'discuss', 'befor', 'talk', 'someth', 'calm', 'onli', 'word', 'stay', 'calm', 'environ', 'littl', 'sometim', 'leav', 'home', 'stay', 'discuss', 'right', 'discuss', 'hurt', 'stay', 'becaus', 'control', 'anger', 'discuss', 'guilti', 'accus', 'problem', 'home', 'hesit', 'her/hi', 'inadequaci', 'discuss', 'her/hi', 'inadequaci', 'her/hi', 'incompet']\n",
            "['know', 'differ', 'take', 'correct', 'environ', 'enjoy', 'think', 'look', 'entertain', 'friend', 'happi', 'know', 'know', 'want', 'taken', 'know', 'friend', 'feel', 'offens', 'argu', 'occur', 'know', 'break', 'think', 'stay', 'feel', 'accus', 'remind', 'tell']\n",
            "['deterior', 'hard', 'spous', 'spous', 'spent', 'special', 'holiday', 'travel', 'common', 'spous', 'futur', 'spous', 'spous', 'similar', 'spous', 'similar', 'spous', 'similar', 'spous', 'spous', 'spous', 'similar', 'spous', 'similar', 'spous', 'similar', 'exact', 'spous', 'she/h', 'spous', 'spous', 'her/hi', 'spous', 'inner', 'spous', 'basic', 'spous', 'current', 'spous', 'wish', 'spous', 'spous', 'social', 'spous', 'spous', 'negat', 'spous', 'express', 'spous', 'spous', 'spous', 'open', 'sudden', 'spous', 'spous', 'silent', 'good', 'silent', 'spous', 'silent', 'spous', 'spous', 'silent', 'afraid', 'right', 'actual', 'wrong', 'spous', 'spous', 'afraid', 'spous']\n"
          ]
        }
      ]
    },
    {
      "cell_type": "code",
      "metadata": {
        "colab": {
          "base_uri": "https://localhost:8080/"
        },
        "id": "kO00O-CqsNC9",
        "outputId": "34ff8801-9fb9-4220-da28-147f119249ad"
      },
      "source": [
        "# 명사, 동사, 형용사 단어들의 빈도수 세기\n",
        "\n",
        "import collections\n",
        "\n",
        "# 각각 빈도수가 높은 10개만 출력\n",
        "counts_noun = collections.Counter(noun)\n",
        "print(counts_noun.most_common(10))\n",
        "\n",
        "counts_verb = collections.Counter(verb)\n",
        "print(counts_verb.most_common(10))\n",
        "\n",
        "counts_adj = collections.Counter(adj)\n",
        "print(counts_adj.most_common(10))"
      ],
      "execution_count": 33,
      "outputs": [
        {
          "output_type": "stream",
          "name": "stdout",
          "text": [
            "[('discuss', 11), ('wife', 4), ('home', 4), ('dure', 3), ('calm', 3), ('stay', 3), ('her/hi', 3), ('sometim', 2), ('time', 2), ('share', 2)]\n",
            "[('know', 5), ('think', 2), ('friend', 2), ('feel', 2), ('differ', 1), ('take', 1), ('correct', 1), ('environ', 1), ('enjoy', 1), ('look', 1)]\n",
            "[('spous', 35), ('similar', 6), ('silent', 4), ('afraid', 2), ('deterior', 1), ('hard', 1), ('spent', 1), ('special', 1), ('holiday', 1), ('travel', 1)]\n"
          ]
        }
      ]
    },
    {
      "cell_type": "markdown",
      "source": [
        "# 빈도 수 높은 단어 시각화"
      ],
      "metadata": {
        "id": "jsydtfoJW_AA"
      }
    },
    {
      "cell_type": "markdown",
      "source": [
        "\n",
        "---\n",
        "\n",
        "단어 빈도 수에 대한 그래프\n",
        "*  명사, 동사, 형용사가 담긴 배열을 합하고, 사용빈도가 높은 단어 20개를 그래프로 \n",
        "나타내었다."
      ],
      "metadata": {
        "id": "V_YO-IemgDyP"
      }
    },
    {
      "cell_type": "code",
      "source": [
        "all_words = counts_adj | counts_noun | counts_verb    # 합집합\n",
        "all_words = all_words.most_common(20)\n",
        "\n",
        "df_words_count = pd.DataFrame(all_words)\n",
        "\n",
        "plt.plot(df_words_count[0], df_words_count[1])\n",
        "plt.xticks(df_words_count[0], fontsize=10, rotation= 50)\n",
        "plt.show()"
      ],
      "metadata": {
        "colab": {
          "base_uri": "https://localhost:8080/",
          "height": 295
        },
        "id": "ECRX9WttRdns",
        "outputId": "95bc7d6d-16f1-49e5-f089-cf35d230676d"
      },
      "execution_count": 34,
      "outputs": [
        {
          "output_type": "display_data",
          "data": {
            "image/png": "[encoded data removed]",
            "text/plain": [
              "<Figure size 432x288 with 1 Axes>"
            ]
          },
          "metadata": {
            "needs_background": "light"
          }
        }
      ]
    },
    {
      "cell_type": "code",
      "source": [
        "df_words_count.to_csv('df_words_count.csv')  # df_words_count는 따로 csv파일로 저장해줌. 대시보드 만들때 다시 불러올 것."
      ],
      "metadata": {
        "id": "wK9IrFRiPlfD"
      },
      "execution_count": 35,
      "outputs": []
    },
    {
      "cell_type": "markdown",
      "source": [
        "위의 그래프보다 한 눈에 파악하기 쉽도록 워드 클라우드 만들었다."
      ],
      "metadata": {
        "id": "lCDMy7d6gMEv"
      }
    },
    {
      "cell_type": "markdown",
      "source": [
        "\n",
        "\n",
        "*   워드 클라우드\n",
        "\n"
      ],
      "metadata": {
        "id": "pXupGq5oc5q_"
      }
    },
    {
      "cell_type": "markdown",
      "source": [
        "아래는 명사, 동사, 형용사에 대한 각각의 워드 클라우드"
      ],
      "metadata": {
        "id": "tzyS8eh7gcTs"
      }
    },
    {
      "cell_type": "code",
      "source": [
        "import wordcloud\n",
        "from wordcloud import WordCloud\n",
        "import matplotlib.pyplot as plt\n",
        "from os import path\n",
        "\n",
        "# + verb + adj\n",
        "\n",
        "n_words = noun\n",
        "v_words = verb\n",
        "a_words = adj\n",
        "\n",
        "noun_text = ''\n",
        "verb_text = ''\n",
        "adj_text = ''\n",
        "for word in n_words:\n",
        "    noun_text = noun_text +' '+word\n",
        "for word in v_words:\n",
        "    verb_text = verb_text +' '+word\n",
        "for word in a_words:\n",
        "    adj_text = adj_text +' '+word\n",
        "\n",
        "wordcloud_n = WordCloud(max_font_size=60, relative_scaling=.5, background_color='white', max_words=50).generate(noun_text) # generate() 는 하나의 string value를 입력 받음\n",
        "wordcloud_v = WordCloud(max_font_size=60, relative_scaling=.5, background_color='white', max_words=50).generate(verb_text)\n",
        "wordcloud_a = WordCloud(max_font_size=60, relative_scaling=.5, background_color='white', max_words=50).generate(adj_text)\n",
        "\n",
        "fig = plt.figure()\n",
        "#plt.figure(figsize = (20, 10))\n",
        "rows = 1\n",
        "cols = 3\n",
        "\n",
        "ax1 = fig.add_subplot(rows, cols, 1)\n",
        "ax1.imshow(wordcloud_n, interpolation='bilinear')\n",
        "ax1.set_title('(1) noun')\n",
        "ax1.axis(\"off\")\n",
        " \n",
        "ax2 = fig.add_subplot(rows, cols, 2)\n",
        "ax2.imshow(wordcloud_v, interpolation='bilinear')\n",
        "ax2.set_title('(2) verb')\n",
        "ax2.axis(\"off\")\n",
        " \n",
        "ax3 = fig.add_subplot(rows, cols, 3)\n",
        "ax3.imshow(wordcloud_a, interpolation='bilinear')\n",
        "ax3.set_title('(3) adjective')\n",
        "ax3.axis(\"off\")\n",
        "\n",
        "fig.set_size_inches(20, 10)\n",
        "#plt.imshow(wordcloud_n, interpolation='bilinear')\n",
        "#plt.imshow(wordcloud_v, interpolation='bilinear')\n",
        "#plt.imshow(wordcloud_a, interpolation='bilinear')\n",
        "#plt.axis(\"off\")\n",
        "plt.show()"
      ],
      "metadata": {
        "colab": {
          "base_uri": "https://localhost:8080/",
          "height": 211
        },
        "id": "qiIdyJPxazxw",
        "outputId": "5fac6729-8e10-4ee4-d7e1-23712629f7cc"
      },
      "execution_count": 36,
      "outputs": [
        {
          "output_type": "display_data",
          "data": {
            "image/png": "[encoded data removed]",
            "text/plain": [
              "<Figure size 1440x720 with 3 Axes>"
            ]
          },
          "metadata": {
            "needs_background": "light"
          }
        }
      ]
    },
    {
      "cell_type": "markdown",
      "source": [
        "!data_reference 질문 유형\n",
        "\n",
        "위의 단어들 중에서 빈도 수가 가장 많은 단어 기준으로 질문 유형 파악하기."
      ],
      "metadata": {
        "id": "sPIGKg98Oh-n"
      }
    },
    {
      "cell_type": "markdown",
      "source": [
        "빈도 수가 가장 높은 단어 :\n",
        "\n",
        "> *   ('discuss', 11), ('wife', 4)\n",
        "*   ('know', 5), ('think', 2)\n",
        "*   ('spous', 35), ('similar', 6)\n",
        "\n",
        "빈도 수가 높은 단어를 조합하여, 질문의 유형을 나눠본다.\n",
        "\n",
        "+ 배우자와의 대화, 배우자를 잘 아는 것, 비슷한 무언가(비슷한 생각이나 목표가 될 수 있을 듯) 등으로 위의 단어를 조합할 수 있다.\n"
      ],
      "metadata": {
        "id": "H9hNnoFkWX-E"
      }
    },
    {
      "cell_type": "code",
      "source": [
        "data_reference_keywords  = pd.read_csv(path_reference, sep = \"|\", engine='python')"
      ],
      "metadata": {
        "id": "vdd9so1DO-yM"
      },
      "execution_count": 37,
      "outputs": []
    },
    {
      "cell_type": "markdown",
      "source": [
        "# 3) 질문 유형 나누기"
      ],
      "metadata": {
        "id": "T_oCtmcMXQwI"
      }
    },
    {
      "cell_type": "markdown",
      "metadata": {
        "id": "PbhsHokyWxoI"
      },
      "source": [
        "빈도 수가 가장 높은 단어와 비슷한 의미를 가지는 단어를 조합하여 5개의 질문 유형을 정하였다.\n",
        "\n",
        "* discussion / tell / share\n",
        "* know + spouse\n",
        "* spent/enjoy + time\n",
        "* similar\n",
        "* silent/calm\n",
        "\n",
        "---\n",
        "1. 대화\n",
        "2. 서로를 잘 아는 것\n",
        "3. 함께하기\n",
        "4. 공통점\n",
        "5. 그 외..\n",
        "\n",
        "위의 다섯가지로 질문들을 분류해보자."
      ]
    },
    {
      "cell_type": "markdown",
      "source": [
        "findall함수에 주어진 패턴에 매칭되는 단어가 각 질문에 포함되어있는지 if문을 통해 확인한다.\n",
        "\n",
        "만약 1번 유형과 관련있는 단어가 들어있다면, 그 질문의 type을 1로 설정한다."
      ],
      "metadata": {
        "id": "TGgdTPQ8Tqfx"
      }
    },
    {
      "cell_type": "code",
      "source": [
        "import re\n",
        "\n",
        "data_reference_clf = []\n",
        "\n",
        "for i in range(0, 54):\n",
        "    keywords = []\n",
        "    document = data_reference_keywords.description[i]\n",
        "    # 1번 : 대화\n",
        "    if(re.findall(r'\\bdiscus\\w+', document) or re.findall(r'\\btel\\w+', document) or re.findall(r'\\bshar\\w+', document) or re.findall(r'\\btal\\w+', document)):\n",
        "      data_reference_clf.append('1')\n",
        "    # 2번 : (배우자를) 잘 아는 것\n",
        "    elif(re.findall(r'\\bkno\\w+', document)):\n",
        "      data_reference_clf.append('2')\n",
        "    # 3번 : 시간보내기\n",
        "    elif(re.findall(r'\\bspen\\w+', document) or re.findall(r'\\benjo\\w+', document) or re.findall(r'\\btim\\w+', document)) :\n",
        "      data_reference_clf.append('3')\n",
        "    # 4번 : 비슷한 생각/목표 등\n",
        "    elif(re.findall(r'\\bsimil\\w+', document) or re.findall(r'\\bgoal\\w+', document) or re.findall(r'\\bcommo\\w+', document)) :\n",
        "      data_reference_clf.append('4')\n",
        "    # 5번 : 그 외..\n",
        "    else:\n",
        "      data_reference_clf.append('5')\n",
        "    \n",
        "print(data_reference_clf)"
      ],
      "metadata": {
        "colab": {
          "base_uri": "https://localhost:8080/"
        },
        "id": "5XdROtd-aMpH",
        "outputId": "e48ce5c4-ef30-45ac-d395-37c96b402a10"
      },
      "execution_count": 38,
      "outputs": [
        {
          "output_type": "stream",
          "name": "stdout",
          "text": [
            "['1', '2', '1', '1', '3', '3', '1', '3', '3', '4', '5', '4', '4', '4', '4', '5', '1', '4', '4', '4', '2', '2', '2', '1', '2', '2', '2', '2', '2', '2', '5', '1', '1', '1', '1', '5', '1', '5', '1', '1', '1', '5', '5', '5', '1', '1', '1', '1', '5', '5', '5', '1', '1', '1']\n"
          ]
        }
      ]
    },
    {
      "cell_type": "markdown",
      "source": [
        "위에서 설정한 type을 data_reference의 새로운 열로 추가한다.(열 이름 'type')"
      ],
      "metadata": {
        "id": "UOjrcBKtUpbE"
      }
    },
    {
      "cell_type": "code",
      "source": [
        "data_reference_keywords['type'] = data_reference_clf\n",
        "data_reference_keywords.head()"
      ],
      "metadata": {
        "colab": {
          "base_uri": "https://localhost:8080/",
          "height": 206
        },
        "id": "uHTK0Kh9qPR1",
        "outputId": "00a2acaa-d696-40c1-8471-61bcc6c8914c"
      },
      "execution_count": 39,
      "outputs": [
        {
          "output_type": "execute_result",
          "data": {
            "text/html": [
              "\n",
              "  <div id=\"df-a1af7057-0aa8-402f-8183-e7ca8b1373cb\">\n",
              "    <div class=\"colab-df-container\">\n",
              "      <div>\n",
              "<style scoped>\n",
              "    .dataframe tbody tr th:only-of-type {\n",
              "        vertical-align: middle;\n",
              "    }\n",
              "\n",
              "    .dataframe tbody tr th {\n",
              "        vertical-align: top;\n",
              "    }\n",
              "\n",
              "    .dataframe thead th {\n",
              "        text-align: right;\n",
              "    }\n",
              "</style>\n",
              "<table border=\"1\" class=\"dataframe\">\n",
              "  <thead>\n",
              "    <tr style=\"text-align: right;\">\n",
              "      <th></th>\n",
              "      <th>atribute_id</th>\n",
              "      <th>description</th>\n",
              "      <th>type</th>\n",
              "    </tr>\n",
              "  </thead>\n",
              "  <tbody>\n",
              "    <tr>\n",
              "      <th>0</th>\n",
              "      <td>1</td>\n",
              "      <td>If one of us apologizes when our discussion de...</td>\n",
              "      <td>1</td>\n",
              "    </tr>\n",
              "    <tr>\n",
              "      <th>1</th>\n",
              "      <td>2</td>\n",
              "      <td>I know we can ignore our differences, even if ...</td>\n",
              "      <td>2</td>\n",
              "    </tr>\n",
              "    <tr>\n",
              "      <th>2</th>\n",
              "      <td>3</td>\n",
              "      <td>When we need it, we can take our discussions w...</td>\n",
              "      <td>1</td>\n",
              "    </tr>\n",
              "    <tr>\n",
              "      <th>3</th>\n",
              "      <td>4</td>\n",
              "      <td>When I discuss with my spouse, to contact him ...</td>\n",
              "      <td>1</td>\n",
              "    </tr>\n",
              "    <tr>\n",
              "      <th>4</th>\n",
              "      <td>5</td>\n",
              "      <td>The time I spent with my wife is special for us.</td>\n",
              "      <td>3</td>\n",
              "    </tr>\n",
              "  </tbody>\n",
              "</table>\n",
              "</div>\n",
              "      <button class=\"colab-df-convert\" onclick=\"convertToInteractive('df-a1af7057-0aa8-402f-8183-e7ca8b1373cb')\"\n",
              "              title=\"Convert this dataframe to an interactive table.\"\n",
              "              style=\"display:none;\">\n",
              "        \n",
              "  <svg xmlns=\"http://www.w3.org/2000/svg\" height=\"24px\"viewBox=\"0 0 24 24\"\n",
              "       width=\"24px\">\n",
              "    <path d=\"M0 0h24v24H0V0z\" fill=\"none\"/>\n",
              "    <path d=\"M18.56 5.44l.94 2.06.94-2.06 2.06-.94-2.06-.94-.94-2.06-.94 2.06-2.06.94zm-11 1L8.5 8.5l.94-2.06 2.06-.94-2.06-.94L8.5 2.5l-.94 2.06-2.06.94zm10 10l.94 2.06.94-2.06 2.06-.94-2.06-.94-.94-2.06-.94 2.06-2.06.94z\"/><path d=\"M17.41 7.96l-1.37-1.37c-.4-.4-.92-.59-1.43-.59-.52 0-1.04.2-1.43.59L10.3 9.45l-7.72 7.72c-.78.78-.78 2.05 0 2.83L4 21.41c.39.39.9.59 1.41.59.51 0 1.02-.2 1.41-.59l7.78-7.78 2.81-2.81c.8-.78.8-2.07 0-2.86zM5.41 20L4 18.59l7.72-7.72 1.47 1.35L5.41 20z\"/>\n",
              "  </svg>\n",
              "      </button>\n",
              "      \n",
              "  <style>\n",
              "    .colab-df-container {\n",
              "      display:flex;\n",
              "      flex-wrap:wrap;\n",
              "      gap: 12px;\n",
              "    }\n",
              "\n",
              "    .colab-df-convert {\n",
              "      background-color: #E8F0FE;\n",
              "      border: none;\n",
              "      border-radius: 50%;\n",
              "      cursor: pointer;\n",
              "      display: none;\n",
              "      fill: #1967D2;\n",
              "      height: 32px;\n",
              "      padding: 0 0 0 0;\n",
              "      width: 32px;\n",
              "    }\n",
              "\n",
              "    .colab-df-convert:hover {\n",
              "      background-color: #E2EBFA;\n",
              "      box-shadow: 0px 1px 2px rgba(60, 64, 67, 0.3), 0px 1px 3px 1px rgba(60, 64, 67, 0.15);\n",
              "      fill: #174EA6;\n",
              "    }\n",
              "\n",
              "    [theme=dark] .colab-df-convert {\n",
              "      background-color: #3B4455;\n",
              "      fill: #D2E3FC;\n",
              "    }\n",
              "\n",
              "    [theme=dark] .colab-df-convert:hover {\n",
              "      background-color: #434B5C;\n",
              "      box-shadow: 0px 1px 3px 1px rgba(0, 0, 0, 0.15);\n",
              "      filter: drop-shadow(0px 1px 2px rgba(0, 0, 0, 0.3));\n",
              "      fill: #FFFFFF;\n",
              "    }\n",
              "  </style>\n",
              "\n",
              "      <script>\n",
              "        const buttonEl =\n",
              "          document.querySelector('#df-a1af7057-0aa8-402f-8183-e7ca8b1373cb button.colab-df-convert');\n",
              "        buttonEl.style.display =\n",
              "          google.colab.kernel.accessAllowed ? 'block' : 'none';\n",
              "\n",
              "        async function convertToInteractive(key) {\n",
              "          const element = document.querySelector('#df-a1af7057-0aa8-402f-8183-e7ca8b1373cb');\n",
              "          const dataTable =\n",
              "            await google.colab.kernel.invokeFunction('convertToInteractive',\n",
              "                                                     [key], {});\n",
              "          if (!dataTable) return;\n",
              "\n",
              "          const docLinkHtml = 'Like what you see? Visit the ' +\n",
              "            '<a target=\"_blank\" href=https://colab.research.google.com/notebooks/data_table.ipynb>data table notebook</a>'\n",
              "            + ' to learn more about interactive tables.';\n",
              "          element.innerHTML = '';\n",
              "          dataTable['output_type'] = 'display_data';\n",
              "          await google.colab.output.renderOutput(dataTable, element);\n",
              "          const docLink = document.createElement('div');\n",
              "          docLink.innerHTML = docLinkHtml;\n",
              "          element.appendChild(docLink);\n",
              "        }\n",
              "      </script>\n",
              "    </div>\n",
              "  </div>\n",
              "  "
            ],
            "text/plain": [
              "   atribute_id                                        description type\n",
              "0            1  If one of us apologizes when our discussion de...    1\n",
              "1            2  I know we can ignore our differences, even if ...    2\n",
              "2            3  When we need it, we can take our discussions w...    1\n",
              "3            4  When I discuss with my spouse, to contact him ...    1\n",
              "4            5   The time I spent with my wife is special for us.    3"
            ]
          },
          "metadata": {},
          "execution_count": 39
        }
      ]
    },
    {
      "cell_type": "markdown",
      "source": [
        "---------"
      ],
      "metadata": {
        "id": "26lbY49VckUY"
      }
    },
    {
      "cell_type": "code",
      "source": [
        "data_reference_keywords['keywords'] = data_reference_keywords.description\n",
        "for i in range(0, 54):\n",
        "    keywords = []\n",
        "    document = data_reference_keywords.description[i]\n",
        "    for word in nltk.tokenize.word_tokenize(document):  #공백과 구두점(punctuation: ,혹은 .)을 기준으로 단어 분리, 축약형 단어도 분리 (Can't ==> ['Ca', \"n't\"])\n",
        "        word = word.lower() # 소문자로.\n",
        "        if word in ['discuss', 'discussion', 'discussions', \"discussing\", 'tell', 'share', 'talk',\n",
        "                    'know', \n",
        "                    'similar', 'goals', 'common',\n",
        "                    'enjoy', 'spent', 'spend', 'time']:\n",
        "          keywords.append(word)\n",
        "    document = ' '.join(keywords)\n",
        "    if (keywords == []):\n",
        "      document = 'etc.'\n",
        "  \n",
        "    data_reference_keywords.keywords[i] = document # data_reference에 저장."
      ],
      "metadata": {
        "colab": {
          "base_uri": "https://localhost:8080/"
        },
        "id": "CAnQlkHbPNzE",
        "outputId": "669e4dbe-f9cc-424a-ff4b-ff8786facfb9"
      },
      "execution_count": 40,
      "outputs": [
        {
          "output_type": "stream",
          "name": "stderr",
          "text": [
            "/usr/local/lib/python3.7/dist-packages/ipykernel_launcher.py:16: SettingWithCopyWarning: \n",
            "A value is trying to be set on a copy of a slice from a DataFrame\n",
            "\n",
            "See the caveats in the documentation: https://pandas.pydata.org/pandas-docs/stable/user_guide/indexing.html#returning-a-view-versus-a-copy\n",
            "  app.launch_new_instance()\n"
          ]
        }
      ]
    },
    {
      "cell_type": "markdown",
      "source": [
        "같은 방법으로 질문 유형과 관련있는 키워드가 들어있는지 확인 후, 키워드에 대한 새로운 열을 추가한다."
      ],
      "metadata": {
        "id": "4DSLkfK5uBGo"
      }
    },
    {
      "cell_type": "code",
      "source": [
        "data_reference_keywords.head()"
      ],
      "metadata": {
        "id": "PMHXlTMxPNlK",
        "colab": {
          "base_uri": "https://localhost:8080/",
          "height": 206
        },
        "outputId": "9e232c93-e6c3-4e7d-cfd0-e51513fb5feb"
      },
      "execution_count": 41,
      "outputs": [
        {
          "output_type": "execute_result",
          "data": {
            "text/html": [
              "\n",
              "  <div id=\"df-5cb2494a-e8da-4e2b-9689-5b36fc1792f1\">\n",
              "    <div class=\"colab-df-container\">\n",
              "      <div>\n",
              "<style scoped>\n",
              "    .dataframe tbody tr th:only-of-type {\n",
              "        vertical-align: middle;\n",
              "    }\n",
              "\n",
              "    .dataframe tbody tr th {\n",
              "        vertical-align: top;\n",
              "    }\n",
              "\n",
              "    .dataframe thead th {\n",
              "        text-align: right;\n",
              "    }\n",
              "</style>\n",
              "<table border=\"1\" class=\"dataframe\">\n",
              "  <thead>\n",
              "    <tr style=\"text-align: right;\">\n",
              "      <th></th>\n",
              "      <th>atribute_id</th>\n",
              "      <th>description</th>\n",
              "      <th>type</th>\n",
              "      <th>keywords</th>\n",
              "    </tr>\n",
              "  </thead>\n",
              "  <tbody>\n",
              "    <tr>\n",
              "      <th>0</th>\n",
              "      <td>1</td>\n",
              "      <td>If one of us apologizes when our discussion de...</td>\n",
              "      <td>1</td>\n",
              "      <td>discussion discussion</td>\n",
              "    </tr>\n",
              "    <tr>\n",
              "      <th>1</th>\n",
              "      <td>2</td>\n",
              "      <td>I know we can ignore our differences, even if ...</td>\n",
              "      <td>2</td>\n",
              "      <td>know</td>\n",
              "    </tr>\n",
              "    <tr>\n",
              "      <th>2</th>\n",
              "      <td>3</td>\n",
              "      <td>When we need it, we can take our discussions w...</td>\n",
              "      <td>1</td>\n",
              "      <td>discussions</td>\n",
              "    </tr>\n",
              "    <tr>\n",
              "      <th>3</th>\n",
              "      <td>4</td>\n",
              "      <td>When I discuss with my spouse, to contact him ...</td>\n",
              "      <td>1</td>\n",
              "      <td>discuss</td>\n",
              "    </tr>\n",
              "    <tr>\n",
              "      <th>4</th>\n",
              "      <td>5</td>\n",
              "      <td>The time I spent with my wife is special for us.</td>\n",
              "      <td>3</td>\n",
              "      <td>time spent</td>\n",
              "    </tr>\n",
              "  </tbody>\n",
              "</table>\n",
              "</div>\n",
              "      <button class=\"colab-df-convert\" onclick=\"convertToInteractive('df-5cb2494a-e8da-4e2b-9689-5b36fc1792f1')\"\n",
              "              title=\"Convert this dataframe to an interactive table.\"\n",
              "              style=\"display:none;\">\n",
              "        \n",
              "  <svg xmlns=\"http://www.w3.org/2000/svg\" height=\"24px\"viewBox=\"0 0 24 24\"\n",
              "       width=\"24px\">\n",
              "    <path d=\"M0 0h24v24H0V0z\" fill=\"none\"/>\n",
              "    <path d=\"M18.56 5.44l.94 2.06.94-2.06 2.06-.94-2.06-.94-.94-2.06-.94 2.06-2.06.94zm-11 1L8.5 8.5l.94-2.06 2.06-.94-2.06-.94L8.5 2.5l-.94 2.06-2.06.94zm10 10l.94 2.06.94-2.06 2.06-.94-2.06-.94-.94-2.06-.94 2.06-2.06.94z\"/><path d=\"M17.41 7.96l-1.37-1.37c-.4-.4-.92-.59-1.43-.59-.52 0-1.04.2-1.43.59L10.3 9.45l-7.72 7.72c-.78.78-.78 2.05 0 2.83L4 21.41c.39.39.9.59 1.41.59.51 0 1.02-.2 1.41-.59l7.78-7.78 2.81-2.81c.8-.78.8-2.07 0-2.86zM5.41 20L4 18.59l7.72-7.72 1.47 1.35L5.41 20z\"/>\n",
              "  </svg>\n",
              "      </button>\n",
              "      \n",
              "  <style>\n",
              "    .colab-df-container {\n",
              "      display:flex;\n",
              "      flex-wrap:wrap;\n",
              "      gap: 12px;\n",
              "    }\n",
              "\n",
              "    .colab-df-convert {\n",
              "      background-color: #E8F0FE;\n",
              "      border: none;\n",
              "      border-radius: 50%;\n",
              "      cursor: pointer;\n",
              "      display: none;\n",
              "      fill: #1967D2;\n",
              "      height: 32px;\n",
              "      padding: 0 0 0 0;\n",
              "      width: 32px;\n",
              "    }\n",
              "\n",
              "    .colab-df-convert:hover {\n",
              "      background-color: #E2EBFA;\n",
              "      box-shadow: 0px 1px 2px rgba(60, 64, 67, 0.3), 0px 1px 3px 1px rgba(60, 64, 67, 0.15);\n",
              "      fill: #174EA6;\n",
              "    }\n",
              "\n",
              "    [theme=dark] .colab-df-convert {\n",
              "      background-color: #3B4455;\n",
              "      fill: #D2E3FC;\n",
              "    }\n",
              "\n",
              "    [theme=dark] .colab-df-convert:hover {\n",
              "      background-color: #434B5C;\n",
              "      box-shadow: 0px 1px 3px 1px rgba(0, 0, 0, 0.15);\n",
              "      filter: drop-shadow(0px 1px 2px rgba(0, 0, 0, 0.3));\n",
              "      fill: #FFFFFF;\n",
              "    }\n",
              "  </style>\n",
              "\n",
              "      <script>\n",
              "        const buttonEl =\n",
              "          document.querySelector('#df-5cb2494a-e8da-4e2b-9689-5b36fc1792f1 button.colab-df-convert');\n",
              "        buttonEl.style.display =\n",
              "          google.colab.kernel.accessAllowed ? 'block' : 'none';\n",
              "\n",
              "        async function convertToInteractive(key) {\n",
              "          const element = document.querySelector('#df-5cb2494a-e8da-4e2b-9689-5b36fc1792f1');\n",
              "          const dataTable =\n",
              "            await google.colab.kernel.invokeFunction('convertToInteractive',\n",
              "                                                     [key], {});\n",
              "          if (!dataTable) return;\n",
              "\n",
              "          const docLinkHtml = 'Like what you see? Visit the ' +\n",
              "            '<a target=\"_blank\" href=https://colab.research.google.com/notebooks/data_table.ipynb>data table notebook</a>'\n",
              "            + ' to learn more about interactive tables.';\n",
              "          element.innerHTML = '';\n",
              "          dataTable['output_type'] = 'display_data';\n",
              "          await google.colab.output.renderOutput(dataTable, element);\n",
              "          const docLink = document.createElement('div');\n",
              "          docLink.innerHTML = docLinkHtml;\n",
              "          element.appendChild(docLink);\n",
              "        }\n",
              "      </script>\n",
              "    </div>\n",
              "  </div>\n",
              "  "
            ],
            "text/plain": [
              "   atribute_id  ...               keywords\n",
              "0            1  ...  discussion discussion\n",
              "1            2  ...                   know\n",
              "2            3  ...            discussions\n",
              "3            4  ...                discuss\n",
              "4            5  ...             time spent\n",
              "\n",
              "[5 rows x 4 columns]"
            ]
          },
          "metadata": {},
          "execution_count": 41
        }
      ]
    },
    {
      "cell_type": "markdown",
      "source": [
        "질문의 유형을 1부터 5까지 번호로 나누어봤다.\n",
        "\n",
        "이제, 어떤 질문 유형이 가장 많은지 살펴보기 위해, 같은 유형끼리 묶어서 카운트해준다."
      ],
      "metadata": {
        "id": "24MwNAoiRgrO"
      }
    },
    {
      "cell_type": "code",
      "source": [
        "# type이 같은 것끼리 묶어서 카운트해준 값을 (인덱스 기준)정렬하여 저장\n",
        "df_type = data_reference_keywords.type.value_counts().sort_index()\n",
        "df_type"
      ],
      "metadata": {
        "colab": {
          "base_uri": "https://localhost:8080/"
        },
        "id": "A4_eFI_3tU0H",
        "outputId": "9e3412fe-6855-48c9-ab44-447c266eb93f"
      },
      "execution_count": 42,
      "outputs": [
        {
          "output_type": "execute_result",
          "data": {
            "text/plain": [
              "1    21\n",
              "2    10\n",
              "3     4\n",
              "4     8\n",
              "5    11\n",
              "Name: type, dtype: int64"
            ]
          },
          "metadata": {},
          "execution_count": 42
        }
      ]
    },
    {
      "cell_type": "code",
      "source": [
        "df_type.to_csv('df_type.csv')  # df_type은 따로 csv파일로 저장해줌. 대시보드 만들때 다시 불러올 것."
      ],
      "metadata": {
        "id": "V8jrgobNQDuI"
      },
      "execution_count": 43,
      "outputs": []
    },
    {
      "cell_type": "markdown",
      "source": [
        "파이차트로 시각화"
      ],
      "metadata": {
        "id": "Obc2WSuQSsxS"
      }
    },
    {
      "cell_type": "code",
      "source": [
        "import plotly.express as px\n",
        "labels = ['discussion', 'to know each other', 'to spend time', 'common features', 'etc.']\n",
        "fig = px.pie(df_type,labels, values='type')\n",
        "fig.show()"
      ],
      "metadata": {
        "colab": {
          "base_uri": "https://localhost:8080/",
          "height": 542
        },
        "id": "u5uq_pFX_eRQ",
        "outputId": "f85b385c-2767-4862-b838-e003760c98ee"
      },
      "execution_count": 44,
      "outputs": [
        {
          "output_type": "display_data",
          "data": {
            "text/html": [
              "<html>\n",
              "<head><meta charset=\"utf-8\" /></head>\n",
              "<body>\n",
              "    <div>\n",
              "            <script src=\"https://cdnjs.cloudflare.com/ajax/libs/mathjax/2.7.5/MathJax.js?config=TeX-AMS-MML_SVG\"></script><script type=\"text/javascript\">if (window.MathJax) {MathJax.Hub.Config({SVG: {font: \"STIX-Web\"}});}</script>\n",
              "                <script type=\"text/javascript\">window.PlotlyConfig = {MathJaxConfig: 'local'};</script>\n",
              "        <script src=\"https://cdn.plot.ly/plotly-latest.min.js\"></script>    \n",
              "            <div id=\"9ba9eda9-e624-440a-89db-a9b342c0d854\" class=\"plotly-graph-div\" style=\"height:525px; width:100%;\"></div>\n",
              "            <script type=\"text/javascript\">\n",
              "                \n",
              "                    window.PLOTLYENV=window.PLOTLYENV || {};\n",
              "                    \n",
              "                if (document.getElementById(\"9ba9eda9-e624-440a-89db-a9b342c0d854\")) {\n",
              "                    Plotly.newPlot(\n",
              "                        '9ba9eda9-e624-440a-89db-a9b342c0d854',\n",
              "                        [{\"domain\": {\"x\": [0.0, 1.0], \"y\": [0.0, 1.0]}, \"hoverlabel\": {\"namelength\": 0}, \"hovertemplate\": \"label=%{label}<br>type=%{value}\", \"labels\": [\"discussion\", \"to know each other\", \"to spend time\", \"common features\", \"etc.\"], \"legendgroup\": \"\", \"name\": \"\", \"showlegend\": true, \"type\": \"pie\", \"values\": [21, 10, 4, 8, 11]}],\n",
              "                        {\"legend\": {\"tracegroupgap\": 0}, \"margin\": {\"t\": 60}, \"template\": {\"data\": {\"bar\": [{\"error_x\": {\"color\": \"#2a3f5f\"}, \"error_y\": {\"color\": \"#2a3f5f\"}, \"marker\": {\"line\": {\"color\": \"#E5ECF6\", \"width\": 0.5}}, \"type\": \"bar\"}], \"barpolar\": [{\"marker\": {\"line\": {\"color\": \"#E5ECF6\", \"width\": 0.5}}, \"type\": \"barpolar\"}], \"carpet\": [{\"aaxis\": {\"endlinecolor\": \"#2a3f5f\", \"gridcolor\": \"white\", \"linecolor\": \"white\", \"minorgridcolor\": \"white\", \"startlinecolor\": \"#2a3f5f\"}, \"baxis\": {\"endlinecolor\": \"#2a3f5f\", \"gridcolor\": \"white\", \"linecolor\": \"white\", \"minorgridcolor\": \"white\", \"startlinecolor\": \"#2a3f5f\"}, \"type\": \"carpet\"}], \"choropleth\": [{\"colorbar\": {\"outlinewidth\": 0, \"ticks\": \"\"}, \"type\": \"choropleth\"}], \"contour\": [{\"colorbar\": {\"outlinewidth\": 0, \"ticks\": \"\"}, \"colorscale\": [[0.0, \"#0d0887\"], [0.1111111111111111, \"#46039f\"], [0.2222222222222222, \"#7201a8\"], [0.3333333333333333, \"#9c179e\"], [0.4444444444444444, \"#bd3786\"], [0.5555555555555556, \"#d8576b\"], [0.6666666666666666, \"#ed7953\"], [0.7777777777777778, \"#fb9f3a\"], [0.8888888888888888, \"#fdca26\"], [1.0, \"#f0f921\"]], \"type\": \"contour\"}], \"contourcarpet\": [{\"colorbar\": {\"outlinewidth\": 0, \"ticks\": \"\"}, \"type\": \"contourcarpet\"}], \"heatmap\": [{\"colorbar\": {\"outlinewidth\": 0, \"ticks\": \"\"}, \"colorscale\": [[0.0, \"#0d0887\"], [0.1111111111111111, \"#46039f\"], [0.2222222222222222, \"#7201a8\"], [0.3333333333333333, \"#9c179e\"], [0.4444444444444444, \"#bd3786\"], [0.5555555555555556, \"#d8576b\"], [0.6666666666666666, \"#ed7953\"], [0.7777777777777778, \"#fb9f3a\"], [0.8888888888888888, \"#fdca26\"], [1.0, \"#f0f921\"]], \"type\": \"heatmap\"}], \"heatmapgl\": [{\"colorbar\": {\"outlinewidth\": 0, \"ticks\": \"\"}, \"colorscale\": [[0.0, \"#0d0887\"], [0.1111111111111111, \"#46039f\"], [0.2222222222222222, \"#7201a8\"], [0.3333333333333333, \"#9c179e\"], [0.4444444444444444, \"#bd3786\"], [0.5555555555555556, \"#d8576b\"], [0.6666666666666666, \"#ed7953\"], [0.7777777777777778, \"#fb9f3a\"], [0.8888888888888888, \"#fdca26\"], [1.0, \"#f0f921\"]], \"type\": \"heatmapgl\"}], \"histogram\": [{\"marker\": {\"colorbar\": {\"outlinewidth\": 0, \"ticks\": \"\"}}, \"type\": \"histogram\"}], \"histogram2d\": [{\"colorbar\": {\"outlinewidth\": 0, \"ticks\": \"\"}, \"colorscale\": [[0.0, \"#0d0887\"], [0.1111111111111111, \"#46039f\"], [0.2222222222222222, \"#7201a8\"], [0.3333333333333333, \"#9c179e\"], [0.4444444444444444, \"#bd3786\"], [0.5555555555555556, \"#d8576b\"], [0.6666666666666666, \"#ed7953\"], [0.7777777777777778, \"#fb9f3a\"], [0.8888888888888888, \"#fdca26\"], [1.0, \"#f0f921\"]], \"type\": \"histogram2d\"}], \"histogram2dcontour\": [{\"colorbar\": {\"outlinewidth\": 0, \"ticks\": \"\"}, \"colorscale\": [[0.0, \"#0d0887\"], [0.1111111111111111, \"#46039f\"], [0.2222222222222222, \"#7201a8\"], [0.3333333333333333, \"#9c179e\"], [0.4444444444444444, \"#bd3786\"], [0.5555555555555556, \"#d8576b\"], [0.6666666666666666, \"#ed7953\"], [0.7777777777777778, \"#fb9f3a\"], [0.8888888888888888, \"#fdca26\"], [1.0, \"#f0f921\"]], \"type\": \"histogram2dcontour\"}], \"mesh3d\": [{\"colorbar\": {\"outlinewidth\": 0, \"ticks\": \"\"}, \"type\": \"mesh3d\"}], \"parcoords\": [{\"line\": {\"colorbar\": {\"outlinewidth\": 0, \"ticks\": \"\"}}, \"type\": \"parcoords\"}], \"pie\": [{\"automargin\": true, \"type\": \"pie\"}], \"scatter\": [{\"marker\": {\"colorbar\": {\"outlinewidth\": 0, \"ticks\": \"\"}}, \"type\": \"scatter\"}], \"scatter3d\": [{\"line\": {\"colorbar\": {\"outlinewidth\": 0, \"ticks\": \"\"}}, \"marker\": {\"colorbar\": {\"outlinewidth\": 0, \"ticks\": \"\"}}, \"type\": \"scatter3d\"}], \"scattercarpet\": [{\"marker\": {\"colorbar\": {\"outlinewidth\": 0, \"ticks\": \"\"}}, \"type\": \"scattercarpet\"}], \"scattergeo\": [{\"marker\": {\"colorbar\": {\"outlinewidth\": 0, \"ticks\": \"\"}}, \"type\": \"scattergeo\"}], \"scattergl\": [{\"marker\": {\"colorbar\": {\"outlinewidth\": 0, \"ticks\": \"\"}}, \"type\": \"scattergl\"}], \"scattermapbox\": [{\"marker\": {\"colorbar\": {\"outlinewidth\": 0, \"ticks\": \"\"}}, \"type\": \"scattermapbox\"}], \"scatterpolar\": [{\"marker\": {\"colorbar\": {\"outlinewidth\": 0, \"ticks\": \"\"}}, \"type\": \"scatterpolar\"}], \"scatterpolargl\": [{\"marker\": {\"colorbar\": {\"outlinewidth\": 0, \"ticks\": \"\"}}, \"type\": \"scatterpolargl\"}], \"scatterternary\": [{\"marker\": {\"colorbar\": {\"outlinewidth\": 0, \"ticks\": \"\"}}, \"type\": \"scatterternary\"}], \"surface\": [{\"colorbar\": {\"outlinewidth\": 0, \"ticks\": \"\"}, \"colorscale\": [[0.0, \"#0d0887\"], [0.1111111111111111, \"#46039f\"], [0.2222222222222222, \"#7201a8\"], [0.3333333333333333, \"#9c179e\"], [0.4444444444444444, \"#bd3786\"], [0.5555555555555556, \"#d8576b\"], [0.6666666666666666, \"#ed7953\"], [0.7777777777777778, \"#fb9f3a\"], [0.8888888888888888, \"#fdca26\"], [1.0, \"#f0f921\"]], \"type\": \"surface\"}], \"table\": [{\"cells\": {\"fill\": {\"color\": \"#EBF0F8\"}, \"line\": {\"color\": \"white\"}}, \"header\": {\"fill\": {\"color\": \"#C8D4E3\"}, \"line\": {\"color\": \"white\"}}, \"type\": \"table\"}]}, \"layout\": {\"annotationdefaults\": {\"arrowcolor\": \"#2a3f5f\", \"arrowhead\": 0, \"arrowwidth\": 1}, \"coloraxis\": {\"colorbar\": {\"outlinewidth\": 0, \"ticks\": \"\"}}, \"colorscale\": {\"diverging\": [[0, \"#8e0152\"], [0.1, \"#c51b7d\"], [0.2, \"#de77ae\"], [0.3, \"#f1b6da\"], [0.4, \"#fde0ef\"], [0.5, \"#f7f7f7\"], [0.6, \"#e6f5d0\"], [0.7, \"#b8e186\"], [0.8, \"#7fbc41\"], [0.9, \"#4d9221\"], [1, \"#276419\"]], \"sequential\": [[0.0, \"#0d0887\"], [0.1111111111111111, \"#46039f\"], [0.2222222222222222, \"#7201a8\"], [0.3333333333333333, \"#9c179e\"], [0.4444444444444444, \"#bd3786\"], [0.5555555555555556, \"#d8576b\"], [0.6666666666666666, \"#ed7953\"], [0.7777777777777778, \"#fb9f3a\"], [0.8888888888888888, \"#fdca26\"], [1.0, \"#f0f921\"]], \"sequentialminus\": [[0.0, \"#0d0887\"], [0.1111111111111111, \"#46039f\"], [0.2222222222222222, \"#7201a8\"], [0.3333333333333333, \"#9c179e\"], [0.4444444444444444, \"#bd3786\"], [0.5555555555555556, \"#d8576b\"], [0.6666666666666666, \"#ed7953\"], [0.7777777777777778, \"#fb9f3a\"], [0.8888888888888888, \"#fdca26\"], [1.0, \"#f0f921\"]]}, \"colorway\": [\"#636efa\", \"#EF553B\", \"#00cc96\", \"#ab63fa\", \"#FFA15A\", \"#19d3f3\", \"#FF6692\", \"#B6E880\", \"#FF97FF\", \"#FECB52\"], \"font\": {\"color\": \"#2a3f5f\"}, \"geo\": {\"bgcolor\": \"white\", \"lakecolor\": \"white\", \"landcolor\": \"#E5ECF6\", \"showlakes\": true, \"showland\": true, \"subunitcolor\": \"white\"}, \"hoverlabel\": {\"align\": \"left\"}, \"hovermode\": \"closest\", \"mapbox\": {\"style\": \"light\"}, \"paper_bgcolor\": \"white\", \"plot_bgcolor\": \"#E5ECF6\", \"polar\": {\"angularaxis\": {\"gridcolor\": \"white\", \"linecolor\": \"white\", \"ticks\": \"\"}, \"bgcolor\": \"#E5ECF6\", \"radialaxis\": {\"gridcolor\": \"white\", \"linecolor\": \"white\", \"ticks\": \"\"}}, \"scene\": {\"xaxis\": {\"backgroundcolor\": \"#E5ECF6\", \"gridcolor\": \"white\", \"gridwidth\": 2, \"linecolor\": \"white\", \"showbackground\": true, \"ticks\": \"\", \"zerolinecolor\": \"white\"}, \"yaxis\": {\"backgroundcolor\": \"#E5ECF6\", \"gridcolor\": \"white\", \"gridwidth\": 2, \"linecolor\": \"white\", \"showbackground\": true, \"ticks\": \"\", \"zerolinecolor\": \"white\"}, \"zaxis\": {\"backgroundcolor\": \"#E5ECF6\", \"gridcolor\": \"white\", \"gridwidth\": 2, \"linecolor\": \"white\", \"showbackground\": true, \"ticks\": \"\", \"zerolinecolor\": \"white\"}}, \"shapedefaults\": {\"line\": {\"color\": \"#2a3f5f\"}}, \"ternary\": {\"aaxis\": {\"gridcolor\": \"white\", \"linecolor\": \"white\", \"ticks\": \"\"}, \"baxis\": {\"gridcolor\": \"white\", \"linecolor\": \"white\", \"ticks\": \"\"}, \"bgcolor\": \"#E5ECF6\", \"caxis\": {\"gridcolor\": \"white\", \"linecolor\": \"white\", \"ticks\": \"\"}}, \"title\": {\"x\": 0.05}, \"xaxis\": {\"automargin\": true, \"gridcolor\": \"white\", \"linecolor\": \"white\", \"ticks\": \"\", \"title\": {\"standoff\": 15}, \"zerolinecolor\": \"white\", \"zerolinewidth\": 2}, \"yaxis\": {\"automargin\": true, \"gridcolor\": \"white\", \"linecolor\": \"white\", \"ticks\": \"\", \"title\": {\"standoff\": 15}, \"zerolinecolor\": \"white\", \"zerolinewidth\": 2}}}},\n",
              "                        {\"responsive\": true}\n",
              "                    ).then(function(){\n",
              "                            \n",
              "var gd = document.getElementById('9ba9eda9-e624-440a-89db-a9b342c0d854');\n",
              "var x = new MutationObserver(function (mutations, observer) {{\n",
              "        var display = window.getComputedStyle(gd).display;\n",
              "        if (!display || display === 'none') {{\n",
              "            console.log([gd, 'removed!']);\n",
              "            Plotly.purge(gd);\n",
              "            observer.disconnect();\n",
              "        }}\n",
              "}});\n",
              "\n",
              "// Listen for the removal of the full notebook cells\n",
              "var notebookContainer = gd.closest('#notebook-container');\n",
              "if (notebookContainer) {{\n",
              "    x.observe(notebookContainer, {childList: true});\n",
              "}}\n",
              "\n",
              "// Listen for the clearing of the current output cell\n",
              "var outputEl = gd.closest('.output');\n",
              "if (outputEl) {{\n",
              "    x.observe(outputEl, {childList: true});\n",
              "}}\n",
              "\n",
              "                        })\n",
              "                };\n",
              "                \n",
              "            </script>\n",
              "        </div>\n",
              "</body>\n",
              "</html>"
            ]
          },
          "metadata": {}
        }
      ]
    },
    {
      "cell_type": "markdown",
      "source": [
        "38.9% 로 대화 관련 질문이 가장 많은 것을 확인했다.\n",
        "\n",
        "이혼을 예측할 때 대화 관련 질문이 가장 많다는 것을 의미하며,\n",
        "부부관계에서 대화가 중요하다고 할 수 있을 것이다."
      ],
      "metadata": {
        "id": "AeHdhLieViHG"
      }
    },
    {
      "cell_type": "code",
      "source": [
        ""
      ],
      "metadata": {
        "id": "dX5L16rx8M26"
      },
      "execution_count": 44,
      "outputs": []
    },
    {
      "cell_type": "markdown",
      "source": [
        "# 정리\n",
        "\n",
        "(1) 이혼 예측\n",
        "- decision tree, random forest 방법으로 0.92%, 0.96%의 높은 정확도를 가진 예측 모델을 만들었다.\n",
        "- 특성중요도를 통해 대화, 비슷한 결혼 생활에 대한 질문이 이혼을 예측하는데 중요한 요인임을 알 수 있었다.\n",
        "\n",
        "\n",
        "(2) 이혼 예측의 중요 요인\n",
        "- 텍스트 전처리를 통해 질문을 요약하였고, 빈도 수가 높은 단어로 질문 유형을 나누었다.\n",
        "- '대화' 관련 질문이 가장 많은 비율을 차지한다는 사실을 통해, '대화' 관련 질문이 이혼을 예측하는데 주요한 질문 유형임을 알 수 있었다."
      ],
      "metadata": {
        "id": "NA7ULIUB4fG9"
      }
    },
    {
      "cell_type": "markdown",
      "source": [
        "# Dashboard\n",
        "\n",
        "새로운 노트에서 만들었습니다. \n",
        "[깃허브 - divorce_prediction_dash](https://github.com/dav1n9/DAP/blob/main/divorce_prediction_dash.ipynb)"
      ],
      "metadata": {
        "id": "8sa7cOgeWlci"
      }
    },
    {
      "cell_type": "markdown",
      "source": [
        "위에서 시각화했던 3개의 그래프들을 가지고 대시보드를 구현할 것이다.(plotly로 재구현)\n",
        "\n",
        "\n",
        "![image.png](data:image/png;base64,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)"
      ],
      "metadata": {
        "id": "DFZoKUYSKvjL"
      }
    },
    {
      "cell_type": "code",
      "source": [
        ""
      ],
      "metadata": {
        "id": "qMy_cZkGvCLa"
      },
      "execution_count": 44,
      "outputs": []
    },
    {
      "cell_type": "code",
      "source": [
        "df_sum = pd.concat([res_d, res_m])\n",
        "\n",
        "df_sum = df_sum.rename(columns={0 : \"divorce\"})\n",
        "df_sum = df_sum.rename(index={0 : \"never\", \n",
        "                              1 : \"seldom\", \n",
        "                              2 :'Averagely', \n",
        "                              3 : 'Frequently',\n",
        "                              4 : 'Always'})\n",
        "# 여기서 'divorce'열을 스트링 타입으로 바꿔준 이유 (스트링으로 바꾸면서 두문제 해결)\n",
        "# 1. bar그래프 그릴때 divorce기준으로 구분하는데 0과1이 아니라 0부터 1로 색깔 구분이 됨.\n",
        "# 2. divorce기준으로 구분된 두 그래프가 겹쳐져서 그려짐.\n",
        "df_sum['divorce'] = df_sum['divorce'].astype(str)\n",
        "\n",
        "print(df_sum)"
      ],
      "metadata": {
        "colab": {
          "base_uri": "https://localhost:8080/"
        },
        "id": "2hiwBoIhM7vN",
        "outputId": "84c4c276-1075-413a-de95-73e2395c38ee"
      },
      "execution_count": 43,
      "outputs": [
        {
          "output_type": "stream",
          "name": "stdout",
          "text": [
            "            Q1  Q2  Q3  Q4  Q5  Q6  Q7  ...  Q49  Q50  Q51  Q52  Q53  Q54  divorce\n",
            "never       68  57  51  73  79  64  85  ...   28   19   12   23   31   46        0\n",
            "seldom       8  21  20   9   5  14   1  ...   26   27   24   23   25   24        0\n",
            "Averagely    6   5  11   1   2   7   0  ...   17   31   38   17   18   14        0\n",
            "Frequently   2   3   3   0   0   0   0  ...   10    6    9   14    7    1        0\n",
            "Always       2   0   1   3   0   1   0  ...    5    3    3    9    5    1        0\n",
            "never        1   2   0   2   3  22  29  ...    0    0    0    0    0    4        1\n",
            "seldom       1   2   4   3   5  35  41  ...    2    4    5    5    6    3        1\n",
            "Averagely    8  23  15  29   6  22   5  ...    9    5    5    6    8    7        1\n",
            "Frequently  45  35  49  32  44   4   4  ...   17   20   29   16   23   14        1\n",
            "Always      29  22  16  18  26   1   5  ...   56   55   45   57   47   56        1\n",
            "\n",
            "[10 rows x 55 columns]\n"
          ]
        }
      ]
    },
    {
      "cell_type": "code",
      "source": [
        "df_sum.to_csv('divorce_sum.csv')  # 따로 csv파일로 저장해줌. 대시보드 만들때 사용"
      ],
      "metadata": {
        "id": "cFddW_az0Vhy"
      },
      "execution_count": 44,
      "outputs": []
    },
    {
      "cell_type": "markdown",
      "source": [
        "(1) 대시보드에 추가할 첫번째 그래프"
      ],
      "metadata": {
        "id": "eANzZsJcWaAj"
      }
    },
    {
      "cell_type": "code",
      "metadata": {
        "id": "-7XQYAM-qQoA",
        "colab": {
          "base_uri": "https://localhost:8080/",
          "height": 417
        },
        "outputId": "98370fc9-574b-47d9-d5a8-c4a4708506eb"
      },
      "source": [
        "import plotly.express as px\n",
        "fig = px.bar(df_sum, x=df_sum.index, y=df_sum[\"Q1\"], color='divorce', barmode='group',width=600, height=400)\n",
        "fig.update_xaxes(type='category')\n",
        "\n",
        "fig.show()\n",
        "\n"
      ],
      "execution_count": 45,
      "outputs": [
        {
          "output_type": "display_data",
          "data": {
            "text/html": [
              "<html>\n",
              "<head><meta charset=\"utf-8\" /></head>\n",
              "<body>\n",
              "    <div>\n",
              "            <script src=\"https://cdnjs.cloudflare.com/ajax/libs/mathjax/2.7.5/MathJax.js?config=TeX-AMS-MML_SVG\"></script><script type=\"text/javascript\">if (window.MathJax) {MathJax.Hub.Config({SVG: {font: \"STIX-Web\"}});}</script>\n",
              "                <script type=\"text/javascript\">window.PlotlyConfig = {MathJaxConfig: 'local'};</script>\n",
              "        <script src=\"https://cdn.plot.ly/plotly-latest.min.js\"></script>    \n",
              "            <div id=\"ecfd823a-2e96-4c90-b394-e77f191f4372\" class=\"plotly-graph-div\" style=\"height:400px; width:600px;\"></div>\n",
              "            <script type=\"text/javascript\">\n",
              "                \n",
              "                    window.PLOTLYENV=window.PLOTLYENV || {};\n",
              "                    \n",
              "                if (document.getElementById(\"ecfd823a-2e96-4c90-b394-e77f191f4372\")) {\n",
              "                    Plotly.newPlot(\n",
              "                        'ecfd823a-2e96-4c90-b394-e77f191f4372',\n",
              "                        [{\"alignmentgroup\": \"True\", \"hoverlabel\": {\"namelength\": 0}, \"hovertemplate\": \"divorce=0<br>x=%{x}<br>Q1=%{y}\", \"legendgroup\": \"divorce=0\", \"marker\": {\"color\": \"#636efa\"}, \"name\": \"divorce=0\", \"offsetgroup\": \"divorce=0\", \"orientation\": \"v\", \"showlegend\": true, \"textposition\": \"auto\", \"type\": \"bar\", \"x\": [\"never\", \"seldom\", \"Averagely\", \"Frequently\", \"Always\"], \"xaxis\": \"x\", \"y\": [68, 8, 6, 2, 2], \"yaxis\": \"y\"}, {\"alignmentgroup\": \"True\", \"hoverlabel\": {\"namelength\": 0}, \"hovertemplate\": \"divorce=1<br>x=%{x}<br>Q1=%{y}\", \"legendgroup\": \"divorce=1\", \"marker\": {\"color\": \"#EF553B\"}, \"name\": \"divorce=1\", \"offsetgroup\": \"divorce=1\", \"orientation\": \"v\", \"showlegend\": true, \"textposition\": \"auto\", \"type\": \"bar\", \"x\": [\"never\", \"seldom\", \"Averagely\", \"Frequently\", \"Always\"], \"xaxis\": \"x\", \"y\": [1, 1, 8, 45, 29], \"yaxis\": \"y\"}],\n",
              "                        {\"barmode\": \"group\", \"height\": 400, \"legend\": {\"tracegroupgap\": 0}, \"margin\": {\"t\": 60}, \"template\": {\"data\": {\"bar\": [{\"error_x\": {\"color\": \"#2a3f5f\"}, \"error_y\": {\"color\": \"#2a3f5f\"}, \"marker\": {\"line\": {\"color\": \"#E5ECF6\", \"width\": 0.5}}, \"type\": \"bar\"}], \"barpolar\": [{\"marker\": {\"line\": {\"color\": \"#E5ECF6\", \"width\": 0.5}}, \"type\": \"barpolar\"}], \"carpet\": [{\"aaxis\": {\"endlinecolor\": \"#2a3f5f\", \"gridcolor\": \"white\", \"linecolor\": \"white\", \"minorgridcolor\": \"white\", \"startlinecolor\": \"#2a3f5f\"}, \"baxis\": {\"endlinecolor\": \"#2a3f5f\", \"gridcolor\": \"white\", \"linecolor\": \"white\", \"minorgridcolor\": \"white\", \"startlinecolor\": \"#2a3f5f\"}, \"type\": \"carpet\"}], \"choropleth\": [{\"colorbar\": {\"outlinewidth\": 0, \"ticks\": \"\"}, \"type\": \"choropleth\"}], \"contour\": [{\"colorbar\": {\"outlinewidth\": 0, \"ticks\": \"\"}, \"colorscale\": [[0.0, \"#0d0887\"], [0.1111111111111111, \"#46039f\"], [0.2222222222222222, \"#7201a8\"], [0.3333333333333333, \"#9c179e\"], [0.4444444444444444, \"#bd3786\"], [0.5555555555555556, \"#d8576b\"], [0.6666666666666666, \"#ed7953\"], [0.7777777777777778, \"#fb9f3a\"], [0.8888888888888888, \"#fdca26\"], [1.0, \"#f0f921\"]], \"type\": \"contour\"}], \"contourcarpet\": [{\"colorbar\": {\"outlinewidth\": 0, \"ticks\": \"\"}, \"type\": \"contourcarpet\"}], \"heatmap\": [{\"colorbar\": {\"outlinewidth\": 0, \"ticks\": \"\"}, \"colorscale\": [[0.0, \"#0d0887\"], [0.1111111111111111, \"#46039f\"], [0.2222222222222222, \"#7201a8\"], [0.3333333333333333, \"#9c179e\"], [0.4444444444444444, \"#bd3786\"], [0.5555555555555556, \"#d8576b\"], [0.6666666666666666, \"#ed7953\"], [0.7777777777777778, \"#fb9f3a\"], [0.8888888888888888, \"#fdca26\"], [1.0, \"#f0f921\"]], \"type\": \"heatmap\"}], \"heatmapgl\": [{\"colorbar\": {\"outlinewidth\": 0, \"ticks\": \"\"}, \"colorscale\": [[0.0, \"#0d0887\"], [0.1111111111111111, \"#46039f\"], [0.2222222222222222, \"#7201a8\"], [0.3333333333333333, \"#9c179e\"], [0.4444444444444444, \"#bd3786\"], [0.5555555555555556, \"#d8576b\"], [0.6666666666666666, \"#ed7953\"], [0.7777777777777778, \"#fb9f3a\"], [0.8888888888888888, \"#fdca26\"], [1.0, \"#f0f921\"]], \"type\": \"heatmapgl\"}], \"histogram\": [{\"marker\": {\"colorbar\": {\"outlinewidth\": 0, \"ticks\": \"\"}}, \"type\": \"histogram\"}], \"histogram2d\": [{\"colorbar\": {\"outlinewidth\": 0, \"ticks\": \"\"}, \"colorscale\": [[0.0, \"#0d0887\"], [0.1111111111111111, \"#46039f\"], [0.2222222222222222, \"#7201a8\"], [0.3333333333333333, \"#9c179e\"], [0.4444444444444444, \"#bd3786\"], [0.5555555555555556, \"#d8576b\"], [0.6666666666666666, \"#ed7953\"], [0.7777777777777778, \"#fb9f3a\"], [0.8888888888888888, \"#fdca26\"], [1.0, \"#f0f921\"]], \"type\": \"histogram2d\"}], \"histogram2dcontour\": [{\"colorbar\": {\"outlinewidth\": 0, \"ticks\": \"\"}, \"colorscale\": [[0.0, \"#0d0887\"], [0.1111111111111111, \"#46039f\"], [0.2222222222222222, \"#7201a8\"], [0.3333333333333333, \"#9c179e\"], [0.4444444444444444, \"#bd3786\"], [0.5555555555555556, \"#d8576b\"], [0.6666666666666666, \"#ed7953\"], [0.7777777777777778, \"#fb9f3a\"], [0.8888888888888888, \"#fdca26\"], [1.0, \"#f0f921\"]], \"type\": \"histogram2dcontour\"}], \"mesh3d\": [{\"colorbar\": {\"outlinewidth\": 0, \"ticks\": \"\"}, \"type\": \"mesh3d\"}], \"parcoords\": [{\"line\": {\"colorbar\": {\"outlinewidth\": 0, \"ticks\": \"\"}}, \"type\": \"parcoords\"}], \"pie\": [{\"automargin\": true, \"type\": \"pie\"}], \"scatter\": [{\"marker\": {\"colorbar\": {\"outlinewidth\": 0, \"ticks\": \"\"}}, \"type\": \"scatter\"}], \"scatter3d\": [{\"line\": {\"colorbar\": {\"outlinewidth\": 0, \"ticks\": \"\"}}, \"marker\": {\"colorbar\": {\"outlinewidth\": 0, \"ticks\": \"\"}}, \"type\": \"scatter3d\"}], \"scattercarpet\": [{\"marker\": {\"colorbar\": {\"outlinewidth\": 0, \"ticks\": \"\"}}, \"type\": \"scattercarpet\"}], \"scattergeo\": [{\"marker\": {\"colorbar\": {\"outlinewidth\": 0, \"ticks\": \"\"}}, \"type\": \"scattergeo\"}], \"scattergl\": [{\"marker\": {\"colorbar\": {\"outlinewidth\": 0, \"ticks\": \"\"}}, \"type\": \"scattergl\"}], \"scattermapbox\": [{\"marker\": {\"colorbar\": {\"outlinewidth\": 0, \"ticks\": \"\"}}, \"type\": \"scattermapbox\"}], \"scatterpolar\": [{\"marker\": {\"colorbar\": {\"outlinewidth\": 0, \"ticks\": \"\"}}, \"type\": \"scatterpolar\"}], \"scatterpolargl\": [{\"marker\": {\"colorbar\": {\"outlinewidth\": 0, \"ticks\": \"\"}}, \"type\": \"scatterpolargl\"}], \"scatterternary\": [{\"marker\": {\"colorbar\": {\"outlinewidth\": 0, \"ticks\": \"\"}}, \"type\": \"scatterternary\"}], \"surface\": [{\"colorbar\": {\"outlinewidth\": 0, \"ticks\": \"\"}, \"colorscale\": [[0.0, \"#0d0887\"], [0.1111111111111111, \"#46039f\"], [0.2222222222222222, \"#7201a8\"], [0.3333333333333333, \"#9c179e\"], [0.4444444444444444, \"#bd3786\"], [0.5555555555555556, \"#d8576b\"], [0.6666666666666666, \"#ed7953\"], [0.7777777777777778, \"#fb9f3a\"], [0.8888888888888888, \"#fdca26\"], [1.0, \"#f0f921\"]], \"type\": \"surface\"}], \"table\": [{\"cells\": {\"fill\": {\"color\": \"#EBF0F8\"}, \"line\": {\"color\": \"white\"}}, \"header\": {\"fill\": {\"color\": \"#C8D4E3\"}, \"line\": {\"color\": \"white\"}}, \"type\": \"table\"}]}, \"layout\": {\"annotationdefaults\": {\"arrowcolor\": \"#2a3f5f\", \"arrowhead\": 0, \"arrowwidth\": 1}, \"coloraxis\": {\"colorbar\": {\"outlinewidth\": 0, \"ticks\": \"\"}}, \"colorscale\": {\"diverging\": [[0, \"#8e0152\"], [0.1, \"#c51b7d\"], [0.2, \"#de77ae\"], [0.3, \"#f1b6da\"], [0.4, \"#fde0ef\"], [0.5, \"#f7f7f7\"], [0.6, \"#e6f5d0\"], [0.7, \"#b8e186\"], [0.8, \"#7fbc41\"], [0.9, \"#4d9221\"], [1, \"#276419\"]], \"sequential\": [[0.0, \"#0d0887\"], [0.1111111111111111, \"#46039f\"], [0.2222222222222222, \"#7201a8\"], [0.3333333333333333, \"#9c179e\"], [0.4444444444444444, \"#bd3786\"], [0.5555555555555556, \"#d8576b\"], [0.6666666666666666, \"#ed7953\"], [0.7777777777777778, \"#fb9f3a\"], [0.8888888888888888, \"#fdca26\"], [1.0, \"#f0f921\"]], \"sequentialminus\": [[0.0, \"#0d0887\"], [0.1111111111111111, \"#46039f\"], [0.2222222222222222, \"#7201a8\"], [0.3333333333333333, \"#9c179e\"], [0.4444444444444444, \"#bd3786\"], [0.5555555555555556, \"#d8576b\"], [0.6666666666666666, \"#ed7953\"], [0.7777777777777778, \"#fb9f3a\"], [0.8888888888888888, \"#fdca26\"], [1.0, \"#f0f921\"]]}, \"colorway\": [\"#636efa\", \"#EF553B\", \"#00cc96\", \"#ab63fa\", \"#FFA15A\", \"#19d3f3\", \"#FF6692\", \"#B6E880\", \"#FF97FF\", \"#FECB52\"], \"font\": {\"color\": \"#2a3f5f\"}, \"geo\": {\"bgcolor\": \"white\", \"lakecolor\": \"white\", \"landcolor\": \"#E5ECF6\", \"showlakes\": true, \"showland\": true, \"subunitcolor\": \"white\"}, \"hoverlabel\": {\"align\": \"left\"}, \"hovermode\": \"closest\", \"mapbox\": {\"style\": \"light\"}, \"paper_bgcolor\": \"white\", \"plot_bgcolor\": \"#E5ECF6\", \"polar\": {\"angularaxis\": {\"gridcolor\": \"white\", \"linecolor\": \"white\", \"ticks\": \"\"}, \"bgcolor\": \"#E5ECF6\", \"radialaxis\": {\"gridcolor\": \"white\", \"linecolor\": \"white\", \"ticks\": \"\"}}, \"scene\": {\"xaxis\": {\"backgroundcolor\": \"#E5ECF6\", \"gridcolor\": \"white\", \"gridwidth\": 2, \"linecolor\": \"white\", \"showbackground\": true, \"ticks\": \"\", \"zerolinecolor\": \"white\"}, \"yaxis\": {\"backgroundcolor\": \"#E5ECF6\", \"gridcolor\": \"white\", \"gridwidth\": 2, \"linecolor\": \"white\", \"showbackground\": true, \"ticks\": \"\", \"zerolinecolor\": \"white\"}, \"zaxis\": {\"backgroundcolor\": \"#E5ECF6\", \"gridcolor\": \"white\", \"gridwidth\": 2, \"linecolor\": \"white\", \"showbackground\": true, \"ticks\": \"\", \"zerolinecolor\": \"white\"}}, \"shapedefaults\": {\"line\": {\"color\": \"#2a3f5f\"}}, \"ternary\": {\"aaxis\": {\"gridcolor\": \"white\", \"linecolor\": \"white\", \"ticks\": \"\"}, \"baxis\": {\"gridcolor\": \"white\", \"linecolor\": \"white\", \"ticks\": \"\"}, \"bgcolor\": \"#E5ECF6\", \"caxis\": {\"gridcolor\": \"white\", \"linecolor\": \"white\", \"ticks\": \"\"}}, \"title\": {\"x\": 0.05}, \"xaxis\": {\"automargin\": true, \"gridcolor\": \"white\", \"linecolor\": \"white\", \"ticks\": \"\", \"title\": {\"standoff\": 15}, \"zerolinecolor\": \"white\", \"zerolinewidth\": 2}, \"yaxis\": {\"automargin\": true, \"gridcolor\": \"white\", \"linecolor\": \"white\", \"ticks\": \"\", \"title\": {\"standoff\": 15}, \"zerolinecolor\": \"white\", \"zerolinewidth\": 2}}}, \"width\": 600, \"xaxis\": {\"anchor\": \"y\", \"domain\": [0.0, 1.0], \"title\": {\"text\": \"x\"}, \"type\": \"category\"}, \"yaxis\": {\"anchor\": \"x\", \"domain\": [0.0, 1.0], \"title\": {\"text\": \"Q1\"}}},\n",
              "                        {\"responsive\": true}\n",
              "                    ).then(function(){\n",
              "                            \n",
              "var gd = document.getElementById('ecfd823a-2e96-4c90-b394-e77f191f4372');\n",
              "var x = new MutationObserver(function (mutations, observer) {{\n",
              "        var display = window.getComputedStyle(gd).display;\n",
              "        if (!display || display === 'none') {{\n",
              "            console.log([gd, 'removed!']);\n",
              "            Plotly.purge(gd);\n",
              "            observer.disconnect();\n",
              "        }}\n",
              "}});\n",
              "\n",
              "// Listen for the removal of the full notebook cells\n",
              "var notebookContainer = gd.closest('#notebook-container');\n",
              "if (notebookContainer) {{\n",
              "    x.observe(notebookContainer, {childList: true});\n",
              "}}\n",
              "\n",
              "// Listen for the clearing of the current output cell\n",
              "var outputEl = gd.closest('.output');\n",
              "if (outputEl) {{\n",
              "    x.observe(outputEl, {childList: true});\n",
              "}}\n",
              "\n",
              "                        })\n",
              "                };\n",
              "                \n",
              "            </script>\n",
              "        </div>\n",
              "</body>\n",
              "</html>"
            ]
          },
          "metadata": {}
        }
      ]
    },
    {
      "cell_type": "markdown",
      "source": [
        "(2) 단어 빈도수를 나타내는 라인 그래프"
      ],
      "metadata": {
        "id": "SfSU4wdhXBiy"
      }
    },
    {
      "cell_type": "code",
      "source": [
        "df_noun_count = pd.DataFrame(counts_noun.most_common(20))\n",
        "df_verb_count = pd.DataFrame(counts_verb.most_common(20))\n",
        "df_adj_count = pd.DataFrame(counts_adj.most_common(20))"
      ],
      "metadata": {
        "id": "vJEcGaM-UOIb"
      },
      "execution_count": 46,
      "outputs": []
    },
    {
      "cell_type": "code",
      "source": [
        "!pip install dash\n",
        "!pip install jupyter_dash"
      ],
      "metadata": {
        "id": "aWgtFrQVd8Qe"
      },
      "execution_count": null,
      "outputs": []
    },
    {
      "cell_type": "code",
      "source": [
        "path_divorce = 'https://raw.githubusercontent.com/dav1n9/DAP/main/divorce_data/divorce_sum.csv'\n",
        "df_sum = pd.read_csv(path_divorce,delimiter = ',')\n",
        "\n",
        "path_reference = 'https://raw.githubusercontent.com/dav1n9/DAP/main/divorce_data/reference.tsv'\n",
        "df_reference = pd.read_csv(path_reference, sep = \"|\", engine='python')\n",
        "\n",
        "df_sum.set_index('answer', inplace = True)    #answer 열을 인덱스로 바꿔줌\n",
        "df_sum['divorce'] = df_sum['divorce'].astype(str)     # str타입으로 바꿔준이유는 전에도 써있지만, 색을 0과1 2개로만 구분하기 위함.\n",
        "\n",
        "data_divorced = df_sum.groupby('divorce').get_group('0')\n",
        "data_married = df_sum.groupby('divorce').get_group('1')"
      ],
      "metadata": {
        "id": "Fa5-DGrN2LIL"
      },
      "execution_count": 48,
      "outputs": []
    },
    {
      "cell_type": "code",
      "source": [
        "all_words = counts_adj | counts_noun | counts_verb    # 합집합\n",
        "all_words = all_words.most_common(20)\n",
        "\n",
        "df_words_count = pd.DataFrame(all_words)"
      ],
      "metadata": {
        "id": "ljajhBnwA__P"
      },
      "execution_count": 49,
      "outputs": []
    },
    {
      "cell_type": "code",
      "source": [
        "import plotly.graph_objects as go\n",
        "\n",
        "import pandas as pd\n",
        "all_words = counts_adj | counts_noun | counts_verb    # 합집합\n",
        "all_words = all_words.most_common(20)\n",
        "df_words_count = pd.DataFrame(all_words)\n",
        "fig = go.Figure(go.Scatter(\n",
        "    x = df_words_count[0],\n",
        "    y = df_words_count[1],\n",
        "))\n",
        "\n",
        "fig.update_layout(title = 'The frequency of all words')\n",
        "\n",
        "fig.show()"
      ],
      "metadata": {
        "colab": {
          "base_uri": "https://localhost:8080/",
          "height": 542
        },
        "id": "PaYv7Po1AWnF",
        "outputId": "28ec6ebb-a8e6-414f-b9c7-70860f0fea3b"
      },
      "execution_count": 50,
      "outputs": [
        {
          "output_type": "display_data",
          "data": {
            "text/html": [
              "<html>\n",
              "<head><meta charset=\"utf-8\" /></head>\n",
              "<body>\n",
              "    <div>\n",
              "            <script src=\"https://cdnjs.cloudflare.com/ajax/libs/mathjax/2.7.5/MathJax.js?config=TeX-AMS-MML_SVG\"></script><script type=\"text/javascript\">if (window.MathJax) {MathJax.Hub.Config({SVG: {font: \"STIX-Web\"}});}</script>\n",
              "                <script type=\"text/javascript\">window.PlotlyConfig = {MathJaxConfig: 'local'};</script>\n",
              "        <script src=\"https://cdn.plot.ly/plotly-latest.min.js\"></script>    \n",
              "            <div id=\"8e7c61d8-ac45-4f32-b693-413c6012a172\" class=\"plotly-graph-div\" style=\"height:525px; width:100%;\"></div>\n",
              "            <script type=\"text/javascript\">\n",
              "                \n",
              "                    window.PLOTLYENV=window.PLOTLYENV || {};\n",
              "                    \n",
              "                if (document.getElementById(\"8e7c61d8-ac45-4f32-b693-413c6012a172\")) {\n",
              "                    Plotly.newPlot(\n",
              "                        '8e7c61d8-ac45-4f32-b693-413c6012a172',\n",
              "                        [{\"type\": \"scatter\", \"x\": [\"spous\", \"discuss\", \"similar\", \"know\", \"silent\", \"wife\", \"home\", \"her/hi\", \"dure\", \"calm\", \"stay\", \"afraid\", \"sometim\", \"time\", \"share\", \"goal\", \"harmoni\", \"valu\", \"person\", \"life\"], \"y\": [35, 11, 6, 5, 4, 4, 4, 3, 3, 3, 3, 2, 2, 2, 2, 2, 2, 2, 2, 2]}],\n",
              "                        {\"template\": {\"data\": {\"bar\": [{\"error_x\": {\"color\": \"#2a3f5f\"}, \"error_y\": {\"color\": \"#2a3f5f\"}, \"marker\": {\"line\": {\"color\": \"#E5ECF6\", \"width\": 0.5}}, \"type\": \"bar\"}], \"barpolar\": [{\"marker\": {\"line\": {\"color\": \"#E5ECF6\", \"width\": 0.5}}, \"type\": \"barpolar\"}], \"carpet\": [{\"aaxis\": {\"endlinecolor\": \"#2a3f5f\", \"gridcolor\": \"white\", \"linecolor\": \"white\", \"minorgridcolor\": \"white\", \"startlinecolor\": \"#2a3f5f\"}, \"baxis\": {\"endlinecolor\": \"#2a3f5f\", \"gridcolor\": \"white\", \"linecolor\": \"white\", \"minorgridcolor\": \"white\", \"startlinecolor\": \"#2a3f5f\"}, \"type\": \"carpet\"}], \"choropleth\": [{\"colorbar\": {\"outlinewidth\": 0, \"ticks\": \"\"}, \"type\": \"choropleth\"}], \"contour\": [{\"colorbar\": {\"outlinewidth\": 0, \"ticks\": \"\"}, \"colorscale\": [[0.0, \"#0d0887\"], [0.1111111111111111, \"#46039f\"], [0.2222222222222222, \"#7201a8\"], [0.3333333333333333, \"#9c179e\"], [0.4444444444444444, \"#bd3786\"], [0.5555555555555556, \"#d8576b\"], [0.6666666666666666, \"#ed7953\"], [0.7777777777777778, \"#fb9f3a\"], [0.8888888888888888, \"#fdca26\"], [1.0, \"#f0f921\"]], \"type\": \"contour\"}], \"contourcarpet\": [{\"colorbar\": {\"outlinewidth\": 0, \"ticks\": \"\"}, \"type\": \"contourcarpet\"}], \"heatmap\": [{\"colorbar\": {\"outlinewidth\": 0, \"ticks\": \"\"}, \"colorscale\": [[0.0, \"#0d0887\"], [0.1111111111111111, \"#46039f\"], [0.2222222222222222, \"#7201a8\"], [0.3333333333333333, \"#9c179e\"], [0.4444444444444444, \"#bd3786\"], [0.5555555555555556, \"#d8576b\"], [0.6666666666666666, \"#ed7953\"], [0.7777777777777778, \"#fb9f3a\"], [0.8888888888888888, \"#fdca26\"], [1.0, \"#f0f921\"]], \"type\": \"heatmap\"}], \"heatmapgl\": [{\"colorbar\": {\"outlinewidth\": 0, \"ticks\": \"\"}, \"colorscale\": [[0.0, \"#0d0887\"], [0.1111111111111111, \"#46039f\"], [0.2222222222222222, \"#7201a8\"], [0.3333333333333333, \"#9c179e\"], [0.4444444444444444, \"#bd3786\"], [0.5555555555555556, \"#d8576b\"], [0.6666666666666666, \"#ed7953\"], [0.7777777777777778, \"#fb9f3a\"], [0.8888888888888888, \"#fdca26\"], [1.0, \"#f0f921\"]], \"type\": \"heatmapgl\"}], \"histogram\": [{\"marker\": {\"colorbar\": {\"outlinewidth\": 0, \"ticks\": \"\"}}, \"type\": \"histogram\"}], \"histogram2d\": [{\"colorbar\": {\"outlinewidth\": 0, \"ticks\": \"\"}, \"colorscale\": [[0.0, \"#0d0887\"], [0.1111111111111111, \"#46039f\"], [0.2222222222222222, \"#7201a8\"], [0.3333333333333333, \"#9c179e\"], [0.4444444444444444, \"#bd3786\"], [0.5555555555555556, \"#d8576b\"], [0.6666666666666666, \"#ed7953\"], [0.7777777777777778, \"#fb9f3a\"], [0.8888888888888888, \"#fdca26\"], [1.0, \"#f0f921\"]], \"type\": \"histogram2d\"}], \"histogram2dcontour\": [{\"colorbar\": {\"outlinewidth\": 0, \"ticks\": \"\"}, \"colorscale\": [[0.0, \"#0d0887\"], [0.1111111111111111, \"#46039f\"], [0.2222222222222222, \"#7201a8\"], [0.3333333333333333, \"#9c179e\"], [0.4444444444444444, \"#bd3786\"], [0.5555555555555556, \"#d8576b\"], [0.6666666666666666, \"#ed7953\"], [0.7777777777777778, \"#fb9f3a\"], [0.8888888888888888, \"#fdca26\"], [1.0, \"#f0f921\"]], \"type\": \"histogram2dcontour\"}], \"mesh3d\": [{\"colorbar\": {\"outlinewidth\": 0, \"ticks\": \"\"}, \"type\": \"mesh3d\"}], \"parcoords\": [{\"line\": {\"colorbar\": {\"outlinewidth\": 0, \"ticks\": \"\"}}, \"type\": \"parcoords\"}], \"pie\": [{\"automargin\": true, \"type\": \"pie\"}], \"scatter\": [{\"marker\": {\"colorbar\": {\"outlinewidth\": 0, \"ticks\": \"\"}}, \"type\": \"scatter\"}], \"scatter3d\": [{\"line\": {\"colorbar\": {\"outlinewidth\": 0, \"ticks\": \"\"}}, \"marker\": {\"colorbar\": {\"outlinewidth\": 0, \"ticks\": \"\"}}, \"type\": \"scatter3d\"}], \"scattercarpet\": [{\"marker\": {\"colorbar\": {\"outlinewidth\": 0, \"ticks\": \"\"}}, \"type\": \"scattercarpet\"}], \"scattergeo\": [{\"marker\": {\"colorbar\": {\"outlinewidth\": 0, \"ticks\": \"\"}}, \"type\": \"scattergeo\"}], \"scattergl\": [{\"marker\": {\"colorbar\": {\"outlinewidth\": 0, \"ticks\": \"\"}}, \"type\": \"scattergl\"}], \"scattermapbox\": [{\"marker\": {\"colorbar\": {\"outlinewidth\": 0, \"ticks\": \"\"}}, \"type\": \"scattermapbox\"}], \"scatterpolar\": [{\"marker\": {\"colorbar\": {\"outlinewidth\": 0, \"ticks\": \"\"}}, \"type\": \"scatterpolar\"}], \"scatterpolargl\": [{\"marker\": {\"colorbar\": {\"outlinewidth\": 0, \"ticks\": \"\"}}, \"type\": \"scatterpolargl\"}], \"scatterternary\": [{\"marker\": {\"colorbar\": {\"outlinewidth\": 0, \"ticks\": \"\"}}, \"type\": \"scatterternary\"}], \"surface\": [{\"colorbar\": {\"outlinewidth\": 0, \"ticks\": \"\"}, \"colorscale\": [[0.0, \"#0d0887\"], [0.1111111111111111, \"#46039f\"], [0.2222222222222222, \"#7201a8\"], [0.3333333333333333, \"#9c179e\"], [0.4444444444444444, \"#bd3786\"], [0.5555555555555556, \"#d8576b\"], [0.6666666666666666, \"#ed7953\"], [0.7777777777777778, \"#fb9f3a\"], [0.8888888888888888, \"#fdca26\"], [1.0, \"#f0f921\"]], \"type\": \"surface\"}], \"table\": [{\"cells\": {\"fill\": {\"color\": \"#EBF0F8\"}, \"line\": {\"color\": \"white\"}}, \"header\": {\"fill\": {\"color\": \"#C8D4E3\"}, \"line\": {\"color\": \"white\"}}, \"type\": \"table\"}]}, \"layout\": {\"annotationdefaults\": {\"arrowcolor\": \"#2a3f5f\", \"arrowhead\": 0, \"arrowwidth\": 1}, \"coloraxis\": {\"colorbar\": {\"outlinewidth\": 0, \"ticks\": \"\"}}, \"colorscale\": {\"diverging\": [[0, \"#8e0152\"], [0.1, \"#c51b7d\"], [0.2, \"#de77ae\"], [0.3, \"#f1b6da\"], [0.4, \"#fde0ef\"], [0.5, \"#f7f7f7\"], [0.6, \"#e6f5d0\"], [0.7, \"#b8e186\"], [0.8, \"#7fbc41\"], [0.9, \"#4d9221\"], [1, \"#276419\"]], \"sequential\": [[0.0, \"#0d0887\"], [0.1111111111111111, \"#46039f\"], [0.2222222222222222, \"#7201a8\"], [0.3333333333333333, \"#9c179e\"], [0.4444444444444444, \"#bd3786\"], [0.5555555555555556, \"#d8576b\"], [0.6666666666666666, \"#ed7953\"], [0.7777777777777778, \"#fb9f3a\"], [0.8888888888888888, \"#fdca26\"], [1.0, \"#f0f921\"]], \"sequentialminus\": [[0.0, \"#0d0887\"], [0.1111111111111111, \"#46039f\"], [0.2222222222222222, \"#7201a8\"], [0.3333333333333333, \"#9c179e\"], [0.4444444444444444, \"#bd3786\"], [0.5555555555555556, \"#d8576b\"], [0.6666666666666666, \"#ed7953\"], [0.7777777777777778, \"#fb9f3a\"], [0.8888888888888888, \"#fdca26\"], [1.0, \"#f0f921\"]]}, \"colorway\": [\"#636efa\", \"#EF553B\", \"#00cc96\", \"#ab63fa\", \"#FFA15A\", \"#19d3f3\", \"#FF6692\", \"#B6E880\", \"#FF97FF\", \"#FECB52\"], \"font\": {\"color\": \"#2a3f5f\"}, \"geo\": {\"bgcolor\": \"white\", \"lakecolor\": \"white\", \"landcolor\": \"#E5ECF6\", \"showlakes\": true, \"showland\": true, \"subunitcolor\": \"white\"}, \"hoverlabel\": {\"align\": \"left\"}, \"hovermode\": \"closest\", \"mapbox\": {\"style\": \"light\"}, \"paper_bgcolor\": \"white\", \"plot_bgcolor\": \"#E5ECF6\", \"polar\": {\"angularaxis\": {\"gridcolor\": \"white\", \"linecolor\": \"white\", \"ticks\": \"\"}, \"bgcolor\": \"#E5ECF6\", \"radialaxis\": {\"gridcolor\": \"white\", \"linecolor\": \"white\", \"ticks\": \"\"}}, \"scene\": {\"xaxis\": {\"backgroundcolor\": \"#E5ECF6\", \"gridcolor\": \"white\", \"gridwidth\": 2, \"linecolor\": \"white\", \"showbackground\": true, \"ticks\": \"\", \"zerolinecolor\": \"white\"}, \"yaxis\": {\"backgroundcolor\": \"#E5ECF6\", \"gridcolor\": \"white\", \"gridwidth\": 2, \"linecolor\": \"white\", \"showbackground\": true, \"ticks\": \"\", \"zerolinecolor\": \"white\"}, \"zaxis\": {\"backgroundcolor\": \"#E5ECF6\", \"gridcolor\": \"white\", \"gridwidth\": 2, \"linecolor\": \"white\", \"showbackground\": true, \"ticks\": \"\", \"zerolinecolor\": \"white\"}}, \"shapedefaults\": {\"line\": {\"color\": \"#2a3f5f\"}}, \"ternary\": {\"aaxis\": {\"gridcolor\": \"white\", \"linecolor\": \"white\", \"ticks\": \"\"}, \"baxis\": {\"gridcolor\": \"white\", \"linecolor\": \"white\", \"ticks\": \"\"}, \"bgcolor\": \"#E5ECF6\", \"caxis\": {\"gridcolor\": \"white\", \"linecolor\": \"white\", \"ticks\": \"\"}}, \"title\": {\"x\": 0.05}, \"xaxis\": {\"automargin\": true, \"gridcolor\": \"white\", \"linecolor\": \"white\", \"ticks\": \"\", \"title\": {\"standoff\": 15}, \"zerolinecolor\": \"white\", \"zerolinewidth\": 2}, \"yaxis\": {\"automargin\": true, \"gridcolor\": \"white\", \"linecolor\": \"white\", \"ticks\": \"\", \"title\": {\"standoff\": 15}, \"zerolinecolor\": \"white\", \"zerolinewidth\": 2}}}, \"title\": {\"text\": \"The frequency of all words\"}},\n",
              "                        {\"responsive\": true}\n",
              "                    ).then(function(){\n",
              "                            \n",
              "var gd = document.getElementById('8e7c61d8-ac45-4f32-b693-413c6012a172');\n",
              "var x = new MutationObserver(function (mutations, observer) {{\n",
              "        var display = window.getComputedStyle(gd).display;\n",
              "        if (!display || display === 'none') {{\n",
              "            console.log([gd, 'removed!']);\n",
              "            Plotly.purge(gd);\n",
              "            observer.disconnect();\n",
              "        }}\n",
              "}});\n",
              "\n",
              "// Listen for the removal of the full notebook cells\n",
              "var notebookContainer = gd.closest('#notebook-container');\n",
              "if (notebookContainer) {{\n",
              "    x.observe(notebookContainer, {childList: true});\n",
              "}}\n",
              "\n",
              "// Listen for the clearing of the current output cell\n",
              "var outputEl = gd.closest('.output');\n",
              "if (outputEl) {{\n",
              "    x.observe(outputEl, {childList: true});\n",
              "}}\n",
              "\n",
              "                        })\n",
              "                };\n",
              "                \n",
              "            </script>\n",
              "        </div>\n",
              "</body>\n",
              "</html>"
            ]
          },
          "metadata": {}
        }
      ]
    }
  ]
}